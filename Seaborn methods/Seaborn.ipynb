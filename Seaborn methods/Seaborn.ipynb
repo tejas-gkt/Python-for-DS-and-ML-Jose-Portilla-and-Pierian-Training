{
 "cells": [
  {
   "cell_type": "markdown",
   "id": "80c6c413",
   "metadata": {},
   "source": [
    "# heading 1"
   ]
  },
  {
   "cell_type": "markdown",
   "id": "36e743d1",
   "metadata": {},
   "source": [
    "## heading 2"
   ]
  },
  {
   "cell_type": "markdown",
   "id": "93b52d3c",
   "metadata": {},
   "source": [
    "**Bold string**"
   ]
  },
  {
   "cell_type": "markdown",
   "id": "906ecf8c",
   "metadata": {},
   "source": [
    "_Italic_"
   ]
  },
  {
   "cell_type": "code",
   "execution_count": 3,
   "id": "169d6143",
   "metadata": {},
   "outputs": [],
   "source": [
    "import dis"
   ]
  },
  {
   "cell_type": "code",
   "execution_count": 4,
   "id": "67a2e6f0",
   "metadata": {},
   "outputs": [
    {
     "data": {
      "text/plain": [
       "140714991626784"
      ]
     },
     "execution_count": 4,
     "metadata": {},
     "output_type": "execute_result"
    }
   ],
   "source": [
    "flag= True\n",
    "id(flag)"
   ]
  },
  {
   "cell_type": "code",
   "execution_count": 5,
   "id": "5d70c26f",
   "metadata": {},
   "outputs": [
    {
     "data": {
      "text/plain": [
       "140714991626784"
      ]
     },
     "execution_count": 5,
     "metadata": {},
     "output_type": "execute_result"
    }
   ],
   "source": [
    "flag1=True\n",
    "id(flag1)"
   ]
  },
  {
   "cell_type": "code",
   "execution_count": 7,
   "id": "c900836a",
   "metadata": {},
   "outputs": [
    {
     "data": {
      "text/plain": [
       "140714991626784"
      ]
     },
     "execution_count": 7,
     "metadata": {},
     "output_type": "execute_result"
    }
   ],
   "source": [
    "flag1=bool(7)\n",
    "id(flag1)"
   ]
  },
  {
   "cell_type": "code",
   "execution_count": 6,
   "id": "755e57f6",
   "metadata": {},
   "outputs": [
    {
     "data": {
      "text/plain": [
       "140714991626816"
      ]
     },
     "execution_count": 6,
     "metadata": {},
     "output_type": "execute_result"
    }
   ],
   "source": [
    "flag2=False\n",
    "id(flag2)"
   ]
  },
  {
   "cell_type": "code",
   "execution_count": 1,
   "id": "d6b6c78d",
   "metadata": {},
   "outputs": [
    {
     "data": {
      "text/plain": [
       "False"
      ]
     },
     "execution_count": 1,
     "metadata": {},
     "output_type": "execute_result"
    }
   ],
   "source": [
    "bool(())"
   ]
  },
  {
   "cell_type": "code",
   "execution_count": 2,
   "id": "c7d57a18",
   "metadata": {},
   "outputs": [
    {
     "data": {
      "text/plain": [
       "True"
      ]
     },
     "execution_count": 2,
     "metadata": {},
     "output_type": "execute_result"
    }
   ],
   "source": [
    "bool((\",\"))"
   ]
  },
  {
   "cell_type": "code",
   "execution_count": 3,
   "id": "d81dc783",
   "metadata": {},
   "outputs": [
    {
     "data": {
      "text/plain": [
       "True"
      ]
     },
     "execution_count": 3,
     "metadata": {},
     "output_type": "execute_result"
    }
   ],
   "source": [
    "bool((1))"
   ]
  },
  {
   "cell_type": "code",
   "execution_count": 4,
   "id": "3a2d40fd",
   "metadata": {},
   "outputs": [
    {
     "data": {
      "text/plain": [
       "True"
      ]
     },
     "execution_count": 4,
     "metadata": {},
     "output_type": "execute_result"
    }
   ],
   "source": [
    "bool((1,))"
   ]
  },
  {
   "cell_type": "code",
   "execution_count": 5,
   "id": "4225c5e4",
   "metadata": {},
   "outputs": [
    {
     "ename": "SyntaxError",
     "evalue": "invalid syntax (2218700231.py, line 1)",
     "output_type": "error",
     "traceback": [
      "\u001b[1;36m  Cell \u001b[1;32mIn[5], line 1\u001b[1;36m\u001b[0m\n\u001b[1;33m    bool((,))\u001b[0m\n\u001b[1;37m          ^\u001b[0m\n\u001b[1;31mSyntaxError\u001b[0m\u001b[1;31m:\u001b[0m invalid syntax\n"
     ]
    }
   ],
   "source": [
    "bool((,))"
   ]
  },
  {
   "cell_type": "code",
   "execution_count": 8,
   "id": "2288c566",
   "metadata": {},
   "outputs": [
    {
     "data": {
      "text/plain": [
       "True"
      ]
     },
     "execution_count": 8,
     "metadata": {},
     "output_type": "execute_result"
    }
   ],
   "source": [
    "bool(_)"
   ]
  },
  {
   "cell_type": "code",
   "execution_count": 9,
   "id": "2abf65c5",
   "metadata": {},
   "outputs": [
    {
     "data": {
      "text/plain": [
       "''"
      ]
     },
     "execution_count": 9,
     "metadata": {},
     "output_type": "execute_result"
    }
   ],
   "source": [
    "'' and '1'"
   ]
  },
  {
   "cell_type": "code",
   "execution_count": 10,
   "id": "e5f4579a",
   "metadata": {},
   "outputs": [
    {
     "name": "stdout",
     "output_type": "stream",
     "text": [
      "1552271404656 1552271396528\n"
     ]
    }
   ],
   "source": [
    "a=-250\n",
    "b=-250\n",
    "print(id(a),id(b))"
   ]
  }
 ],
 "metadata": {
  "kernelspec": {
   "display_name": "Python 3 (ipykernel)",
   "language": "python",
   "name": "python3"
  },
  "language_info": {
   "codemirror_mode": {
    "name": "ipython",
    "version": 3
   },
   "file_extension": ".py",
   "mimetype": "text/x-python",
   "name": "python",
   "nbconvert_exporter": "python",
   "pygments_lexer": "ipython3",
   "version": "3.11.5"
  }
 },
 "nbformat": 4,
 "nbformat_minor": 5
}
