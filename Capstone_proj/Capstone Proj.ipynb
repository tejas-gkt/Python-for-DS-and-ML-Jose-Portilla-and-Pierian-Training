{
 "cells": [
  {
   "cell_type": "code",
   "execution_count": 1,
   "id": "d5f033c2",
   "metadata": {},
   "outputs": [
    {
     "name": "stdout",
     "output_type": "stream",
     "text": [
      "            Name            Team  Number Position   Age Height  Weight  \\\n",
      "0  Avery Bradley  Boston Celtics     0.0       PG  25.0    6-2   180.0   \n",
      "1    Jae Crowder  Boston Celtics    99.0       SF  25.0    6-6   235.0   \n",
      "2   John Holland  Boston Celtics    30.0       SG  27.0    6-5   205.0   \n",
      "3    R.J. Hunter  Boston Celtics    28.0       SG  22.0    6-5   185.0   \n",
      "4  Jonas Jerebko  Boston Celtics     8.0       PF  29.0   6-10   231.0   \n",
      "\n",
      "             College     Salary  \n",
      "0              Texas  7730337.0  \n",
      "1          Marquette  6796117.0  \n",
      "2  Boston University        NaN  \n",
      "3      Georgia State  1148640.0  \n",
      "4                NaN  5000000.0  \n"
     ]
    }
   ],
   "source": [
    "# import pandas module\n",
    "import pandas as pd\n",
    " \n",
    "# making dataframe\n",
    "df = pd.read_csv(\"nba.csv\")\n",
    " \n",
    "# it was print the first 5-rows\n",
    "print(df.head())"
   ]
  },
  {
   "cell_type": "code",
   "execution_count": 3,
   "id": "ad678148",
   "metadata": {},
   "outputs": [
    {
     "name": "stdout",
     "output_type": "stream",
     "text": [
      "0  Name            Avery Bradley\n",
      "   Team           Boston Celtics\n",
      "   Number                    0.0\n",
      "   Position                   PG\n",
      "   Age                      25.0\n",
      "   Height                    6-2\n",
      "   Weight                  180.0\n",
      "   College                 Texas\n",
      "   Salary              7730337.0\n",
      "1  Name              Jae Crowder\n",
      "   Team           Boston Celtics\n",
      "   Number                   99.0\n",
      "   Position                   SF\n",
      "   Age                      25.0\n",
      "   Height                    6-6\n",
      "   Weight                  235.0\n",
      "   College             Marquette\n",
      "   Salary              6796117.0\n",
      "2  Name             John Holland\n",
      "   Team           Boston Celtics\n",
      "   Number                   30.0\n",
      "   Position                   SG\n",
      "   Age                      27.0\n",
      "   Height                    6-5\n",
      "   Weight                  205.0\n",
      "   College     Boston University\n",
      "3  Name              R.J. Hunter\n",
      "   Team           Boston Celtics\n",
      "   Number                   28.0\n",
      "   Position                   SG\n",
      "   Age                      22.0\n",
      "   Height                    6-5\n",
      "   Weight                  185.0\n",
      "   College         Georgia State\n",
      "   Salary              1148640.0\n",
      "4  Name            Jonas Jerebko\n",
      "   Team           Boston Celtics\n",
      "   Number                    8.0\n",
      "   Position                   PF\n",
      "   Age                      29.0\n",
      "   Height                   6-10\n",
      "   Weight                  231.0\n",
      "   Salary              5000000.0\n",
      "5  Name             Amir Johnson\n",
      "   Team           Boston Celtics\n",
      "   Number                   90.0\n",
      "   Position                   PF\n",
      "   Age                      29.0\n",
      "   Height                    6-9\n",
      "   Weight                  240.0\n",
      "   Salary             12000000.0\n",
      "6  Name            Jordan Mickey\n",
      "   Team           Boston Celtics\n",
      "   Number                   55.0\n",
      "   Position                   PF\n",
      "   Age                      21.0\n",
      "   Height                    6-8\n",
      "   Weight                  235.0\n",
      "   College                   LSU\n",
      "   Salary              1170960.0\n",
      "dtype: object\n"
     ]
    }
   ],
   "source": [
    "df_stacked = df.stack()\n",
    " \n",
    "print(df_stacked.head(60))"
   ]
  },
  {
   "cell_type": "code",
   "execution_count": 4,
   "id": "9dc48532",
   "metadata": {},
   "outputs": [
    {
     "name": "stdout",
     "output_type": "stream",
     "text": [
      "            Name            Team Number Position   Age Height Weight  \\\n",
      "0  Avery Bradley  Boston Celtics    0.0       PG  25.0    6-2  180.0   \n",
      "1    Jae Crowder  Boston Celtics   99.0       SF  25.0    6-6  235.0   \n",
      "2   John Holland  Boston Celtics   30.0       SG  27.0    6-5  205.0   \n",
      "3    R.J. Hunter  Boston Celtics   28.0       SG  22.0    6-5  185.0   \n",
      "4  Jonas Jerebko  Boston Celtics    8.0       PF  29.0   6-10  231.0   \n",
      "5   Amir Johnson  Boston Celtics   90.0       PF  29.0    6-9  240.0   \n",
      "6  Jordan Mickey  Boston Celtics   55.0       PF  21.0    6-8  235.0   \n",
      "7   Kelly Olynyk  Boston Celtics   41.0        C  25.0    7-0  238.0   \n",
      "8   Terry Rozier  Boston Celtics   12.0       PG  22.0    6-2  190.0   \n",
      "9   Marcus Smart  Boston Celtics   36.0       PG  22.0    6-4  220.0   \n",
      "\n",
      "             College      Salary  \n",
      "0              Texas   7730337.0  \n",
      "1          Marquette   6796117.0  \n",
      "2  Boston University         NaN  \n",
      "3      Georgia State   1148640.0  \n",
      "4                NaN   5000000.0  \n",
      "5                NaN  12000000.0  \n",
      "6                LSU   1170960.0  \n",
      "7            Gonzaga   2165160.0  \n",
      "8         Louisville   1824360.0  \n",
      "9     Oklahoma State   3431040.0  \n"
     ]
    }
   ],
   "source": [
    "df_unstacked = df_stacked.unstack()\n",
    "print(df_unstacked.head(10))"
   ]
  },
  {
   "cell_type": "code",
   "execution_count": 1,
   "id": "3457c515",
   "metadata": {},
   "outputs": [
    {
     "data": {
      "text/plain": [
       "MultiIndex([('bar', 'one'),\n",
       "            ('bar', 'two'),\n",
       "            ('baz', 'one'),\n",
       "            ('baz', 'two'),\n",
       "            ('foo', 'one'),\n",
       "            ('foo', 'two'),\n",
       "            ('qux', 'one'),\n",
       "            ('qux', 'two')],\n",
       "           names=['first', 'second'])"
      ]
     },
     "execution_count": 1,
     "metadata": {},
     "output_type": "execute_result"
    }
   ],
   "source": [
    "import pandas as pd\n",
    "import numpy as np\n",
    "\n",
    "arrays = [\n",
    "    [\"bar\", \"bar\", \"baz\", \"baz\", \"foo\", \"foo\", \"qux\", \"qux\"],\n",
    "    [\"one\", \"two\", \"one\", \"two\", \"one\", \"two\", \"one\", \"two\"],\n",
    "]\n",
    "tuples = list(zip(*arrays))\n",
    "\n",
    "index = pd.MultiIndex.from_tuples(tuples, names=[\"first\", \"second\"])\n",
    "index"
   ]
  },
  {
   "cell_type": "code",
   "execution_count": 2,
   "id": "58c9bc44",
   "metadata": {},
   "outputs": [
    {
     "data": {
      "text/html": [
       "<div>\n",
       "<style scoped>\n",
       "    .dataframe tbody tr th:only-of-type {\n",
       "        vertical-align: middle;\n",
       "    }\n",
       "\n",
       "    .dataframe tbody tr th {\n",
       "        vertical-align: top;\n",
       "    }\n",
       "\n",
       "    .dataframe thead tr th {\n",
       "        text-align: left;\n",
       "    }\n",
       "</style>\n",
       "<table border=\"1\" class=\"dataframe\">\n",
       "  <thead>\n",
       "    <tr>\n",
       "      <th>first</th>\n",
       "      <th colspan=\"2\" halign=\"left\">bar</th>\n",
       "      <th colspan=\"2\" halign=\"left\">baz</th>\n",
       "      <th colspan=\"2\" halign=\"left\">foo</th>\n",
       "      <th colspan=\"2\" halign=\"left\">qux</th>\n",
       "    </tr>\n",
       "    <tr>\n",
       "      <th>second</th>\n",
       "      <th>one</th>\n",
       "      <th>two</th>\n",
       "      <th>one</th>\n",
       "      <th>two</th>\n",
       "      <th>one</th>\n",
       "      <th>two</th>\n",
       "      <th>one</th>\n",
       "      <th>two</th>\n",
       "    </tr>\n",
       "  </thead>\n",
       "  <tbody>\n",
       "    <tr>\n",
       "      <th>A</th>\n",
       "      <td>-1.634544</td>\n",
       "      <td>-1.039303</td>\n",
       "      <td>0.677136</td>\n",
       "      <td>0.206647</td>\n",
       "      <td>0.007873</td>\n",
       "      <td>0.704758</td>\n",
       "      <td>1.237410</td>\n",
       "      <td>0.303421</td>\n",
       "    </tr>\n",
       "    <tr>\n",
       "      <th>B</th>\n",
       "      <td>2.082327</td>\n",
       "      <td>-0.642428</td>\n",
       "      <td>-1.169465</td>\n",
       "      <td>1.673104</td>\n",
       "      <td>0.281997</td>\n",
       "      <td>0.779426</td>\n",
       "      <td>-0.758985</td>\n",
       "      <td>-0.073487</td>\n",
       "    </tr>\n",
       "    <tr>\n",
       "      <th>C</th>\n",
       "      <td>1.477555</td>\n",
       "      <td>-1.926313</td>\n",
       "      <td>-0.466147</td>\n",
       "      <td>0.095926</td>\n",
       "      <td>-1.032692</td>\n",
       "      <td>1.361488</td>\n",
       "      <td>1.315921</td>\n",
       "      <td>2.509351</td>\n",
       "    </tr>\n",
       "  </tbody>\n",
       "</table>\n",
       "</div>"
      ],
      "text/plain": [
       "first        bar                 baz                 foo                 qux  \\\n",
       "second       one       two       one       two       one       two       one   \n",
       "A      -1.634544 -1.039303  0.677136  0.206647  0.007873  0.704758  1.237410   \n",
       "B       2.082327 -0.642428 -1.169465  1.673104  0.281997  0.779426 -0.758985   \n",
       "C       1.477555 -1.926313 -0.466147  0.095926 -1.032692  1.361488  1.315921   \n",
       "\n",
       "first             \n",
       "second       two  \n",
       "A       0.303421  \n",
       "B      -0.073487  \n",
       "C       2.509351  "
      ]
     },
     "execution_count": 2,
     "metadata": {},
     "output_type": "execute_result"
    }
   ],
   "source": [
    "df = pd.DataFrame(np.random.randn(3, 8), index=[\"A\", \"B\", \"C\"], columns=index)\n",
    "df"
   ]
  },
  {
   "cell_type": "code",
   "execution_count": 4,
   "id": "0d1457de",
   "metadata": {},
   "outputs": [
    {
     "data": {
      "text/html": [
       "<div>\n",
       "<style scoped>\n",
       "    .dataframe tbody tr th:only-of-type {\n",
       "        vertical-align: middle;\n",
       "    }\n",
       "\n",
       "    .dataframe tbody tr th {\n",
       "        vertical-align: top;\n",
       "    }\n",
       "\n",
       "    .dataframe thead tr th {\n",
       "        text-align: left;\n",
       "    }\n",
       "\n",
       "    .dataframe thead tr:last-of-type th {\n",
       "        text-align: right;\n",
       "    }\n",
       "</style>\n",
       "<table border=\"1\" class=\"dataframe\">\n",
       "  <thead>\n",
       "    <tr>\n",
       "      <th></th>\n",
       "      <th>first</th>\n",
       "      <th colspan=\"2\" halign=\"left\">bar</th>\n",
       "      <th colspan=\"2\" halign=\"left\">baz</th>\n",
       "      <th colspan=\"2\" halign=\"left\">foo</th>\n",
       "      <th colspan=\"2\" halign=\"left\">qux</th>\n",
       "    </tr>\n",
       "    <tr>\n",
       "      <th></th>\n",
       "      <th>second</th>\n",
       "      <th>one</th>\n",
       "      <th>two</th>\n",
       "      <th>one</th>\n",
       "      <th>two</th>\n",
       "      <th>one</th>\n",
       "      <th>two</th>\n",
       "      <th>one</th>\n",
       "      <th>two</th>\n",
       "    </tr>\n",
       "    <tr>\n",
       "      <th>first</th>\n",
       "      <th>second</th>\n",
       "      <th></th>\n",
       "      <th></th>\n",
       "      <th></th>\n",
       "      <th></th>\n",
       "      <th></th>\n",
       "      <th></th>\n",
       "      <th></th>\n",
       "      <th></th>\n",
       "    </tr>\n",
       "  </thead>\n",
       "  <tbody>\n",
       "    <tr>\n",
       "      <th rowspan=\"2\" valign=\"top\">bar</th>\n",
       "      <th>one</th>\n",
       "      <td>0.581166</td>\n",
       "      <td>0.051914</td>\n",
       "      <td>2.389955</td>\n",
       "      <td>0.295477</td>\n",
       "      <td>1.645038</td>\n",
       "      <td>2.050172</td>\n",
       "      <td>-0.931434</td>\n",
       "      <td>0.561375</td>\n",
       "    </tr>\n",
       "    <tr>\n",
       "      <th>two</th>\n",
       "      <td>0.515096</td>\n",
       "      <td>0.216536</td>\n",
       "      <td>0.469563</td>\n",
       "      <td>-0.080857</td>\n",
       "      <td>1.639907</td>\n",
       "      <td>0.579281</td>\n",
       "      <td>-0.953062</td>\n",
       "      <td>-1.207247</td>\n",
       "    </tr>\n",
       "    <tr>\n",
       "      <th rowspan=\"2\" valign=\"top\">baz</th>\n",
       "      <th>one</th>\n",
       "      <td>0.606757</td>\n",
       "      <td>0.131321</td>\n",
       "      <td>0.334173</td>\n",
       "      <td>1.341372</td>\n",
       "      <td>-0.358310</td>\n",
       "      <td>0.860517</td>\n",
       "      <td>-0.846239</td>\n",
       "      <td>0.682150</td>\n",
       "    </tr>\n",
       "    <tr>\n",
       "      <th>two</th>\n",
       "      <td>-2.058501</td>\n",
       "      <td>0.759562</td>\n",
       "      <td>0.935714</td>\n",
       "      <td>-0.272063</td>\n",
       "      <td>-0.501795</td>\n",
       "      <td>1.093759</td>\n",
       "      <td>0.563357</td>\n",
       "      <td>-0.082282</td>\n",
       "    </tr>\n",
       "    <tr>\n",
       "      <th rowspan=\"2\" valign=\"top\">foo</th>\n",
       "      <th>one</th>\n",
       "      <td>0.650097</td>\n",
       "      <td>1.149707</td>\n",
       "      <td>-2.177619</td>\n",
       "      <td>-0.406669</td>\n",
       "      <td>0.224166</td>\n",
       "      <td>-0.606741</td>\n",
       "      <td>1.099858</td>\n",
       "      <td>-0.055095</td>\n",
       "    </tr>\n",
       "    <tr>\n",
       "      <th>two</th>\n",
       "      <td>-0.849544</td>\n",
       "      <td>1.694830</td>\n",
       "      <td>0.826757</td>\n",
       "      <td>0.570868</td>\n",
       "      <td>0.860251</td>\n",
       "      <td>-0.104716</td>\n",
       "      <td>0.577556</td>\n",
       "      <td>-0.776571</td>\n",
       "    </tr>\n",
       "    <tr>\n",
       "      <th rowspan=\"2\" valign=\"top\">qux</th>\n",
       "      <th>one</th>\n",
       "      <td>-0.280212</td>\n",
       "      <td>0.813024</td>\n",
       "      <td>-1.049146</td>\n",
       "      <td>-0.960861</td>\n",
       "      <td>0.409641</td>\n",
       "      <td>0.170124</td>\n",
       "      <td>-1.635996</td>\n",
       "      <td>1.030298</td>\n",
       "    </tr>\n",
       "    <tr>\n",
       "      <th>two</th>\n",
       "      <td>-0.363352</td>\n",
       "      <td>-1.198702</td>\n",
       "      <td>1.381743</td>\n",
       "      <td>1.067530</td>\n",
       "      <td>-0.138940</td>\n",
       "      <td>0.054468</td>\n",
       "      <td>0.604322</td>\n",
       "      <td>0.311117</td>\n",
       "    </tr>\n",
       "  </tbody>\n",
       "</table>\n",
       "</div>"
      ],
      "text/plain": [
       "first              bar                 baz                 foo            \\\n",
       "second             one       two       one       two       one       two   \n",
       "first second                                                               \n",
       "bar   one     0.581166  0.051914  2.389955  0.295477  1.645038  2.050172   \n",
       "      two     0.515096  0.216536  0.469563 -0.080857  1.639907  0.579281   \n",
       "baz   one     0.606757  0.131321  0.334173  1.341372 -0.358310  0.860517   \n",
       "      two    -2.058501  0.759562  0.935714 -0.272063 -0.501795  1.093759   \n",
       "foo   one     0.650097  1.149707 -2.177619 -0.406669  0.224166 -0.606741   \n",
       "      two    -0.849544  1.694830  0.826757  0.570868  0.860251 -0.104716   \n",
       "qux   one    -0.280212  0.813024 -1.049146 -0.960861  0.409641  0.170124   \n",
       "      two    -0.363352 -1.198702  1.381743  1.067530 -0.138940  0.054468   \n",
       "\n",
       "first              qux            \n",
       "second             one       two  \n",
       "first second                      \n",
       "bar   one    -0.931434  0.561375  \n",
       "      two    -0.953062 -1.207247  \n",
       "baz   one    -0.846239  0.682150  \n",
       "      two     0.563357 -0.082282  \n",
       "foo   one     1.099858 -0.055095  \n",
       "      two     0.577556 -0.776571  \n",
       "qux   one    -1.635996  1.030298  \n",
       "      two     0.604322  0.311117  "
      ]
     },
     "execution_count": 4,
     "metadata": {},
     "output_type": "execute_result"
    }
   ],
   "source": [
    "pd.DataFrame(np.random.randn(8, 8), index=index[:8], columns=index[:8])"
   ]
  },
  {
   "cell_type": "code",
   "execution_count": 5,
   "id": "248479b2",
   "metadata": {},
   "outputs": [
    {
     "data": {
      "text/plain": [
       "Index(['bar', 'bar', 'baz', 'baz', 'foo', 'foo', 'qux', 'qux'], dtype='object', name='first')"
      ]
     },
     "execution_count": 5,
     "metadata": {},
     "output_type": "execute_result"
    }
   ],
   "source": [
    "index.get_level_values(0)"
   ]
  },
  {
   "cell_type": "code",
   "execution_count": 7,
   "id": "d3317622",
   "metadata": {},
   "outputs": [
    {
     "data": {
      "text/plain": [
       "Index(['one', 'two', 'one', 'two', 'one', 'two', 'one', 'two'], dtype='object', name='second')"
      ]
     },
     "execution_count": 7,
     "metadata": {},
     "output_type": "execute_result"
    }
   ],
   "source": [
    "index.get_level_values(1)"
   ]
  },
  {
   "cell_type": "code",
   "execution_count": 8,
   "id": "202c8ffe",
   "metadata": {},
   "outputs": [
    {
     "ename": "IndexError",
     "evalue": "Too many levels: Index has only 2 levels, not 3",
     "output_type": "error",
     "traceback": [
      "\u001b[1;31m---------------------------------------------------------------------------\u001b[0m",
      "\u001b[1;31mValueError\u001b[0m                                Traceback (most recent call last)",
      "File \u001b[1;32m~\\anaconda3\\Lib\\site-packages\\pandas\\core\\indexes\\multi.py:1488\u001b[0m, in \u001b[0;36mMultiIndex._get_level_number\u001b[1;34m(self, level)\u001b[0m\n\u001b[0;32m   1487\u001b[0m \u001b[38;5;28;01mtry\u001b[39;00m:\n\u001b[1;32m-> 1488\u001b[0m     level \u001b[38;5;241m=\u001b[39m \u001b[38;5;28mself\u001b[39m\u001b[38;5;241m.\u001b[39mnames\u001b[38;5;241m.\u001b[39mindex(level)\n\u001b[0;32m   1489\u001b[0m \u001b[38;5;28;01mexcept\u001b[39;00m \u001b[38;5;167;01mValueError\u001b[39;00m \u001b[38;5;28;01mas\u001b[39;00m err:\n",
      "\u001b[1;31mValueError\u001b[0m: 2 is not in list",
      "\nThe above exception was the direct cause of the following exception:\n",
      "\u001b[1;31mIndexError\u001b[0m                                Traceback (most recent call last)",
      "Cell \u001b[1;32mIn[8], line 1\u001b[0m\n\u001b[1;32m----> 1\u001b[0m index\u001b[38;5;241m.\u001b[39mget_level_values(\u001b[38;5;241m2\u001b[39m)\n",
      "File \u001b[1;32m~\\anaconda3\\Lib\\site-packages\\pandas\\core\\indexes\\multi.py:1655\u001b[0m, in \u001b[0;36mMultiIndex.get_level_values\u001b[1;34m(self, level)\u001b[0m\n\u001b[0;32m   1607\u001b[0m \u001b[38;5;28;01mdef\u001b[39;00m \u001b[38;5;21mget_level_values\u001b[39m(\u001b[38;5;28mself\u001b[39m, level):\n\u001b[0;32m   1608\u001b[0m \u001b[38;5;250m    \u001b[39m\u001b[38;5;124;03m\"\"\"\u001b[39;00m\n\u001b[0;32m   1609\u001b[0m \u001b[38;5;124;03m    Return vector of label values for requested level.\u001b[39;00m\n\u001b[0;32m   1610\u001b[0m \n\u001b[1;32m   (...)\u001b[0m\n\u001b[0;32m   1653\u001b[0m \u001b[38;5;124;03m    Index([1.0, nan, 2.0], dtype='float64')\u001b[39;00m\n\u001b[0;32m   1654\u001b[0m \u001b[38;5;124;03m    \"\"\"\u001b[39;00m\n\u001b[1;32m-> 1655\u001b[0m     level \u001b[38;5;241m=\u001b[39m \u001b[38;5;28mself\u001b[39m\u001b[38;5;241m.\u001b[39m_get_level_number(level)\n\u001b[0;32m   1656\u001b[0m     values \u001b[38;5;241m=\u001b[39m \u001b[38;5;28mself\u001b[39m\u001b[38;5;241m.\u001b[39m_get_level_values(level)\n\u001b[0;32m   1657\u001b[0m     \u001b[38;5;28;01mreturn\u001b[39;00m values\n",
      "File \u001b[1;32m~\\anaconda3\\Lib\\site-packages\\pandas\\core\\indexes\\multi.py:1502\u001b[0m, in \u001b[0;36mMultiIndex._get_level_number\u001b[1;34m(self, level)\u001b[0m\n\u001b[0;32m   1500\u001b[0m     \u001b[38;5;66;03m# Note: levels are zero-based\u001b[39;00m\n\u001b[0;32m   1501\u001b[0m     \u001b[38;5;28;01melif\u001b[39;00m level \u001b[38;5;241m>\u001b[39m\u001b[38;5;241m=\u001b[39m \u001b[38;5;28mself\u001b[39m\u001b[38;5;241m.\u001b[39mnlevels:\n\u001b[1;32m-> 1502\u001b[0m         \u001b[38;5;28;01mraise\u001b[39;00m \u001b[38;5;167;01mIndexError\u001b[39;00m(\n\u001b[0;32m   1503\u001b[0m             \u001b[38;5;124mf\u001b[39m\u001b[38;5;124m\"\u001b[39m\u001b[38;5;124mToo many levels: Index has only \u001b[39m\u001b[38;5;132;01m{\u001b[39;00m\u001b[38;5;28mself\u001b[39m\u001b[38;5;241m.\u001b[39mnlevels\u001b[38;5;132;01m}\u001b[39;00m\u001b[38;5;124m levels, \u001b[39m\u001b[38;5;124m\"\u001b[39m\n\u001b[0;32m   1504\u001b[0m             \u001b[38;5;124mf\u001b[39m\u001b[38;5;124m\"\u001b[39m\u001b[38;5;124mnot \u001b[39m\u001b[38;5;132;01m{\u001b[39;00mlevel\u001b[38;5;250m \u001b[39m\u001b[38;5;241m+\u001b[39m\u001b[38;5;250m \u001b[39m\u001b[38;5;241m1\u001b[39m\u001b[38;5;132;01m}\u001b[39;00m\u001b[38;5;124m\"\u001b[39m\n\u001b[0;32m   1505\u001b[0m         ) \u001b[38;5;28;01mfrom\u001b[39;00m \u001b[38;5;21;01merr\u001b[39;00m\n\u001b[0;32m   1506\u001b[0m \u001b[38;5;28;01mreturn\u001b[39;00m level\n",
      "\u001b[1;31mIndexError\u001b[0m: Too many levels: Index has only 2 levels, not 3"
     ]
    }
   ],
   "source": [
    "index.get_level_values(2)"
   ]
  },
  {
   "cell_type": "code",
   "execution_count": 6,
   "id": "cdf6f907",
   "metadata": {},
   "outputs": [
    {
     "data": {
      "text/plain": [
       "Index(['one', 'two', 'one', 'two', 'one', 'two', 'one', 'two'], dtype='object', name='second')"
      ]
     },
     "execution_count": 6,
     "metadata": {},
     "output_type": "execute_result"
    }
   ],
   "source": [
    "index.get_level_values(\"second\")"
   ]
  }
 ],
 "metadata": {
  "kernelspec": {
   "display_name": "Python 3 (ipykernel)",
   "language": "python",
   "name": "python3"
  },
  "language_info": {
   "codemirror_mode": {
    "name": "ipython",
    "version": 3
   },
   "file_extension": ".py",
   "mimetype": "text/x-python",
   "name": "python",
   "nbconvert_exporter": "python",
   "pygments_lexer": "ipython3",
   "version": "3.11.5"
  }
 },
 "nbformat": 4,
 "nbformat_minor": 5
}
