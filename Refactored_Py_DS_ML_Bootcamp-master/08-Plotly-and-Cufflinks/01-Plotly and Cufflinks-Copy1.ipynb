{
 "cells": [
  {
   "cell_type": "markdown",
   "metadata": {},
   "source": [
    "___\n",
    "\n",
    "<a href='http://www.pieriandata.com'> <img src='../Pierian_Data_Logo.png' /></a>\n",
    "___\n",
    "# Plotly and Cufflinks"
   ]
  },
  {
   "cell_type": "markdown",
   "metadata": {},
   "source": [
    "Plotly is a library that allows you to create interactive plots that you can use in dashboards or websites (you can save them as html files or static images).\n",
    "\n",
    "## Installation\n",
    "\n",
    "In order for this all to work, you'll need to install plotly and cufflinks to call plots directly off of a pandas dataframe. These libraries are not currently available through **conda** but are available through **pip**. Install the libraries at your command line/terminal using:\n",
    "\n",
    "    pip install plotly\n",
    "    pip install cufflinks\n",
    "\n",
    "** NOTE: Make sure you only have one installation of Python on your computer when you do this, otherwise the installation may not work. **\n",
    "\n",
    "## Imports and Set-up"
   ]
  },
  {
   "cell_type": "code",
   "execution_count": 1,
   "metadata": {},
   "outputs": [],
   "source": [
    "import pandas as pd\n",
    "import numpy as np\n",
    "%matplotlib inline"
   ]
  },
  {
   "cell_type": "code",
   "execution_count": 2,
   "metadata": {},
   "outputs": [
    {
     "name": "stdout",
     "output_type": "stream",
     "text": [
      "5.9.0\n"
     ]
    }
   ],
   "source": [
    "from plotly import __version__\n",
    "from plotly.offline import download_plotlyjs, init_notebook_mode, plot, iplot\n",
    "\n",
    "print(__version__) # requires version >= 1.9.0"
   ]
  },
  {
   "cell_type": "code",
   "execution_count": 5,
   "metadata": {},
   "outputs": [],
   "source": [
    "import cufflinks as cf"
   ]
  },
  {
   "cell_type": "code",
   "execution_count": 6,
   "metadata": {},
   "outputs": [
    {
     "data": {
      "text/html": [
       "        <script type=\"text/javascript\">\n",
       "        window.PlotlyConfig = {MathJaxConfig: 'local'};\n",
       "        if (window.MathJax && window.MathJax.Hub && window.MathJax.Hub.Config) {window.MathJax.Hub.Config({SVG: {font: \"STIX-Web\"}});}\n",
       "        if (typeof require !== 'undefined') {\n",
       "        require.undef(\"plotly\");\n",
       "        requirejs.config({\n",
       "            paths: {\n",
       "                'plotly': ['https://cdn.plot.ly/plotly-2.12.1.min']\n",
       "            }\n",
       "        });\n",
       "        require(['plotly'], function(Plotly) {\n",
       "            window._Plotly = Plotly;\n",
       "        });\n",
       "        }\n",
       "        </script>\n",
       "        "
      ]
     },
     "metadata": {},
     "output_type": "display_data"
    }
   ],
   "source": [
    "# For Notebooks\n",
    "init_notebook_mode(connected=True)"
   ]
  },
  {
   "cell_type": "code",
   "execution_count": 7,
   "metadata": {},
   "outputs": [
    {
     "data": {
      "text/html": [
       "        <script type=\"text/javascript\">\n",
       "        window.PlotlyConfig = {MathJaxConfig: 'local'};\n",
       "        if (window.MathJax && window.MathJax.Hub && window.MathJax.Hub.Config) {window.MathJax.Hub.Config({SVG: {font: \"STIX-Web\"}});}\n",
       "        if (typeof require !== 'undefined') {\n",
       "        require.undef(\"plotly\");\n",
       "        requirejs.config({\n",
       "            paths: {\n",
       "                'plotly': ['https://cdn.plot.ly/plotly-2.12.1.min']\n",
       "            }\n",
       "        });\n",
       "        require(['plotly'], function(Plotly) {\n",
       "            window._Plotly = Plotly;\n",
       "        });\n",
       "        }\n",
       "        </script>\n",
       "        "
      ]
     },
     "metadata": {},
     "output_type": "display_data"
    }
   ],
   "source": [
    "# For offline use\n",
    "cf.go_offline()"
   ]
  },
  {
   "cell_type": "markdown",
   "metadata": {},
   "source": [
    "### Fake Data"
   ]
  },
  {
   "cell_type": "code",
   "execution_count": 8,
   "metadata": {},
   "outputs": [],
   "source": [
    "df = pd.DataFrame(np.random.randn(100,4),columns='A B C D'.split())"
   ]
  },
  {
   "cell_type": "code",
   "execution_count": 9,
   "metadata": {},
   "outputs": [
    {
     "data": {
      "text/html": [
       "<div>\n",
       "<style scoped>\n",
       "    .dataframe tbody tr th:only-of-type {\n",
       "        vertical-align: middle;\n",
       "    }\n",
       "\n",
       "    .dataframe tbody tr th {\n",
       "        vertical-align: top;\n",
       "    }\n",
       "\n",
       "    .dataframe thead th {\n",
       "        text-align: right;\n",
       "    }\n",
       "</style>\n",
       "<table border=\"1\" class=\"dataframe\">\n",
       "  <thead>\n",
       "    <tr style=\"text-align: right;\">\n",
       "      <th></th>\n",
       "      <th>A</th>\n",
       "      <th>B</th>\n",
       "      <th>C</th>\n",
       "      <th>D</th>\n",
       "    </tr>\n",
       "  </thead>\n",
       "  <tbody>\n",
       "    <tr>\n",
       "      <th>0</th>\n",
       "      <td>-0.511633</td>\n",
       "      <td>-1.021949</td>\n",
       "      <td>-0.733166</td>\n",
       "      <td>-0.822916</td>\n",
       "    </tr>\n",
       "    <tr>\n",
       "      <th>1</th>\n",
       "      <td>-0.404520</td>\n",
       "      <td>0.255946</td>\n",
       "      <td>0.203341</td>\n",
       "      <td>-1.385616</td>\n",
       "    </tr>\n",
       "    <tr>\n",
       "      <th>2</th>\n",
       "      <td>0.111502</td>\n",
       "      <td>-0.498104</td>\n",
       "      <td>-0.234189</td>\n",
       "      <td>1.216499</td>\n",
       "    </tr>\n",
       "    <tr>\n",
       "      <th>3</th>\n",
       "      <td>-0.957022</td>\n",
       "      <td>-1.325143</td>\n",
       "      <td>-1.329546</td>\n",
       "      <td>0.400162</td>\n",
       "    </tr>\n",
       "    <tr>\n",
       "      <th>4</th>\n",
       "      <td>-1.753738</td>\n",
       "      <td>-0.536637</td>\n",
       "      <td>-1.969596</td>\n",
       "      <td>0.210782</td>\n",
       "    </tr>\n",
       "  </tbody>\n",
       "</table>\n",
       "</div>"
      ],
      "text/plain": [
       "          A         B         C         D\n",
       "0 -0.511633 -1.021949 -0.733166 -0.822916\n",
       "1 -0.404520  0.255946  0.203341 -1.385616\n",
       "2  0.111502 -0.498104 -0.234189  1.216499\n",
       "3 -0.957022 -1.325143 -1.329546  0.400162\n",
       "4 -1.753738 -0.536637 -1.969596  0.210782"
      ]
     },
     "execution_count": 9,
     "metadata": {},
     "output_type": "execute_result"
    }
   ],
   "source": [
    "df.head()"
   ]
  },
  {
   "cell_type": "code",
   "execution_count": 11,
   "metadata": {},
   "outputs": [],
   "source": [
    "df2 = pd.DataFrame({'Category':['A','B','C'],'Values':[32,43,50]})"
   ]
  },
  {
   "cell_type": "code",
   "execution_count": 12,
   "metadata": {},
   "outputs": [
    {
     "data": {
      "text/html": [
       "<div>\n",
       "<style scoped>\n",
       "    .dataframe tbody tr th:only-of-type {\n",
       "        vertical-align: middle;\n",
       "    }\n",
       "\n",
       "    .dataframe tbody tr th {\n",
       "        vertical-align: top;\n",
       "    }\n",
       "\n",
       "    .dataframe thead th {\n",
       "        text-align: right;\n",
       "    }\n",
       "</style>\n",
       "<table border=\"1\" class=\"dataframe\">\n",
       "  <thead>\n",
       "    <tr style=\"text-align: right;\">\n",
       "      <th></th>\n",
       "      <th>Category</th>\n",
       "      <th>Values</th>\n",
       "    </tr>\n",
       "  </thead>\n",
       "  <tbody>\n",
       "    <tr>\n",
       "      <th>0</th>\n",
       "      <td>A</td>\n",
       "      <td>32</td>\n",
       "    </tr>\n",
       "    <tr>\n",
       "      <th>1</th>\n",
       "      <td>B</td>\n",
       "      <td>43</td>\n",
       "    </tr>\n",
       "    <tr>\n",
       "      <th>2</th>\n",
       "      <td>C</td>\n",
       "      <td>50</td>\n",
       "    </tr>\n",
       "  </tbody>\n",
       "</table>\n",
       "</div>"
      ],
      "text/plain": [
       "  Category  Values\n",
       "0        A      32\n",
       "1        B      43\n",
       "2        C      50"
      ]
     },
     "execution_count": 12,
     "metadata": {},
     "output_type": "execute_result"
    }
   ],
   "source": [
    "df2.head()"
   ]
  },
  {
   "cell_type": "markdown",
   "metadata": {},
   "source": [
    "## Using Cufflinks and iplot()\n",
    "\n",
    "* scatter\n",
    "* bar\n",
    "* box\n",
    "* spread\n",
    "* ratio\n",
    "* heatmap\n",
    "* surface\n",
    "* histogram\n",
    "* bubble"
   ]
  },
  {
   "cell_type": "markdown",
   "metadata": {},
   "source": [
    "## Scatter"
   ]
  },
  {
   "cell_type": "code",
   "execution_count": 14,
   "metadata": {},
   "outputs": [
    {
     "data": {
      "application/vnd.plotly.v1+json": {
       "config": {
        "linkText": "Export to plot.ly",
        "plotlyServerURL": "https://plot.ly",
        "showLink": true
       },
       "data": [
        {
         "line": {
          "color": "rgba(255, 153, 51, 1.0)",
          "dash": "solid",
          "shape": "linear",
          "width": 1.3
         },
         "mode": "lines",
         "name": "B",
         "text": "",
         "type": "scatter",
         "x": [
          -0.5116334595858404,
          -0.40451980663673587,
          0.11150203937866228,
          -0.957022430315918,
          -1.7537384134747118,
          -0.955316648367469,
          2.222588500741579,
          1.632559710535148,
          -0.7735923715434228,
          -0.02963878790154119,
          0.12474207955153141,
          0.007403421790317452,
          0.7440083568613275,
          1.228142706154454,
          0.4903478313312827,
          1.0671146523674926,
          0.38121839902209004,
          0.4784281130106239,
          -0.19334240537897074,
          0.2114068151160235,
          -0.28700598149332923,
          0.6266936008614964,
          -0.5539203483696317,
          0.8808079578911151,
          -0.2900116639501292,
          0.6261423219081403,
          0.44289408669801344,
          -1.0983682136534527,
          2.18957495182428,
          -0.05523220546360378,
          -0.11974553616901784,
          0.9765551281108982,
          1.0094934732433622,
          -1.2467963176372587,
          -0.2916082987378891,
          -0.252668436812334,
          -0.08836765690390477,
          0.6714605946405123,
          -1.975400227235359,
          -1.4659492320039842,
          -1.3895098125317962,
          -0.548176990317895,
          1.1498524159811114,
          -0.680873652531143,
          0.8361233299240934,
          -0.2951580965160952,
          -0.3695172599900852,
          1.3645930195548088,
          -0.4357307104776005,
          0.6430080010807169,
          -1.3455522950429075,
          -0.5206069791562866,
          1.1519658563449808,
          1.5518073674429156,
          -1.1757421206697676,
          0.31577683173796717,
          -0.5930566729500595,
          1.8670196724416042,
          0.5119438525785157,
          2.930461646582064,
          -0.23844315792702714,
          -0.38627151014457195,
          0.09289979180428624,
          -0.4930263009198248,
          -0.2648171930663567,
          -1.176740209750023,
          -0.8939604980187664,
          -0.7371049047637849,
          0.5871643676719378,
          -0.6415778753683434,
          -0.7604105092082487,
          0.7140214328803306,
          -0.9915435986302659,
          0.540851892851178,
          2.171638035591147,
          0.7464422614972771,
          0.7399621239592686,
          -0.23256585533617888,
          0.5432788198064235,
          -1.8189852586551483,
          0.39594453755161185,
          2.081483606601444,
          0.4771429363558366,
          -0.27537596662751096,
          -1.6544053929212492,
          -0.3663005905185225,
          -0.6726891740365734,
          -0.49462773090057727,
          0.389756615394149,
          -0.46107556252258863,
          -1.4536929347782868,
          -0.48860430307025055,
          -1.041576111141286,
          -0.6245608768868465,
          0.8654012168584696,
          0.5453770936816931,
          -0.21852546711481033,
          -0.1416534109291892,
          0.210740917567398,
          -0.786576379864656
         ],
         "y": [
          -1.021949233130461,
          0.25594574775048773,
          -0.49810387488163294,
          -1.325142642265481,
          -0.5366367478882258,
          1.0588099409333411,
          -1.0032978099073984,
          -0.8859669207305646,
          -0.06246948659894244,
          1.608941187505579,
          -0.3707918869740564,
          1.0450432601692148,
          -0.8401673973404254,
          0.292684789819589,
          0.729639443981082,
          0.4858150437908382,
          -0.4648277842418754,
          1.143185288073808,
          -1.0407427191447072,
          -1.425350991448239,
          -1.6558923830502548,
          -0.196126484198559,
          1.0552658780568707,
          -0.35263289136461645,
          0.8594609595168468,
          -1.2146127586768733,
          0.13220927769630178,
          -0.5648126800961567,
          -1.4173856239947105,
          -0.27379828911599174,
          0.4627715724085573,
          0.954071074533576,
          -1.5179053035379908,
          -0.7490363703587672,
          0.7843382049747933,
          -0.5825381214550421,
          -2.648166884938007,
          1.307337854013301,
          -1.2013701767559322,
          0.04436461470208275,
          -1.0206994284023114,
          -1.674926161290066,
          0.8378551196604281,
          -0.5081307161078558,
          1.0391192470821948,
          0.9628168203510796,
          0.004656832184727584,
          0.37783807138446773,
          -0.8090007741198757,
          0.3080210740208786,
          -0.01291972632760256,
          -0.32808528338522164,
          -1.296008271665516,
          -0.12789723500299224,
          0.9185470189724362,
          0.1287211863056182,
          2.237138179378632,
          -1.046419761230294,
          0.4280079253568352,
          1.2204039767857147,
          2.1548771482416798,
          0.44660725613147545,
          2.408224640092218,
          -1.11188791629352,
          -0.5898211643668354,
          0.8713265333134166,
          -0.46222389540219333,
          -0.11916235926853035,
          -0.5535978037993889,
          0.6087265261133761,
          1.225924068607216,
          0.9635074728291688,
          1.698331398380695,
          1.4246856327640762,
          -1.518895721740957,
          0.7649774149193973,
          0.7729348387618514,
          -0.9428834054294118,
          2.4457721829035237,
          -1.4393216516608613,
          -0.0593960436946276,
          0.8440019438929776,
          -0.7630293848511864,
          0.9877315922843377,
          -1.0272063197815813,
          0.5562686704820748,
          -0.5764170798889229,
          2.68893459063555,
          0.20429998711292027,
          0.8244038897408704,
          -0.7091675926939464,
          1.7030636499644225,
          -0.21407226437633675,
          -0.4877776042634076,
          0.4706276205941772,
          -0.10691589777002733,
          0.98046375194209,
          -1.2024078700961744,
          -0.23736613593332123,
          -0.6760890965035313
         ]
        }
       ],
       "layout": {
        "legend": {
         "bgcolor": "#F5F6F9",
         "font": {
          "color": "#4D5663"
         }
        },
        "paper_bgcolor": "#F5F6F9",
        "plot_bgcolor": "#F5F6F9",
        "template": {
         "data": {
          "bar": [
           {
            "error_x": {
             "color": "#2a3f5f"
            },
            "error_y": {
             "color": "#2a3f5f"
            },
            "marker": {
             "line": {
              "color": "#E5ECF6",
              "width": 0.5
             },
             "pattern": {
              "fillmode": "overlay",
              "size": 10,
              "solidity": 0.2
             }
            },
            "type": "bar"
           }
          ],
          "barpolar": [
           {
            "marker": {
             "line": {
              "color": "#E5ECF6",
              "width": 0.5
             },
             "pattern": {
              "fillmode": "overlay",
              "size": 10,
              "solidity": 0.2
             }
            },
            "type": "barpolar"
           }
          ],
          "carpet": [
           {
            "aaxis": {
             "endlinecolor": "#2a3f5f",
             "gridcolor": "white",
             "linecolor": "white",
             "minorgridcolor": "white",
             "startlinecolor": "#2a3f5f"
            },
            "baxis": {
             "endlinecolor": "#2a3f5f",
             "gridcolor": "white",
             "linecolor": "white",
             "minorgridcolor": "white",
             "startlinecolor": "#2a3f5f"
            },
            "type": "carpet"
           }
          ],
          "choropleth": [
           {
            "colorbar": {
             "outlinewidth": 0,
             "ticks": ""
            },
            "type": "choropleth"
           }
          ],
          "contour": [
           {
            "colorbar": {
             "outlinewidth": 0,
             "ticks": ""
            },
            "colorscale": [
             [
              0,
              "#0d0887"
             ],
             [
              0.1111111111111111,
              "#46039f"
             ],
             [
              0.2222222222222222,
              "#7201a8"
             ],
             [
              0.3333333333333333,
              "#9c179e"
             ],
             [
              0.4444444444444444,
              "#bd3786"
             ],
             [
              0.5555555555555556,
              "#d8576b"
             ],
             [
              0.6666666666666666,
              "#ed7953"
             ],
             [
              0.7777777777777778,
              "#fb9f3a"
             ],
             [
              0.8888888888888888,
              "#fdca26"
             ],
             [
              1,
              "#f0f921"
             ]
            ],
            "type": "contour"
           }
          ],
          "contourcarpet": [
           {
            "colorbar": {
             "outlinewidth": 0,
             "ticks": ""
            },
            "type": "contourcarpet"
           }
          ],
          "heatmap": [
           {
            "colorbar": {
             "outlinewidth": 0,
             "ticks": ""
            },
            "colorscale": [
             [
              0,
              "#0d0887"
             ],
             [
              0.1111111111111111,
              "#46039f"
             ],
             [
              0.2222222222222222,
              "#7201a8"
             ],
             [
              0.3333333333333333,
              "#9c179e"
             ],
             [
              0.4444444444444444,
              "#bd3786"
             ],
             [
              0.5555555555555556,
              "#d8576b"
             ],
             [
              0.6666666666666666,
              "#ed7953"
             ],
             [
              0.7777777777777778,
              "#fb9f3a"
             ],
             [
              0.8888888888888888,
              "#fdca26"
             ],
             [
              1,
              "#f0f921"
             ]
            ],
            "type": "heatmap"
           }
          ],
          "heatmapgl": [
           {
            "colorbar": {
             "outlinewidth": 0,
             "ticks": ""
            },
            "colorscale": [
             [
              0,
              "#0d0887"
             ],
             [
              0.1111111111111111,
              "#46039f"
             ],
             [
              0.2222222222222222,
              "#7201a8"
             ],
             [
              0.3333333333333333,
              "#9c179e"
             ],
             [
              0.4444444444444444,
              "#bd3786"
             ],
             [
              0.5555555555555556,
              "#d8576b"
             ],
             [
              0.6666666666666666,
              "#ed7953"
             ],
             [
              0.7777777777777778,
              "#fb9f3a"
             ],
             [
              0.8888888888888888,
              "#fdca26"
             ],
             [
              1,
              "#f0f921"
             ]
            ],
            "type": "heatmapgl"
           }
          ],
          "histogram": [
           {
            "marker": {
             "pattern": {
              "fillmode": "overlay",
              "size": 10,
              "solidity": 0.2
             }
            },
            "type": "histogram"
           }
          ],
          "histogram2d": [
           {
            "colorbar": {
             "outlinewidth": 0,
             "ticks": ""
            },
            "colorscale": [
             [
              0,
              "#0d0887"
             ],
             [
              0.1111111111111111,
              "#46039f"
             ],
             [
              0.2222222222222222,
              "#7201a8"
             ],
             [
              0.3333333333333333,
              "#9c179e"
             ],
             [
              0.4444444444444444,
              "#bd3786"
             ],
             [
              0.5555555555555556,
              "#d8576b"
             ],
             [
              0.6666666666666666,
              "#ed7953"
             ],
             [
              0.7777777777777778,
              "#fb9f3a"
             ],
             [
              0.8888888888888888,
              "#fdca26"
             ],
             [
              1,
              "#f0f921"
             ]
            ],
            "type": "histogram2d"
           }
          ],
          "histogram2dcontour": [
           {
            "colorbar": {
             "outlinewidth": 0,
             "ticks": ""
            },
            "colorscale": [
             [
              0,
              "#0d0887"
             ],
             [
              0.1111111111111111,
              "#46039f"
             ],
             [
              0.2222222222222222,
              "#7201a8"
             ],
             [
              0.3333333333333333,
              "#9c179e"
             ],
             [
              0.4444444444444444,
              "#bd3786"
             ],
             [
              0.5555555555555556,
              "#d8576b"
             ],
             [
              0.6666666666666666,
              "#ed7953"
             ],
             [
              0.7777777777777778,
              "#fb9f3a"
             ],
             [
              0.8888888888888888,
              "#fdca26"
             ],
             [
              1,
              "#f0f921"
             ]
            ],
            "type": "histogram2dcontour"
           }
          ],
          "mesh3d": [
           {
            "colorbar": {
             "outlinewidth": 0,
             "ticks": ""
            },
            "type": "mesh3d"
           }
          ],
          "parcoords": [
           {
            "line": {
             "colorbar": {
              "outlinewidth": 0,
              "ticks": ""
             }
            },
            "type": "parcoords"
           }
          ],
          "pie": [
           {
            "automargin": true,
            "type": "pie"
           }
          ],
          "scatter": [
           {
            "fillpattern": {
             "fillmode": "overlay",
             "size": 10,
             "solidity": 0.2
            },
            "type": "scatter"
           }
          ],
          "scatter3d": [
           {
            "line": {
             "colorbar": {
              "outlinewidth": 0,
              "ticks": ""
             }
            },
            "marker": {
             "colorbar": {
              "outlinewidth": 0,
              "ticks": ""
             }
            },
            "type": "scatter3d"
           }
          ],
          "scattercarpet": [
           {
            "marker": {
             "colorbar": {
              "outlinewidth": 0,
              "ticks": ""
             }
            },
            "type": "scattercarpet"
           }
          ],
          "scattergeo": [
           {
            "marker": {
             "colorbar": {
              "outlinewidth": 0,
              "ticks": ""
             }
            },
            "type": "scattergeo"
           }
          ],
          "scattergl": [
           {
            "marker": {
             "colorbar": {
              "outlinewidth": 0,
              "ticks": ""
             }
            },
            "type": "scattergl"
           }
          ],
          "scattermapbox": [
           {
            "marker": {
             "colorbar": {
              "outlinewidth": 0,
              "ticks": ""
             }
            },
            "type": "scattermapbox"
           }
          ],
          "scatterpolar": [
           {
            "marker": {
             "colorbar": {
              "outlinewidth": 0,
              "ticks": ""
             }
            },
            "type": "scatterpolar"
           }
          ],
          "scatterpolargl": [
           {
            "marker": {
             "colorbar": {
              "outlinewidth": 0,
              "ticks": ""
             }
            },
            "type": "scatterpolargl"
           }
          ],
          "scatterternary": [
           {
            "marker": {
             "colorbar": {
              "outlinewidth": 0,
              "ticks": ""
             }
            },
            "type": "scatterternary"
           }
          ],
          "surface": [
           {
            "colorbar": {
             "outlinewidth": 0,
             "ticks": ""
            },
            "colorscale": [
             [
              0,
              "#0d0887"
             ],
             [
              0.1111111111111111,
              "#46039f"
             ],
             [
              0.2222222222222222,
              "#7201a8"
             ],
             [
              0.3333333333333333,
              "#9c179e"
             ],
             [
              0.4444444444444444,
              "#bd3786"
             ],
             [
              0.5555555555555556,
              "#d8576b"
             ],
             [
              0.6666666666666666,
              "#ed7953"
             ],
             [
              0.7777777777777778,
              "#fb9f3a"
             ],
             [
              0.8888888888888888,
              "#fdca26"
             ],
             [
              1,
              "#f0f921"
             ]
            ],
            "type": "surface"
           }
          ],
          "table": [
           {
            "cells": {
             "fill": {
              "color": "#EBF0F8"
             },
             "line": {
              "color": "white"
             }
            },
            "header": {
             "fill": {
              "color": "#C8D4E3"
             },
             "line": {
              "color": "white"
             }
            },
            "type": "table"
           }
          ]
         },
         "layout": {
          "annotationdefaults": {
           "arrowcolor": "#2a3f5f",
           "arrowhead": 0,
           "arrowwidth": 1
          },
          "autotypenumbers": "strict",
          "coloraxis": {
           "colorbar": {
            "outlinewidth": 0,
            "ticks": ""
           }
          },
          "colorscale": {
           "diverging": [
            [
             0,
             "#8e0152"
            ],
            [
             0.1,
             "#c51b7d"
            ],
            [
             0.2,
             "#de77ae"
            ],
            [
             0.3,
             "#f1b6da"
            ],
            [
             0.4,
             "#fde0ef"
            ],
            [
             0.5,
             "#f7f7f7"
            ],
            [
             0.6,
             "#e6f5d0"
            ],
            [
             0.7,
             "#b8e186"
            ],
            [
             0.8,
             "#7fbc41"
            ],
            [
             0.9,
             "#4d9221"
            ],
            [
             1,
             "#276419"
            ]
           ],
           "sequential": [
            [
             0,
             "#0d0887"
            ],
            [
             0.1111111111111111,
             "#46039f"
            ],
            [
             0.2222222222222222,
             "#7201a8"
            ],
            [
             0.3333333333333333,
             "#9c179e"
            ],
            [
             0.4444444444444444,
             "#bd3786"
            ],
            [
             0.5555555555555556,
             "#d8576b"
            ],
            [
             0.6666666666666666,
             "#ed7953"
            ],
            [
             0.7777777777777778,
             "#fb9f3a"
            ],
            [
             0.8888888888888888,
             "#fdca26"
            ],
            [
             1,
             "#f0f921"
            ]
           ],
           "sequentialminus": [
            [
             0,
             "#0d0887"
            ],
            [
             0.1111111111111111,
             "#46039f"
            ],
            [
             0.2222222222222222,
             "#7201a8"
            ],
            [
             0.3333333333333333,
             "#9c179e"
            ],
            [
             0.4444444444444444,
             "#bd3786"
            ],
            [
             0.5555555555555556,
             "#d8576b"
            ],
            [
             0.6666666666666666,
             "#ed7953"
            ],
            [
             0.7777777777777778,
             "#fb9f3a"
            ],
            [
             0.8888888888888888,
             "#fdca26"
            ],
            [
             1,
             "#f0f921"
            ]
           ]
          },
          "colorway": [
           "#636efa",
           "#EF553B",
           "#00cc96",
           "#ab63fa",
           "#FFA15A",
           "#19d3f3",
           "#FF6692",
           "#B6E880",
           "#FF97FF",
           "#FECB52"
          ],
          "font": {
           "color": "#2a3f5f"
          },
          "geo": {
           "bgcolor": "white",
           "lakecolor": "white",
           "landcolor": "#E5ECF6",
           "showlakes": true,
           "showland": true,
           "subunitcolor": "white"
          },
          "hoverlabel": {
           "align": "left"
          },
          "hovermode": "closest",
          "mapbox": {
           "style": "light"
          },
          "paper_bgcolor": "white",
          "plot_bgcolor": "#E5ECF6",
          "polar": {
           "angularaxis": {
            "gridcolor": "white",
            "linecolor": "white",
            "ticks": ""
           },
           "bgcolor": "#E5ECF6",
           "radialaxis": {
            "gridcolor": "white",
            "linecolor": "white",
            "ticks": ""
           }
          },
          "scene": {
           "xaxis": {
            "backgroundcolor": "#E5ECF6",
            "gridcolor": "white",
            "gridwidth": 2,
            "linecolor": "white",
            "showbackground": true,
            "ticks": "",
            "zerolinecolor": "white"
           },
           "yaxis": {
            "backgroundcolor": "#E5ECF6",
            "gridcolor": "white",
            "gridwidth": 2,
            "linecolor": "white",
            "showbackground": true,
            "ticks": "",
            "zerolinecolor": "white"
           },
           "zaxis": {
            "backgroundcolor": "#E5ECF6",
            "gridcolor": "white",
            "gridwidth": 2,
            "linecolor": "white",
            "showbackground": true,
            "ticks": "",
            "zerolinecolor": "white"
           }
          },
          "shapedefaults": {
           "line": {
            "color": "#2a3f5f"
           }
          },
          "ternary": {
           "aaxis": {
            "gridcolor": "white",
            "linecolor": "white",
            "ticks": ""
           },
           "baxis": {
            "gridcolor": "white",
            "linecolor": "white",
            "ticks": ""
           },
           "bgcolor": "#E5ECF6",
           "caxis": {
            "gridcolor": "white",
            "linecolor": "white",
            "ticks": ""
           }
          },
          "title": {
           "x": 0.05
          },
          "xaxis": {
           "automargin": true,
           "gridcolor": "white",
           "linecolor": "white",
           "ticks": "",
           "title": {
            "standoff": 15
           },
           "zerolinecolor": "white",
           "zerolinewidth": 2
          },
          "yaxis": {
           "automargin": true,
           "gridcolor": "white",
           "linecolor": "white",
           "ticks": "",
           "title": {
            "standoff": 15
           },
           "zerolinecolor": "white",
           "zerolinewidth": 2
          }
         }
        },
        "title": {
         "font": {
          "color": "#4D5663"
         }
        },
        "xaxis": {
         "gridcolor": "#E1E5ED",
         "showgrid": true,
         "tickfont": {
          "color": "#4D5663"
         },
         "title": {
          "font": {
           "color": "#4D5663"
          },
          "text": ""
         },
         "zerolinecolor": "#E1E5ED"
        },
        "yaxis": {
         "gridcolor": "#E1E5ED",
         "showgrid": true,
         "tickfont": {
          "color": "#4D5663"
         },
         "title": {
          "font": {
           "color": "#4D5663"
          },
          "text": ""
         },
         "zerolinecolor": "#E1E5ED"
        }
       }
      },
      "text/html": [
       "<div>                            <div id=\"dbc12762-1d2e-49bd-9ad6-ad38ef715cab\" class=\"plotly-graph-div\" style=\"height:525px; width:100%;\"></div>            <script type=\"text/javascript\">                require([\"plotly\"], function(Plotly) {                    window.PLOTLYENV=window.PLOTLYENV || {};\n",
       "                    window.PLOTLYENV.BASE_URL='https://plot.ly';                                    if (document.getElementById(\"dbc12762-1d2e-49bd-9ad6-ad38ef715cab\")) {                    Plotly.newPlot(                        \"dbc12762-1d2e-49bd-9ad6-ad38ef715cab\",                        [{\"line\":{\"color\":\"rgba(255, 153, 51, 1.0)\",\"dash\":\"solid\",\"shape\":\"linear\",\"width\":1.3},\"mode\":\"lines\",\"name\":\"B\",\"text\":\"\",\"x\":[-0.5116334595858404,-0.40451980663673587,0.11150203937866228,-0.957022430315918,-1.7537384134747118,-0.955316648367469,2.222588500741579,1.632559710535148,-0.7735923715434228,-0.02963878790154119,0.12474207955153141,0.007403421790317452,0.7440083568613275,1.228142706154454,0.4903478313312827,1.0671146523674926,0.38121839902209004,0.4784281130106239,-0.19334240537897074,0.2114068151160235,-0.28700598149332923,0.6266936008614964,-0.5539203483696317,0.8808079578911151,-0.2900116639501292,0.6261423219081403,0.44289408669801344,-1.0983682136534527,2.18957495182428,-0.05523220546360378,-0.11974553616901784,0.9765551281108982,1.0094934732433622,-1.2467963176372587,-0.2916082987378891,-0.252668436812334,-0.08836765690390477,0.6714605946405123,-1.975400227235359,-1.4659492320039842,-1.3895098125317962,-0.548176990317895,1.1498524159811114,-0.680873652531143,0.8361233299240934,-0.2951580965160952,-0.3695172599900852,1.3645930195548088,-0.4357307104776005,0.6430080010807169,-1.3455522950429075,-0.5206069791562866,1.1519658563449808,1.5518073674429156,-1.1757421206697676,0.31577683173796717,-0.5930566729500595,1.8670196724416042,0.5119438525785157,2.930461646582064,-0.23844315792702714,-0.38627151014457195,0.09289979180428624,-0.4930263009198248,-0.2648171930663567,-1.176740209750023,-0.8939604980187664,-0.7371049047637849,0.5871643676719378,-0.6415778753683434,-0.7604105092082487,0.7140214328803306,-0.9915435986302659,0.540851892851178,2.171638035591147,0.7464422614972771,0.7399621239592686,-0.23256585533617888,0.5432788198064235,-1.8189852586551483,0.39594453755161185,2.081483606601444,0.4771429363558366,-0.27537596662751096,-1.6544053929212492,-0.3663005905185225,-0.6726891740365734,-0.49462773090057727,0.389756615394149,-0.46107556252258863,-1.4536929347782868,-0.48860430307025055,-1.041576111141286,-0.6245608768868465,0.8654012168584696,0.5453770936816931,-0.21852546711481033,-0.1416534109291892,0.210740917567398,-0.786576379864656],\"y\":[-1.021949233130461,0.25594574775048773,-0.49810387488163294,-1.325142642265481,-0.5366367478882258,1.0588099409333411,-1.0032978099073984,-0.8859669207305646,-0.06246948659894244,1.608941187505579,-0.3707918869740564,1.0450432601692148,-0.8401673973404254,0.292684789819589,0.729639443981082,0.4858150437908382,-0.4648277842418754,1.143185288073808,-1.0407427191447072,-1.425350991448239,-1.6558923830502548,-0.196126484198559,1.0552658780568707,-0.35263289136461645,0.8594609595168468,-1.2146127586768733,0.13220927769630178,-0.5648126800961567,-1.4173856239947105,-0.27379828911599174,0.4627715724085573,0.954071074533576,-1.5179053035379908,-0.7490363703587672,0.7843382049747933,-0.5825381214550421,-2.648166884938007,1.307337854013301,-1.2013701767559322,0.04436461470208275,-1.0206994284023114,-1.674926161290066,0.8378551196604281,-0.5081307161078558,1.0391192470821948,0.9628168203510796,0.004656832184727584,0.37783807138446773,-0.8090007741198757,0.3080210740208786,-0.01291972632760256,-0.32808528338522164,-1.296008271665516,-0.12789723500299224,0.9185470189724362,0.1287211863056182,2.237138179378632,-1.046419761230294,0.4280079253568352,1.2204039767857147,2.1548771482416798,0.44660725613147545,2.408224640092218,-1.11188791629352,-0.5898211643668354,0.8713265333134166,-0.46222389540219333,-0.11916235926853035,-0.5535978037993889,0.6087265261133761,1.225924068607216,0.9635074728291688,1.698331398380695,1.4246856327640762,-1.518895721740957,0.7649774149193973,0.7729348387618514,-0.9428834054294118,2.4457721829035237,-1.4393216516608613,-0.0593960436946276,0.8440019438929776,-0.7630293848511864,0.9877315922843377,-1.0272063197815813,0.5562686704820748,-0.5764170798889229,2.68893459063555,0.20429998711292027,0.8244038897408704,-0.7091675926939464,1.7030636499644225,-0.21407226437633675,-0.4877776042634076,0.4706276205941772,-0.10691589777002733,0.98046375194209,-1.2024078700961744,-0.23736613593332123,-0.6760890965035313],\"type\":\"scatter\"}],                        {\"legend\":{\"bgcolor\":\"#F5F6F9\",\"font\":{\"color\":\"#4D5663\"}},\"paper_bgcolor\":\"#F5F6F9\",\"plot_bgcolor\":\"#F5F6F9\",\"template\":{\"data\":{\"barpolar\":[{\"marker\":{\"line\":{\"color\":\"#E5ECF6\",\"width\":0.5},\"pattern\":{\"fillmode\":\"overlay\",\"size\":10,\"solidity\":0.2}},\"type\":\"barpolar\"}],\"bar\":[{\"error_x\":{\"color\":\"#2a3f5f\"},\"error_y\":{\"color\":\"#2a3f5f\"},\"marker\":{\"line\":{\"color\":\"#E5ECF6\",\"width\":0.5},\"pattern\":{\"fillmode\":\"overlay\",\"size\":10,\"solidity\":0.2}},\"type\":\"bar\"}],\"carpet\":[{\"aaxis\":{\"endlinecolor\":\"#2a3f5f\",\"gridcolor\":\"white\",\"linecolor\":\"white\",\"minorgridcolor\":\"white\",\"startlinecolor\":\"#2a3f5f\"},\"baxis\":{\"endlinecolor\":\"#2a3f5f\",\"gridcolor\":\"white\",\"linecolor\":\"white\",\"minorgridcolor\":\"white\",\"startlinecolor\":\"#2a3f5f\"},\"type\":\"carpet\"}],\"choropleth\":[{\"colorbar\":{\"outlinewidth\":0,\"ticks\":\"\"},\"type\":\"choropleth\"}],\"contourcarpet\":[{\"colorbar\":{\"outlinewidth\":0,\"ticks\":\"\"},\"type\":\"contourcarpet\"}],\"contour\":[{\"colorbar\":{\"outlinewidth\":0,\"ticks\":\"\"},\"colorscale\":[[0.0,\"#0d0887\"],[0.1111111111111111,\"#46039f\"],[0.2222222222222222,\"#7201a8\"],[0.3333333333333333,\"#9c179e\"],[0.4444444444444444,\"#bd3786\"],[0.5555555555555556,\"#d8576b\"],[0.6666666666666666,\"#ed7953\"],[0.7777777777777778,\"#fb9f3a\"],[0.8888888888888888,\"#fdca26\"],[1.0,\"#f0f921\"]],\"type\":\"contour\"}],\"heatmapgl\":[{\"colorbar\":{\"outlinewidth\":0,\"ticks\":\"\"},\"colorscale\":[[0.0,\"#0d0887\"],[0.1111111111111111,\"#46039f\"],[0.2222222222222222,\"#7201a8\"],[0.3333333333333333,\"#9c179e\"],[0.4444444444444444,\"#bd3786\"],[0.5555555555555556,\"#d8576b\"],[0.6666666666666666,\"#ed7953\"],[0.7777777777777778,\"#fb9f3a\"],[0.8888888888888888,\"#fdca26\"],[1.0,\"#f0f921\"]],\"type\":\"heatmapgl\"}],\"heatmap\":[{\"colorbar\":{\"outlinewidth\":0,\"ticks\":\"\"},\"colorscale\":[[0.0,\"#0d0887\"],[0.1111111111111111,\"#46039f\"],[0.2222222222222222,\"#7201a8\"],[0.3333333333333333,\"#9c179e\"],[0.4444444444444444,\"#bd3786\"],[0.5555555555555556,\"#d8576b\"],[0.6666666666666666,\"#ed7953\"],[0.7777777777777778,\"#fb9f3a\"],[0.8888888888888888,\"#fdca26\"],[1.0,\"#f0f921\"]],\"type\":\"heatmap\"}],\"histogram2dcontour\":[{\"colorbar\":{\"outlinewidth\":0,\"ticks\":\"\"},\"colorscale\":[[0.0,\"#0d0887\"],[0.1111111111111111,\"#46039f\"],[0.2222222222222222,\"#7201a8\"],[0.3333333333333333,\"#9c179e\"],[0.4444444444444444,\"#bd3786\"],[0.5555555555555556,\"#d8576b\"],[0.6666666666666666,\"#ed7953\"],[0.7777777777777778,\"#fb9f3a\"],[0.8888888888888888,\"#fdca26\"],[1.0,\"#f0f921\"]],\"type\":\"histogram2dcontour\"}],\"histogram2d\":[{\"colorbar\":{\"outlinewidth\":0,\"ticks\":\"\"},\"colorscale\":[[0.0,\"#0d0887\"],[0.1111111111111111,\"#46039f\"],[0.2222222222222222,\"#7201a8\"],[0.3333333333333333,\"#9c179e\"],[0.4444444444444444,\"#bd3786\"],[0.5555555555555556,\"#d8576b\"],[0.6666666666666666,\"#ed7953\"],[0.7777777777777778,\"#fb9f3a\"],[0.8888888888888888,\"#fdca26\"],[1.0,\"#f0f921\"]],\"type\":\"histogram2d\"}],\"histogram\":[{\"marker\":{\"pattern\":{\"fillmode\":\"overlay\",\"size\":10,\"solidity\":0.2}},\"type\":\"histogram\"}],\"mesh3d\":[{\"colorbar\":{\"outlinewidth\":0,\"ticks\":\"\"},\"type\":\"mesh3d\"}],\"parcoords\":[{\"line\":{\"colorbar\":{\"outlinewidth\":0,\"ticks\":\"\"}},\"type\":\"parcoords\"}],\"pie\":[{\"automargin\":true,\"type\":\"pie\"}],\"scatter3d\":[{\"line\":{\"colorbar\":{\"outlinewidth\":0,\"ticks\":\"\"}},\"marker\":{\"colorbar\":{\"outlinewidth\":0,\"ticks\":\"\"}},\"type\":\"scatter3d\"}],\"scattercarpet\":[{\"marker\":{\"colorbar\":{\"outlinewidth\":0,\"ticks\":\"\"}},\"type\":\"scattercarpet\"}],\"scattergeo\":[{\"marker\":{\"colorbar\":{\"outlinewidth\":0,\"ticks\":\"\"}},\"type\":\"scattergeo\"}],\"scattergl\":[{\"marker\":{\"colorbar\":{\"outlinewidth\":0,\"ticks\":\"\"}},\"type\":\"scattergl\"}],\"scattermapbox\":[{\"marker\":{\"colorbar\":{\"outlinewidth\":0,\"ticks\":\"\"}},\"type\":\"scattermapbox\"}],\"scatterpolargl\":[{\"marker\":{\"colorbar\":{\"outlinewidth\":0,\"ticks\":\"\"}},\"type\":\"scatterpolargl\"}],\"scatterpolar\":[{\"marker\":{\"colorbar\":{\"outlinewidth\":0,\"ticks\":\"\"}},\"type\":\"scatterpolar\"}],\"scatter\":[{\"fillpattern\":{\"fillmode\":\"overlay\",\"size\":10,\"solidity\":0.2},\"type\":\"scatter\"}],\"scatterternary\":[{\"marker\":{\"colorbar\":{\"outlinewidth\":0,\"ticks\":\"\"}},\"type\":\"scatterternary\"}],\"surface\":[{\"colorbar\":{\"outlinewidth\":0,\"ticks\":\"\"},\"colorscale\":[[0.0,\"#0d0887\"],[0.1111111111111111,\"#46039f\"],[0.2222222222222222,\"#7201a8\"],[0.3333333333333333,\"#9c179e\"],[0.4444444444444444,\"#bd3786\"],[0.5555555555555556,\"#d8576b\"],[0.6666666666666666,\"#ed7953\"],[0.7777777777777778,\"#fb9f3a\"],[0.8888888888888888,\"#fdca26\"],[1.0,\"#f0f921\"]],\"type\":\"surface\"}],\"table\":[{\"cells\":{\"fill\":{\"color\":\"#EBF0F8\"},\"line\":{\"color\":\"white\"}},\"header\":{\"fill\":{\"color\":\"#C8D4E3\"},\"line\":{\"color\":\"white\"}},\"type\":\"table\"}]},\"layout\":{\"annotationdefaults\":{\"arrowcolor\":\"#2a3f5f\",\"arrowhead\":0,\"arrowwidth\":1},\"autotypenumbers\":\"strict\",\"coloraxis\":{\"colorbar\":{\"outlinewidth\":0,\"ticks\":\"\"}},\"colorscale\":{\"diverging\":[[0,\"#8e0152\"],[0.1,\"#c51b7d\"],[0.2,\"#de77ae\"],[0.3,\"#f1b6da\"],[0.4,\"#fde0ef\"],[0.5,\"#f7f7f7\"],[0.6,\"#e6f5d0\"],[0.7,\"#b8e186\"],[0.8,\"#7fbc41\"],[0.9,\"#4d9221\"],[1,\"#276419\"]],\"sequential\":[[0.0,\"#0d0887\"],[0.1111111111111111,\"#46039f\"],[0.2222222222222222,\"#7201a8\"],[0.3333333333333333,\"#9c179e\"],[0.4444444444444444,\"#bd3786\"],[0.5555555555555556,\"#d8576b\"],[0.6666666666666666,\"#ed7953\"],[0.7777777777777778,\"#fb9f3a\"],[0.8888888888888888,\"#fdca26\"],[1.0,\"#f0f921\"]],\"sequentialminus\":[[0.0,\"#0d0887\"],[0.1111111111111111,\"#46039f\"],[0.2222222222222222,\"#7201a8\"],[0.3333333333333333,\"#9c179e\"],[0.4444444444444444,\"#bd3786\"],[0.5555555555555556,\"#d8576b\"],[0.6666666666666666,\"#ed7953\"],[0.7777777777777778,\"#fb9f3a\"],[0.8888888888888888,\"#fdca26\"],[1.0,\"#f0f921\"]]},\"colorway\":[\"#636efa\",\"#EF553B\",\"#00cc96\",\"#ab63fa\",\"#FFA15A\",\"#19d3f3\",\"#FF6692\",\"#B6E880\",\"#FF97FF\",\"#FECB52\"],\"font\":{\"color\":\"#2a3f5f\"},\"geo\":{\"bgcolor\":\"white\",\"lakecolor\":\"white\",\"landcolor\":\"#E5ECF6\",\"showlakes\":true,\"showland\":true,\"subunitcolor\":\"white\"},\"hoverlabel\":{\"align\":\"left\"},\"hovermode\":\"closest\",\"mapbox\":{\"style\":\"light\"},\"paper_bgcolor\":\"white\",\"plot_bgcolor\":\"#E5ECF6\",\"polar\":{\"angularaxis\":{\"gridcolor\":\"white\",\"linecolor\":\"white\",\"ticks\":\"\"},\"bgcolor\":\"#E5ECF6\",\"radialaxis\":{\"gridcolor\":\"white\",\"linecolor\":\"white\",\"ticks\":\"\"}},\"scene\":{\"xaxis\":{\"backgroundcolor\":\"#E5ECF6\",\"gridcolor\":\"white\",\"gridwidth\":2,\"linecolor\":\"white\",\"showbackground\":true,\"ticks\":\"\",\"zerolinecolor\":\"white\"},\"yaxis\":{\"backgroundcolor\":\"#E5ECF6\",\"gridcolor\":\"white\",\"gridwidth\":2,\"linecolor\":\"white\",\"showbackground\":true,\"ticks\":\"\",\"zerolinecolor\":\"white\"},\"zaxis\":{\"backgroundcolor\":\"#E5ECF6\",\"gridcolor\":\"white\",\"gridwidth\":2,\"linecolor\":\"white\",\"showbackground\":true,\"ticks\":\"\",\"zerolinecolor\":\"white\"}},\"shapedefaults\":{\"line\":{\"color\":\"#2a3f5f\"}},\"ternary\":{\"aaxis\":{\"gridcolor\":\"white\",\"linecolor\":\"white\",\"ticks\":\"\"},\"baxis\":{\"gridcolor\":\"white\",\"linecolor\":\"white\",\"ticks\":\"\"},\"bgcolor\":\"#E5ECF6\",\"caxis\":{\"gridcolor\":\"white\",\"linecolor\":\"white\",\"ticks\":\"\"}},\"title\":{\"x\":0.05},\"xaxis\":{\"automargin\":true,\"gridcolor\":\"white\",\"linecolor\":\"white\",\"ticks\":\"\",\"title\":{\"standoff\":15},\"zerolinecolor\":\"white\",\"zerolinewidth\":2},\"yaxis\":{\"automargin\":true,\"gridcolor\":\"white\",\"linecolor\":\"white\",\"ticks\":\"\",\"title\":{\"standoff\":15},\"zerolinecolor\":\"white\",\"zerolinewidth\":2}}},\"title\":{\"font\":{\"color\":\"#4D5663\"}},\"xaxis\":{\"gridcolor\":\"#E1E5ED\",\"showgrid\":true,\"tickfont\":{\"color\":\"#4D5663\"},\"title\":{\"font\":{\"color\":\"#4D5663\"},\"text\":\"\"},\"zerolinecolor\":\"#E1E5ED\"},\"yaxis\":{\"gridcolor\":\"#E1E5ED\",\"showgrid\":true,\"tickfont\":{\"color\":\"#4D5663\"},\"title\":{\"font\":{\"color\":\"#4D5663\"},\"text\":\"\"},\"zerolinecolor\":\"#E1E5ED\"}},                        {\"showLink\": true, \"linkText\": \"Export to plot.ly\", \"plotlyServerURL\": \"https://plot.ly\", \"responsive\": true}                    ).then(function(){\n",
       "                            \n",
       "var gd = document.getElementById('dbc12762-1d2e-49bd-9ad6-ad38ef715cab');\n",
       "var x = new MutationObserver(function (mutations, observer) {{\n",
       "        var display = window.getComputedStyle(gd).display;\n",
       "        if (!display || display === 'none') {{\n",
       "            console.log([gd, 'removed!']);\n",
       "            Plotly.purge(gd);\n",
       "            observer.disconnect();\n",
       "        }}\n",
       "}});\n",
       "\n",
       "// Listen for the removal of the full notebook cells\n",
       "var notebookContainer = gd.closest('#notebook-container');\n",
       "if (notebookContainer) {{\n",
       "    x.observe(notebookContainer, {childList: true});\n",
       "}}\n",
       "\n",
       "// Listen for the clearing of the current output cell\n",
       "var outputEl = gd.closest('.output');\n",
       "if (outputEl) {{\n",
       "    x.observe(outputEl, {childList: true});\n",
       "}}\n",
       "\n",
       "                        })                };                });            </script>        </div>"
      ]
     },
     "metadata": {},
     "output_type": "display_data"
    }
   ],
   "source": [
    "# df.iplot(kind='scatter',x='A',y='B',mode='markers',size=10)\n",
    "df.iplot(kind='scatter',x='A',y='B')"
   ]
  },
  {
   "cell_type": "markdown",
   "metadata": {},
   "source": [
    "## Bar Plots"
   ]
  },
  {
   "cell_type": "code",
   "execution_count": 15,
   "metadata": {},
   "outputs": [
    {
     "data": {
      "application/vnd.plotly.v1+json": {
       "config": {
        "linkText": "Export to plot.ly",
        "plotlyServerURL": "https://plot.ly",
        "showLink": true
       },
       "data": [
        {
         "marker": {
          "color": "rgba(255, 153, 51, 0.6)",
          "line": {
           "color": "rgba(255, 153, 51, 1.0)",
           "width": 1
          }
         },
         "name": "Values",
         "orientation": "v",
         "text": "",
         "type": "bar",
         "x": [
          "A",
          "B",
          "C"
         ],
         "y": [
          32,
          43,
          50
         ]
        }
       ],
       "layout": {
        "legend": {
         "bgcolor": "#F5F6F9",
         "font": {
          "color": "#4D5663"
         }
        },
        "paper_bgcolor": "#F5F6F9",
        "plot_bgcolor": "#F5F6F9",
        "template": {
         "data": {
          "bar": [
           {
            "error_x": {
             "color": "#2a3f5f"
            },
            "error_y": {
             "color": "#2a3f5f"
            },
            "marker": {
             "line": {
              "color": "#E5ECF6",
              "width": 0.5
             },
             "pattern": {
              "fillmode": "overlay",
              "size": 10,
              "solidity": 0.2
             }
            },
            "type": "bar"
           }
          ],
          "barpolar": [
           {
            "marker": {
             "line": {
              "color": "#E5ECF6",
              "width": 0.5
             },
             "pattern": {
              "fillmode": "overlay",
              "size": 10,
              "solidity": 0.2
             }
            },
            "type": "barpolar"
           }
          ],
          "carpet": [
           {
            "aaxis": {
             "endlinecolor": "#2a3f5f",
             "gridcolor": "white",
             "linecolor": "white",
             "minorgridcolor": "white",
             "startlinecolor": "#2a3f5f"
            },
            "baxis": {
             "endlinecolor": "#2a3f5f",
             "gridcolor": "white",
             "linecolor": "white",
             "minorgridcolor": "white",
             "startlinecolor": "#2a3f5f"
            },
            "type": "carpet"
           }
          ],
          "choropleth": [
           {
            "colorbar": {
             "outlinewidth": 0,
             "ticks": ""
            },
            "type": "choropleth"
           }
          ],
          "contour": [
           {
            "colorbar": {
             "outlinewidth": 0,
             "ticks": ""
            },
            "colorscale": [
             [
              0,
              "#0d0887"
             ],
             [
              0.1111111111111111,
              "#46039f"
             ],
             [
              0.2222222222222222,
              "#7201a8"
             ],
             [
              0.3333333333333333,
              "#9c179e"
             ],
             [
              0.4444444444444444,
              "#bd3786"
             ],
             [
              0.5555555555555556,
              "#d8576b"
             ],
             [
              0.6666666666666666,
              "#ed7953"
             ],
             [
              0.7777777777777778,
              "#fb9f3a"
             ],
             [
              0.8888888888888888,
              "#fdca26"
             ],
             [
              1,
              "#f0f921"
             ]
            ],
            "type": "contour"
           }
          ],
          "contourcarpet": [
           {
            "colorbar": {
             "outlinewidth": 0,
             "ticks": ""
            },
            "type": "contourcarpet"
           }
          ],
          "heatmap": [
           {
            "colorbar": {
             "outlinewidth": 0,
             "ticks": ""
            },
            "colorscale": [
             [
              0,
              "#0d0887"
             ],
             [
              0.1111111111111111,
              "#46039f"
             ],
             [
              0.2222222222222222,
              "#7201a8"
             ],
             [
              0.3333333333333333,
              "#9c179e"
             ],
             [
              0.4444444444444444,
              "#bd3786"
             ],
             [
              0.5555555555555556,
              "#d8576b"
             ],
             [
              0.6666666666666666,
              "#ed7953"
             ],
             [
              0.7777777777777778,
              "#fb9f3a"
             ],
             [
              0.8888888888888888,
              "#fdca26"
             ],
             [
              1,
              "#f0f921"
             ]
            ],
            "type": "heatmap"
           }
          ],
          "heatmapgl": [
           {
            "colorbar": {
             "outlinewidth": 0,
             "ticks": ""
            },
            "colorscale": [
             [
              0,
              "#0d0887"
             ],
             [
              0.1111111111111111,
              "#46039f"
             ],
             [
              0.2222222222222222,
              "#7201a8"
             ],
             [
              0.3333333333333333,
              "#9c179e"
             ],
             [
              0.4444444444444444,
              "#bd3786"
             ],
             [
              0.5555555555555556,
              "#d8576b"
             ],
             [
              0.6666666666666666,
              "#ed7953"
             ],
             [
              0.7777777777777778,
              "#fb9f3a"
             ],
             [
              0.8888888888888888,
              "#fdca26"
             ],
             [
              1,
              "#f0f921"
             ]
            ],
            "type": "heatmapgl"
           }
          ],
          "histogram": [
           {
            "marker": {
             "pattern": {
              "fillmode": "overlay",
              "size": 10,
              "solidity": 0.2
             }
            },
            "type": "histogram"
           }
          ],
          "histogram2d": [
           {
            "colorbar": {
             "outlinewidth": 0,
             "ticks": ""
            },
            "colorscale": [
             [
              0,
              "#0d0887"
             ],
             [
              0.1111111111111111,
              "#46039f"
             ],
             [
              0.2222222222222222,
              "#7201a8"
             ],
             [
              0.3333333333333333,
              "#9c179e"
             ],
             [
              0.4444444444444444,
              "#bd3786"
             ],
             [
              0.5555555555555556,
              "#d8576b"
             ],
             [
              0.6666666666666666,
              "#ed7953"
             ],
             [
              0.7777777777777778,
              "#fb9f3a"
             ],
             [
              0.8888888888888888,
              "#fdca26"
             ],
             [
              1,
              "#f0f921"
             ]
            ],
            "type": "histogram2d"
           }
          ],
          "histogram2dcontour": [
           {
            "colorbar": {
             "outlinewidth": 0,
             "ticks": ""
            },
            "colorscale": [
             [
              0,
              "#0d0887"
             ],
             [
              0.1111111111111111,
              "#46039f"
             ],
             [
              0.2222222222222222,
              "#7201a8"
             ],
             [
              0.3333333333333333,
              "#9c179e"
             ],
             [
              0.4444444444444444,
              "#bd3786"
             ],
             [
              0.5555555555555556,
              "#d8576b"
             ],
             [
              0.6666666666666666,
              "#ed7953"
             ],
             [
              0.7777777777777778,
              "#fb9f3a"
             ],
             [
              0.8888888888888888,
              "#fdca26"
             ],
             [
              1,
              "#f0f921"
             ]
            ],
            "type": "histogram2dcontour"
           }
          ],
          "mesh3d": [
           {
            "colorbar": {
             "outlinewidth": 0,
             "ticks": ""
            },
            "type": "mesh3d"
           }
          ],
          "parcoords": [
           {
            "line": {
             "colorbar": {
              "outlinewidth": 0,
              "ticks": ""
             }
            },
            "type": "parcoords"
           }
          ],
          "pie": [
           {
            "automargin": true,
            "type": "pie"
           }
          ],
          "scatter": [
           {
            "fillpattern": {
             "fillmode": "overlay",
             "size": 10,
             "solidity": 0.2
            },
            "type": "scatter"
           }
          ],
          "scatter3d": [
           {
            "line": {
             "colorbar": {
              "outlinewidth": 0,
              "ticks": ""
             }
            },
            "marker": {
             "colorbar": {
              "outlinewidth": 0,
              "ticks": ""
             }
            },
            "type": "scatter3d"
           }
          ],
          "scattercarpet": [
           {
            "marker": {
             "colorbar": {
              "outlinewidth": 0,
              "ticks": ""
             }
            },
            "type": "scattercarpet"
           }
          ],
          "scattergeo": [
           {
            "marker": {
             "colorbar": {
              "outlinewidth": 0,
              "ticks": ""
             }
            },
            "type": "scattergeo"
           }
          ],
          "scattergl": [
           {
            "marker": {
             "colorbar": {
              "outlinewidth": 0,
              "ticks": ""
             }
            },
            "type": "scattergl"
           }
          ],
          "scattermapbox": [
           {
            "marker": {
             "colorbar": {
              "outlinewidth": 0,
              "ticks": ""
             }
            },
            "type": "scattermapbox"
           }
          ],
          "scatterpolar": [
           {
            "marker": {
             "colorbar": {
              "outlinewidth": 0,
              "ticks": ""
             }
            },
            "type": "scatterpolar"
           }
          ],
          "scatterpolargl": [
           {
            "marker": {
             "colorbar": {
              "outlinewidth": 0,
              "ticks": ""
             }
            },
            "type": "scatterpolargl"
           }
          ],
          "scatterternary": [
           {
            "marker": {
             "colorbar": {
              "outlinewidth": 0,
              "ticks": ""
             }
            },
            "type": "scatterternary"
           }
          ],
          "surface": [
           {
            "colorbar": {
             "outlinewidth": 0,
             "ticks": ""
            },
            "colorscale": [
             [
              0,
              "#0d0887"
             ],
             [
              0.1111111111111111,
              "#46039f"
             ],
             [
              0.2222222222222222,
              "#7201a8"
             ],
             [
              0.3333333333333333,
              "#9c179e"
             ],
             [
              0.4444444444444444,
              "#bd3786"
             ],
             [
              0.5555555555555556,
              "#d8576b"
             ],
             [
              0.6666666666666666,
              "#ed7953"
             ],
             [
              0.7777777777777778,
              "#fb9f3a"
             ],
             [
              0.8888888888888888,
              "#fdca26"
             ],
             [
              1,
              "#f0f921"
             ]
            ],
            "type": "surface"
           }
          ],
          "table": [
           {
            "cells": {
             "fill": {
              "color": "#EBF0F8"
             },
             "line": {
              "color": "white"
             }
            },
            "header": {
             "fill": {
              "color": "#C8D4E3"
             },
             "line": {
              "color": "white"
             }
            },
            "type": "table"
           }
          ]
         },
         "layout": {
          "annotationdefaults": {
           "arrowcolor": "#2a3f5f",
           "arrowhead": 0,
           "arrowwidth": 1
          },
          "autotypenumbers": "strict",
          "coloraxis": {
           "colorbar": {
            "outlinewidth": 0,
            "ticks": ""
           }
          },
          "colorscale": {
           "diverging": [
            [
             0,
             "#8e0152"
            ],
            [
             0.1,
             "#c51b7d"
            ],
            [
             0.2,
             "#de77ae"
            ],
            [
             0.3,
             "#f1b6da"
            ],
            [
             0.4,
             "#fde0ef"
            ],
            [
             0.5,
             "#f7f7f7"
            ],
            [
             0.6,
             "#e6f5d0"
            ],
            [
             0.7,
             "#b8e186"
            ],
            [
             0.8,
             "#7fbc41"
            ],
            [
             0.9,
             "#4d9221"
            ],
            [
             1,
             "#276419"
            ]
           ],
           "sequential": [
            [
             0,
             "#0d0887"
            ],
            [
             0.1111111111111111,
             "#46039f"
            ],
            [
             0.2222222222222222,
             "#7201a8"
            ],
            [
             0.3333333333333333,
             "#9c179e"
            ],
            [
             0.4444444444444444,
             "#bd3786"
            ],
            [
             0.5555555555555556,
             "#d8576b"
            ],
            [
             0.6666666666666666,
             "#ed7953"
            ],
            [
             0.7777777777777778,
             "#fb9f3a"
            ],
            [
             0.8888888888888888,
             "#fdca26"
            ],
            [
             1,
             "#f0f921"
            ]
           ],
           "sequentialminus": [
            [
             0,
             "#0d0887"
            ],
            [
             0.1111111111111111,
             "#46039f"
            ],
            [
             0.2222222222222222,
             "#7201a8"
            ],
            [
             0.3333333333333333,
             "#9c179e"
            ],
            [
             0.4444444444444444,
             "#bd3786"
            ],
            [
             0.5555555555555556,
             "#d8576b"
            ],
            [
             0.6666666666666666,
             "#ed7953"
            ],
            [
             0.7777777777777778,
             "#fb9f3a"
            ],
            [
             0.8888888888888888,
             "#fdca26"
            ],
            [
             1,
             "#f0f921"
            ]
           ]
          },
          "colorway": [
           "#636efa",
           "#EF553B",
           "#00cc96",
           "#ab63fa",
           "#FFA15A",
           "#19d3f3",
           "#FF6692",
           "#B6E880",
           "#FF97FF",
           "#FECB52"
          ],
          "font": {
           "color": "#2a3f5f"
          },
          "geo": {
           "bgcolor": "white",
           "lakecolor": "white",
           "landcolor": "#E5ECF6",
           "showlakes": true,
           "showland": true,
           "subunitcolor": "white"
          },
          "hoverlabel": {
           "align": "left"
          },
          "hovermode": "closest",
          "mapbox": {
           "style": "light"
          },
          "paper_bgcolor": "white",
          "plot_bgcolor": "#E5ECF6",
          "polar": {
           "angularaxis": {
            "gridcolor": "white",
            "linecolor": "white",
            "ticks": ""
           },
           "bgcolor": "#E5ECF6",
           "radialaxis": {
            "gridcolor": "white",
            "linecolor": "white",
            "ticks": ""
           }
          },
          "scene": {
           "xaxis": {
            "backgroundcolor": "#E5ECF6",
            "gridcolor": "white",
            "gridwidth": 2,
            "linecolor": "white",
            "showbackground": true,
            "ticks": "",
            "zerolinecolor": "white"
           },
           "yaxis": {
            "backgroundcolor": "#E5ECF6",
            "gridcolor": "white",
            "gridwidth": 2,
            "linecolor": "white",
            "showbackground": true,
            "ticks": "",
            "zerolinecolor": "white"
           },
           "zaxis": {
            "backgroundcolor": "#E5ECF6",
            "gridcolor": "white",
            "gridwidth": 2,
            "linecolor": "white",
            "showbackground": true,
            "ticks": "",
            "zerolinecolor": "white"
           }
          },
          "shapedefaults": {
           "line": {
            "color": "#2a3f5f"
           }
          },
          "ternary": {
           "aaxis": {
            "gridcolor": "white",
            "linecolor": "white",
            "ticks": ""
           },
           "baxis": {
            "gridcolor": "white",
            "linecolor": "white",
            "ticks": ""
           },
           "bgcolor": "#E5ECF6",
           "caxis": {
            "gridcolor": "white",
            "linecolor": "white",
            "ticks": ""
           }
          },
          "title": {
           "x": 0.05
          },
          "xaxis": {
           "automargin": true,
           "gridcolor": "white",
           "linecolor": "white",
           "ticks": "",
           "title": {
            "standoff": 15
           },
           "zerolinecolor": "white",
           "zerolinewidth": 2
          },
          "yaxis": {
           "automargin": true,
           "gridcolor": "white",
           "linecolor": "white",
           "ticks": "",
           "title": {
            "standoff": 15
           },
           "zerolinecolor": "white",
           "zerolinewidth": 2
          }
         }
        },
        "title": {
         "font": {
          "color": "#4D5663"
         }
        },
        "xaxis": {
         "gridcolor": "#E1E5ED",
         "showgrid": true,
         "tickfont": {
          "color": "#4D5663"
         },
         "title": {
          "font": {
           "color": "#4D5663"
          },
          "text": ""
         },
         "zerolinecolor": "#E1E5ED"
        },
        "yaxis": {
         "gridcolor": "#E1E5ED",
         "showgrid": true,
         "tickfont": {
          "color": "#4D5663"
         },
         "title": {
          "font": {
           "color": "#4D5663"
          },
          "text": ""
         },
         "zerolinecolor": "#E1E5ED"
        }
       }
      },
      "text/html": [
       "<div>                            <div id=\"03e36cde-6a64-462b-b074-f7b8a896bf26\" class=\"plotly-graph-div\" style=\"height:525px; width:100%;\"></div>            <script type=\"text/javascript\">                require([\"plotly\"], function(Plotly) {                    window.PLOTLYENV=window.PLOTLYENV || {};\n",
       "                    window.PLOTLYENV.BASE_URL='https://plot.ly';                                    if (document.getElementById(\"03e36cde-6a64-462b-b074-f7b8a896bf26\")) {                    Plotly.newPlot(                        \"03e36cde-6a64-462b-b074-f7b8a896bf26\",                        [{\"marker\":{\"color\":\"rgba(255, 153, 51, 0.6)\",\"line\":{\"color\":\"rgba(255, 153, 51, 1.0)\",\"width\":1}},\"name\":\"Values\",\"orientation\":\"v\",\"text\":\"\",\"x\":[\"A\",\"B\",\"C\"],\"y\":[32,43,50],\"type\":\"bar\"}],                        {\"legend\":{\"bgcolor\":\"#F5F6F9\",\"font\":{\"color\":\"#4D5663\"}},\"paper_bgcolor\":\"#F5F6F9\",\"plot_bgcolor\":\"#F5F6F9\",\"template\":{\"data\":{\"barpolar\":[{\"marker\":{\"line\":{\"color\":\"#E5ECF6\",\"width\":0.5},\"pattern\":{\"fillmode\":\"overlay\",\"size\":10,\"solidity\":0.2}},\"type\":\"barpolar\"}],\"bar\":[{\"error_x\":{\"color\":\"#2a3f5f\"},\"error_y\":{\"color\":\"#2a3f5f\"},\"marker\":{\"line\":{\"color\":\"#E5ECF6\",\"width\":0.5},\"pattern\":{\"fillmode\":\"overlay\",\"size\":10,\"solidity\":0.2}},\"type\":\"bar\"}],\"carpet\":[{\"aaxis\":{\"endlinecolor\":\"#2a3f5f\",\"gridcolor\":\"white\",\"linecolor\":\"white\",\"minorgridcolor\":\"white\",\"startlinecolor\":\"#2a3f5f\"},\"baxis\":{\"endlinecolor\":\"#2a3f5f\",\"gridcolor\":\"white\",\"linecolor\":\"white\",\"minorgridcolor\":\"white\",\"startlinecolor\":\"#2a3f5f\"},\"type\":\"carpet\"}],\"choropleth\":[{\"colorbar\":{\"outlinewidth\":0,\"ticks\":\"\"},\"type\":\"choropleth\"}],\"contourcarpet\":[{\"colorbar\":{\"outlinewidth\":0,\"ticks\":\"\"},\"type\":\"contourcarpet\"}],\"contour\":[{\"colorbar\":{\"outlinewidth\":0,\"ticks\":\"\"},\"colorscale\":[[0.0,\"#0d0887\"],[0.1111111111111111,\"#46039f\"],[0.2222222222222222,\"#7201a8\"],[0.3333333333333333,\"#9c179e\"],[0.4444444444444444,\"#bd3786\"],[0.5555555555555556,\"#d8576b\"],[0.6666666666666666,\"#ed7953\"],[0.7777777777777778,\"#fb9f3a\"],[0.8888888888888888,\"#fdca26\"],[1.0,\"#f0f921\"]],\"type\":\"contour\"}],\"heatmapgl\":[{\"colorbar\":{\"outlinewidth\":0,\"ticks\":\"\"},\"colorscale\":[[0.0,\"#0d0887\"],[0.1111111111111111,\"#46039f\"],[0.2222222222222222,\"#7201a8\"],[0.3333333333333333,\"#9c179e\"],[0.4444444444444444,\"#bd3786\"],[0.5555555555555556,\"#d8576b\"],[0.6666666666666666,\"#ed7953\"],[0.7777777777777778,\"#fb9f3a\"],[0.8888888888888888,\"#fdca26\"],[1.0,\"#f0f921\"]],\"type\":\"heatmapgl\"}],\"heatmap\":[{\"colorbar\":{\"outlinewidth\":0,\"ticks\":\"\"},\"colorscale\":[[0.0,\"#0d0887\"],[0.1111111111111111,\"#46039f\"],[0.2222222222222222,\"#7201a8\"],[0.3333333333333333,\"#9c179e\"],[0.4444444444444444,\"#bd3786\"],[0.5555555555555556,\"#d8576b\"],[0.6666666666666666,\"#ed7953\"],[0.7777777777777778,\"#fb9f3a\"],[0.8888888888888888,\"#fdca26\"],[1.0,\"#f0f921\"]],\"type\":\"heatmap\"}],\"histogram2dcontour\":[{\"colorbar\":{\"outlinewidth\":0,\"ticks\":\"\"},\"colorscale\":[[0.0,\"#0d0887\"],[0.1111111111111111,\"#46039f\"],[0.2222222222222222,\"#7201a8\"],[0.3333333333333333,\"#9c179e\"],[0.4444444444444444,\"#bd3786\"],[0.5555555555555556,\"#d8576b\"],[0.6666666666666666,\"#ed7953\"],[0.7777777777777778,\"#fb9f3a\"],[0.8888888888888888,\"#fdca26\"],[1.0,\"#f0f921\"]],\"type\":\"histogram2dcontour\"}],\"histogram2d\":[{\"colorbar\":{\"outlinewidth\":0,\"ticks\":\"\"},\"colorscale\":[[0.0,\"#0d0887\"],[0.1111111111111111,\"#46039f\"],[0.2222222222222222,\"#7201a8\"],[0.3333333333333333,\"#9c179e\"],[0.4444444444444444,\"#bd3786\"],[0.5555555555555556,\"#d8576b\"],[0.6666666666666666,\"#ed7953\"],[0.7777777777777778,\"#fb9f3a\"],[0.8888888888888888,\"#fdca26\"],[1.0,\"#f0f921\"]],\"type\":\"histogram2d\"}],\"histogram\":[{\"marker\":{\"pattern\":{\"fillmode\":\"overlay\",\"size\":10,\"solidity\":0.2}},\"type\":\"histogram\"}],\"mesh3d\":[{\"colorbar\":{\"outlinewidth\":0,\"ticks\":\"\"},\"type\":\"mesh3d\"}],\"parcoords\":[{\"line\":{\"colorbar\":{\"outlinewidth\":0,\"ticks\":\"\"}},\"type\":\"parcoords\"}],\"pie\":[{\"automargin\":true,\"type\":\"pie\"}],\"scatter3d\":[{\"line\":{\"colorbar\":{\"outlinewidth\":0,\"ticks\":\"\"}},\"marker\":{\"colorbar\":{\"outlinewidth\":0,\"ticks\":\"\"}},\"type\":\"scatter3d\"}],\"scattercarpet\":[{\"marker\":{\"colorbar\":{\"outlinewidth\":0,\"ticks\":\"\"}},\"type\":\"scattercarpet\"}],\"scattergeo\":[{\"marker\":{\"colorbar\":{\"outlinewidth\":0,\"ticks\":\"\"}},\"type\":\"scattergeo\"}],\"scattergl\":[{\"marker\":{\"colorbar\":{\"outlinewidth\":0,\"ticks\":\"\"}},\"type\":\"scattergl\"}],\"scattermapbox\":[{\"marker\":{\"colorbar\":{\"outlinewidth\":0,\"ticks\":\"\"}},\"type\":\"scattermapbox\"}],\"scatterpolargl\":[{\"marker\":{\"colorbar\":{\"outlinewidth\":0,\"ticks\":\"\"}},\"type\":\"scatterpolargl\"}],\"scatterpolar\":[{\"marker\":{\"colorbar\":{\"outlinewidth\":0,\"ticks\":\"\"}},\"type\":\"scatterpolar\"}],\"scatter\":[{\"fillpattern\":{\"fillmode\":\"overlay\",\"size\":10,\"solidity\":0.2},\"type\":\"scatter\"}],\"scatterternary\":[{\"marker\":{\"colorbar\":{\"outlinewidth\":0,\"ticks\":\"\"}},\"type\":\"scatterternary\"}],\"surface\":[{\"colorbar\":{\"outlinewidth\":0,\"ticks\":\"\"},\"colorscale\":[[0.0,\"#0d0887\"],[0.1111111111111111,\"#46039f\"],[0.2222222222222222,\"#7201a8\"],[0.3333333333333333,\"#9c179e\"],[0.4444444444444444,\"#bd3786\"],[0.5555555555555556,\"#d8576b\"],[0.6666666666666666,\"#ed7953\"],[0.7777777777777778,\"#fb9f3a\"],[0.8888888888888888,\"#fdca26\"],[1.0,\"#f0f921\"]],\"type\":\"surface\"}],\"table\":[{\"cells\":{\"fill\":{\"color\":\"#EBF0F8\"},\"line\":{\"color\":\"white\"}},\"header\":{\"fill\":{\"color\":\"#C8D4E3\"},\"line\":{\"color\":\"white\"}},\"type\":\"table\"}]},\"layout\":{\"annotationdefaults\":{\"arrowcolor\":\"#2a3f5f\",\"arrowhead\":0,\"arrowwidth\":1},\"autotypenumbers\":\"strict\",\"coloraxis\":{\"colorbar\":{\"outlinewidth\":0,\"ticks\":\"\"}},\"colorscale\":{\"diverging\":[[0,\"#8e0152\"],[0.1,\"#c51b7d\"],[0.2,\"#de77ae\"],[0.3,\"#f1b6da\"],[0.4,\"#fde0ef\"],[0.5,\"#f7f7f7\"],[0.6,\"#e6f5d0\"],[0.7,\"#b8e186\"],[0.8,\"#7fbc41\"],[0.9,\"#4d9221\"],[1,\"#276419\"]],\"sequential\":[[0.0,\"#0d0887\"],[0.1111111111111111,\"#46039f\"],[0.2222222222222222,\"#7201a8\"],[0.3333333333333333,\"#9c179e\"],[0.4444444444444444,\"#bd3786\"],[0.5555555555555556,\"#d8576b\"],[0.6666666666666666,\"#ed7953\"],[0.7777777777777778,\"#fb9f3a\"],[0.8888888888888888,\"#fdca26\"],[1.0,\"#f0f921\"]],\"sequentialminus\":[[0.0,\"#0d0887\"],[0.1111111111111111,\"#46039f\"],[0.2222222222222222,\"#7201a8\"],[0.3333333333333333,\"#9c179e\"],[0.4444444444444444,\"#bd3786\"],[0.5555555555555556,\"#d8576b\"],[0.6666666666666666,\"#ed7953\"],[0.7777777777777778,\"#fb9f3a\"],[0.8888888888888888,\"#fdca26\"],[1.0,\"#f0f921\"]]},\"colorway\":[\"#636efa\",\"#EF553B\",\"#00cc96\",\"#ab63fa\",\"#FFA15A\",\"#19d3f3\",\"#FF6692\",\"#B6E880\",\"#FF97FF\",\"#FECB52\"],\"font\":{\"color\":\"#2a3f5f\"},\"geo\":{\"bgcolor\":\"white\",\"lakecolor\":\"white\",\"landcolor\":\"#E5ECF6\",\"showlakes\":true,\"showland\":true,\"subunitcolor\":\"white\"},\"hoverlabel\":{\"align\":\"left\"},\"hovermode\":\"closest\",\"mapbox\":{\"style\":\"light\"},\"paper_bgcolor\":\"white\",\"plot_bgcolor\":\"#E5ECF6\",\"polar\":{\"angularaxis\":{\"gridcolor\":\"white\",\"linecolor\":\"white\",\"ticks\":\"\"},\"bgcolor\":\"#E5ECF6\",\"radialaxis\":{\"gridcolor\":\"white\",\"linecolor\":\"white\",\"ticks\":\"\"}},\"scene\":{\"xaxis\":{\"backgroundcolor\":\"#E5ECF6\",\"gridcolor\":\"white\",\"gridwidth\":2,\"linecolor\":\"white\",\"showbackground\":true,\"ticks\":\"\",\"zerolinecolor\":\"white\"},\"yaxis\":{\"backgroundcolor\":\"#E5ECF6\",\"gridcolor\":\"white\",\"gridwidth\":2,\"linecolor\":\"white\",\"showbackground\":true,\"ticks\":\"\",\"zerolinecolor\":\"white\"},\"zaxis\":{\"backgroundcolor\":\"#E5ECF6\",\"gridcolor\":\"white\",\"gridwidth\":2,\"linecolor\":\"white\",\"showbackground\":true,\"ticks\":\"\",\"zerolinecolor\":\"white\"}},\"shapedefaults\":{\"line\":{\"color\":\"#2a3f5f\"}},\"ternary\":{\"aaxis\":{\"gridcolor\":\"white\",\"linecolor\":\"white\",\"ticks\":\"\"},\"baxis\":{\"gridcolor\":\"white\",\"linecolor\":\"white\",\"ticks\":\"\"},\"bgcolor\":\"#E5ECF6\",\"caxis\":{\"gridcolor\":\"white\",\"linecolor\":\"white\",\"ticks\":\"\"}},\"title\":{\"x\":0.05},\"xaxis\":{\"automargin\":true,\"gridcolor\":\"white\",\"linecolor\":\"white\",\"ticks\":\"\",\"title\":{\"standoff\":15},\"zerolinecolor\":\"white\",\"zerolinewidth\":2},\"yaxis\":{\"automargin\":true,\"gridcolor\":\"white\",\"linecolor\":\"white\",\"ticks\":\"\",\"title\":{\"standoff\":15},\"zerolinecolor\":\"white\",\"zerolinewidth\":2}}},\"title\":{\"font\":{\"color\":\"#4D5663\"}},\"xaxis\":{\"gridcolor\":\"#E1E5ED\",\"showgrid\":true,\"tickfont\":{\"color\":\"#4D5663\"},\"title\":{\"font\":{\"color\":\"#4D5663\"},\"text\":\"\"},\"zerolinecolor\":\"#E1E5ED\"},\"yaxis\":{\"gridcolor\":\"#E1E5ED\",\"showgrid\":true,\"tickfont\":{\"color\":\"#4D5663\"},\"title\":{\"font\":{\"color\":\"#4D5663\"},\"text\":\"\"},\"zerolinecolor\":\"#E1E5ED\"}},                        {\"showLink\": true, \"linkText\": \"Export to plot.ly\", \"plotlyServerURL\": \"https://plot.ly\", \"responsive\": true}                    ).then(function(){\n",
       "                            \n",
       "var gd = document.getElementById('03e36cde-6a64-462b-b074-f7b8a896bf26');\n",
       "var x = new MutationObserver(function (mutations, observer) {{\n",
       "        var display = window.getComputedStyle(gd).display;\n",
       "        if (!display || display === 'none') {{\n",
       "            console.log([gd, 'removed!']);\n",
       "            Plotly.purge(gd);\n",
       "            observer.disconnect();\n",
       "        }}\n",
       "}});\n",
       "\n",
       "// Listen for the removal of the full notebook cells\n",
       "var notebookContainer = gd.closest('#notebook-container');\n",
       "if (notebookContainer) {{\n",
       "    x.observe(notebookContainer, {childList: true});\n",
       "}}\n",
       "\n",
       "// Listen for the clearing of the current output cell\n",
       "var outputEl = gd.closest('.output');\n",
       "if (outputEl) {{\n",
       "    x.observe(outputEl, {childList: true});\n",
       "}}\n",
       "\n",
       "                        })                };                });            </script>        </div>"
      ]
     },
     "metadata": {},
     "output_type": "display_data"
    }
   ],
   "source": [
    "df2.iplot(kind='bar',x='Category',y='Values')"
   ]
  },
  {
   "cell_type": "code",
   "execution_count": 16,
   "metadata": {},
   "outputs": [
    {
     "data": {
      "application/vnd.plotly.v1+json": {
       "config": {
        "linkText": "Export to plot.ly",
        "plotlyServerURL": "https://plot.ly",
        "showLink": true
       },
       "data": [
        {
         "marker": {
          "color": "rgba(255, 153, 51, 0.6)",
          "line": {
           "color": "rgba(255, 153, 51, 1.0)",
           "width": 1
          }
         },
         "name": "None",
         "orientation": "v",
         "text": "",
         "type": "bar",
         "x": [
          "A",
          "B",
          "C",
          "D"
         ],
         "y": [
          100,
          100,
          100,
          100
         ]
        }
       ],
       "layout": {
        "legend": {
         "bgcolor": "#F5F6F9",
         "font": {
          "color": "#4D5663"
         }
        },
        "paper_bgcolor": "#F5F6F9",
        "plot_bgcolor": "#F5F6F9",
        "template": {
         "data": {
          "bar": [
           {
            "error_x": {
             "color": "#2a3f5f"
            },
            "error_y": {
             "color": "#2a3f5f"
            },
            "marker": {
             "line": {
              "color": "#E5ECF6",
              "width": 0.5
             },
             "pattern": {
              "fillmode": "overlay",
              "size": 10,
              "solidity": 0.2
             }
            },
            "type": "bar"
           }
          ],
          "barpolar": [
           {
            "marker": {
             "line": {
              "color": "#E5ECF6",
              "width": 0.5
             },
             "pattern": {
              "fillmode": "overlay",
              "size": 10,
              "solidity": 0.2
             }
            },
            "type": "barpolar"
           }
          ],
          "carpet": [
           {
            "aaxis": {
             "endlinecolor": "#2a3f5f",
             "gridcolor": "white",
             "linecolor": "white",
             "minorgridcolor": "white",
             "startlinecolor": "#2a3f5f"
            },
            "baxis": {
             "endlinecolor": "#2a3f5f",
             "gridcolor": "white",
             "linecolor": "white",
             "minorgridcolor": "white",
             "startlinecolor": "#2a3f5f"
            },
            "type": "carpet"
           }
          ],
          "choropleth": [
           {
            "colorbar": {
             "outlinewidth": 0,
             "ticks": ""
            },
            "type": "choropleth"
           }
          ],
          "contour": [
           {
            "colorbar": {
             "outlinewidth": 0,
             "ticks": ""
            },
            "colorscale": [
             [
              0,
              "#0d0887"
             ],
             [
              0.1111111111111111,
              "#46039f"
             ],
             [
              0.2222222222222222,
              "#7201a8"
             ],
             [
              0.3333333333333333,
              "#9c179e"
             ],
             [
              0.4444444444444444,
              "#bd3786"
             ],
             [
              0.5555555555555556,
              "#d8576b"
             ],
             [
              0.6666666666666666,
              "#ed7953"
             ],
             [
              0.7777777777777778,
              "#fb9f3a"
             ],
             [
              0.8888888888888888,
              "#fdca26"
             ],
             [
              1,
              "#f0f921"
             ]
            ],
            "type": "contour"
           }
          ],
          "contourcarpet": [
           {
            "colorbar": {
             "outlinewidth": 0,
             "ticks": ""
            },
            "type": "contourcarpet"
           }
          ],
          "heatmap": [
           {
            "colorbar": {
             "outlinewidth": 0,
             "ticks": ""
            },
            "colorscale": [
             [
              0,
              "#0d0887"
             ],
             [
              0.1111111111111111,
              "#46039f"
             ],
             [
              0.2222222222222222,
              "#7201a8"
             ],
             [
              0.3333333333333333,
              "#9c179e"
             ],
             [
              0.4444444444444444,
              "#bd3786"
             ],
             [
              0.5555555555555556,
              "#d8576b"
             ],
             [
              0.6666666666666666,
              "#ed7953"
             ],
             [
              0.7777777777777778,
              "#fb9f3a"
             ],
             [
              0.8888888888888888,
              "#fdca26"
             ],
             [
              1,
              "#f0f921"
             ]
            ],
            "type": "heatmap"
           }
          ],
          "heatmapgl": [
           {
            "colorbar": {
             "outlinewidth": 0,
             "ticks": ""
            },
            "colorscale": [
             [
              0,
              "#0d0887"
             ],
             [
              0.1111111111111111,
              "#46039f"
             ],
             [
              0.2222222222222222,
              "#7201a8"
             ],
             [
              0.3333333333333333,
              "#9c179e"
             ],
             [
              0.4444444444444444,
              "#bd3786"
             ],
             [
              0.5555555555555556,
              "#d8576b"
             ],
             [
              0.6666666666666666,
              "#ed7953"
             ],
             [
              0.7777777777777778,
              "#fb9f3a"
             ],
             [
              0.8888888888888888,
              "#fdca26"
             ],
             [
              1,
              "#f0f921"
             ]
            ],
            "type": "heatmapgl"
           }
          ],
          "histogram": [
           {
            "marker": {
             "pattern": {
              "fillmode": "overlay",
              "size": 10,
              "solidity": 0.2
             }
            },
            "type": "histogram"
           }
          ],
          "histogram2d": [
           {
            "colorbar": {
             "outlinewidth": 0,
             "ticks": ""
            },
            "colorscale": [
             [
              0,
              "#0d0887"
             ],
             [
              0.1111111111111111,
              "#46039f"
             ],
             [
              0.2222222222222222,
              "#7201a8"
             ],
             [
              0.3333333333333333,
              "#9c179e"
             ],
             [
              0.4444444444444444,
              "#bd3786"
             ],
             [
              0.5555555555555556,
              "#d8576b"
             ],
             [
              0.6666666666666666,
              "#ed7953"
             ],
             [
              0.7777777777777778,
              "#fb9f3a"
             ],
             [
              0.8888888888888888,
              "#fdca26"
             ],
             [
              1,
              "#f0f921"
             ]
            ],
            "type": "histogram2d"
           }
          ],
          "histogram2dcontour": [
           {
            "colorbar": {
             "outlinewidth": 0,
             "ticks": ""
            },
            "colorscale": [
             [
              0,
              "#0d0887"
             ],
             [
              0.1111111111111111,
              "#46039f"
             ],
             [
              0.2222222222222222,
              "#7201a8"
             ],
             [
              0.3333333333333333,
              "#9c179e"
             ],
             [
              0.4444444444444444,
              "#bd3786"
             ],
             [
              0.5555555555555556,
              "#d8576b"
             ],
             [
              0.6666666666666666,
              "#ed7953"
             ],
             [
              0.7777777777777778,
              "#fb9f3a"
             ],
             [
              0.8888888888888888,
              "#fdca26"
             ],
             [
              1,
              "#f0f921"
             ]
            ],
            "type": "histogram2dcontour"
           }
          ],
          "mesh3d": [
           {
            "colorbar": {
             "outlinewidth": 0,
             "ticks": ""
            },
            "type": "mesh3d"
           }
          ],
          "parcoords": [
           {
            "line": {
             "colorbar": {
              "outlinewidth": 0,
              "ticks": ""
             }
            },
            "type": "parcoords"
           }
          ],
          "pie": [
           {
            "automargin": true,
            "type": "pie"
           }
          ],
          "scatter": [
           {
            "fillpattern": {
             "fillmode": "overlay",
             "size": 10,
             "solidity": 0.2
            },
            "type": "scatter"
           }
          ],
          "scatter3d": [
           {
            "line": {
             "colorbar": {
              "outlinewidth": 0,
              "ticks": ""
             }
            },
            "marker": {
             "colorbar": {
              "outlinewidth": 0,
              "ticks": ""
             }
            },
            "type": "scatter3d"
           }
          ],
          "scattercarpet": [
           {
            "marker": {
             "colorbar": {
              "outlinewidth": 0,
              "ticks": ""
             }
            },
            "type": "scattercarpet"
           }
          ],
          "scattergeo": [
           {
            "marker": {
             "colorbar": {
              "outlinewidth": 0,
              "ticks": ""
             }
            },
            "type": "scattergeo"
           }
          ],
          "scattergl": [
           {
            "marker": {
             "colorbar": {
              "outlinewidth": 0,
              "ticks": ""
             }
            },
            "type": "scattergl"
           }
          ],
          "scattermapbox": [
           {
            "marker": {
             "colorbar": {
              "outlinewidth": 0,
              "ticks": ""
             }
            },
            "type": "scattermapbox"
           }
          ],
          "scatterpolar": [
           {
            "marker": {
             "colorbar": {
              "outlinewidth": 0,
              "ticks": ""
             }
            },
            "type": "scatterpolar"
           }
          ],
          "scatterpolargl": [
           {
            "marker": {
             "colorbar": {
              "outlinewidth": 0,
              "ticks": ""
             }
            },
            "type": "scatterpolargl"
           }
          ],
          "scatterternary": [
           {
            "marker": {
             "colorbar": {
              "outlinewidth": 0,
              "ticks": ""
             }
            },
            "type": "scatterternary"
           }
          ],
          "surface": [
           {
            "colorbar": {
             "outlinewidth": 0,
             "ticks": ""
            },
            "colorscale": [
             [
              0,
              "#0d0887"
             ],
             [
              0.1111111111111111,
              "#46039f"
             ],
             [
              0.2222222222222222,
              "#7201a8"
             ],
             [
              0.3333333333333333,
              "#9c179e"
             ],
             [
              0.4444444444444444,
              "#bd3786"
             ],
             [
              0.5555555555555556,
              "#d8576b"
             ],
             [
              0.6666666666666666,
              "#ed7953"
             ],
             [
              0.7777777777777778,
              "#fb9f3a"
             ],
             [
              0.8888888888888888,
              "#fdca26"
             ],
             [
              1,
              "#f0f921"
             ]
            ],
            "type": "surface"
           }
          ],
          "table": [
           {
            "cells": {
             "fill": {
              "color": "#EBF0F8"
             },
             "line": {
              "color": "white"
             }
            },
            "header": {
             "fill": {
              "color": "#C8D4E3"
             },
             "line": {
              "color": "white"
             }
            },
            "type": "table"
           }
          ]
         },
         "layout": {
          "annotationdefaults": {
           "arrowcolor": "#2a3f5f",
           "arrowhead": 0,
           "arrowwidth": 1
          },
          "autotypenumbers": "strict",
          "coloraxis": {
           "colorbar": {
            "outlinewidth": 0,
            "ticks": ""
           }
          },
          "colorscale": {
           "diverging": [
            [
             0,
             "#8e0152"
            ],
            [
             0.1,
             "#c51b7d"
            ],
            [
             0.2,
             "#de77ae"
            ],
            [
             0.3,
             "#f1b6da"
            ],
            [
             0.4,
             "#fde0ef"
            ],
            [
             0.5,
             "#f7f7f7"
            ],
            [
             0.6,
             "#e6f5d0"
            ],
            [
             0.7,
             "#b8e186"
            ],
            [
             0.8,
             "#7fbc41"
            ],
            [
             0.9,
             "#4d9221"
            ],
            [
             1,
             "#276419"
            ]
           ],
           "sequential": [
            [
             0,
             "#0d0887"
            ],
            [
             0.1111111111111111,
             "#46039f"
            ],
            [
             0.2222222222222222,
             "#7201a8"
            ],
            [
             0.3333333333333333,
             "#9c179e"
            ],
            [
             0.4444444444444444,
             "#bd3786"
            ],
            [
             0.5555555555555556,
             "#d8576b"
            ],
            [
             0.6666666666666666,
             "#ed7953"
            ],
            [
             0.7777777777777778,
             "#fb9f3a"
            ],
            [
             0.8888888888888888,
             "#fdca26"
            ],
            [
             1,
             "#f0f921"
            ]
           ],
           "sequentialminus": [
            [
             0,
             "#0d0887"
            ],
            [
             0.1111111111111111,
             "#46039f"
            ],
            [
             0.2222222222222222,
             "#7201a8"
            ],
            [
             0.3333333333333333,
             "#9c179e"
            ],
            [
             0.4444444444444444,
             "#bd3786"
            ],
            [
             0.5555555555555556,
             "#d8576b"
            ],
            [
             0.6666666666666666,
             "#ed7953"
            ],
            [
             0.7777777777777778,
             "#fb9f3a"
            ],
            [
             0.8888888888888888,
             "#fdca26"
            ],
            [
             1,
             "#f0f921"
            ]
           ]
          },
          "colorway": [
           "#636efa",
           "#EF553B",
           "#00cc96",
           "#ab63fa",
           "#FFA15A",
           "#19d3f3",
           "#FF6692",
           "#B6E880",
           "#FF97FF",
           "#FECB52"
          ],
          "font": {
           "color": "#2a3f5f"
          },
          "geo": {
           "bgcolor": "white",
           "lakecolor": "white",
           "landcolor": "#E5ECF6",
           "showlakes": true,
           "showland": true,
           "subunitcolor": "white"
          },
          "hoverlabel": {
           "align": "left"
          },
          "hovermode": "closest",
          "mapbox": {
           "style": "light"
          },
          "paper_bgcolor": "white",
          "plot_bgcolor": "#E5ECF6",
          "polar": {
           "angularaxis": {
            "gridcolor": "white",
            "linecolor": "white",
            "ticks": ""
           },
           "bgcolor": "#E5ECF6",
           "radialaxis": {
            "gridcolor": "white",
            "linecolor": "white",
            "ticks": ""
           }
          },
          "scene": {
           "xaxis": {
            "backgroundcolor": "#E5ECF6",
            "gridcolor": "white",
            "gridwidth": 2,
            "linecolor": "white",
            "showbackground": true,
            "ticks": "",
            "zerolinecolor": "white"
           },
           "yaxis": {
            "backgroundcolor": "#E5ECF6",
            "gridcolor": "white",
            "gridwidth": 2,
            "linecolor": "white",
            "showbackground": true,
            "ticks": "",
            "zerolinecolor": "white"
           },
           "zaxis": {
            "backgroundcolor": "#E5ECF6",
            "gridcolor": "white",
            "gridwidth": 2,
            "linecolor": "white",
            "showbackground": true,
            "ticks": "",
            "zerolinecolor": "white"
           }
          },
          "shapedefaults": {
           "line": {
            "color": "#2a3f5f"
           }
          },
          "ternary": {
           "aaxis": {
            "gridcolor": "white",
            "linecolor": "white",
            "ticks": ""
           },
           "baxis": {
            "gridcolor": "white",
            "linecolor": "white",
            "ticks": ""
           },
           "bgcolor": "#E5ECF6",
           "caxis": {
            "gridcolor": "white",
            "linecolor": "white",
            "ticks": ""
           }
          },
          "title": {
           "x": 0.05
          },
          "xaxis": {
           "automargin": true,
           "gridcolor": "white",
           "linecolor": "white",
           "ticks": "",
           "title": {
            "standoff": 15
           },
           "zerolinecolor": "white",
           "zerolinewidth": 2
          },
          "yaxis": {
           "automargin": true,
           "gridcolor": "white",
           "linecolor": "white",
           "ticks": "",
           "title": {
            "standoff": 15
           },
           "zerolinecolor": "white",
           "zerolinewidth": 2
          }
         }
        },
        "title": {
         "font": {
          "color": "#4D5663"
         }
        },
        "xaxis": {
         "gridcolor": "#E1E5ED",
         "showgrid": true,
         "tickfont": {
          "color": "#4D5663"
         },
         "title": {
          "font": {
           "color": "#4D5663"
          },
          "text": ""
         },
         "zerolinecolor": "#E1E5ED"
        },
        "yaxis": {
         "gridcolor": "#E1E5ED",
         "showgrid": true,
         "tickfont": {
          "color": "#4D5663"
         },
         "title": {
          "font": {
           "color": "#4D5663"
          },
          "text": ""
         },
         "zerolinecolor": "#E1E5ED"
        }
       }
      },
      "text/html": [
       "<div>                            <div id=\"4fe7b073-51c5-44c2-89f8-02eb3d500744\" class=\"plotly-graph-div\" style=\"height:525px; width:100%;\"></div>            <script type=\"text/javascript\">                require([\"plotly\"], function(Plotly) {                    window.PLOTLYENV=window.PLOTLYENV || {};\n",
       "                    window.PLOTLYENV.BASE_URL='https://plot.ly';                                    if (document.getElementById(\"4fe7b073-51c5-44c2-89f8-02eb3d500744\")) {                    Plotly.newPlot(                        \"4fe7b073-51c5-44c2-89f8-02eb3d500744\",                        [{\"marker\":{\"color\":\"rgba(255, 153, 51, 0.6)\",\"line\":{\"color\":\"rgba(255, 153, 51, 1.0)\",\"width\":1}},\"name\":\"None\",\"orientation\":\"v\",\"text\":\"\",\"x\":[\"A\",\"B\",\"C\",\"D\"],\"y\":[100,100,100,100],\"type\":\"bar\"}],                        {\"legend\":{\"bgcolor\":\"#F5F6F9\",\"font\":{\"color\":\"#4D5663\"}},\"paper_bgcolor\":\"#F5F6F9\",\"plot_bgcolor\":\"#F5F6F9\",\"template\":{\"data\":{\"barpolar\":[{\"marker\":{\"line\":{\"color\":\"#E5ECF6\",\"width\":0.5},\"pattern\":{\"fillmode\":\"overlay\",\"size\":10,\"solidity\":0.2}},\"type\":\"barpolar\"}],\"bar\":[{\"error_x\":{\"color\":\"#2a3f5f\"},\"error_y\":{\"color\":\"#2a3f5f\"},\"marker\":{\"line\":{\"color\":\"#E5ECF6\",\"width\":0.5},\"pattern\":{\"fillmode\":\"overlay\",\"size\":10,\"solidity\":0.2}},\"type\":\"bar\"}],\"carpet\":[{\"aaxis\":{\"endlinecolor\":\"#2a3f5f\",\"gridcolor\":\"white\",\"linecolor\":\"white\",\"minorgridcolor\":\"white\",\"startlinecolor\":\"#2a3f5f\"},\"baxis\":{\"endlinecolor\":\"#2a3f5f\",\"gridcolor\":\"white\",\"linecolor\":\"white\",\"minorgridcolor\":\"white\",\"startlinecolor\":\"#2a3f5f\"},\"type\":\"carpet\"}],\"choropleth\":[{\"colorbar\":{\"outlinewidth\":0,\"ticks\":\"\"},\"type\":\"choropleth\"}],\"contourcarpet\":[{\"colorbar\":{\"outlinewidth\":0,\"ticks\":\"\"},\"type\":\"contourcarpet\"}],\"contour\":[{\"colorbar\":{\"outlinewidth\":0,\"ticks\":\"\"},\"colorscale\":[[0.0,\"#0d0887\"],[0.1111111111111111,\"#46039f\"],[0.2222222222222222,\"#7201a8\"],[0.3333333333333333,\"#9c179e\"],[0.4444444444444444,\"#bd3786\"],[0.5555555555555556,\"#d8576b\"],[0.6666666666666666,\"#ed7953\"],[0.7777777777777778,\"#fb9f3a\"],[0.8888888888888888,\"#fdca26\"],[1.0,\"#f0f921\"]],\"type\":\"contour\"}],\"heatmapgl\":[{\"colorbar\":{\"outlinewidth\":0,\"ticks\":\"\"},\"colorscale\":[[0.0,\"#0d0887\"],[0.1111111111111111,\"#46039f\"],[0.2222222222222222,\"#7201a8\"],[0.3333333333333333,\"#9c179e\"],[0.4444444444444444,\"#bd3786\"],[0.5555555555555556,\"#d8576b\"],[0.6666666666666666,\"#ed7953\"],[0.7777777777777778,\"#fb9f3a\"],[0.8888888888888888,\"#fdca26\"],[1.0,\"#f0f921\"]],\"type\":\"heatmapgl\"}],\"heatmap\":[{\"colorbar\":{\"outlinewidth\":0,\"ticks\":\"\"},\"colorscale\":[[0.0,\"#0d0887\"],[0.1111111111111111,\"#46039f\"],[0.2222222222222222,\"#7201a8\"],[0.3333333333333333,\"#9c179e\"],[0.4444444444444444,\"#bd3786\"],[0.5555555555555556,\"#d8576b\"],[0.6666666666666666,\"#ed7953\"],[0.7777777777777778,\"#fb9f3a\"],[0.8888888888888888,\"#fdca26\"],[1.0,\"#f0f921\"]],\"type\":\"heatmap\"}],\"histogram2dcontour\":[{\"colorbar\":{\"outlinewidth\":0,\"ticks\":\"\"},\"colorscale\":[[0.0,\"#0d0887\"],[0.1111111111111111,\"#46039f\"],[0.2222222222222222,\"#7201a8\"],[0.3333333333333333,\"#9c179e\"],[0.4444444444444444,\"#bd3786\"],[0.5555555555555556,\"#d8576b\"],[0.6666666666666666,\"#ed7953\"],[0.7777777777777778,\"#fb9f3a\"],[0.8888888888888888,\"#fdca26\"],[1.0,\"#f0f921\"]],\"type\":\"histogram2dcontour\"}],\"histogram2d\":[{\"colorbar\":{\"outlinewidth\":0,\"ticks\":\"\"},\"colorscale\":[[0.0,\"#0d0887\"],[0.1111111111111111,\"#46039f\"],[0.2222222222222222,\"#7201a8\"],[0.3333333333333333,\"#9c179e\"],[0.4444444444444444,\"#bd3786\"],[0.5555555555555556,\"#d8576b\"],[0.6666666666666666,\"#ed7953\"],[0.7777777777777778,\"#fb9f3a\"],[0.8888888888888888,\"#fdca26\"],[1.0,\"#f0f921\"]],\"type\":\"histogram2d\"}],\"histogram\":[{\"marker\":{\"pattern\":{\"fillmode\":\"overlay\",\"size\":10,\"solidity\":0.2}},\"type\":\"histogram\"}],\"mesh3d\":[{\"colorbar\":{\"outlinewidth\":0,\"ticks\":\"\"},\"type\":\"mesh3d\"}],\"parcoords\":[{\"line\":{\"colorbar\":{\"outlinewidth\":0,\"ticks\":\"\"}},\"type\":\"parcoords\"}],\"pie\":[{\"automargin\":true,\"type\":\"pie\"}],\"scatter3d\":[{\"line\":{\"colorbar\":{\"outlinewidth\":0,\"ticks\":\"\"}},\"marker\":{\"colorbar\":{\"outlinewidth\":0,\"ticks\":\"\"}},\"type\":\"scatter3d\"}],\"scattercarpet\":[{\"marker\":{\"colorbar\":{\"outlinewidth\":0,\"ticks\":\"\"}},\"type\":\"scattercarpet\"}],\"scattergeo\":[{\"marker\":{\"colorbar\":{\"outlinewidth\":0,\"ticks\":\"\"}},\"type\":\"scattergeo\"}],\"scattergl\":[{\"marker\":{\"colorbar\":{\"outlinewidth\":0,\"ticks\":\"\"}},\"type\":\"scattergl\"}],\"scattermapbox\":[{\"marker\":{\"colorbar\":{\"outlinewidth\":0,\"ticks\":\"\"}},\"type\":\"scattermapbox\"}],\"scatterpolargl\":[{\"marker\":{\"colorbar\":{\"outlinewidth\":0,\"ticks\":\"\"}},\"type\":\"scatterpolargl\"}],\"scatterpolar\":[{\"marker\":{\"colorbar\":{\"outlinewidth\":0,\"ticks\":\"\"}},\"type\":\"scatterpolar\"}],\"scatter\":[{\"fillpattern\":{\"fillmode\":\"overlay\",\"size\":10,\"solidity\":0.2},\"type\":\"scatter\"}],\"scatterternary\":[{\"marker\":{\"colorbar\":{\"outlinewidth\":0,\"ticks\":\"\"}},\"type\":\"scatterternary\"}],\"surface\":[{\"colorbar\":{\"outlinewidth\":0,\"ticks\":\"\"},\"colorscale\":[[0.0,\"#0d0887\"],[0.1111111111111111,\"#46039f\"],[0.2222222222222222,\"#7201a8\"],[0.3333333333333333,\"#9c179e\"],[0.4444444444444444,\"#bd3786\"],[0.5555555555555556,\"#d8576b\"],[0.6666666666666666,\"#ed7953\"],[0.7777777777777778,\"#fb9f3a\"],[0.8888888888888888,\"#fdca26\"],[1.0,\"#f0f921\"]],\"type\":\"surface\"}],\"table\":[{\"cells\":{\"fill\":{\"color\":\"#EBF0F8\"},\"line\":{\"color\":\"white\"}},\"header\":{\"fill\":{\"color\":\"#C8D4E3\"},\"line\":{\"color\":\"white\"}},\"type\":\"table\"}]},\"layout\":{\"annotationdefaults\":{\"arrowcolor\":\"#2a3f5f\",\"arrowhead\":0,\"arrowwidth\":1},\"autotypenumbers\":\"strict\",\"coloraxis\":{\"colorbar\":{\"outlinewidth\":0,\"ticks\":\"\"}},\"colorscale\":{\"diverging\":[[0,\"#8e0152\"],[0.1,\"#c51b7d\"],[0.2,\"#de77ae\"],[0.3,\"#f1b6da\"],[0.4,\"#fde0ef\"],[0.5,\"#f7f7f7\"],[0.6,\"#e6f5d0\"],[0.7,\"#b8e186\"],[0.8,\"#7fbc41\"],[0.9,\"#4d9221\"],[1,\"#276419\"]],\"sequential\":[[0.0,\"#0d0887\"],[0.1111111111111111,\"#46039f\"],[0.2222222222222222,\"#7201a8\"],[0.3333333333333333,\"#9c179e\"],[0.4444444444444444,\"#bd3786\"],[0.5555555555555556,\"#d8576b\"],[0.6666666666666666,\"#ed7953\"],[0.7777777777777778,\"#fb9f3a\"],[0.8888888888888888,\"#fdca26\"],[1.0,\"#f0f921\"]],\"sequentialminus\":[[0.0,\"#0d0887\"],[0.1111111111111111,\"#46039f\"],[0.2222222222222222,\"#7201a8\"],[0.3333333333333333,\"#9c179e\"],[0.4444444444444444,\"#bd3786\"],[0.5555555555555556,\"#d8576b\"],[0.6666666666666666,\"#ed7953\"],[0.7777777777777778,\"#fb9f3a\"],[0.8888888888888888,\"#fdca26\"],[1.0,\"#f0f921\"]]},\"colorway\":[\"#636efa\",\"#EF553B\",\"#00cc96\",\"#ab63fa\",\"#FFA15A\",\"#19d3f3\",\"#FF6692\",\"#B6E880\",\"#FF97FF\",\"#FECB52\"],\"font\":{\"color\":\"#2a3f5f\"},\"geo\":{\"bgcolor\":\"white\",\"lakecolor\":\"white\",\"landcolor\":\"#E5ECF6\",\"showlakes\":true,\"showland\":true,\"subunitcolor\":\"white\"},\"hoverlabel\":{\"align\":\"left\"},\"hovermode\":\"closest\",\"mapbox\":{\"style\":\"light\"},\"paper_bgcolor\":\"white\",\"plot_bgcolor\":\"#E5ECF6\",\"polar\":{\"angularaxis\":{\"gridcolor\":\"white\",\"linecolor\":\"white\",\"ticks\":\"\"},\"bgcolor\":\"#E5ECF6\",\"radialaxis\":{\"gridcolor\":\"white\",\"linecolor\":\"white\",\"ticks\":\"\"}},\"scene\":{\"xaxis\":{\"backgroundcolor\":\"#E5ECF6\",\"gridcolor\":\"white\",\"gridwidth\":2,\"linecolor\":\"white\",\"showbackground\":true,\"ticks\":\"\",\"zerolinecolor\":\"white\"},\"yaxis\":{\"backgroundcolor\":\"#E5ECF6\",\"gridcolor\":\"white\",\"gridwidth\":2,\"linecolor\":\"white\",\"showbackground\":true,\"ticks\":\"\",\"zerolinecolor\":\"white\"},\"zaxis\":{\"backgroundcolor\":\"#E5ECF6\",\"gridcolor\":\"white\",\"gridwidth\":2,\"linecolor\":\"white\",\"showbackground\":true,\"ticks\":\"\",\"zerolinecolor\":\"white\"}},\"shapedefaults\":{\"line\":{\"color\":\"#2a3f5f\"}},\"ternary\":{\"aaxis\":{\"gridcolor\":\"white\",\"linecolor\":\"white\",\"ticks\":\"\"},\"baxis\":{\"gridcolor\":\"white\",\"linecolor\":\"white\",\"ticks\":\"\"},\"bgcolor\":\"#E5ECF6\",\"caxis\":{\"gridcolor\":\"white\",\"linecolor\":\"white\",\"ticks\":\"\"}},\"title\":{\"x\":0.05},\"xaxis\":{\"automargin\":true,\"gridcolor\":\"white\",\"linecolor\":\"white\",\"ticks\":\"\",\"title\":{\"standoff\":15},\"zerolinecolor\":\"white\",\"zerolinewidth\":2},\"yaxis\":{\"automargin\":true,\"gridcolor\":\"white\",\"linecolor\":\"white\",\"ticks\":\"\",\"title\":{\"standoff\":15},\"zerolinecolor\":\"white\",\"zerolinewidth\":2}}},\"title\":{\"font\":{\"color\":\"#4D5663\"}},\"xaxis\":{\"gridcolor\":\"#E1E5ED\",\"showgrid\":true,\"tickfont\":{\"color\":\"#4D5663\"},\"title\":{\"font\":{\"color\":\"#4D5663\"},\"text\":\"\"},\"zerolinecolor\":\"#E1E5ED\"},\"yaxis\":{\"gridcolor\":\"#E1E5ED\",\"showgrid\":true,\"tickfont\":{\"color\":\"#4D5663\"},\"title\":{\"font\":{\"color\":\"#4D5663\"},\"text\":\"\"},\"zerolinecolor\":\"#E1E5ED\"}},                        {\"showLink\": true, \"linkText\": \"Export to plot.ly\", \"plotlyServerURL\": \"https://plot.ly\", \"responsive\": true}                    ).then(function(){\n",
       "                            \n",
       "var gd = document.getElementById('4fe7b073-51c5-44c2-89f8-02eb3d500744');\n",
       "var x = new MutationObserver(function (mutations, observer) {{\n",
       "        var display = window.getComputedStyle(gd).display;\n",
       "        if (!display || display === 'none') {{\n",
       "            console.log([gd, 'removed!']);\n",
       "            Plotly.purge(gd);\n",
       "            observer.disconnect();\n",
       "        }}\n",
       "}});\n",
       "\n",
       "// Listen for the removal of the full notebook cells\n",
       "var notebookContainer = gd.closest('#notebook-container');\n",
       "if (notebookContainer) {{\n",
       "    x.observe(notebookContainer, {childList: true});\n",
       "}}\n",
       "\n",
       "// Listen for the clearing of the current output cell\n",
       "var outputEl = gd.closest('.output');\n",
       "if (outputEl) {{\n",
       "    x.observe(outputEl, {childList: true});\n",
       "}}\n",
       "\n",
       "                        })                };                });            </script>        </div>"
      ]
     },
     "metadata": {},
     "output_type": "display_data"
    }
   ],
   "source": [
    "df.count().iplot(kind='bar')"
   ]
  },
  {
   "cell_type": "markdown",
   "metadata": {},
   "source": [
    "## Boxplots"
   ]
  },
  {
   "cell_type": "code",
   "execution_count": 17,
   "metadata": {},
   "outputs": [
    {
     "data": {
      "application/vnd.plotly.v1+json": {
       "config": {
        "linkText": "Export to plot.ly",
        "plotlyServerURL": "https://plot.ly",
        "showLink": true
       },
       "data": [
        {
         "boxpoints": false,
         "line": {
          "width": 1.3
         },
         "marker": {
          "color": "rgba(255, 153, 51, 1.0)"
         },
         "name": "A",
         "orientation": "v",
         "type": "box",
         "y": [
          -0.5116334595858404,
          -0.40451980663673587,
          0.11150203937866228,
          -0.957022430315918,
          -1.7537384134747118,
          -0.955316648367469,
          2.222588500741579,
          1.632559710535148,
          -0.7735923715434228,
          -0.02963878790154119,
          0.12474207955153141,
          0.007403421790317452,
          0.7440083568613275,
          1.228142706154454,
          0.4903478313312827,
          1.0671146523674926,
          0.38121839902209004,
          0.4784281130106239,
          -0.19334240537897074,
          0.2114068151160235,
          -0.28700598149332923,
          0.6266936008614964,
          -0.5539203483696317,
          0.8808079578911151,
          -0.2900116639501292,
          0.6261423219081403,
          0.44289408669801344,
          -1.0983682136534527,
          2.18957495182428,
          -0.05523220546360378,
          -0.11974553616901784,
          0.9765551281108982,
          1.0094934732433622,
          -1.2467963176372587,
          -0.2916082987378891,
          -0.252668436812334,
          -0.08836765690390477,
          0.6714605946405123,
          -1.975400227235359,
          -1.4659492320039842,
          -1.3895098125317962,
          -0.548176990317895,
          1.1498524159811114,
          -0.680873652531143,
          0.8361233299240934,
          -0.2951580965160952,
          -0.3695172599900852,
          1.3645930195548088,
          -0.4357307104776005,
          0.6430080010807169,
          -1.3455522950429075,
          -0.5206069791562866,
          1.1519658563449808,
          1.5518073674429156,
          -1.1757421206697676,
          0.31577683173796717,
          -0.5930566729500595,
          1.8670196724416042,
          0.5119438525785157,
          2.930461646582064,
          -0.23844315792702714,
          -0.38627151014457195,
          0.09289979180428624,
          -0.4930263009198248,
          -0.2648171930663567,
          -1.176740209750023,
          -0.8939604980187664,
          -0.7371049047637849,
          0.5871643676719378,
          -0.6415778753683434,
          -0.7604105092082487,
          0.7140214328803306,
          -0.9915435986302659,
          0.540851892851178,
          2.171638035591147,
          0.7464422614972771,
          0.7399621239592686,
          -0.23256585533617888,
          0.5432788198064235,
          -1.8189852586551483,
          0.39594453755161185,
          2.081483606601444,
          0.4771429363558366,
          -0.27537596662751096,
          -1.6544053929212492,
          -0.3663005905185225,
          -0.6726891740365734,
          -0.49462773090057727,
          0.389756615394149,
          -0.46107556252258863,
          -1.4536929347782868,
          -0.48860430307025055,
          -1.041576111141286,
          -0.6245608768868465,
          0.8654012168584696,
          0.5453770936816931,
          -0.21852546711481033,
          -0.1416534109291892,
          0.210740917567398,
          -0.786576379864656
         ]
        },
        {
         "boxpoints": false,
         "line": {
          "width": 1.3
         },
         "marker": {
          "color": "rgba(55, 128, 191, 1.0)"
         },
         "name": "B",
         "orientation": "v",
         "type": "box",
         "y": [
          -1.021949233130461,
          0.25594574775048773,
          -0.49810387488163294,
          -1.325142642265481,
          -0.5366367478882258,
          1.0588099409333411,
          -1.0032978099073984,
          -0.8859669207305646,
          -0.06246948659894244,
          1.608941187505579,
          -0.3707918869740564,
          1.0450432601692148,
          -0.8401673973404254,
          0.292684789819589,
          0.729639443981082,
          0.4858150437908382,
          -0.4648277842418754,
          1.143185288073808,
          -1.0407427191447072,
          -1.425350991448239,
          -1.6558923830502548,
          -0.196126484198559,
          1.0552658780568707,
          -0.35263289136461645,
          0.8594609595168468,
          -1.2146127586768733,
          0.13220927769630178,
          -0.5648126800961567,
          -1.4173856239947105,
          -0.27379828911599174,
          0.4627715724085573,
          0.954071074533576,
          -1.5179053035379908,
          -0.7490363703587672,
          0.7843382049747933,
          -0.5825381214550421,
          -2.648166884938007,
          1.307337854013301,
          -1.2013701767559322,
          0.04436461470208275,
          -1.0206994284023114,
          -1.674926161290066,
          0.8378551196604281,
          -0.5081307161078558,
          1.0391192470821948,
          0.9628168203510796,
          0.004656832184727584,
          0.37783807138446773,
          -0.8090007741198757,
          0.3080210740208786,
          -0.01291972632760256,
          -0.32808528338522164,
          -1.296008271665516,
          -0.12789723500299224,
          0.9185470189724362,
          0.1287211863056182,
          2.237138179378632,
          -1.046419761230294,
          0.4280079253568352,
          1.2204039767857147,
          2.1548771482416798,
          0.44660725613147545,
          2.408224640092218,
          -1.11188791629352,
          -0.5898211643668354,
          0.8713265333134166,
          -0.46222389540219333,
          -0.11916235926853035,
          -0.5535978037993889,
          0.6087265261133761,
          1.225924068607216,
          0.9635074728291688,
          1.698331398380695,
          1.4246856327640762,
          -1.518895721740957,
          0.7649774149193973,
          0.7729348387618514,
          -0.9428834054294118,
          2.4457721829035237,
          -1.4393216516608613,
          -0.0593960436946276,
          0.8440019438929776,
          -0.7630293848511864,
          0.9877315922843377,
          -1.0272063197815813,
          0.5562686704820748,
          -0.5764170798889229,
          2.68893459063555,
          0.20429998711292027,
          0.8244038897408704,
          -0.7091675926939464,
          1.7030636499644225,
          -0.21407226437633675,
          -0.4877776042634076,
          0.4706276205941772,
          -0.10691589777002733,
          0.98046375194209,
          -1.2024078700961744,
          -0.23736613593332123,
          -0.6760890965035313
         ]
        },
        {
         "boxpoints": false,
         "line": {
          "width": 1.3
         },
         "marker": {
          "color": "rgba(50, 171, 96, 1.0)"
         },
         "name": "C",
         "orientation": "v",
         "type": "box",
         "y": [
          -0.7331664989088466,
          0.20334098992058225,
          -0.23418880126774333,
          -1.3295462524118646,
          -1.9695962385783692,
          -1.2075725430880706,
          -2.349933344754745,
          -0.6456170846869308,
          -1.923908793870801,
          -0.4925957426625602,
          0.03413191981231174,
          0.23756180147104275,
          -0.8846916408632101,
          -1.3556745481594472,
          -2.8096554666813396,
          -1.2166345784091577,
          1.1227307506915485,
          -0.12126359292376553,
          1.789369825023507,
          1.0606097200311873,
          1.1728938715333648,
          -0.0526819063276142,
          0.5463535544403695,
          1.4140200202206537,
          0.6977717095690767,
          0.505806684424547,
          -1.4402898944623004,
          0.27449196049229585,
          -0.26042021529190873,
          0.41518105649539255,
          1.7522640662018247,
          -1.187838174738271,
          0.23446502343857498,
          -1.200202953243225,
          1.0020756314478152,
          0.0029136007000776796,
          0.06477162633070381,
          -0.5862356000006504,
          -0.6515899692843234,
          2.61577994669217,
          0.5052908884554816,
          -0.5619136578748292,
          0.15467523429708288,
          -1.0913919711876954,
          0.9749410659563239,
          -0.879144323662121,
          0.05904649879176863,
          0.15587892197251124,
          0.8748022545183276,
          -0.7284905602616377,
          0.7382768852123752,
          -2.2876700018057563,
          1.4898713575985456,
          0.9115987911974387,
          -1.5360919931836687,
          0.4177976841472399,
          0.3754084397253426,
          -1.2012043813879316,
          0.23649273301953316,
          1.5005892415174231,
          0.44050438483262316,
          1.8364885185251272,
          1.0683101968727873,
          -0.6337161709842425,
          0.2227794272191448,
          -1.538915776771883,
          -0.10446341539424231,
          0.25811787306894163,
          0.003978874565228057,
          1.0799050324203712,
          -0.6568588867009825,
          -1.012664871906641,
          -0.2006914338501552,
          -1.0985040512691493,
          -0.17883235559153643,
          -0.23257247599650133,
          0.892695913038579,
          -0.5148570965575259,
          0.5922497586703127,
          -0.4817943106659751,
          -1.4230328069736027,
          0.8153909077738124,
          1.8922371641370321,
          -0.6793139334371696,
          1.5025027355565956,
          -0.4634799941219796,
          0.7367586913487083,
          0.5646220949110732,
          -1.4341747306232184,
          0.2658357629187051,
          -0.4908834683911172,
          -0.8084763986748783,
          -0.06535591595403431,
          0.49813050659599595,
          -0.08404795014096927,
          -0.5832855675599287,
          -0.2173664163083856,
          -1.6731753262164346,
          -0.44230887703391447,
          -0.8789611673268257
         ]
        },
        {
         "boxpoints": false,
         "line": {
          "width": 1.3
         },
         "marker": {
          "color": "rgba(128, 0, 128, 1.0)"
         },
         "name": "D",
         "orientation": "v",
         "type": "box",
         "y": [
          -0.822915546146956,
          -1.3856164823212085,
          1.2164992842835247,
          0.4001623564630531,
          0.2107820076021025,
          -0.09378082635468081,
          1.4738912260619708,
          -1.0537517428543453,
          -1.6308148460642002,
          -0.11511226844870684,
          0.8324274149426117,
          1.8381279774372414,
          0.5824293757274496,
          -1.036632568518775,
          -1.3716822839309804,
          1.224426805432888,
          0.02314153757996988,
          -0.5058165806685646,
          -0.6104792735038228,
          -0.3632758341546976,
          -1.9879928739316564,
          0.20898726241711302,
          0.7540763544151033,
          -0.36400259327973905,
          -0.19914838333678989,
          1.1942084898815117,
          1.0536760015645787,
          -0.3537528548674369,
          -1.6635441073100052,
          -2.3958078631403184,
          0.7895406459575908,
          -0.3918824265858147,
          0.9624978515695156,
          0.5649625341628266,
          -1.050649339337511,
          -1.7114507459864052,
          0.4386907612920649,
          0.3527565586064755,
          -0.570715093282655,
          0.4001899491185232,
          0.13634382621986127,
          0.08014682678530408,
          -1.680830363659941,
          -0.07169084243346506,
          2.411739576649915,
          0.587985303981665,
          0.5346121100907646,
          -0.6837241804670804,
          -0.2791759531849911,
          -0.0193910189620039,
          0.6506316111232995,
          -1.3997584407636932,
          0.9071055309064875,
          -1.3341076136935373,
          0.8914001119912143,
          -0.8610578507752765,
          -0.8432488443702535,
          -1.0297410269242149,
          0.8228530107151968,
          -0.22582921163759567,
          -0.9598082667264018,
          -0.585679883816446,
          0.11640311149780526,
          -0.4519459412490356,
          0.9995123486221918,
          0.7305629448692618,
          0.6489445034264774,
          0.09195840435197405,
          -0.14916659146838787,
          0.5005806892966229,
          -0.47949947922247244,
          -0.2933479282806212,
          0.009700114758779467,
          -0.340638257836198,
          0.0006940880795016687,
          1.3721322661436564,
          -0.15072060518064484,
          -0.7864697889819354,
          -0.07548073098522026,
          0.05511939518267495,
          -0.06945128058605379,
          -1.5617524073316265,
          0.05888189658482693,
          -0.12420719437769312,
          0.8864488086621504,
          -0.6480413544522389,
          -0.7888196430028286,
          -0.7618418282081759,
          0.7075235764084716,
          0.6595880128405492,
          -2.3769223170888636,
          -1.8076505141863966,
          -1.2023992390409755,
          1.830842598092093,
          0.05563208634431394,
          1.0608751072324871,
          1.5718488153982433,
          0.8776591796753751,
          -1.8194696641522394,
          -0.026438367024887135
         ]
        }
       ],
       "layout": {
        "legend": {
         "bgcolor": "#F5F6F9",
         "font": {
          "color": "#4D5663"
         }
        },
        "paper_bgcolor": "#F5F6F9",
        "plot_bgcolor": "#F5F6F9",
        "template": {
         "data": {
          "bar": [
           {
            "error_x": {
             "color": "#2a3f5f"
            },
            "error_y": {
             "color": "#2a3f5f"
            },
            "marker": {
             "line": {
              "color": "#E5ECF6",
              "width": 0.5
             },
             "pattern": {
              "fillmode": "overlay",
              "size": 10,
              "solidity": 0.2
             }
            },
            "type": "bar"
           }
          ],
          "barpolar": [
           {
            "marker": {
             "line": {
              "color": "#E5ECF6",
              "width": 0.5
             },
             "pattern": {
              "fillmode": "overlay",
              "size": 10,
              "solidity": 0.2
             }
            },
            "type": "barpolar"
           }
          ],
          "carpet": [
           {
            "aaxis": {
             "endlinecolor": "#2a3f5f",
             "gridcolor": "white",
             "linecolor": "white",
             "minorgridcolor": "white",
             "startlinecolor": "#2a3f5f"
            },
            "baxis": {
             "endlinecolor": "#2a3f5f",
             "gridcolor": "white",
             "linecolor": "white",
             "minorgridcolor": "white",
             "startlinecolor": "#2a3f5f"
            },
            "type": "carpet"
           }
          ],
          "choropleth": [
           {
            "colorbar": {
             "outlinewidth": 0,
             "ticks": ""
            },
            "type": "choropleth"
           }
          ],
          "contour": [
           {
            "colorbar": {
             "outlinewidth": 0,
             "ticks": ""
            },
            "colorscale": [
             [
              0,
              "#0d0887"
             ],
             [
              0.1111111111111111,
              "#46039f"
             ],
             [
              0.2222222222222222,
              "#7201a8"
             ],
             [
              0.3333333333333333,
              "#9c179e"
             ],
             [
              0.4444444444444444,
              "#bd3786"
             ],
             [
              0.5555555555555556,
              "#d8576b"
             ],
             [
              0.6666666666666666,
              "#ed7953"
             ],
             [
              0.7777777777777778,
              "#fb9f3a"
             ],
             [
              0.8888888888888888,
              "#fdca26"
             ],
             [
              1,
              "#f0f921"
             ]
            ],
            "type": "contour"
           }
          ],
          "contourcarpet": [
           {
            "colorbar": {
             "outlinewidth": 0,
             "ticks": ""
            },
            "type": "contourcarpet"
           }
          ],
          "heatmap": [
           {
            "colorbar": {
             "outlinewidth": 0,
             "ticks": ""
            },
            "colorscale": [
             [
              0,
              "#0d0887"
             ],
             [
              0.1111111111111111,
              "#46039f"
             ],
             [
              0.2222222222222222,
              "#7201a8"
             ],
             [
              0.3333333333333333,
              "#9c179e"
             ],
             [
              0.4444444444444444,
              "#bd3786"
             ],
             [
              0.5555555555555556,
              "#d8576b"
             ],
             [
              0.6666666666666666,
              "#ed7953"
             ],
             [
              0.7777777777777778,
              "#fb9f3a"
             ],
             [
              0.8888888888888888,
              "#fdca26"
             ],
             [
              1,
              "#f0f921"
             ]
            ],
            "type": "heatmap"
           }
          ],
          "heatmapgl": [
           {
            "colorbar": {
             "outlinewidth": 0,
             "ticks": ""
            },
            "colorscale": [
             [
              0,
              "#0d0887"
             ],
             [
              0.1111111111111111,
              "#46039f"
             ],
             [
              0.2222222222222222,
              "#7201a8"
             ],
             [
              0.3333333333333333,
              "#9c179e"
             ],
             [
              0.4444444444444444,
              "#bd3786"
             ],
             [
              0.5555555555555556,
              "#d8576b"
             ],
             [
              0.6666666666666666,
              "#ed7953"
             ],
             [
              0.7777777777777778,
              "#fb9f3a"
             ],
             [
              0.8888888888888888,
              "#fdca26"
             ],
             [
              1,
              "#f0f921"
             ]
            ],
            "type": "heatmapgl"
           }
          ],
          "histogram": [
           {
            "marker": {
             "pattern": {
              "fillmode": "overlay",
              "size": 10,
              "solidity": 0.2
             }
            },
            "type": "histogram"
           }
          ],
          "histogram2d": [
           {
            "colorbar": {
             "outlinewidth": 0,
             "ticks": ""
            },
            "colorscale": [
             [
              0,
              "#0d0887"
             ],
             [
              0.1111111111111111,
              "#46039f"
             ],
             [
              0.2222222222222222,
              "#7201a8"
             ],
             [
              0.3333333333333333,
              "#9c179e"
             ],
             [
              0.4444444444444444,
              "#bd3786"
             ],
             [
              0.5555555555555556,
              "#d8576b"
             ],
             [
              0.6666666666666666,
              "#ed7953"
             ],
             [
              0.7777777777777778,
              "#fb9f3a"
             ],
             [
              0.8888888888888888,
              "#fdca26"
             ],
             [
              1,
              "#f0f921"
             ]
            ],
            "type": "histogram2d"
           }
          ],
          "histogram2dcontour": [
           {
            "colorbar": {
             "outlinewidth": 0,
             "ticks": ""
            },
            "colorscale": [
             [
              0,
              "#0d0887"
             ],
             [
              0.1111111111111111,
              "#46039f"
             ],
             [
              0.2222222222222222,
              "#7201a8"
             ],
             [
              0.3333333333333333,
              "#9c179e"
             ],
             [
              0.4444444444444444,
              "#bd3786"
             ],
             [
              0.5555555555555556,
              "#d8576b"
             ],
             [
              0.6666666666666666,
              "#ed7953"
             ],
             [
              0.7777777777777778,
              "#fb9f3a"
             ],
             [
              0.8888888888888888,
              "#fdca26"
             ],
             [
              1,
              "#f0f921"
             ]
            ],
            "type": "histogram2dcontour"
           }
          ],
          "mesh3d": [
           {
            "colorbar": {
             "outlinewidth": 0,
             "ticks": ""
            },
            "type": "mesh3d"
           }
          ],
          "parcoords": [
           {
            "line": {
             "colorbar": {
              "outlinewidth": 0,
              "ticks": ""
             }
            },
            "type": "parcoords"
           }
          ],
          "pie": [
           {
            "automargin": true,
            "type": "pie"
           }
          ],
          "scatter": [
           {
            "fillpattern": {
             "fillmode": "overlay",
             "size": 10,
             "solidity": 0.2
            },
            "type": "scatter"
           }
          ],
          "scatter3d": [
           {
            "line": {
             "colorbar": {
              "outlinewidth": 0,
              "ticks": ""
             }
            },
            "marker": {
             "colorbar": {
              "outlinewidth": 0,
              "ticks": ""
             }
            },
            "type": "scatter3d"
           }
          ],
          "scattercarpet": [
           {
            "marker": {
             "colorbar": {
              "outlinewidth": 0,
              "ticks": ""
             }
            },
            "type": "scattercarpet"
           }
          ],
          "scattergeo": [
           {
            "marker": {
             "colorbar": {
              "outlinewidth": 0,
              "ticks": ""
             }
            },
            "type": "scattergeo"
           }
          ],
          "scattergl": [
           {
            "marker": {
             "colorbar": {
              "outlinewidth": 0,
              "ticks": ""
             }
            },
            "type": "scattergl"
           }
          ],
          "scattermapbox": [
           {
            "marker": {
             "colorbar": {
              "outlinewidth": 0,
              "ticks": ""
             }
            },
            "type": "scattermapbox"
           }
          ],
          "scatterpolar": [
           {
            "marker": {
             "colorbar": {
              "outlinewidth": 0,
              "ticks": ""
             }
            },
            "type": "scatterpolar"
           }
          ],
          "scatterpolargl": [
           {
            "marker": {
             "colorbar": {
              "outlinewidth": 0,
              "ticks": ""
             }
            },
            "type": "scatterpolargl"
           }
          ],
          "scatterternary": [
           {
            "marker": {
             "colorbar": {
              "outlinewidth": 0,
              "ticks": ""
             }
            },
            "type": "scatterternary"
           }
          ],
          "surface": [
           {
            "colorbar": {
             "outlinewidth": 0,
             "ticks": ""
            },
            "colorscale": [
             [
              0,
              "#0d0887"
             ],
             [
              0.1111111111111111,
              "#46039f"
             ],
             [
              0.2222222222222222,
              "#7201a8"
             ],
             [
              0.3333333333333333,
              "#9c179e"
             ],
             [
              0.4444444444444444,
              "#bd3786"
             ],
             [
              0.5555555555555556,
              "#d8576b"
             ],
             [
              0.6666666666666666,
              "#ed7953"
             ],
             [
              0.7777777777777778,
              "#fb9f3a"
             ],
             [
              0.8888888888888888,
              "#fdca26"
             ],
             [
              1,
              "#f0f921"
             ]
            ],
            "type": "surface"
           }
          ],
          "table": [
           {
            "cells": {
             "fill": {
              "color": "#EBF0F8"
             },
             "line": {
              "color": "white"
             }
            },
            "header": {
             "fill": {
              "color": "#C8D4E3"
             },
             "line": {
              "color": "white"
             }
            },
            "type": "table"
           }
          ]
         },
         "layout": {
          "annotationdefaults": {
           "arrowcolor": "#2a3f5f",
           "arrowhead": 0,
           "arrowwidth": 1
          },
          "autotypenumbers": "strict",
          "coloraxis": {
           "colorbar": {
            "outlinewidth": 0,
            "ticks": ""
           }
          },
          "colorscale": {
           "diverging": [
            [
             0,
             "#8e0152"
            ],
            [
             0.1,
             "#c51b7d"
            ],
            [
             0.2,
             "#de77ae"
            ],
            [
             0.3,
             "#f1b6da"
            ],
            [
             0.4,
             "#fde0ef"
            ],
            [
             0.5,
             "#f7f7f7"
            ],
            [
             0.6,
             "#e6f5d0"
            ],
            [
             0.7,
             "#b8e186"
            ],
            [
             0.8,
             "#7fbc41"
            ],
            [
             0.9,
             "#4d9221"
            ],
            [
             1,
             "#276419"
            ]
           ],
           "sequential": [
            [
             0,
             "#0d0887"
            ],
            [
             0.1111111111111111,
             "#46039f"
            ],
            [
             0.2222222222222222,
             "#7201a8"
            ],
            [
             0.3333333333333333,
             "#9c179e"
            ],
            [
             0.4444444444444444,
             "#bd3786"
            ],
            [
             0.5555555555555556,
             "#d8576b"
            ],
            [
             0.6666666666666666,
             "#ed7953"
            ],
            [
             0.7777777777777778,
             "#fb9f3a"
            ],
            [
             0.8888888888888888,
             "#fdca26"
            ],
            [
             1,
             "#f0f921"
            ]
           ],
           "sequentialminus": [
            [
             0,
             "#0d0887"
            ],
            [
             0.1111111111111111,
             "#46039f"
            ],
            [
             0.2222222222222222,
             "#7201a8"
            ],
            [
             0.3333333333333333,
             "#9c179e"
            ],
            [
             0.4444444444444444,
             "#bd3786"
            ],
            [
             0.5555555555555556,
             "#d8576b"
            ],
            [
             0.6666666666666666,
             "#ed7953"
            ],
            [
             0.7777777777777778,
             "#fb9f3a"
            ],
            [
             0.8888888888888888,
             "#fdca26"
            ],
            [
             1,
             "#f0f921"
            ]
           ]
          },
          "colorway": [
           "#636efa",
           "#EF553B",
           "#00cc96",
           "#ab63fa",
           "#FFA15A",
           "#19d3f3",
           "#FF6692",
           "#B6E880",
           "#FF97FF",
           "#FECB52"
          ],
          "font": {
           "color": "#2a3f5f"
          },
          "geo": {
           "bgcolor": "white",
           "lakecolor": "white",
           "landcolor": "#E5ECF6",
           "showlakes": true,
           "showland": true,
           "subunitcolor": "white"
          },
          "hoverlabel": {
           "align": "left"
          },
          "hovermode": "closest",
          "mapbox": {
           "style": "light"
          },
          "paper_bgcolor": "white",
          "plot_bgcolor": "#E5ECF6",
          "polar": {
           "angularaxis": {
            "gridcolor": "white",
            "linecolor": "white",
            "ticks": ""
           },
           "bgcolor": "#E5ECF6",
           "radialaxis": {
            "gridcolor": "white",
            "linecolor": "white",
            "ticks": ""
           }
          },
          "scene": {
           "xaxis": {
            "backgroundcolor": "#E5ECF6",
            "gridcolor": "white",
            "gridwidth": 2,
            "linecolor": "white",
            "showbackground": true,
            "ticks": "",
            "zerolinecolor": "white"
           },
           "yaxis": {
            "backgroundcolor": "#E5ECF6",
            "gridcolor": "white",
            "gridwidth": 2,
            "linecolor": "white",
            "showbackground": true,
            "ticks": "",
            "zerolinecolor": "white"
           },
           "zaxis": {
            "backgroundcolor": "#E5ECF6",
            "gridcolor": "white",
            "gridwidth": 2,
            "linecolor": "white",
            "showbackground": true,
            "ticks": "",
            "zerolinecolor": "white"
           }
          },
          "shapedefaults": {
           "line": {
            "color": "#2a3f5f"
           }
          },
          "ternary": {
           "aaxis": {
            "gridcolor": "white",
            "linecolor": "white",
            "ticks": ""
           },
           "baxis": {
            "gridcolor": "white",
            "linecolor": "white",
            "ticks": ""
           },
           "bgcolor": "#E5ECF6",
           "caxis": {
            "gridcolor": "white",
            "linecolor": "white",
            "ticks": ""
           }
          },
          "title": {
           "x": 0.05
          },
          "xaxis": {
           "automargin": true,
           "gridcolor": "white",
           "linecolor": "white",
           "ticks": "",
           "title": {
            "standoff": 15
           },
           "zerolinecolor": "white",
           "zerolinewidth": 2
          },
          "yaxis": {
           "automargin": true,
           "gridcolor": "white",
           "linecolor": "white",
           "ticks": "",
           "title": {
            "standoff": 15
           },
           "zerolinecolor": "white",
           "zerolinewidth": 2
          }
         }
        },
        "title": {
         "font": {
          "color": "#4D5663"
         }
        },
        "xaxis": {
         "gridcolor": "#E1E5ED",
         "showgrid": true,
         "tickfont": {
          "color": "#4D5663"
         },
         "title": {
          "font": {
           "color": "#4D5663"
          },
          "text": ""
         },
         "zerolinecolor": "#E1E5ED"
        },
        "yaxis": {
         "gridcolor": "#E1E5ED",
         "showgrid": true,
         "tickfont": {
          "color": "#4D5663"
         },
         "title": {
          "font": {
           "color": "#4D5663"
          },
          "text": ""
         },
         "zerolinecolor": "#E1E5ED"
        }
       }
      },
      "text/html": [
       "<div>                            <div id=\"e7fb365c-edd4-4435-9e11-573f197816b0\" class=\"plotly-graph-div\" style=\"height:525px; width:100%;\"></div>            <script type=\"text/javascript\">                require([\"plotly\"], function(Plotly) {                    window.PLOTLYENV=window.PLOTLYENV || {};\n",
       "                    window.PLOTLYENV.BASE_URL='https://plot.ly';                                    if (document.getElementById(\"e7fb365c-edd4-4435-9e11-573f197816b0\")) {                    Plotly.newPlot(                        \"e7fb365c-edd4-4435-9e11-573f197816b0\",                        [{\"boxpoints\":false,\"line\":{\"width\":1.3},\"marker\":{\"color\":\"rgba(255, 153, 51, 1.0)\"},\"name\":\"A\",\"orientation\":\"v\",\"y\":[-0.5116334595858404,-0.40451980663673587,0.11150203937866228,-0.957022430315918,-1.7537384134747118,-0.955316648367469,2.222588500741579,1.632559710535148,-0.7735923715434228,-0.02963878790154119,0.12474207955153141,0.007403421790317452,0.7440083568613275,1.228142706154454,0.4903478313312827,1.0671146523674926,0.38121839902209004,0.4784281130106239,-0.19334240537897074,0.2114068151160235,-0.28700598149332923,0.6266936008614964,-0.5539203483696317,0.8808079578911151,-0.2900116639501292,0.6261423219081403,0.44289408669801344,-1.0983682136534527,2.18957495182428,-0.05523220546360378,-0.11974553616901784,0.9765551281108982,1.0094934732433622,-1.2467963176372587,-0.2916082987378891,-0.252668436812334,-0.08836765690390477,0.6714605946405123,-1.975400227235359,-1.4659492320039842,-1.3895098125317962,-0.548176990317895,1.1498524159811114,-0.680873652531143,0.8361233299240934,-0.2951580965160952,-0.3695172599900852,1.3645930195548088,-0.4357307104776005,0.6430080010807169,-1.3455522950429075,-0.5206069791562866,1.1519658563449808,1.5518073674429156,-1.1757421206697676,0.31577683173796717,-0.5930566729500595,1.8670196724416042,0.5119438525785157,2.930461646582064,-0.23844315792702714,-0.38627151014457195,0.09289979180428624,-0.4930263009198248,-0.2648171930663567,-1.176740209750023,-0.8939604980187664,-0.7371049047637849,0.5871643676719378,-0.6415778753683434,-0.7604105092082487,0.7140214328803306,-0.9915435986302659,0.540851892851178,2.171638035591147,0.7464422614972771,0.7399621239592686,-0.23256585533617888,0.5432788198064235,-1.8189852586551483,0.39594453755161185,2.081483606601444,0.4771429363558366,-0.27537596662751096,-1.6544053929212492,-0.3663005905185225,-0.6726891740365734,-0.49462773090057727,0.389756615394149,-0.46107556252258863,-1.4536929347782868,-0.48860430307025055,-1.041576111141286,-0.6245608768868465,0.8654012168584696,0.5453770936816931,-0.21852546711481033,-0.1416534109291892,0.210740917567398,-0.786576379864656],\"type\":\"box\"},{\"boxpoints\":false,\"line\":{\"width\":1.3},\"marker\":{\"color\":\"rgba(55, 128, 191, 1.0)\"},\"name\":\"B\",\"orientation\":\"v\",\"y\":[-1.021949233130461,0.25594574775048773,-0.49810387488163294,-1.325142642265481,-0.5366367478882258,1.0588099409333411,-1.0032978099073984,-0.8859669207305646,-0.06246948659894244,1.608941187505579,-0.3707918869740564,1.0450432601692148,-0.8401673973404254,0.292684789819589,0.729639443981082,0.4858150437908382,-0.4648277842418754,1.143185288073808,-1.0407427191447072,-1.425350991448239,-1.6558923830502548,-0.196126484198559,1.0552658780568707,-0.35263289136461645,0.8594609595168468,-1.2146127586768733,0.13220927769630178,-0.5648126800961567,-1.4173856239947105,-0.27379828911599174,0.4627715724085573,0.954071074533576,-1.5179053035379908,-0.7490363703587672,0.7843382049747933,-0.5825381214550421,-2.648166884938007,1.307337854013301,-1.2013701767559322,0.04436461470208275,-1.0206994284023114,-1.674926161290066,0.8378551196604281,-0.5081307161078558,1.0391192470821948,0.9628168203510796,0.004656832184727584,0.37783807138446773,-0.8090007741198757,0.3080210740208786,-0.01291972632760256,-0.32808528338522164,-1.296008271665516,-0.12789723500299224,0.9185470189724362,0.1287211863056182,2.237138179378632,-1.046419761230294,0.4280079253568352,1.2204039767857147,2.1548771482416798,0.44660725613147545,2.408224640092218,-1.11188791629352,-0.5898211643668354,0.8713265333134166,-0.46222389540219333,-0.11916235926853035,-0.5535978037993889,0.6087265261133761,1.225924068607216,0.9635074728291688,1.698331398380695,1.4246856327640762,-1.518895721740957,0.7649774149193973,0.7729348387618514,-0.9428834054294118,2.4457721829035237,-1.4393216516608613,-0.0593960436946276,0.8440019438929776,-0.7630293848511864,0.9877315922843377,-1.0272063197815813,0.5562686704820748,-0.5764170798889229,2.68893459063555,0.20429998711292027,0.8244038897408704,-0.7091675926939464,1.7030636499644225,-0.21407226437633675,-0.4877776042634076,0.4706276205941772,-0.10691589777002733,0.98046375194209,-1.2024078700961744,-0.23736613593332123,-0.6760890965035313],\"type\":\"box\"},{\"boxpoints\":false,\"line\":{\"width\":1.3},\"marker\":{\"color\":\"rgba(50, 171, 96, 1.0)\"},\"name\":\"C\",\"orientation\":\"v\",\"y\":[-0.7331664989088466,0.20334098992058225,-0.23418880126774333,-1.3295462524118646,-1.9695962385783692,-1.2075725430880706,-2.349933344754745,-0.6456170846869308,-1.923908793870801,-0.4925957426625602,0.03413191981231174,0.23756180147104275,-0.8846916408632101,-1.3556745481594472,-2.8096554666813396,-1.2166345784091577,1.1227307506915485,-0.12126359292376553,1.789369825023507,1.0606097200311873,1.1728938715333648,-0.0526819063276142,0.5463535544403695,1.4140200202206537,0.6977717095690767,0.505806684424547,-1.4402898944623004,0.27449196049229585,-0.26042021529190873,0.41518105649539255,1.7522640662018247,-1.187838174738271,0.23446502343857498,-1.200202953243225,1.0020756314478152,0.0029136007000776796,0.06477162633070381,-0.5862356000006504,-0.6515899692843234,2.61577994669217,0.5052908884554816,-0.5619136578748292,0.15467523429708288,-1.0913919711876954,0.9749410659563239,-0.879144323662121,0.05904649879176863,0.15587892197251124,0.8748022545183276,-0.7284905602616377,0.7382768852123752,-2.2876700018057563,1.4898713575985456,0.9115987911974387,-1.5360919931836687,0.4177976841472399,0.3754084397253426,-1.2012043813879316,0.23649273301953316,1.5005892415174231,0.44050438483262316,1.8364885185251272,1.0683101968727873,-0.6337161709842425,0.2227794272191448,-1.538915776771883,-0.10446341539424231,0.25811787306894163,0.003978874565228057,1.0799050324203712,-0.6568588867009825,-1.012664871906641,-0.2006914338501552,-1.0985040512691493,-0.17883235559153643,-0.23257247599650133,0.892695913038579,-0.5148570965575259,0.5922497586703127,-0.4817943106659751,-1.4230328069736027,0.8153909077738124,1.8922371641370321,-0.6793139334371696,1.5025027355565956,-0.4634799941219796,0.7367586913487083,0.5646220949110732,-1.4341747306232184,0.2658357629187051,-0.4908834683911172,-0.8084763986748783,-0.06535591595403431,0.49813050659599595,-0.08404795014096927,-0.5832855675599287,-0.2173664163083856,-1.6731753262164346,-0.44230887703391447,-0.8789611673268257],\"type\":\"box\"},{\"boxpoints\":false,\"line\":{\"width\":1.3},\"marker\":{\"color\":\"rgba(128, 0, 128, 1.0)\"},\"name\":\"D\",\"orientation\":\"v\",\"y\":[-0.822915546146956,-1.3856164823212085,1.2164992842835247,0.4001623564630531,0.2107820076021025,-0.09378082635468081,1.4738912260619708,-1.0537517428543453,-1.6308148460642002,-0.11511226844870684,0.8324274149426117,1.8381279774372414,0.5824293757274496,-1.036632568518775,-1.3716822839309804,1.224426805432888,0.02314153757996988,-0.5058165806685646,-0.6104792735038228,-0.3632758341546976,-1.9879928739316564,0.20898726241711302,0.7540763544151033,-0.36400259327973905,-0.19914838333678989,1.1942084898815117,1.0536760015645787,-0.3537528548674369,-1.6635441073100052,-2.3958078631403184,0.7895406459575908,-0.3918824265858147,0.9624978515695156,0.5649625341628266,-1.050649339337511,-1.7114507459864052,0.4386907612920649,0.3527565586064755,-0.570715093282655,0.4001899491185232,0.13634382621986127,0.08014682678530408,-1.680830363659941,-0.07169084243346506,2.411739576649915,0.587985303981665,0.5346121100907646,-0.6837241804670804,-0.2791759531849911,-0.0193910189620039,0.6506316111232995,-1.3997584407636932,0.9071055309064875,-1.3341076136935373,0.8914001119912143,-0.8610578507752765,-0.8432488443702535,-1.0297410269242149,0.8228530107151968,-0.22582921163759567,-0.9598082667264018,-0.585679883816446,0.11640311149780526,-0.4519459412490356,0.9995123486221918,0.7305629448692618,0.6489445034264774,0.09195840435197405,-0.14916659146838787,0.5005806892966229,-0.47949947922247244,-0.2933479282806212,0.009700114758779467,-0.340638257836198,0.0006940880795016687,1.3721322661436564,-0.15072060518064484,-0.7864697889819354,-0.07548073098522026,0.05511939518267495,-0.06945128058605379,-1.5617524073316265,0.05888189658482693,-0.12420719437769312,0.8864488086621504,-0.6480413544522389,-0.7888196430028286,-0.7618418282081759,0.7075235764084716,0.6595880128405492,-2.3769223170888636,-1.8076505141863966,-1.2023992390409755,1.830842598092093,0.05563208634431394,1.0608751072324871,1.5718488153982433,0.8776591796753751,-1.8194696641522394,-0.026438367024887135],\"type\":\"box\"}],                        {\"legend\":{\"bgcolor\":\"#F5F6F9\",\"font\":{\"color\":\"#4D5663\"}},\"paper_bgcolor\":\"#F5F6F9\",\"plot_bgcolor\":\"#F5F6F9\",\"template\":{\"data\":{\"barpolar\":[{\"marker\":{\"line\":{\"color\":\"#E5ECF6\",\"width\":0.5},\"pattern\":{\"fillmode\":\"overlay\",\"size\":10,\"solidity\":0.2}},\"type\":\"barpolar\"}],\"bar\":[{\"error_x\":{\"color\":\"#2a3f5f\"},\"error_y\":{\"color\":\"#2a3f5f\"},\"marker\":{\"line\":{\"color\":\"#E5ECF6\",\"width\":0.5},\"pattern\":{\"fillmode\":\"overlay\",\"size\":10,\"solidity\":0.2}},\"type\":\"bar\"}],\"carpet\":[{\"aaxis\":{\"endlinecolor\":\"#2a3f5f\",\"gridcolor\":\"white\",\"linecolor\":\"white\",\"minorgridcolor\":\"white\",\"startlinecolor\":\"#2a3f5f\"},\"baxis\":{\"endlinecolor\":\"#2a3f5f\",\"gridcolor\":\"white\",\"linecolor\":\"white\",\"minorgridcolor\":\"white\",\"startlinecolor\":\"#2a3f5f\"},\"type\":\"carpet\"}],\"choropleth\":[{\"colorbar\":{\"outlinewidth\":0,\"ticks\":\"\"},\"type\":\"choropleth\"}],\"contourcarpet\":[{\"colorbar\":{\"outlinewidth\":0,\"ticks\":\"\"},\"type\":\"contourcarpet\"}],\"contour\":[{\"colorbar\":{\"outlinewidth\":0,\"ticks\":\"\"},\"colorscale\":[[0.0,\"#0d0887\"],[0.1111111111111111,\"#46039f\"],[0.2222222222222222,\"#7201a8\"],[0.3333333333333333,\"#9c179e\"],[0.4444444444444444,\"#bd3786\"],[0.5555555555555556,\"#d8576b\"],[0.6666666666666666,\"#ed7953\"],[0.7777777777777778,\"#fb9f3a\"],[0.8888888888888888,\"#fdca26\"],[1.0,\"#f0f921\"]],\"type\":\"contour\"}],\"heatmapgl\":[{\"colorbar\":{\"outlinewidth\":0,\"ticks\":\"\"},\"colorscale\":[[0.0,\"#0d0887\"],[0.1111111111111111,\"#46039f\"],[0.2222222222222222,\"#7201a8\"],[0.3333333333333333,\"#9c179e\"],[0.4444444444444444,\"#bd3786\"],[0.5555555555555556,\"#d8576b\"],[0.6666666666666666,\"#ed7953\"],[0.7777777777777778,\"#fb9f3a\"],[0.8888888888888888,\"#fdca26\"],[1.0,\"#f0f921\"]],\"type\":\"heatmapgl\"}],\"heatmap\":[{\"colorbar\":{\"outlinewidth\":0,\"ticks\":\"\"},\"colorscale\":[[0.0,\"#0d0887\"],[0.1111111111111111,\"#46039f\"],[0.2222222222222222,\"#7201a8\"],[0.3333333333333333,\"#9c179e\"],[0.4444444444444444,\"#bd3786\"],[0.5555555555555556,\"#d8576b\"],[0.6666666666666666,\"#ed7953\"],[0.7777777777777778,\"#fb9f3a\"],[0.8888888888888888,\"#fdca26\"],[1.0,\"#f0f921\"]],\"type\":\"heatmap\"}],\"histogram2dcontour\":[{\"colorbar\":{\"outlinewidth\":0,\"ticks\":\"\"},\"colorscale\":[[0.0,\"#0d0887\"],[0.1111111111111111,\"#46039f\"],[0.2222222222222222,\"#7201a8\"],[0.3333333333333333,\"#9c179e\"],[0.4444444444444444,\"#bd3786\"],[0.5555555555555556,\"#d8576b\"],[0.6666666666666666,\"#ed7953\"],[0.7777777777777778,\"#fb9f3a\"],[0.8888888888888888,\"#fdca26\"],[1.0,\"#f0f921\"]],\"type\":\"histogram2dcontour\"}],\"histogram2d\":[{\"colorbar\":{\"outlinewidth\":0,\"ticks\":\"\"},\"colorscale\":[[0.0,\"#0d0887\"],[0.1111111111111111,\"#46039f\"],[0.2222222222222222,\"#7201a8\"],[0.3333333333333333,\"#9c179e\"],[0.4444444444444444,\"#bd3786\"],[0.5555555555555556,\"#d8576b\"],[0.6666666666666666,\"#ed7953\"],[0.7777777777777778,\"#fb9f3a\"],[0.8888888888888888,\"#fdca26\"],[1.0,\"#f0f921\"]],\"type\":\"histogram2d\"}],\"histogram\":[{\"marker\":{\"pattern\":{\"fillmode\":\"overlay\",\"size\":10,\"solidity\":0.2}},\"type\":\"histogram\"}],\"mesh3d\":[{\"colorbar\":{\"outlinewidth\":0,\"ticks\":\"\"},\"type\":\"mesh3d\"}],\"parcoords\":[{\"line\":{\"colorbar\":{\"outlinewidth\":0,\"ticks\":\"\"}},\"type\":\"parcoords\"}],\"pie\":[{\"automargin\":true,\"type\":\"pie\"}],\"scatter3d\":[{\"line\":{\"colorbar\":{\"outlinewidth\":0,\"ticks\":\"\"}},\"marker\":{\"colorbar\":{\"outlinewidth\":0,\"ticks\":\"\"}},\"type\":\"scatter3d\"}],\"scattercarpet\":[{\"marker\":{\"colorbar\":{\"outlinewidth\":0,\"ticks\":\"\"}},\"type\":\"scattercarpet\"}],\"scattergeo\":[{\"marker\":{\"colorbar\":{\"outlinewidth\":0,\"ticks\":\"\"}},\"type\":\"scattergeo\"}],\"scattergl\":[{\"marker\":{\"colorbar\":{\"outlinewidth\":0,\"ticks\":\"\"}},\"type\":\"scattergl\"}],\"scattermapbox\":[{\"marker\":{\"colorbar\":{\"outlinewidth\":0,\"ticks\":\"\"}},\"type\":\"scattermapbox\"}],\"scatterpolargl\":[{\"marker\":{\"colorbar\":{\"outlinewidth\":0,\"ticks\":\"\"}},\"type\":\"scatterpolargl\"}],\"scatterpolar\":[{\"marker\":{\"colorbar\":{\"outlinewidth\":0,\"ticks\":\"\"}},\"type\":\"scatterpolar\"}],\"scatter\":[{\"fillpattern\":{\"fillmode\":\"overlay\",\"size\":10,\"solidity\":0.2},\"type\":\"scatter\"}],\"scatterternary\":[{\"marker\":{\"colorbar\":{\"outlinewidth\":0,\"ticks\":\"\"}},\"type\":\"scatterternary\"}],\"surface\":[{\"colorbar\":{\"outlinewidth\":0,\"ticks\":\"\"},\"colorscale\":[[0.0,\"#0d0887\"],[0.1111111111111111,\"#46039f\"],[0.2222222222222222,\"#7201a8\"],[0.3333333333333333,\"#9c179e\"],[0.4444444444444444,\"#bd3786\"],[0.5555555555555556,\"#d8576b\"],[0.6666666666666666,\"#ed7953\"],[0.7777777777777778,\"#fb9f3a\"],[0.8888888888888888,\"#fdca26\"],[1.0,\"#f0f921\"]],\"type\":\"surface\"}],\"table\":[{\"cells\":{\"fill\":{\"color\":\"#EBF0F8\"},\"line\":{\"color\":\"white\"}},\"header\":{\"fill\":{\"color\":\"#C8D4E3\"},\"line\":{\"color\":\"white\"}},\"type\":\"table\"}]},\"layout\":{\"annotationdefaults\":{\"arrowcolor\":\"#2a3f5f\",\"arrowhead\":0,\"arrowwidth\":1},\"autotypenumbers\":\"strict\",\"coloraxis\":{\"colorbar\":{\"outlinewidth\":0,\"ticks\":\"\"}},\"colorscale\":{\"diverging\":[[0,\"#8e0152\"],[0.1,\"#c51b7d\"],[0.2,\"#de77ae\"],[0.3,\"#f1b6da\"],[0.4,\"#fde0ef\"],[0.5,\"#f7f7f7\"],[0.6,\"#e6f5d0\"],[0.7,\"#b8e186\"],[0.8,\"#7fbc41\"],[0.9,\"#4d9221\"],[1,\"#276419\"]],\"sequential\":[[0.0,\"#0d0887\"],[0.1111111111111111,\"#46039f\"],[0.2222222222222222,\"#7201a8\"],[0.3333333333333333,\"#9c179e\"],[0.4444444444444444,\"#bd3786\"],[0.5555555555555556,\"#d8576b\"],[0.6666666666666666,\"#ed7953\"],[0.7777777777777778,\"#fb9f3a\"],[0.8888888888888888,\"#fdca26\"],[1.0,\"#f0f921\"]],\"sequentialminus\":[[0.0,\"#0d0887\"],[0.1111111111111111,\"#46039f\"],[0.2222222222222222,\"#7201a8\"],[0.3333333333333333,\"#9c179e\"],[0.4444444444444444,\"#bd3786\"],[0.5555555555555556,\"#d8576b\"],[0.6666666666666666,\"#ed7953\"],[0.7777777777777778,\"#fb9f3a\"],[0.8888888888888888,\"#fdca26\"],[1.0,\"#f0f921\"]]},\"colorway\":[\"#636efa\",\"#EF553B\",\"#00cc96\",\"#ab63fa\",\"#FFA15A\",\"#19d3f3\",\"#FF6692\",\"#B6E880\",\"#FF97FF\",\"#FECB52\"],\"font\":{\"color\":\"#2a3f5f\"},\"geo\":{\"bgcolor\":\"white\",\"lakecolor\":\"white\",\"landcolor\":\"#E5ECF6\",\"showlakes\":true,\"showland\":true,\"subunitcolor\":\"white\"},\"hoverlabel\":{\"align\":\"left\"},\"hovermode\":\"closest\",\"mapbox\":{\"style\":\"light\"},\"paper_bgcolor\":\"white\",\"plot_bgcolor\":\"#E5ECF6\",\"polar\":{\"angularaxis\":{\"gridcolor\":\"white\",\"linecolor\":\"white\",\"ticks\":\"\"},\"bgcolor\":\"#E5ECF6\",\"radialaxis\":{\"gridcolor\":\"white\",\"linecolor\":\"white\",\"ticks\":\"\"}},\"scene\":{\"xaxis\":{\"backgroundcolor\":\"#E5ECF6\",\"gridcolor\":\"white\",\"gridwidth\":2,\"linecolor\":\"white\",\"showbackground\":true,\"ticks\":\"\",\"zerolinecolor\":\"white\"},\"yaxis\":{\"backgroundcolor\":\"#E5ECF6\",\"gridcolor\":\"white\",\"gridwidth\":2,\"linecolor\":\"white\",\"showbackground\":true,\"ticks\":\"\",\"zerolinecolor\":\"white\"},\"zaxis\":{\"backgroundcolor\":\"#E5ECF6\",\"gridcolor\":\"white\",\"gridwidth\":2,\"linecolor\":\"white\",\"showbackground\":true,\"ticks\":\"\",\"zerolinecolor\":\"white\"}},\"shapedefaults\":{\"line\":{\"color\":\"#2a3f5f\"}},\"ternary\":{\"aaxis\":{\"gridcolor\":\"white\",\"linecolor\":\"white\",\"ticks\":\"\"},\"baxis\":{\"gridcolor\":\"white\",\"linecolor\":\"white\",\"ticks\":\"\"},\"bgcolor\":\"#E5ECF6\",\"caxis\":{\"gridcolor\":\"white\",\"linecolor\":\"white\",\"ticks\":\"\"}},\"title\":{\"x\":0.05},\"xaxis\":{\"automargin\":true,\"gridcolor\":\"white\",\"linecolor\":\"white\",\"ticks\":\"\",\"title\":{\"standoff\":15},\"zerolinecolor\":\"white\",\"zerolinewidth\":2},\"yaxis\":{\"automargin\":true,\"gridcolor\":\"white\",\"linecolor\":\"white\",\"ticks\":\"\",\"title\":{\"standoff\":15},\"zerolinecolor\":\"white\",\"zerolinewidth\":2}}},\"title\":{\"font\":{\"color\":\"#4D5663\"}},\"xaxis\":{\"gridcolor\":\"#E1E5ED\",\"showgrid\":true,\"tickfont\":{\"color\":\"#4D5663\"},\"title\":{\"font\":{\"color\":\"#4D5663\"},\"text\":\"\"},\"zerolinecolor\":\"#E1E5ED\"},\"yaxis\":{\"gridcolor\":\"#E1E5ED\",\"showgrid\":true,\"tickfont\":{\"color\":\"#4D5663\"},\"title\":{\"font\":{\"color\":\"#4D5663\"},\"text\":\"\"},\"zerolinecolor\":\"#E1E5ED\"}},                        {\"showLink\": true, \"linkText\": \"Export to plot.ly\", \"plotlyServerURL\": \"https://plot.ly\", \"responsive\": true}                    ).then(function(){\n",
       "                            \n",
       "var gd = document.getElementById('e7fb365c-edd4-4435-9e11-573f197816b0');\n",
       "var x = new MutationObserver(function (mutations, observer) {{\n",
       "        var display = window.getComputedStyle(gd).display;\n",
       "        if (!display || display === 'none') {{\n",
       "            console.log([gd, 'removed!']);\n",
       "            Plotly.purge(gd);\n",
       "            observer.disconnect();\n",
       "        }}\n",
       "}});\n",
       "\n",
       "// Listen for the removal of the full notebook cells\n",
       "var notebookContainer = gd.closest('#notebook-container');\n",
       "if (notebookContainer) {{\n",
       "    x.observe(notebookContainer, {childList: true});\n",
       "}}\n",
       "\n",
       "// Listen for the clearing of the current output cell\n",
       "var outputEl = gd.closest('.output');\n",
       "if (outputEl) {{\n",
       "    x.observe(outputEl, {childList: true});\n",
       "}}\n",
       "\n",
       "                        })                };                });            </script>        </div>"
      ]
     },
     "metadata": {},
     "output_type": "display_data"
    }
   ],
   "source": [
    "df.iplot(kind='box')"
   ]
  },
  {
   "cell_type": "markdown",
   "metadata": {},
   "source": [
    "## 3d Surface"
   ]
  },
  {
   "cell_type": "code",
   "execution_count": 18,
   "metadata": {},
   "outputs": [
    {
     "data": {
      "application/vnd.plotly.v1+json": {
       "config": {
        "linkText": "Export to plot.ly",
        "plotlyServerURL": "https://plot.ly",
        "showLink": true
       },
       "data": [
        {
         "colorscale": [
          [
           0,
           "rgb(165,0,38)"
          ],
          [
           0.1,
           "rgb(215,48,39)"
          ],
          [
           0.2,
           "rgb(244,109,67)"
          ],
          [
           0.3,
           "rgb(253,174,97)"
          ],
          [
           0.4,
           "rgb(254,224,144)"
          ],
          [
           0.5,
           "rgb(255,255,191)"
          ],
          [
           0.6,
           "rgb(224,243,248)"
          ],
          [
           0.7,
           "rgb(171,217,233)"
          ],
          [
           0.8,
           "rgb(116,173,209)"
          ],
          [
           0.9,
           "rgb(69,117,180)"
          ],
          [
           1,
           "rgb(49,54,149)"
          ]
         ],
         "type": "surface",
         "x": [
          0,
          1,
          2,
          3,
          4
         ],
         "y": [
          "x",
          "y",
          "z"
         ],
         "z": [
          [
           1,
           2,
           3,
           4,
           5
          ],
          [
           10,
           20,
           30,
           20,
           10
          ],
          [
           5,
           4,
           3,
           2,
           1
          ]
         ]
        }
       ],
       "layout": {
        "legend": {
         "bgcolor": "#F5F6F9",
         "font": {
          "color": "#4D5663"
         }
        },
        "paper_bgcolor": "#F5F6F9",
        "plot_bgcolor": "#F5F6F9",
        "template": {
         "data": {
          "bar": [
           {
            "error_x": {
             "color": "#2a3f5f"
            },
            "error_y": {
             "color": "#2a3f5f"
            },
            "marker": {
             "line": {
              "color": "#E5ECF6",
              "width": 0.5
             },
             "pattern": {
              "fillmode": "overlay",
              "size": 10,
              "solidity": 0.2
             }
            },
            "type": "bar"
           }
          ],
          "barpolar": [
           {
            "marker": {
             "line": {
              "color": "#E5ECF6",
              "width": 0.5
             },
             "pattern": {
              "fillmode": "overlay",
              "size": 10,
              "solidity": 0.2
             }
            },
            "type": "barpolar"
           }
          ],
          "carpet": [
           {
            "aaxis": {
             "endlinecolor": "#2a3f5f",
             "gridcolor": "white",
             "linecolor": "white",
             "minorgridcolor": "white",
             "startlinecolor": "#2a3f5f"
            },
            "baxis": {
             "endlinecolor": "#2a3f5f",
             "gridcolor": "white",
             "linecolor": "white",
             "minorgridcolor": "white",
             "startlinecolor": "#2a3f5f"
            },
            "type": "carpet"
           }
          ],
          "choropleth": [
           {
            "colorbar": {
             "outlinewidth": 0,
             "ticks": ""
            },
            "type": "choropleth"
           }
          ],
          "contour": [
           {
            "colorbar": {
             "outlinewidth": 0,
             "ticks": ""
            },
            "colorscale": [
             [
              0,
              "#0d0887"
             ],
             [
              0.1111111111111111,
              "#46039f"
             ],
             [
              0.2222222222222222,
              "#7201a8"
             ],
             [
              0.3333333333333333,
              "#9c179e"
             ],
             [
              0.4444444444444444,
              "#bd3786"
             ],
             [
              0.5555555555555556,
              "#d8576b"
             ],
             [
              0.6666666666666666,
              "#ed7953"
             ],
             [
              0.7777777777777778,
              "#fb9f3a"
             ],
             [
              0.8888888888888888,
              "#fdca26"
             ],
             [
              1,
              "#f0f921"
             ]
            ],
            "type": "contour"
           }
          ],
          "contourcarpet": [
           {
            "colorbar": {
             "outlinewidth": 0,
             "ticks": ""
            },
            "type": "contourcarpet"
           }
          ],
          "heatmap": [
           {
            "colorbar": {
             "outlinewidth": 0,
             "ticks": ""
            },
            "colorscale": [
             [
              0,
              "#0d0887"
             ],
             [
              0.1111111111111111,
              "#46039f"
             ],
             [
              0.2222222222222222,
              "#7201a8"
             ],
             [
              0.3333333333333333,
              "#9c179e"
             ],
             [
              0.4444444444444444,
              "#bd3786"
             ],
             [
              0.5555555555555556,
              "#d8576b"
             ],
             [
              0.6666666666666666,
              "#ed7953"
             ],
             [
              0.7777777777777778,
              "#fb9f3a"
             ],
             [
              0.8888888888888888,
              "#fdca26"
             ],
             [
              1,
              "#f0f921"
             ]
            ],
            "type": "heatmap"
           }
          ],
          "heatmapgl": [
           {
            "colorbar": {
             "outlinewidth": 0,
             "ticks": ""
            },
            "colorscale": [
             [
              0,
              "#0d0887"
             ],
             [
              0.1111111111111111,
              "#46039f"
             ],
             [
              0.2222222222222222,
              "#7201a8"
             ],
             [
              0.3333333333333333,
              "#9c179e"
             ],
             [
              0.4444444444444444,
              "#bd3786"
             ],
             [
              0.5555555555555556,
              "#d8576b"
             ],
             [
              0.6666666666666666,
              "#ed7953"
             ],
             [
              0.7777777777777778,
              "#fb9f3a"
             ],
             [
              0.8888888888888888,
              "#fdca26"
             ],
             [
              1,
              "#f0f921"
             ]
            ],
            "type": "heatmapgl"
           }
          ],
          "histogram": [
           {
            "marker": {
             "pattern": {
              "fillmode": "overlay",
              "size": 10,
              "solidity": 0.2
             }
            },
            "type": "histogram"
           }
          ],
          "histogram2d": [
           {
            "colorbar": {
             "outlinewidth": 0,
             "ticks": ""
            },
            "colorscale": [
             [
              0,
              "#0d0887"
             ],
             [
              0.1111111111111111,
              "#46039f"
             ],
             [
              0.2222222222222222,
              "#7201a8"
             ],
             [
              0.3333333333333333,
              "#9c179e"
             ],
             [
              0.4444444444444444,
              "#bd3786"
             ],
             [
              0.5555555555555556,
              "#d8576b"
             ],
             [
              0.6666666666666666,
              "#ed7953"
             ],
             [
              0.7777777777777778,
              "#fb9f3a"
             ],
             [
              0.8888888888888888,
              "#fdca26"
             ],
             [
              1,
              "#f0f921"
             ]
            ],
            "type": "histogram2d"
           }
          ],
          "histogram2dcontour": [
           {
            "colorbar": {
             "outlinewidth": 0,
             "ticks": ""
            },
            "colorscale": [
             [
              0,
              "#0d0887"
             ],
             [
              0.1111111111111111,
              "#46039f"
             ],
             [
              0.2222222222222222,
              "#7201a8"
             ],
             [
              0.3333333333333333,
              "#9c179e"
             ],
             [
              0.4444444444444444,
              "#bd3786"
             ],
             [
              0.5555555555555556,
              "#d8576b"
             ],
             [
              0.6666666666666666,
              "#ed7953"
             ],
             [
              0.7777777777777778,
              "#fb9f3a"
             ],
             [
              0.8888888888888888,
              "#fdca26"
             ],
             [
              1,
              "#f0f921"
             ]
            ],
            "type": "histogram2dcontour"
           }
          ],
          "mesh3d": [
           {
            "colorbar": {
             "outlinewidth": 0,
             "ticks": ""
            },
            "type": "mesh3d"
           }
          ],
          "parcoords": [
           {
            "line": {
             "colorbar": {
              "outlinewidth": 0,
              "ticks": ""
             }
            },
            "type": "parcoords"
           }
          ],
          "pie": [
           {
            "automargin": true,
            "type": "pie"
           }
          ],
          "scatter": [
           {
            "fillpattern": {
             "fillmode": "overlay",
             "size": 10,
             "solidity": 0.2
            },
            "type": "scatter"
           }
          ],
          "scatter3d": [
           {
            "line": {
             "colorbar": {
              "outlinewidth": 0,
              "ticks": ""
             }
            },
            "marker": {
             "colorbar": {
              "outlinewidth": 0,
              "ticks": ""
             }
            },
            "type": "scatter3d"
           }
          ],
          "scattercarpet": [
           {
            "marker": {
             "colorbar": {
              "outlinewidth": 0,
              "ticks": ""
             }
            },
            "type": "scattercarpet"
           }
          ],
          "scattergeo": [
           {
            "marker": {
             "colorbar": {
              "outlinewidth": 0,
              "ticks": ""
             }
            },
            "type": "scattergeo"
           }
          ],
          "scattergl": [
           {
            "marker": {
             "colorbar": {
              "outlinewidth": 0,
              "ticks": ""
             }
            },
            "type": "scattergl"
           }
          ],
          "scattermapbox": [
           {
            "marker": {
             "colorbar": {
              "outlinewidth": 0,
              "ticks": ""
             }
            },
            "type": "scattermapbox"
           }
          ],
          "scatterpolar": [
           {
            "marker": {
             "colorbar": {
              "outlinewidth": 0,
              "ticks": ""
             }
            },
            "type": "scatterpolar"
           }
          ],
          "scatterpolargl": [
           {
            "marker": {
             "colorbar": {
              "outlinewidth": 0,
              "ticks": ""
             }
            },
            "type": "scatterpolargl"
           }
          ],
          "scatterternary": [
           {
            "marker": {
             "colorbar": {
              "outlinewidth": 0,
              "ticks": ""
             }
            },
            "type": "scatterternary"
           }
          ],
          "surface": [
           {
            "colorbar": {
             "outlinewidth": 0,
             "ticks": ""
            },
            "colorscale": [
             [
              0,
              "#0d0887"
             ],
             [
              0.1111111111111111,
              "#46039f"
             ],
             [
              0.2222222222222222,
              "#7201a8"
             ],
             [
              0.3333333333333333,
              "#9c179e"
             ],
             [
              0.4444444444444444,
              "#bd3786"
             ],
             [
              0.5555555555555556,
              "#d8576b"
             ],
             [
              0.6666666666666666,
              "#ed7953"
             ],
             [
              0.7777777777777778,
              "#fb9f3a"
             ],
             [
              0.8888888888888888,
              "#fdca26"
             ],
             [
              1,
              "#f0f921"
             ]
            ],
            "type": "surface"
           }
          ],
          "table": [
           {
            "cells": {
             "fill": {
              "color": "#EBF0F8"
             },
             "line": {
              "color": "white"
             }
            },
            "header": {
             "fill": {
              "color": "#C8D4E3"
             },
             "line": {
              "color": "white"
             }
            },
            "type": "table"
           }
          ]
         },
         "layout": {
          "annotationdefaults": {
           "arrowcolor": "#2a3f5f",
           "arrowhead": 0,
           "arrowwidth": 1
          },
          "autotypenumbers": "strict",
          "coloraxis": {
           "colorbar": {
            "outlinewidth": 0,
            "ticks": ""
           }
          },
          "colorscale": {
           "diverging": [
            [
             0,
             "#8e0152"
            ],
            [
             0.1,
             "#c51b7d"
            ],
            [
             0.2,
             "#de77ae"
            ],
            [
             0.3,
             "#f1b6da"
            ],
            [
             0.4,
             "#fde0ef"
            ],
            [
             0.5,
             "#f7f7f7"
            ],
            [
             0.6,
             "#e6f5d0"
            ],
            [
             0.7,
             "#b8e186"
            ],
            [
             0.8,
             "#7fbc41"
            ],
            [
             0.9,
             "#4d9221"
            ],
            [
             1,
             "#276419"
            ]
           ],
           "sequential": [
            [
             0,
             "#0d0887"
            ],
            [
             0.1111111111111111,
             "#46039f"
            ],
            [
             0.2222222222222222,
             "#7201a8"
            ],
            [
             0.3333333333333333,
             "#9c179e"
            ],
            [
             0.4444444444444444,
             "#bd3786"
            ],
            [
             0.5555555555555556,
             "#d8576b"
            ],
            [
             0.6666666666666666,
             "#ed7953"
            ],
            [
             0.7777777777777778,
             "#fb9f3a"
            ],
            [
             0.8888888888888888,
             "#fdca26"
            ],
            [
             1,
             "#f0f921"
            ]
           ],
           "sequentialminus": [
            [
             0,
             "#0d0887"
            ],
            [
             0.1111111111111111,
             "#46039f"
            ],
            [
             0.2222222222222222,
             "#7201a8"
            ],
            [
             0.3333333333333333,
             "#9c179e"
            ],
            [
             0.4444444444444444,
             "#bd3786"
            ],
            [
             0.5555555555555556,
             "#d8576b"
            ],
            [
             0.6666666666666666,
             "#ed7953"
            ],
            [
             0.7777777777777778,
             "#fb9f3a"
            ],
            [
             0.8888888888888888,
             "#fdca26"
            ],
            [
             1,
             "#f0f921"
            ]
           ]
          },
          "colorway": [
           "#636efa",
           "#EF553B",
           "#00cc96",
           "#ab63fa",
           "#FFA15A",
           "#19d3f3",
           "#FF6692",
           "#B6E880",
           "#FF97FF",
           "#FECB52"
          ],
          "font": {
           "color": "#2a3f5f"
          },
          "geo": {
           "bgcolor": "white",
           "lakecolor": "white",
           "landcolor": "#E5ECF6",
           "showlakes": true,
           "showland": true,
           "subunitcolor": "white"
          },
          "hoverlabel": {
           "align": "left"
          },
          "hovermode": "closest",
          "mapbox": {
           "style": "light"
          },
          "paper_bgcolor": "white",
          "plot_bgcolor": "#E5ECF6",
          "polar": {
           "angularaxis": {
            "gridcolor": "white",
            "linecolor": "white",
            "ticks": ""
           },
           "bgcolor": "#E5ECF6",
           "radialaxis": {
            "gridcolor": "white",
            "linecolor": "white",
            "ticks": ""
           }
          },
          "scene": {
           "xaxis": {
            "backgroundcolor": "#E5ECF6",
            "gridcolor": "white",
            "gridwidth": 2,
            "linecolor": "white",
            "showbackground": true,
            "ticks": "",
            "zerolinecolor": "white"
           },
           "yaxis": {
            "backgroundcolor": "#E5ECF6",
            "gridcolor": "white",
            "gridwidth": 2,
            "linecolor": "white",
            "showbackground": true,
            "ticks": "",
            "zerolinecolor": "white"
           },
           "zaxis": {
            "backgroundcolor": "#E5ECF6",
            "gridcolor": "white",
            "gridwidth": 2,
            "linecolor": "white",
            "showbackground": true,
            "ticks": "",
            "zerolinecolor": "white"
           }
          },
          "shapedefaults": {
           "line": {
            "color": "#2a3f5f"
           }
          },
          "ternary": {
           "aaxis": {
            "gridcolor": "white",
            "linecolor": "white",
            "ticks": ""
           },
           "baxis": {
            "gridcolor": "white",
            "linecolor": "white",
            "ticks": ""
           },
           "bgcolor": "#E5ECF6",
           "caxis": {
            "gridcolor": "white",
            "linecolor": "white",
            "ticks": ""
           }
          },
          "title": {
           "x": 0.05
          },
          "xaxis": {
           "automargin": true,
           "gridcolor": "white",
           "linecolor": "white",
           "ticks": "",
           "title": {
            "standoff": 15
           },
           "zerolinecolor": "white",
           "zerolinewidth": 2
          },
          "yaxis": {
           "automargin": true,
           "gridcolor": "white",
           "linecolor": "white",
           "ticks": "",
           "title": {
            "standoff": 15
           },
           "zerolinecolor": "white",
           "zerolinewidth": 2
          }
         }
        },
        "title": {
         "font": {
          "color": "#4D5663"
         }
        },
        "xaxis": {
         "gridcolor": "#E1E5ED",
         "showgrid": true,
         "tickfont": {
          "color": "#4D5663"
         },
         "title": {
          "font": {
           "color": "#4D5663"
          },
          "text": ""
         },
         "zerolinecolor": "#E1E5ED"
        },
        "yaxis": {
         "gridcolor": "#E1E5ED",
         "showgrid": true,
         "tickfont": {
          "color": "#4D5663"
         },
         "title": {
          "font": {
           "color": "#4D5663"
          },
          "text": ""
         },
         "zerolinecolor": "#E1E5ED"
        }
       }
      },
      "text/html": [
       "<div>                            <div id=\"94a831a5-dade-4539-9b1a-b3ec9d7e07ab\" class=\"plotly-graph-div\" style=\"height:525px; width:100%;\"></div>            <script type=\"text/javascript\">                require([\"plotly\"], function(Plotly) {                    window.PLOTLYENV=window.PLOTLYENV || {};\n",
       "                    window.PLOTLYENV.BASE_URL='https://plot.ly';                                    if (document.getElementById(\"94a831a5-dade-4539-9b1a-b3ec9d7e07ab\")) {                    Plotly.newPlot(                        \"94a831a5-dade-4539-9b1a-b3ec9d7e07ab\",                        [{\"colorscale\":[[0.0,\"rgb(165,0,38)\"],[0.1,\"rgb(215,48,39)\"],[0.2,\"rgb(244,109,67)\"],[0.3,\"rgb(253,174,97)\"],[0.4,\"rgb(254,224,144)\"],[0.5,\"rgb(255,255,191)\"],[0.6,\"rgb(224,243,248)\"],[0.7,\"rgb(171,217,233)\"],[0.8,\"rgb(116,173,209)\"],[0.9,\"rgb(69,117,180)\"],[1.0,\"rgb(49,54,149)\"]],\"x\":[0,1,2,3,4],\"y\":[\"x\",\"y\",\"z\"],\"z\":[[1,2,3,4,5],[10,20,30,20,10],[5,4,3,2,1]],\"type\":\"surface\"}],                        {\"legend\":{\"bgcolor\":\"#F5F6F9\",\"font\":{\"color\":\"#4D5663\"}},\"paper_bgcolor\":\"#F5F6F9\",\"plot_bgcolor\":\"#F5F6F9\",\"template\":{\"data\":{\"barpolar\":[{\"marker\":{\"line\":{\"color\":\"#E5ECF6\",\"width\":0.5},\"pattern\":{\"fillmode\":\"overlay\",\"size\":10,\"solidity\":0.2}},\"type\":\"barpolar\"}],\"bar\":[{\"error_x\":{\"color\":\"#2a3f5f\"},\"error_y\":{\"color\":\"#2a3f5f\"},\"marker\":{\"line\":{\"color\":\"#E5ECF6\",\"width\":0.5},\"pattern\":{\"fillmode\":\"overlay\",\"size\":10,\"solidity\":0.2}},\"type\":\"bar\"}],\"carpet\":[{\"aaxis\":{\"endlinecolor\":\"#2a3f5f\",\"gridcolor\":\"white\",\"linecolor\":\"white\",\"minorgridcolor\":\"white\",\"startlinecolor\":\"#2a3f5f\"},\"baxis\":{\"endlinecolor\":\"#2a3f5f\",\"gridcolor\":\"white\",\"linecolor\":\"white\",\"minorgridcolor\":\"white\",\"startlinecolor\":\"#2a3f5f\"},\"type\":\"carpet\"}],\"choropleth\":[{\"colorbar\":{\"outlinewidth\":0,\"ticks\":\"\"},\"type\":\"choropleth\"}],\"contourcarpet\":[{\"colorbar\":{\"outlinewidth\":0,\"ticks\":\"\"},\"type\":\"contourcarpet\"}],\"contour\":[{\"colorbar\":{\"outlinewidth\":0,\"ticks\":\"\"},\"colorscale\":[[0.0,\"#0d0887\"],[0.1111111111111111,\"#46039f\"],[0.2222222222222222,\"#7201a8\"],[0.3333333333333333,\"#9c179e\"],[0.4444444444444444,\"#bd3786\"],[0.5555555555555556,\"#d8576b\"],[0.6666666666666666,\"#ed7953\"],[0.7777777777777778,\"#fb9f3a\"],[0.8888888888888888,\"#fdca26\"],[1.0,\"#f0f921\"]],\"type\":\"contour\"}],\"heatmapgl\":[{\"colorbar\":{\"outlinewidth\":0,\"ticks\":\"\"},\"colorscale\":[[0.0,\"#0d0887\"],[0.1111111111111111,\"#46039f\"],[0.2222222222222222,\"#7201a8\"],[0.3333333333333333,\"#9c179e\"],[0.4444444444444444,\"#bd3786\"],[0.5555555555555556,\"#d8576b\"],[0.6666666666666666,\"#ed7953\"],[0.7777777777777778,\"#fb9f3a\"],[0.8888888888888888,\"#fdca26\"],[1.0,\"#f0f921\"]],\"type\":\"heatmapgl\"}],\"heatmap\":[{\"colorbar\":{\"outlinewidth\":0,\"ticks\":\"\"},\"colorscale\":[[0.0,\"#0d0887\"],[0.1111111111111111,\"#46039f\"],[0.2222222222222222,\"#7201a8\"],[0.3333333333333333,\"#9c179e\"],[0.4444444444444444,\"#bd3786\"],[0.5555555555555556,\"#d8576b\"],[0.6666666666666666,\"#ed7953\"],[0.7777777777777778,\"#fb9f3a\"],[0.8888888888888888,\"#fdca26\"],[1.0,\"#f0f921\"]],\"type\":\"heatmap\"}],\"histogram2dcontour\":[{\"colorbar\":{\"outlinewidth\":0,\"ticks\":\"\"},\"colorscale\":[[0.0,\"#0d0887\"],[0.1111111111111111,\"#46039f\"],[0.2222222222222222,\"#7201a8\"],[0.3333333333333333,\"#9c179e\"],[0.4444444444444444,\"#bd3786\"],[0.5555555555555556,\"#d8576b\"],[0.6666666666666666,\"#ed7953\"],[0.7777777777777778,\"#fb9f3a\"],[0.8888888888888888,\"#fdca26\"],[1.0,\"#f0f921\"]],\"type\":\"histogram2dcontour\"}],\"histogram2d\":[{\"colorbar\":{\"outlinewidth\":0,\"ticks\":\"\"},\"colorscale\":[[0.0,\"#0d0887\"],[0.1111111111111111,\"#46039f\"],[0.2222222222222222,\"#7201a8\"],[0.3333333333333333,\"#9c179e\"],[0.4444444444444444,\"#bd3786\"],[0.5555555555555556,\"#d8576b\"],[0.6666666666666666,\"#ed7953\"],[0.7777777777777778,\"#fb9f3a\"],[0.8888888888888888,\"#fdca26\"],[1.0,\"#f0f921\"]],\"type\":\"histogram2d\"}],\"histogram\":[{\"marker\":{\"pattern\":{\"fillmode\":\"overlay\",\"size\":10,\"solidity\":0.2}},\"type\":\"histogram\"}],\"mesh3d\":[{\"colorbar\":{\"outlinewidth\":0,\"ticks\":\"\"},\"type\":\"mesh3d\"}],\"parcoords\":[{\"line\":{\"colorbar\":{\"outlinewidth\":0,\"ticks\":\"\"}},\"type\":\"parcoords\"}],\"pie\":[{\"automargin\":true,\"type\":\"pie\"}],\"scatter3d\":[{\"line\":{\"colorbar\":{\"outlinewidth\":0,\"ticks\":\"\"}},\"marker\":{\"colorbar\":{\"outlinewidth\":0,\"ticks\":\"\"}},\"type\":\"scatter3d\"}],\"scattercarpet\":[{\"marker\":{\"colorbar\":{\"outlinewidth\":0,\"ticks\":\"\"}},\"type\":\"scattercarpet\"}],\"scattergeo\":[{\"marker\":{\"colorbar\":{\"outlinewidth\":0,\"ticks\":\"\"}},\"type\":\"scattergeo\"}],\"scattergl\":[{\"marker\":{\"colorbar\":{\"outlinewidth\":0,\"ticks\":\"\"}},\"type\":\"scattergl\"}],\"scattermapbox\":[{\"marker\":{\"colorbar\":{\"outlinewidth\":0,\"ticks\":\"\"}},\"type\":\"scattermapbox\"}],\"scatterpolargl\":[{\"marker\":{\"colorbar\":{\"outlinewidth\":0,\"ticks\":\"\"}},\"type\":\"scatterpolargl\"}],\"scatterpolar\":[{\"marker\":{\"colorbar\":{\"outlinewidth\":0,\"ticks\":\"\"}},\"type\":\"scatterpolar\"}],\"scatter\":[{\"fillpattern\":{\"fillmode\":\"overlay\",\"size\":10,\"solidity\":0.2},\"type\":\"scatter\"}],\"scatterternary\":[{\"marker\":{\"colorbar\":{\"outlinewidth\":0,\"ticks\":\"\"}},\"type\":\"scatterternary\"}],\"surface\":[{\"colorbar\":{\"outlinewidth\":0,\"ticks\":\"\"},\"colorscale\":[[0.0,\"#0d0887\"],[0.1111111111111111,\"#46039f\"],[0.2222222222222222,\"#7201a8\"],[0.3333333333333333,\"#9c179e\"],[0.4444444444444444,\"#bd3786\"],[0.5555555555555556,\"#d8576b\"],[0.6666666666666666,\"#ed7953\"],[0.7777777777777778,\"#fb9f3a\"],[0.8888888888888888,\"#fdca26\"],[1.0,\"#f0f921\"]],\"type\":\"surface\"}],\"table\":[{\"cells\":{\"fill\":{\"color\":\"#EBF0F8\"},\"line\":{\"color\":\"white\"}},\"header\":{\"fill\":{\"color\":\"#C8D4E3\"},\"line\":{\"color\":\"white\"}},\"type\":\"table\"}]},\"layout\":{\"annotationdefaults\":{\"arrowcolor\":\"#2a3f5f\",\"arrowhead\":0,\"arrowwidth\":1},\"autotypenumbers\":\"strict\",\"coloraxis\":{\"colorbar\":{\"outlinewidth\":0,\"ticks\":\"\"}},\"colorscale\":{\"diverging\":[[0,\"#8e0152\"],[0.1,\"#c51b7d\"],[0.2,\"#de77ae\"],[0.3,\"#f1b6da\"],[0.4,\"#fde0ef\"],[0.5,\"#f7f7f7\"],[0.6,\"#e6f5d0\"],[0.7,\"#b8e186\"],[0.8,\"#7fbc41\"],[0.9,\"#4d9221\"],[1,\"#276419\"]],\"sequential\":[[0.0,\"#0d0887\"],[0.1111111111111111,\"#46039f\"],[0.2222222222222222,\"#7201a8\"],[0.3333333333333333,\"#9c179e\"],[0.4444444444444444,\"#bd3786\"],[0.5555555555555556,\"#d8576b\"],[0.6666666666666666,\"#ed7953\"],[0.7777777777777778,\"#fb9f3a\"],[0.8888888888888888,\"#fdca26\"],[1.0,\"#f0f921\"]],\"sequentialminus\":[[0.0,\"#0d0887\"],[0.1111111111111111,\"#46039f\"],[0.2222222222222222,\"#7201a8\"],[0.3333333333333333,\"#9c179e\"],[0.4444444444444444,\"#bd3786\"],[0.5555555555555556,\"#d8576b\"],[0.6666666666666666,\"#ed7953\"],[0.7777777777777778,\"#fb9f3a\"],[0.8888888888888888,\"#fdca26\"],[1.0,\"#f0f921\"]]},\"colorway\":[\"#636efa\",\"#EF553B\",\"#00cc96\",\"#ab63fa\",\"#FFA15A\",\"#19d3f3\",\"#FF6692\",\"#B6E880\",\"#FF97FF\",\"#FECB52\"],\"font\":{\"color\":\"#2a3f5f\"},\"geo\":{\"bgcolor\":\"white\",\"lakecolor\":\"white\",\"landcolor\":\"#E5ECF6\",\"showlakes\":true,\"showland\":true,\"subunitcolor\":\"white\"},\"hoverlabel\":{\"align\":\"left\"},\"hovermode\":\"closest\",\"mapbox\":{\"style\":\"light\"},\"paper_bgcolor\":\"white\",\"plot_bgcolor\":\"#E5ECF6\",\"polar\":{\"angularaxis\":{\"gridcolor\":\"white\",\"linecolor\":\"white\",\"ticks\":\"\"},\"bgcolor\":\"#E5ECF6\",\"radialaxis\":{\"gridcolor\":\"white\",\"linecolor\":\"white\",\"ticks\":\"\"}},\"scene\":{\"xaxis\":{\"backgroundcolor\":\"#E5ECF6\",\"gridcolor\":\"white\",\"gridwidth\":2,\"linecolor\":\"white\",\"showbackground\":true,\"ticks\":\"\",\"zerolinecolor\":\"white\"},\"yaxis\":{\"backgroundcolor\":\"#E5ECF6\",\"gridcolor\":\"white\",\"gridwidth\":2,\"linecolor\":\"white\",\"showbackground\":true,\"ticks\":\"\",\"zerolinecolor\":\"white\"},\"zaxis\":{\"backgroundcolor\":\"#E5ECF6\",\"gridcolor\":\"white\",\"gridwidth\":2,\"linecolor\":\"white\",\"showbackground\":true,\"ticks\":\"\",\"zerolinecolor\":\"white\"}},\"shapedefaults\":{\"line\":{\"color\":\"#2a3f5f\"}},\"ternary\":{\"aaxis\":{\"gridcolor\":\"white\",\"linecolor\":\"white\",\"ticks\":\"\"},\"baxis\":{\"gridcolor\":\"white\",\"linecolor\":\"white\",\"ticks\":\"\"},\"bgcolor\":\"#E5ECF6\",\"caxis\":{\"gridcolor\":\"white\",\"linecolor\":\"white\",\"ticks\":\"\"}},\"title\":{\"x\":0.05},\"xaxis\":{\"automargin\":true,\"gridcolor\":\"white\",\"linecolor\":\"white\",\"ticks\":\"\",\"title\":{\"standoff\":15},\"zerolinecolor\":\"white\",\"zerolinewidth\":2},\"yaxis\":{\"automargin\":true,\"gridcolor\":\"white\",\"linecolor\":\"white\",\"ticks\":\"\",\"title\":{\"standoff\":15},\"zerolinecolor\":\"white\",\"zerolinewidth\":2}}},\"title\":{\"font\":{\"color\":\"#4D5663\"}},\"xaxis\":{\"gridcolor\":\"#E1E5ED\",\"showgrid\":true,\"tickfont\":{\"color\":\"#4D5663\"},\"title\":{\"font\":{\"color\":\"#4D5663\"},\"text\":\"\"},\"zerolinecolor\":\"#E1E5ED\"},\"yaxis\":{\"gridcolor\":\"#E1E5ED\",\"showgrid\":true,\"tickfont\":{\"color\":\"#4D5663\"},\"title\":{\"font\":{\"color\":\"#4D5663\"},\"text\":\"\"},\"zerolinecolor\":\"#E1E5ED\"}},                        {\"showLink\": true, \"linkText\": \"Export to plot.ly\", \"plotlyServerURL\": \"https://plot.ly\", \"responsive\": true}                    ).then(function(){\n",
       "                            \n",
       "var gd = document.getElementById('94a831a5-dade-4539-9b1a-b3ec9d7e07ab');\n",
       "var x = new MutationObserver(function (mutations, observer) {{\n",
       "        var display = window.getComputedStyle(gd).display;\n",
       "        if (!display || display === 'none') {{\n",
       "            console.log([gd, 'removed!']);\n",
       "            Plotly.purge(gd);\n",
       "            observer.disconnect();\n",
       "        }}\n",
       "}});\n",
       "\n",
       "// Listen for the removal of the full notebook cells\n",
       "var notebookContainer = gd.closest('#notebook-container');\n",
       "if (notebookContainer) {{\n",
       "    x.observe(notebookContainer, {childList: true});\n",
       "}}\n",
       "\n",
       "// Listen for the clearing of the current output cell\n",
       "var outputEl = gd.closest('.output');\n",
       "if (outputEl) {{\n",
       "    x.observe(outputEl, {childList: true});\n",
       "}}\n",
       "\n",
       "                        })                };                });            </script>        </div>"
      ]
     },
     "metadata": {},
     "output_type": "display_data"
    }
   ],
   "source": [
    "df3 = pd.DataFrame({'x':[1,2,3,4,5],'y':[10,20,30,20,10],'z':[5,4,3,2,1]})\n",
    "df3.iplot(kind='surface',colorscale='rdylbu')"
   ]
  },
  {
   "cell_type": "markdown",
   "metadata": {},
   "source": [
    "## Spread"
   ]
  },
  {
   "cell_type": "code",
   "execution_count": 19,
   "metadata": {},
   "outputs": [
    {
     "ename": "AttributeError",
     "evalue": "module 'pandas' has no attribute 'np'",
     "output_type": "error",
     "traceback": [
      "\u001b[1;31m---------------------------------------------------------------------------\u001b[0m",
      "\u001b[1;31mAttributeError\u001b[0m                            Traceback (most recent call last)",
      "Cell \u001b[1;32mIn[19], line 1\u001b[0m\n\u001b[1;32m----> 1\u001b[0m df[[\u001b[38;5;124m'\u001b[39m\u001b[38;5;124mA\u001b[39m\u001b[38;5;124m'\u001b[39m,\u001b[38;5;124m'\u001b[39m\u001b[38;5;124mB\u001b[39m\u001b[38;5;124m'\u001b[39m]]\u001b[38;5;241m.\u001b[39miplot(kind\u001b[38;5;241m=\u001b[39m\u001b[38;5;124m'\u001b[39m\u001b[38;5;124mspread\u001b[39m\u001b[38;5;124m'\u001b[39m)\n",
      "File \u001b[1;32m~\\anaconda3\\Lib\\site-packages\\cufflinks\\plotlytools.py:849\u001b[0m, in \u001b[0;36m_iplot\u001b[1;34m(self, kind, data, layout, filename, sharing, title, xTitle, yTitle, zTitle, theme, colors, colorscale, fill, width, dash, mode, interpolation, symbol, size, barmode, sortbars, bargap, bargroupgap, bins, histnorm, histfunc, orientation, boxpoints, annotations, keys, bestfit, bestfit_colors, mean, mean_colors, categories, x, y, z, text, gridcolor, zerolinecolor, margin, labels, values, secondary_y, secondary_y_title, subplots, shape, error_x, error_y, error_type, locations, lon, lat, asFrame, asDates, asFigure, asImage, dimensions, asPlot, asUrl, online, **kwargs)\u001b[0m\n\u001b[0;32m    847\u001b[0m \u001b[38;5;28;01mif\u001b[39;00m kind\u001b[38;5;241m==\u001b[39m\u001b[38;5;124m'\u001b[39m\u001b[38;5;124mspread\u001b[39m\u001b[38;5;124m'\u001b[39m:\n\u001b[0;32m    848\u001b[0m \ttrace\u001b[38;5;241m=\u001b[39m\u001b[38;5;28mself\u001b[39m\u001b[38;5;241m.\u001b[39mapply(\u001b[38;5;28;01mlambda\u001b[39;00m x:x[\u001b[38;5;241m0\u001b[39m]\u001b[38;5;241m-\u001b[39mx[\u001b[38;5;241m1\u001b[39m],axis\u001b[38;5;241m=\u001b[39m\u001b[38;5;241m1\u001b[39m)\n\u001b[1;32m--> 849\u001b[0m \tpositive\u001b[38;5;241m=\u001b[39mtrace\u001b[38;5;241m.\u001b[39mapply(\u001b[38;5;28;01mlambda\u001b[39;00m x:x \u001b[38;5;28;01mif\u001b[39;00m x\u001b[38;5;241m>\u001b[39m\u001b[38;5;241m=\u001b[39m\u001b[38;5;241m0\u001b[39m \u001b[38;5;28;01melse\u001b[39;00m pd\u001b[38;5;241m.\u001b[39mnp\u001b[38;5;241m.\u001b[39mnan)\n\u001b[0;32m    850\u001b[0m \tnegative\u001b[38;5;241m=\u001b[39mtrace\u001b[38;5;241m.\u001b[39mapply(\u001b[38;5;28;01mlambda\u001b[39;00m x:x \u001b[38;5;28;01mif\u001b[39;00m x\u001b[38;5;241m<\u001b[39m\u001b[38;5;241m0\u001b[39m \u001b[38;5;28;01melse\u001b[39;00m pd\u001b[38;5;241m.\u001b[39mnp\u001b[38;5;241m.\u001b[39mnan)\n\u001b[0;32m    851\u001b[0m \ttrace\u001b[38;5;241m=\u001b[39mpd\u001b[38;5;241m.\u001b[39mDataFrame({\u001b[38;5;124m'\u001b[39m\u001b[38;5;124mpositive\u001b[39m\u001b[38;5;124m'\u001b[39m:positive,\u001b[38;5;124m'\u001b[39m\u001b[38;5;124mnegative\u001b[39m\u001b[38;5;124m'\u001b[39m:negative})\n",
      "File \u001b[1;32m~\\anaconda3\\Lib\\site-packages\\pandas\\core\\series.py:4630\u001b[0m, in \u001b[0;36mSeries.apply\u001b[1;34m(self, func, convert_dtype, args, **kwargs)\u001b[0m\n\u001b[0;32m   4520\u001b[0m \u001b[38;5;28;01mdef\u001b[39;00m \u001b[38;5;21mapply\u001b[39m(\n\u001b[0;32m   4521\u001b[0m     \u001b[38;5;28mself\u001b[39m,\n\u001b[0;32m   4522\u001b[0m     func: AggFuncType,\n\u001b[1;32m   (...)\u001b[0m\n\u001b[0;32m   4525\u001b[0m     \u001b[38;5;241m*\u001b[39m\u001b[38;5;241m*\u001b[39mkwargs,\n\u001b[0;32m   4526\u001b[0m ) \u001b[38;5;241m-\u001b[39m\u001b[38;5;241m>\u001b[39m DataFrame \u001b[38;5;241m|\u001b[39m Series:\n\u001b[0;32m   4527\u001b[0m \u001b[38;5;250m    \u001b[39m\u001b[38;5;124;03m\"\"\"\u001b[39;00m\n\u001b[0;32m   4528\u001b[0m \u001b[38;5;124;03m    Invoke function on values of Series.\u001b[39;00m\n\u001b[0;32m   4529\u001b[0m \n\u001b[1;32m   (...)\u001b[0m\n\u001b[0;32m   4628\u001b[0m \u001b[38;5;124;03m    dtype: float64\u001b[39;00m\n\u001b[0;32m   4629\u001b[0m \u001b[38;5;124;03m    \"\"\"\u001b[39;00m\n\u001b[1;32m-> 4630\u001b[0m     \u001b[38;5;28;01mreturn\u001b[39;00m SeriesApply(\u001b[38;5;28mself\u001b[39m, func, convert_dtype, args, kwargs)\u001b[38;5;241m.\u001b[39mapply()\n",
      "File \u001b[1;32m~\\anaconda3\\Lib\\site-packages\\pandas\\core\\apply.py:1025\u001b[0m, in \u001b[0;36mSeriesApply.apply\u001b[1;34m(self)\u001b[0m\n\u001b[0;32m   1022\u001b[0m     \u001b[38;5;28;01mreturn\u001b[39;00m \u001b[38;5;28mself\u001b[39m\u001b[38;5;241m.\u001b[39mapply_str()\n\u001b[0;32m   1024\u001b[0m \u001b[38;5;66;03m# self.f is Callable\u001b[39;00m\n\u001b[1;32m-> 1025\u001b[0m \u001b[38;5;28;01mreturn\u001b[39;00m \u001b[38;5;28mself\u001b[39m\u001b[38;5;241m.\u001b[39mapply_standard()\n",
      "File \u001b[1;32m~\\anaconda3\\Lib\\site-packages\\pandas\\core\\apply.py:1076\u001b[0m, in \u001b[0;36mSeriesApply.apply_standard\u001b[1;34m(self)\u001b[0m\n\u001b[0;32m   1074\u001b[0m     \u001b[38;5;28;01melse\u001b[39;00m:\n\u001b[0;32m   1075\u001b[0m         values \u001b[38;5;241m=\u001b[39m obj\u001b[38;5;241m.\u001b[39mastype(\u001b[38;5;28mobject\u001b[39m)\u001b[38;5;241m.\u001b[39m_values\n\u001b[1;32m-> 1076\u001b[0m         mapped \u001b[38;5;241m=\u001b[39m lib\u001b[38;5;241m.\u001b[39mmap_infer(\n\u001b[0;32m   1077\u001b[0m             values,\n\u001b[0;32m   1078\u001b[0m             f,\n\u001b[0;32m   1079\u001b[0m             convert\u001b[38;5;241m=\u001b[39m\u001b[38;5;28mself\u001b[39m\u001b[38;5;241m.\u001b[39mconvert_dtype,\n\u001b[0;32m   1080\u001b[0m         )\n\u001b[0;32m   1082\u001b[0m \u001b[38;5;28;01mif\u001b[39;00m \u001b[38;5;28mlen\u001b[39m(mapped) \u001b[38;5;129;01mand\u001b[39;00m \u001b[38;5;28misinstance\u001b[39m(mapped[\u001b[38;5;241m0\u001b[39m], ABCSeries):\n\u001b[0;32m   1083\u001b[0m     \u001b[38;5;66;03m# GH#43986 Need to do list(mapped) in order to get treated as nested\u001b[39;00m\n\u001b[0;32m   1084\u001b[0m     \u001b[38;5;66;03m#  See also GH#25959 regarding EA support\u001b[39;00m\n\u001b[0;32m   1085\u001b[0m     \u001b[38;5;28;01mreturn\u001b[39;00m obj\u001b[38;5;241m.\u001b[39m_constructor_expanddim(\u001b[38;5;28mlist\u001b[39m(mapped), index\u001b[38;5;241m=\u001b[39mobj\u001b[38;5;241m.\u001b[39mindex)\n",
      "File \u001b[1;32m~\\anaconda3\\Lib\\site-packages\\pandas\\_libs\\lib.pyx:2834\u001b[0m, in \u001b[0;36mpandas._libs.lib.map_infer\u001b[1;34m()\u001b[0m\n",
      "File \u001b[1;32m~\\anaconda3\\Lib\\site-packages\\cufflinks\\plotlytools.py:849\u001b[0m, in \u001b[0;36m_iplot.<locals>.<lambda>\u001b[1;34m(x)\u001b[0m\n\u001b[0;32m    847\u001b[0m \u001b[38;5;28;01mif\u001b[39;00m kind\u001b[38;5;241m==\u001b[39m\u001b[38;5;124m'\u001b[39m\u001b[38;5;124mspread\u001b[39m\u001b[38;5;124m'\u001b[39m:\n\u001b[0;32m    848\u001b[0m \ttrace\u001b[38;5;241m=\u001b[39m\u001b[38;5;28mself\u001b[39m\u001b[38;5;241m.\u001b[39mapply(\u001b[38;5;28;01mlambda\u001b[39;00m x:x[\u001b[38;5;241m0\u001b[39m]\u001b[38;5;241m-\u001b[39mx[\u001b[38;5;241m1\u001b[39m],axis\u001b[38;5;241m=\u001b[39m\u001b[38;5;241m1\u001b[39m)\n\u001b[1;32m--> 849\u001b[0m \tpositive\u001b[38;5;241m=\u001b[39mtrace\u001b[38;5;241m.\u001b[39mapply(\u001b[38;5;28;01mlambda\u001b[39;00m x:x \u001b[38;5;28;01mif\u001b[39;00m x\u001b[38;5;241m>\u001b[39m\u001b[38;5;241m=\u001b[39m\u001b[38;5;241m0\u001b[39m \u001b[38;5;28;01melse\u001b[39;00m pd\u001b[38;5;241m.\u001b[39mnp\u001b[38;5;241m.\u001b[39mnan)\n\u001b[0;32m    850\u001b[0m \tnegative\u001b[38;5;241m=\u001b[39mtrace\u001b[38;5;241m.\u001b[39mapply(\u001b[38;5;28;01mlambda\u001b[39;00m x:x \u001b[38;5;28;01mif\u001b[39;00m x\u001b[38;5;241m<\u001b[39m\u001b[38;5;241m0\u001b[39m \u001b[38;5;28;01melse\u001b[39;00m pd\u001b[38;5;241m.\u001b[39mnp\u001b[38;5;241m.\u001b[39mnan)\n\u001b[0;32m    851\u001b[0m \ttrace\u001b[38;5;241m=\u001b[39mpd\u001b[38;5;241m.\u001b[39mDataFrame({\u001b[38;5;124m'\u001b[39m\u001b[38;5;124mpositive\u001b[39m\u001b[38;5;124m'\u001b[39m:positive,\u001b[38;5;124m'\u001b[39m\u001b[38;5;124mnegative\u001b[39m\u001b[38;5;124m'\u001b[39m:negative})\n",
      "\u001b[1;31mAttributeError\u001b[0m: module 'pandas' has no attribute 'np'"
     ]
    }
   ],
   "source": [
    "df[['A','B']].iplot(kind='spread')"
   ]
  },
  {
   "cell_type": "markdown",
   "metadata": {},
   "source": [
    "## histogram"
   ]
  },
  {
   "cell_type": "code",
   "execution_count": 20,
   "metadata": {},
   "outputs": [
    {
     "data": {
      "application/vnd.plotly.v1+json": {
       "config": {
        "linkText": "Export to plot.ly",
        "plotlyServerURL": "https://plot.ly",
        "showLink": true
       },
       "data": [
        {
         "histfunc": "count",
         "histnorm": "",
         "marker": {
          "color": "rgba(255, 153, 51, 1.0)",
          "line": {
           "color": "#4D5663",
           "width": 1.3
          }
         },
         "name": "A",
         "nbinsx": 25,
         "opacity": 0.8,
         "orientation": "v",
         "type": "histogram",
         "x": [
          -0.5116334595858404,
          -0.40451980663673587,
          0.11150203937866228,
          -0.957022430315918,
          -1.7537384134747118,
          -0.955316648367469,
          2.222588500741579,
          1.632559710535148,
          -0.7735923715434228,
          -0.02963878790154119,
          0.12474207955153141,
          0.007403421790317452,
          0.7440083568613275,
          1.228142706154454,
          0.4903478313312827,
          1.0671146523674926,
          0.38121839902209004,
          0.4784281130106239,
          -0.19334240537897074,
          0.2114068151160235,
          -0.28700598149332923,
          0.6266936008614964,
          -0.5539203483696317,
          0.8808079578911151,
          -0.2900116639501292,
          0.6261423219081403,
          0.44289408669801344,
          -1.0983682136534527,
          2.18957495182428,
          -0.05523220546360378,
          -0.11974553616901784,
          0.9765551281108982,
          1.0094934732433622,
          -1.2467963176372587,
          -0.2916082987378891,
          -0.252668436812334,
          -0.08836765690390477,
          0.6714605946405123,
          -1.975400227235359,
          -1.4659492320039842,
          -1.3895098125317962,
          -0.548176990317895,
          1.1498524159811114,
          -0.680873652531143,
          0.8361233299240934,
          -0.2951580965160952,
          -0.3695172599900852,
          1.3645930195548088,
          -0.4357307104776005,
          0.6430080010807169,
          -1.3455522950429075,
          -0.5206069791562866,
          1.1519658563449808,
          1.5518073674429156,
          -1.1757421206697676,
          0.31577683173796717,
          -0.5930566729500595,
          1.8670196724416042,
          0.5119438525785157,
          2.930461646582064,
          -0.23844315792702714,
          -0.38627151014457195,
          0.09289979180428624,
          -0.4930263009198248,
          -0.2648171930663567,
          -1.176740209750023,
          -0.8939604980187664,
          -0.7371049047637849,
          0.5871643676719378,
          -0.6415778753683434,
          -0.7604105092082487,
          0.7140214328803306,
          -0.9915435986302659,
          0.540851892851178,
          2.171638035591147,
          0.7464422614972771,
          0.7399621239592686,
          -0.23256585533617888,
          0.5432788198064235,
          -1.8189852586551483,
          0.39594453755161185,
          2.081483606601444,
          0.4771429363558366,
          -0.27537596662751096,
          -1.6544053929212492,
          -0.3663005905185225,
          -0.6726891740365734,
          -0.49462773090057727,
          0.389756615394149,
          -0.46107556252258863,
          -1.4536929347782868,
          -0.48860430307025055,
          -1.041576111141286,
          -0.6245608768868465,
          0.8654012168584696,
          0.5453770936816931,
          -0.21852546711481033,
          -0.1416534109291892,
          0.210740917567398,
          -0.786576379864656
         ]
        }
       ],
       "layout": {
        "barmode": "overlay",
        "legend": {
         "bgcolor": "#F5F6F9",
         "font": {
          "color": "#4D5663"
         }
        },
        "paper_bgcolor": "#F5F6F9",
        "plot_bgcolor": "#F5F6F9",
        "template": {
         "data": {
          "bar": [
           {
            "error_x": {
             "color": "#2a3f5f"
            },
            "error_y": {
             "color": "#2a3f5f"
            },
            "marker": {
             "line": {
              "color": "#E5ECF6",
              "width": 0.5
             },
             "pattern": {
              "fillmode": "overlay",
              "size": 10,
              "solidity": 0.2
             }
            },
            "type": "bar"
           }
          ],
          "barpolar": [
           {
            "marker": {
             "line": {
              "color": "#E5ECF6",
              "width": 0.5
             },
             "pattern": {
              "fillmode": "overlay",
              "size": 10,
              "solidity": 0.2
             }
            },
            "type": "barpolar"
           }
          ],
          "carpet": [
           {
            "aaxis": {
             "endlinecolor": "#2a3f5f",
             "gridcolor": "white",
             "linecolor": "white",
             "minorgridcolor": "white",
             "startlinecolor": "#2a3f5f"
            },
            "baxis": {
             "endlinecolor": "#2a3f5f",
             "gridcolor": "white",
             "linecolor": "white",
             "minorgridcolor": "white",
             "startlinecolor": "#2a3f5f"
            },
            "type": "carpet"
           }
          ],
          "choropleth": [
           {
            "colorbar": {
             "outlinewidth": 0,
             "ticks": ""
            },
            "type": "choropleth"
           }
          ],
          "contour": [
           {
            "colorbar": {
             "outlinewidth": 0,
             "ticks": ""
            },
            "colorscale": [
             [
              0,
              "#0d0887"
             ],
             [
              0.1111111111111111,
              "#46039f"
             ],
             [
              0.2222222222222222,
              "#7201a8"
             ],
             [
              0.3333333333333333,
              "#9c179e"
             ],
             [
              0.4444444444444444,
              "#bd3786"
             ],
             [
              0.5555555555555556,
              "#d8576b"
             ],
             [
              0.6666666666666666,
              "#ed7953"
             ],
             [
              0.7777777777777778,
              "#fb9f3a"
             ],
             [
              0.8888888888888888,
              "#fdca26"
             ],
             [
              1,
              "#f0f921"
             ]
            ],
            "type": "contour"
           }
          ],
          "contourcarpet": [
           {
            "colorbar": {
             "outlinewidth": 0,
             "ticks": ""
            },
            "type": "contourcarpet"
           }
          ],
          "heatmap": [
           {
            "colorbar": {
             "outlinewidth": 0,
             "ticks": ""
            },
            "colorscale": [
             [
              0,
              "#0d0887"
             ],
             [
              0.1111111111111111,
              "#46039f"
             ],
             [
              0.2222222222222222,
              "#7201a8"
             ],
             [
              0.3333333333333333,
              "#9c179e"
             ],
             [
              0.4444444444444444,
              "#bd3786"
             ],
             [
              0.5555555555555556,
              "#d8576b"
             ],
             [
              0.6666666666666666,
              "#ed7953"
             ],
             [
              0.7777777777777778,
              "#fb9f3a"
             ],
             [
              0.8888888888888888,
              "#fdca26"
             ],
             [
              1,
              "#f0f921"
             ]
            ],
            "type": "heatmap"
           }
          ],
          "heatmapgl": [
           {
            "colorbar": {
             "outlinewidth": 0,
             "ticks": ""
            },
            "colorscale": [
             [
              0,
              "#0d0887"
             ],
             [
              0.1111111111111111,
              "#46039f"
             ],
             [
              0.2222222222222222,
              "#7201a8"
             ],
             [
              0.3333333333333333,
              "#9c179e"
             ],
             [
              0.4444444444444444,
              "#bd3786"
             ],
             [
              0.5555555555555556,
              "#d8576b"
             ],
             [
              0.6666666666666666,
              "#ed7953"
             ],
             [
              0.7777777777777778,
              "#fb9f3a"
             ],
             [
              0.8888888888888888,
              "#fdca26"
             ],
             [
              1,
              "#f0f921"
             ]
            ],
            "type": "heatmapgl"
           }
          ],
          "histogram": [
           {
            "marker": {
             "pattern": {
              "fillmode": "overlay",
              "size": 10,
              "solidity": 0.2
             }
            },
            "type": "histogram"
           }
          ],
          "histogram2d": [
           {
            "colorbar": {
             "outlinewidth": 0,
             "ticks": ""
            },
            "colorscale": [
             [
              0,
              "#0d0887"
             ],
             [
              0.1111111111111111,
              "#46039f"
             ],
             [
              0.2222222222222222,
              "#7201a8"
             ],
             [
              0.3333333333333333,
              "#9c179e"
             ],
             [
              0.4444444444444444,
              "#bd3786"
             ],
             [
              0.5555555555555556,
              "#d8576b"
             ],
             [
              0.6666666666666666,
              "#ed7953"
             ],
             [
              0.7777777777777778,
              "#fb9f3a"
             ],
             [
              0.8888888888888888,
              "#fdca26"
             ],
             [
              1,
              "#f0f921"
             ]
            ],
            "type": "histogram2d"
           }
          ],
          "histogram2dcontour": [
           {
            "colorbar": {
             "outlinewidth": 0,
             "ticks": ""
            },
            "colorscale": [
             [
              0,
              "#0d0887"
             ],
             [
              0.1111111111111111,
              "#46039f"
             ],
             [
              0.2222222222222222,
              "#7201a8"
             ],
             [
              0.3333333333333333,
              "#9c179e"
             ],
             [
              0.4444444444444444,
              "#bd3786"
             ],
             [
              0.5555555555555556,
              "#d8576b"
             ],
             [
              0.6666666666666666,
              "#ed7953"
             ],
             [
              0.7777777777777778,
              "#fb9f3a"
             ],
             [
              0.8888888888888888,
              "#fdca26"
             ],
             [
              1,
              "#f0f921"
             ]
            ],
            "type": "histogram2dcontour"
           }
          ],
          "mesh3d": [
           {
            "colorbar": {
             "outlinewidth": 0,
             "ticks": ""
            },
            "type": "mesh3d"
           }
          ],
          "parcoords": [
           {
            "line": {
             "colorbar": {
              "outlinewidth": 0,
              "ticks": ""
             }
            },
            "type": "parcoords"
           }
          ],
          "pie": [
           {
            "automargin": true,
            "type": "pie"
           }
          ],
          "scatter": [
           {
            "fillpattern": {
             "fillmode": "overlay",
             "size": 10,
             "solidity": 0.2
            },
            "type": "scatter"
           }
          ],
          "scatter3d": [
           {
            "line": {
             "colorbar": {
              "outlinewidth": 0,
              "ticks": ""
             }
            },
            "marker": {
             "colorbar": {
              "outlinewidth": 0,
              "ticks": ""
             }
            },
            "type": "scatter3d"
           }
          ],
          "scattercarpet": [
           {
            "marker": {
             "colorbar": {
              "outlinewidth": 0,
              "ticks": ""
             }
            },
            "type": "scattercarpet"
           }
          ],
          "scattergeo": [
           {
            "marker": {
             "colorbar": {
              "outlinewidth": 0,
              "ticks": ""
             }
            },
            "type": "scattergeo"
           }
          ],
          "scattergl": [
           {
            "marker": {
             "colorbar": {
              "outlinewidth": 0,
              "ticks": ""
             }
            },
            "type": "scattergl"
           }
          ],
          "scattermapbox": [
           {
            "marker": {
             "colorbar": {
              "outlinewidth": 0,
              "ticks": ""
             }
            },
            "type": "scattermapbox"
           }
          ],
          "scatterpolar": [
           {
            "marker": {
             "colorbar": {
              "outlinewidth": 0,
              "ticks": ""
             }
            },
            "type": "scatterpolar"
           }
          ],
          "scatterpolargl": [
           {
            "marker": {
             "colorbar": {
              "outlinewidth": 0,
              "ticks": ""
             }
            },
            "type": "scatterpolargl"
           }
          ],
          "scatterternary": [
           {
            "marker": {
             "colorbar": {
              "outlinewidth": 0,
              "ticks": ""
             }
            },
            "type": "scatterternary"
           }
          ],
          "surface": [
           {
            "colorbar": {
             "outlinewidth": 0,
             "ticks": ""
            },
            "colorscale": [
             [
              0,
              "#0d0887"
             ],
             [
              0.1111111111111111,
              "#46039f"
             ],
             [
              0.2222222222222222,
              "#7201a8"
             ],
             [
              0.3333333333333333,
              "#9c179e"
             ],
             [
              0.4444444444444444,
              "#bd3786"
             ],
             [
              0.5555555555555556,
              "#d8576b"
             ],
             [
              0.6666666666666666,
              "#ed7953"
             ],
             [
              0.7777777777777778,
              "#fb9f3a"
             ],
             [
              0.8888888888888888,
              "#fdca26"
             ],
             [
              1,
              "#f0f921"
             ]
            ],
            "type": "surface"
           }
          ],
          "table": [
           {
            "cells": {
             "fill": {
              "color": "#EBF0F8"
             },
             "line": {
              "color": "white"
             }
            },
            "header": {
             "fill": {
              "color": "#C8D4E3"
             },
             "line": {
              "color": "white"
             }
            },
            "type": "table"
           }
          ]
         },
         "layout": {
          "annotationdefaults": {
           "arrowcolor": "#2a3f5f",
           "arrowhead": 0,
           "arrowwidth": 1
          },
          "autotypenumbers": "strict",
          "coloraxis": {
           "colorbar": {
            "outlinewidth": 0,
            "ticks": ""
           }
          },
          "colorscale": {
           "diverging": [
            [
             0,
             "#8e0152"
            ],
            [
             0.1,
             "#c51b7d"
            ],
            [
             0.2,
             "#de77ae"
            ],
            [
             0.3,
             "#f1b6da"
            ],
            [
             0.4,
             "#fde0ef"
            ],
            [
             0.5,
             "#f7f7f7"
            ],
            [
             0.6,
             "#e6f5d0"
            ],
            [
             0.7,
             "#b8e186"
            ],
            [
             0.8,
             "#7fbc41"
            ],
            [
             0.9,
             "#4d9221"
            ],
            [
             1,
             "#276419"
            ]
           ],
           "sequential": [
            [
             0,
             "#0d0887"
            ],
            [
             0.1111111111111111,
             "#46039f"
            ],
            [
             0.2222222222222222,
             "#7201a8"
            ],
            [
             0.3333333333333333,
             "#9c179e"
            ],
            [
             0.4444444444444444,
             "#bd3786"
            ],
            [
             0.5555555555555556,
             "#d8576b"
            ],
            [
             0.6666666666666666,
             "#ed7953"
            ],
            [
             0.7777777777777778,
             "#fb9f3a"
            ],
            [
             0.8888888888888888,
             "#fdca26"
            ],
            [
             1,
             "#f0f921"
            ]
           ],
           "sequentialminus": [
            [
             0,
             "#0d0887"
            ],
            [
             0.1111111111111111,
             "#46039f"
            ],
            [
             0.2222222222222222,
             "#7201a8"
            ],
            [
             0.3333333333333333,
             "#9c179e"
            ],
            [
             0.4444444444444444,
             "#bd3786"
            ],
            [
             0.5555555555555556,
             "#d8576b"
            ],
            [
             0.6666666666666666,
             "#ed7953"
            ],
            [
             0.7777777777777778,
             "#fb9f3a"
            ],
            [
             0.8888888888888888,
             "#fdca26"
            ],
            [
             1,
             "#f0f921"
            ]
           ]
          },
          "colorway": [
           "#636efa",
           "#EF553B",
           "#00cc96",
           "#ab63fa",
           "#FFA15A",
           "#19d3f3",
           "#FF6692",
           "#B6E880",
           "#FF97FF",
           "#FECB52"
          ],
          "font": {
           "color": "#2a3f5f"
          },
          "geo": {
           "bgcolor": "white",
           "lakecolor": "white",
           "landcolor": "#E5ECF6",
           "showlakes": true,
           "showland": true,
           "subunitcolor": "white"
          },
          "hoverlabel": {
           "align": "left"
          },
          "hovermode": "closest",
          "mapbox": {
           "style": "light"
          },
          "paper_bgcolor": "white",
          "plot_bgcolor": "#E5ECF6",
          "polar": {
           "angularaxis": {
            "gridcolor": "white",
            "linecolor": "white",
            "ticks": ""
           },
           "bgcolor": "#E5ECF6",
           "radialaxis": {
            "gridcolor": "white",
            "linecolor": "white",
            "ticks": ""
           }
          },
          "scene": {
           "xaxis": {
            "backgroundcolor": "#E5ECF6",
            "gridcolor": "white",
            "gridwidth": 2,
            "linecolor": "white",
            "showbackground": true,
            "ticks": "",
            "zerolinecolor": "white"
           },
           "yaxis": {
            "backgroundcolor": "#E5ECF6",
            "gridcolor": "white",
            "gridwidth": 2,
            "linecolor": "white",
            "showbackground": true,
            "ticks": "",
            "zerolinecolor": "white"
           },
           "zaxis": {
            "backgroundcolor": "#E5ECF6",
            "gridcolor": "white",
            "gridwidth": 2,
            "linecolor": "white",
            "showbackground": true,
            "ticks": "",
            "zerolinecolor": "white"
           }
          },
          "shapedefaults": {
           "line": {
            "color": "#2a3f5f"
           }
          },
          "ternary": {
           "aaxis": {
            "gridcolor": "white",
            "linecolor": "white",
            "ticks": ""
           },
           "baxis": {
            "gridcolor": "white",
            "linecolor": "white",
            "ticks": ""
           },
           "bgcolor": "#E5ECF6",
           "caxis": {
            "gridcolor": "white",
            "linecolor": "white",
            "ticks": ""
           }
          },
          "title": {
           "x": 0.05
          },
          "xaxis": {
           "automargin": true,
           "gridcolor": "white",
           "linecolor": "white",
           "ticks": "",
           "title": {
            "standoff": 15
           },
           "zerolinecolor": "white",
           "zerolinewidth": 2
          },
          "yaxis": {
           "automargin": true,
           "gridcolor": "white",
           "linecolor": "white",
           "ticks": "",
           "title": {
            "standoff": 15
           },
           "zerolinecolor": "white",
           "zerolinewidth": 2
          }
         }
        },
        "title": {
         "font": {
          "color": "#4D5663"
         }
        },
        "xaxis": {
         "gridcolor": "#E1E5ED",
         "showgrid": true,
         "tickfont": {
          "color": "#4D5663"
         },
         "title": {
          "font": {
           "color": "#4D5663"
          },
          "text": ""
         },
         "zerolinecolor": "#E1E5ED"
        },
        "yaxis": {
         "gridcolor": "#E1E5ED",
         "showgrid": true,
         "tickfont": {
          "color": "#4D5663"
         },
         "title": {
          "font": {
           "color": "#4D5663"
          },
          "text": ""
         },
         "zerolinecolor": "#E1E5ED"
        }
       }
      },
      "text/html": [
       "<div>                            <div id=\"e2e95bd4-4784-4cd8-b16b-c5b631298aa8\" class=\"plotly-graph-div\" style=\"height:525px; width:100%;\"></div>            <script type=\"text/javascript\">                require([\"plotly\"], function(Plotly) {                    window.PLOTLYENV=window.PLOTLYENV || {};\n",
       "                    window.PLOTLYENV.BASE_URL='https://plot.ly';                                    if (document.getElementById(\"e2e95bd4-4784-4cd8-b16b-c5b631298aa8\")) {                    Plotly.newPlot(                        \"e2e95bd4-4784-4cd8-b16b-c5b631298aa8\",                        [{\"histfunc\":\"count\",\"histnorm\":\"\",\"marker\":{\"color\":\"rgba(255, 153, 51, 1.0)\",\"line\":{\"color\":\"#4D5663\",\"width\":1.3}},\"name\":\"A\",\"nbinsx\":25,\"opacity\":0.8,\"orientation\":\"v\",\"x\":[-0.5116334595858404,-0.40451980663673587,0.11150203937866228,-0.957022430315918,-1.7537384134747118,-0.955316648367469,2.222588500741579,1.632559710535148,-0.7735923715434228,-0.02963878790154119,0.12474207955153141,0.007403421790317452,0.7440083568613275,1.228142706154454,0.4903478313312827,1.0671146523674926,0.38121839902209004,0.4784281130106239,-0.19334240537897074,0.2114068151160235,-0.28700598149332923,0.6266936008614964,-0.5539203483696317,0.8808079578911151,-0.2900116639501292,0.6261423219081403,0.44289408669801344,-1.0983682136534527,2.18957495182428,-0.05523220546360378,-0.11974553616901784,0.9765551281108982,1.0094934732433622,-1.2467963176372587,-0.2916082987378891,-0.252668436812334,-0.08836765690390477,0.6714605946405123,-1.975400227235359,-1.4659492320039842,-1.3895098125317962,-0.548176990317895,1.1498524159811114,-0.680873652531143,0.8361233299240934,-0.2951580965160952,-0.3695172599900852,1.3645930195548088,-0.4357307104776005,0.6430080010807169,-1.3455522950429075,-0.5206069791562866,1.1519658563449808,1.5518073674429156,-1.1757421206697676,0.31577683173796717,-0.5930566729500595,1.8670196724416042,0.5119438525785157,2.930461646582064,-0.23844315792702714,-0.38627151014457195,0.09289979180428624,-0.4930263009198248,-0.2648171930663567,-1.176740209750023,-0.8939604980187664,-0.7371049047637849,0.5871643676719378,-0.6415778753683434,-0.7604105092082487,0.7140214328803306,-0.9915435986302659,0.540851892851178,2.171638035591147,0.7464422614972771,0.7399621239592686,-0.23256585533617888,0.5432788198064235,-1.8189852586551483,0.39594453755161185,2.081483606601444,0.4771429363558366,-0.27537596662751096,-1.6544053929212492,-0.3663005905185225,-0.6726891740365734,-0.49462773090057727,0.389756615394149,-0.46107556252258863,-1.4536929347782868,-0.48860430307025055,-1.041576111141286,-0.6245608768868465,0.8654012168584696,0.5453770936816931,-0.21852546711481033,-0.1416534109291892,0.210740917567398,-0.786576379864656],\"type\":\"histogram\"}],                        {\"barmode\":\"overlay\",\"legend\":{\"bgcolor\":\"#F5F6F9\",\"font\":{\"color\":\"#4D5663\"}},\"paper_bgcolor\":\"#F5F6F9\",\"plot_bgcolor\":\"#F5F6F9\",\"template\":{\"data\":{\"barpolar\":[{\"marker\":{\"line\":{\"color\":\"#E5ECF6\",\"width\":0.5},\"pattern\":{\"fillmode\":\"overlay\",\"size\":10,\"solidity\":0.2}},\"type\":\"barpolar\"}],\"bar\":[{\"error_x\":{\"color\":\"#2a3f5f\"},\"error_y\":{\"color\":\"#2a3f5f\"},\"marker\":{\"line\":{\"color\":\"#E5ECF6\",\"width\":0.5},\"pattern\":{\"fillmode\":\"overlay\",\"size\":10,\"solidity\":0.2}},\"type\":\"bar\"}],\"carpet\":[{\"aaxis\":{\"endlinecolor\":\"#2a3f5f\",\"gridcolor\":\"white\",\"linecolor\":\"white\",\"minorgridcolor\":\"white\",\"startlinecolor\":\"#2a3f5f\"},\"baxis\":{\"endlinecolor\":\"#2a3f5f\",\"gridcolor\":\"white\",\"linecolor\":\"white\",\"minorgridcolor\":\"white\",\"startlinecolor\":\"#2a3f5f\"},\"type\":\"carpet\"}],\"choropleth\":[{\"colorbar\":{\"outlinewidth\":0,\"ticks\":\"\"},\"type\":\"choropleth\"}],\"contourcarpet\":[{\"colorbar\":{\"outlinewidth\":0,\"ticks\":\"\"},\"type\":\"contourcarpet\"}],\"contour\":[{\"colorbar\":{\"outlinewidth\":0,\"ticks\":\"\"},\"colorscale\":[[0.0,\"#0d0887\"],[0.1111111111111111,\"#46039f\"],[0.2222222222222222,\"#7201a8\"],[0.3333333333333333,\"#9c179e\"],[0.4444444444444444,\"#bd3786\"],[0.5555555555555556,\"#d8576b\"],[0.6666666666666666,\"#ed7953\"],[0.7777777777777778,\"#fb9f3a\"],[0.8888888888888888,\"#fdca26\"],[1.0,\"#f0f921\"]],\"type\":\"contour\"}],\"heatmapgl\":[{\"colorbar\":{\"outlinewidth\":0,\"ticks\":\"\"},\"colorscale\":[[0.0,\"#0d0887\"],[0.1111111111111111,\"#46039f\"],[0.2222222222222222,\"#7201a8\"],[0.3333333333333333,\"#9c179e\"],[0.4444444444444444,\"#bd3786\"],[0.5555555555555556,\"#d8576b\"],[0.6666666666666666,\"#ed7953\"],[0.7777777777777778,\"#fb9f3a\"],[0.8888888888888888,\"#fdca26\"],[1.0,\"#f0f921\"]],\"type\":\"heatmapgl\"}],\"heatmap\":[{\"colorbar\":{\"outlinewidth\":0,\"ticks\":\"\"},\"colorscale\":[[0.0,\"#0d0887\"],[0.1111111111111111,\"#46039f\"],[0.2222222222222222,\"#7201a8\"],[0.3333333333333333,\"#9c179e\"],[0.4444444444444444,\"#bd3786\"],[0.5555555555555556,\"#d8576b\"],[0.6666666666666666,\"#ed7953\"],[0.7777777777777778,\"#fb9f3a\"],[0.8888888888888888,\"#fdca26\"],[1.0,\"#f0f921\"]],\"type\":\"heatmap\"}],\"histogram2dcontour\":[{\"colorbar\":{\"outlinewidth\":0,\"ticks\":\"\"},\"colorscale\":[[0.0,\"#0d0887\"],[0.1111111111111111,\"#46039f\"],[0.2222222222222222,\"#7201a8\"],[0.3333333333333333,\"#9c179e\"],[0.4444444444444444,\"#bd3786\"],[0.5555555555555556,\"#d8576b\"],[0.6666666666666666,\"#ed7953\"],[0.7777777777777778,\"#fb9f3a\"],[0.8888888888888888,\"#fdca26\"],[1.0,\"#f0f921\"]],\"type\":\"histogram2dcontour\"}],\"histogram2d\":[{\"colorbar\":{\"outlinewidth\":0,\"ticks\":\"\"},\"colorscale\":[[0.0,\"#0d0887\"],[0.1111111111111111,\"#46039f\"],[0.2222222222222222,\"#7201a8\"],[0.3333333333333333,\"#9c179e\"],[0.4444444444444444,\"#bd3786\"],[0.5555555555555556,\"#d8576b\"],[0.6666666666666666,\"#ed7953\"],[0.7777777777777778,\"#fb9f3a\"],[0.8888888888888888,\"#fdca26\"],[1.0,\"#f0f921\"]],\"type\":\"histogram2d\"}],\"histogram\":[{\"marker\":{\"pattern\":{\"fillmode\":\"overlay\",\"size\":10,\"solidity\":0.2}},\"type\":\"histogram\"}],\"mesh3d\":[{\"colorbar\":{\"outlinewidth\":0,\"ticks\":\"\"},\"type\":\"mesh3d\"}],\"parcoords\":[{\"line\":{\"colorbar\":{\"outlinewidth\":0,\"ticks\":\"\"}},\"type\":\"parcoords\"}],\"pie\":[{\"automargin\":true,\"type\":\"pie\"}],\"scatter3d\":[{\"line\":{\"colorbar\":{\"outlinewidth\":0,\"ticks\":\"\"}},\"marker\":{\"colorbar\":{\"outlinewidth\":0,\"ticks\":\"\"}},\"type\":\"scatter3d\"}],\"scattercarpet\":[{\"marker\":{\"colorbar\":{\"outlinewidth\":0,\"ticks\":\"\"}},\"type\":\"scattercarpet\"}],\"scattergeo\":[{\"marker\":{\"colorbar\":{\"outlinewidth\":0,\"ticks\":\"\"}},\"type\":\"scattergeo\"}],\"scattergl\":[{\"marker\":{\"colorbar\":{\"outlinewidth\":0,\"ticks\":\"\"}},\"type\":\"scattergl\"}],\"scattermapbox\":[{\"marker\":{\"colorbar\":{\"outlinewidth\":0,\"ticks\":\"\"}},\"type\":\"scattermapbox\"}],\"scatterpolargl\":[{\"marker\":{\"colorbar\":{\"outlinewidth\":0,\"ticks\":\"\"}},\"type\":\"scatterpolargl\"}],\"scatterpolar\":[{\"marker\":{\"colorbar\":{\"outlinewidth\":0,\"ticks\":\"\"}},\"type\":\"scatterpolar\"}],\"scatter\":[{\"fillpattern\":{\"fillmode\":\"overlay\",\"size\":10,\"solidity\":0.2},\"type\":\"scatter\"}],\"scatterternary\":[{\"marker\":{\"colorbar\":{\"outlinewidth\":0,\"ticks\":\"\"}},\"type\":\"scatterternary\"}],\"surface\":[{\"colorbar\":{\"outlinewidth\":0,\"ticks\":\"\"},\"colorscale\":[[0.0,\"#0d0887\"],[0.1111111111111111,\"#46039f\"],[0.2222222222222222,\"#7201a8\"],[0.3333333333333333,\"#9c179e\"],[0.4444444444444444,\"#bd3786\"],[0.5555555555555556,\"#d8576b\"],[0.6666666666666666,\"#ed7953\"],[0.7777777777777778,\"#fb9f3a\"],[0.8888888888888888,\"#fdca26\"],[1.0,\"#f0f921\"]],\"type\":\"surface\"}],\"table\":[{\"cells\":{\"fill\":{\"color\":\"#EBF0F8\"},\"line\":{\"color\":\"white\"}},\"header\":{\"fill\":{\"color\":\"#C8D4E3\"},\"line\":{\"color\":\"white\"}},\"type\":\"table\"}]},\"layout\":{\"annotationdefaults\":{\"arrowcolor\":\"#2a3f5f\",\"arrowhead\":0,\"arrowwidth\":1},\"autotypenumbers\":\"strict\",\"coloraxis\":{\"colorbar\":{\"outlinewidth\":0,\"ticks\":\"\"}},\"colorscale\":{\"diverging\":[[0,\"#8e0152\"],[0.1,\"#c51b7d\"],[0.2,\"#de77ae\"],[0.3,\"#f1b6da\"],[0.4,\"#fde0ef\"],[0.5,\"#f7f7f7\"],[0.6,\"#e6f5d0\"],[0.7,\"#b8e186\"],[0.8,\"#7fbc41\"],[0.9,\"#4d9221\"],[1,\"#276419\"]],\"sequential\":[[0.0,\"#0d0887\"],[0.1111111111111111,\"#46039f\"],[0.2222222222222222,\"#7201a8\"],[0.3333333333333333,\"#9c179e\"],[0.4444444444444444,\"#bd3786\"],[0.5555555555555556,\"#d8576b\"],[0.6666666666666666,\"#ed7953\"],[0.7777777777777778,\"#fb9f3a\"],[0.8888888888888888,\"#fdca26\"],[1.0,\"#f0f921\"]],\"sequentialminus\":[[0.0,\"#0d0887\"],[0.1111111111111111,\"#46039f\"],[0.2222222222222222,\"#7201a8\"],[0.3333333333333333,\"#9c179e\"],[0.4444444444444444,\"#bd3786\"],[0.5555555555555556,\"#d8576b\"],[0.6666666666666666,\"#ed7953\"],[0.7777777777777778,\"#fb9f3a\"],[0.8888888888888888,\"#fdca26\"],[1.0,\"#f0f921\"]]},\"colorway\":[\"#636efa\",\"#EF553B\",\"#00cc96\",\"#ab63fa\",\"#FFA15A\",\"#19d3f3\",\"#FF6692\",\"#B6E880\",\"#FF97FF\",\"#FECB52\"],\"font\":{\"color\":\"#2a3f5f\"},\"geo\":{\"bgcolor\":\"white\",\"lakecolor\":\"white\",\"landcolor\":\"#E5ECF6\",\"showlakes\":true,\"showland\":true,\"subunitcolor\":\"white\"},\"hoverlabel\":{\"align\":\"left\"},\"hovermode\":\"closest\",\"mapbox\":{\"style\":\"light\"},\"paper_bgcolor\":\"white\",\"plot_bgcolor\":\"#E5ECF6\",\"polar\":{\"angularaxis\":{\"gridcolor\":\"white\",\"linecolor\":\"white\",\"ticks\":\"\"},\"bgcolor\":\"#E5ECF6\",\"radialaxis\":{\"gridcolor\":\"white\",\"linecolor\":\"white\",\"ticks\":\"\"}},\"scene\":{\"xaxis\":{\"backgroundcolor\":\"#E5ECF6\",\"gridcolor\":\"white\",\"gridwidth\":2,\"linecolor\":\"white\",\"showbackground\":true,\"ticks\":\"\",\"zerolinecolor\":\"white\"},\"yaxis\":{\"backgroundcolor\":\"#E5ECF6\",\"gridcolor\":\"white\",\"gridwidth\":2,\"linecolor\":\"white\",\"showbackground\":true,\"ticks\":\"\",\"zerolinecolor\":\"white\"},\"zaxis\":{\"backgroundcolor\":\"#E5ECF6\",\"gridcolor\":\"white\",\"gridwidth\":2,\"linecolor\":\"white\",\"showbackground\":true,\"ticks\":\"\",\"zerolinecolor\":\"white\"}},\"shapedefaults\":{\"line\":{\"color\":\"#2a3f5f\"}},\"ternary\":{\"aaxis\":{\"gridcolor\":\"white\",\"linecolor\":\"white\",\"ticks\":\"\"},\"baxis\":{\"gridcolor\":\"white\",\"linecolor\":\"white\",\"ticks\":\"\"},\"bgcolor\":\"#E5ECF6\",\"caxis\":{\"gridcolor\":\"white\",\"linecolor\":\"white\",\"ticks\":\"\"}},\"title\":{\"x\":0.05},\"xaxis\":{\"automargin\":true,\"gridcolor\":\"white\",\"linecolor\":\"white\",\"ticks\":\"\",\"title\":{\"standoff\":15},\"zerolinecolor\":\"white\",\"zerolinewidth\":2},\"yaxis\":{\"automargin\":true,\"gridcolor\":\"white\",\"linecolor\":\"white\",\"ticks\":\"\",\"title\":{\"standoff\":15},\"zerolinecolor\":\"white\",\"zerolinewidth\":2}}},\"title\":{\"font\":{\"color\":\"#4D5663\"}},\"xaxis\":{\"gridcolor\":\"#E1E5ED\",\"showgrid\":true,\"tickfont\":{\"color\":\"#4D5663\"},\"title\":{\"font\":{\"color\":\"#4D5663\"},\"text\":\"\"},\"zerolinecolor\":\"#E1E5ED\"},\"yaxis\":{\"gridcolor\":\"#E1E5ED\",\"showgrid\":true,\"tickfont\":{\"color\":\"#4D5663\"},\"title\":{\"font\":{\"color\":\"#4D5663\"},\"text\":\"\"},\"zerolinecolor\":\"#E1E5ED\"}},                        {\"showLink\": true, \"linkText\": \"Export to plot.ly\", \"plotlyServerURL\": \"https://plot.ly\", \"responsive\": true}                    ).then(function(){\n",
       "                            \n",
       "var gd = document.getElementById('e2e95bd4-4784-4cd8-b16b-c5b631298aa8');\n",
       "var x = new MutationObserver(function (mutations, observer) {{\n",
       "        var display = window.getComputedStyle(gd).display;\n",
       "        if (!display || display === 'none') {{\n",
       "            console.log([gd, 'removed!']);\n",
       "            Plotly.purge(gd);\n",
       "            observer.disconnect();\n",
       "        }}\n",
       "}});\n",
       "\n",
       "// Listen for the removal of the full notebook cells\n",
       "var notebookContainer = gd.closest('#notebook-container');\n",
       "if (notebookContainer) {{\n",
       "    x.observe(notebookContainer, {childList: true});\n",
       "}}\n",
       "\n",
       "// Listen for the clearing of the current output cell\n",
       "var outputEl = gd.closest('.output');\n",
       "if (outputEl) {{\n",
       "    x.observe(outputEl, {childList: true});\n",
       "}}\n",
       "\n",
       "                        })                };                });            </script>        </div>"
      ]
     },
     "metadata": {},
     "output_type": "display_data"
    }
   ],
   "source": [
    "df['A'].iplot(kind='hist',bins=25)"
   ]
  },
  {
   "cell_type": "code",
   "execution_count": 21,
   "metadata": {},
   "outputs": [
    {
     "data": {
      "application/vnd.plotly.v1+json": {
       "config": {
        "linkText": "Export to plot.ly",
        "plotlyServerURL": "https://plot.ly",
        "showLink": true
       },
       "data": [
        {
         "marker": {
          "color": [
           "rgb(255, 153, 51)",
           "rgb(55, 128, 191)",
           "rgb(50, 171, 96)",
           "rgb(128, 0, 128)",
           "rgb(219, 64, 82)",
           "rgb(0, 128, 128)",
           "rgb(255, 255, 51)",
           "rgb(128, 128, 0)",
           "rgb(251, 128, 114)",
           "rgb(128, 177, 211)"
          ],
          "line": {
           "width": 1.3
          },
          "size": [
           50,
           67,
           59,
           39,
           27,
           41,
           20,
           51,
           28,
           54,
           64,
           68,
           47,
           38,
           12,
           41,
           84,
           61,
           96,
           83,
           85,
           62,
           73,
           89,
           76,
           73,
           37,
           68,
           58,
           71,
           96,
           41,
           68,
           41,
           82,
           63,
           64,
           52,
           51,
           112,
           73,
           53,
           66,
           43,
           81,
           47,
           64,
           66,
           79,
           50,
           77,
           21,
           91,
           80,
           35,
           71,
           70,
           41,
           68,
           91,
           71,
           97,
           83,
           52,
           67,
           35,
           61,
           68,
           63,
           83,
           51,
           45,
           60,
           43,
           60,
           59,
           80,
           54,
           74,
           54,
           37,
           78,
           98,
           51,
           91,
           55,
           77,
           74,
           37,
           68,
           54,
           48,
           62,
           72,
           62,
           53,
           59,
           32,
           55,
           47
          ],
          "symbol": "circle"
         },
         "mode": "markers",
         "text": "",
         "type": "scatter",
         "x": [
          -0.5116334595858404,
          -0.40451980663673587,
          0.11150203937866228,
          -0.957022430315918,
          -1.7537384134747118,
          -0.955316648367469,
          2.222588500741579,
          1.632559710535148,
          -0.7735923715434228,
          -0.02963878790154119,
          0.12474207955153141,
          0.007403421790317452,
          0.7440083568613275,
          1.228142706154454,
          0.4903478313312827,
          1.0671146523674926,
          0.38121839902209004,
          0.4784281130106239,
          -0.19334240537897074,
          0.2114068151160235,
          -0.28700598149332923,
          0.6266936008614964,
          -0.5539203483696317,
          0.8808079578911151,
          -0.2900116639501292,
          0.6261423219081403,
          0.44289408669801344,
          -1.0983682136534527,
          2.18957495182428,
          -0.05523220546360378,
          -0.11974553616901784,
          0.9765551281108982,
          1.0094934732433622,
          -1.2467963176372587,
          -0.2916082987378891,
          -0.252668436812334,
          -0.08836765690390477,
          0.6714605946405123,
          -1.975400227235359,
          -1.4659492320039842,
          -1.3895098125317962,
          -0.548176990317895,
          1.1498524159811114,
          -0.680873652531143,
          0.8361233299240934,
          -0.2951580965160952,
          -0.3695172599900852,
          1.3645930195548088,
          -0.4357307104776005,
          0.6430080010807169,
          -1.3455522950429075,
          -0.5206069791562866,
          1.1519658563449808,
          1.5518073674429156,
          -1.1757421206697676,
          0.31577683173796717,
          -0.5930566729500595,
          1.8670196724416042,
          0.5119438525785157,
          2.930461646582064,
          -0.23844315792702714,
          -0.38627151014457195,
          0.09289979180428624,
          -0.4930263009198248,
          -0.2648171930663567,
          -1.176740209750023,
          -0.8939604980187664,
          -0.7371049047637849,
          0.5871643676719378,
          -0.6415778753683434,
          -0.7604105092082487,
          0.7140214328803306,
          -0.9915435986302659,
          0.540851892851178,
          2.171638035591147,
          0.7464422614972771,
          0.7399621239592686,
          -0.23256585533617888,
          0.5432788198064235,
          -1.8189852586551483,
          0.39594453755161185,
          2.081483606601444,
          0.4771429363558366,
          -0.27537596662751096,
          -1.6544053929212492,
          -0.3663005905185225,
          -0.6726891740365734,
          -0.49462773090057727,
          0.389756615394149,
          -0.46107556252258863,
          -1.4536929347782868,
          -0.48860430307025055,
          -1.041576111141286,
          -0.6245608768868465,
          0.8654012168584696,
          0.5453770936816931,
          -0.21852546711481033,
          -0.1416534109291892,
          0.210740917567398,
          -0.786576379864656
         ],
         "y": [
          -1.021949233130461,
          0.25594574775048773,
          -0.49810387488163294,
          -1.325142642265481,
          -0.5366367478882258,
          1.0588099409333411,
          -1.0032978099073984,
          -0.8859669207305646,
          -0.06246948659894244,
          1.608941187505579,
          -0.3707918869740564,
          1.0450432601692148,
          -0.8401673973404254,
          0.292684789819589,
          0.729639443981082,
          0.4858150437908382,
          -0.4648277842418754,
          1.143185288073808,
          -1.0407427191447072,
          -1.425350991448239,
          -1.6558923830502548,
          -0.196126484198559,
          1.0552658780568707,
          -0.35263289136461645,
          0.8594609595168468,
          -1.2146127586768733,
          0.13220927769630178,
          -0.5648126800961567,
          -1.4173856239947105,
          -0.27379828911599174,
          0.4627715724085573,
          0.954071074533576,
          -1.5179053035379908,
          -0.7490363703587672,
          0.7843382049747933,
          -0.5825381214550421,
          -2.648166884938007,
          1.307337854013301,
          -1.2013701767559322,
          0.04436461470208275,
          -1.0206994284023114,
          -1.674926161290066,
          0.8378551196604281,
          -0.5081307161078558,
          1.0391192470821948,
          0.9628168203510796,
          0.004656832184727584,
          0.37783807138446773,
          -0.8090007741198757,
          0.3080210740208786,
          -0.01291972632760256,
          -0.32808528338522164,
          -1.296008271665516,
          -0.12789723500299224,
          0.9185470189724362,
          0.1287211863056182,
          2.237138179378632,
          -1.046419761230294,
          0.4280079253568352,
          1.2204039767857147,
          2.1548771482416798,
          0.44660725613147545,
          2.408224640092218,
          -1.11188791629352,
          -0.5898211643668354,
          0.8713265333134166,
          -0.46222389540219333,
          -0.11916235926853035,
          -0.5535978037993889,
          0.6087265261133761,
          1.225924068607216,
          0.9635074728291688,
          1.698331398380695,
          1.4246856327640762,
          -1.518895721740957,
          0.7649774149193973,
          0.7729348387618514,
          -0.9428834054294118,
          2.4457721829035237,
          -1.4393216516608613,
          -0.0593960436946276,
          0.8440019438929776,
          -0.7630293848511864,
          0.9877315922843377,
          -1.0272063197815813,
          0.5562686704820748,
          -0.5764170798889229,
          2.68893459063555,
          0.20429998711292027,
          0.8244038897408704,
          -0.7091675926939464,
          1.7030636499644225,
          -0.21407226437633675,
          -0.4877776042634076,
          0.4706276205941772,
          -0.10691589777002733,
          0.98046375194209,
          -1.2024078700961744,
          -0.23736613593332123,
          -0.6760890965035313
         ]
        }
       ],
       "layout": {
        "legend": {
         "bgcolor": "#F5F6F9",
         "font": {
          "color": "#4D5663"
         }
        },
        "paper_bgcolor": "#F5F6F9",
        "plot_bgcolor": "#F5F6F9",
        "template": {
         "data": {
          "bar": [
           {
            "error_x": {
             "color": "#2a3f5f"
            },
            "error_y": {
             "color": "#2a3f5f"
            },
            "marker": {
             "line": {
              "color": "#E5ECF6",
              "width": 0.5
             },
             "pattern": {
              "fillmode": "overlay",
              "size": 10,
              "solidity": 0.2
             }
            },
            "type": "bar"
           }
          ],
          "barpolar": [
           {
            "marker": {
             "line": {
              "color": "#E5ECF6",
              "width": 0.5
             },
             "pattern": {
              "fillmode": "overlay",
              "size": 10,
              "solidity": 0.2
             }
            },
            "type": "barpolar"
           }
          ],
          "carpet": [
           {
            "aaxis": {
             "endlinecolor": "#2a3f5f",
             "gridcolor": "white",
             "linecolor": "white",
             "minorgridcolor": "white",
             "startlinecolor": "#2a3f5f"
            },
            "baxis": {
             "endlinecolor": "#2a3f5f",
             "gridcolor": "white",
             "linecolor": "white",
             "minorgridcolor": "white",
             "startlinecolor": "#2a3f5f"
            },
            "type": "carpet"
           }
          ],
          "choropleth": [
           {
            "colorbar": {
             "outlinewidth": 0,
             "ticks": ""
            },
            "type": "choropleth"
           }
          ],
          "contour": [
           {
            "colorbar": {
             "outlinewidth": 0,
             "ticks": ""
            },
            "colorscale": [
             [
              0,
              "#0d0887"
             ],
             [
              0.1111111111111111,
              "#46039f"
             ],
             [
              0.2222222222222222,
              "#7201a8"
             ],
             [
              0.3333333333333333,
              "#9c179e"
             ],
             [
              0.4444444444444444,
              "#bd3786"
             ],
             [
              0.5555555555555556,
              "#d8576b"
             ],
             [
              0.6666666666666666,
              "#ed7953"
             ],
             [
              0.7777777777777778,
              "#fb9f3a"
             ],
             [
              0.8888888888888888,
              "#fdca26"
             ],
             [
              1,
              "#f0f921"
             ]
            ],
            "type": "contour"
           }
          ],
          "contourcarpet": [
           {
            "colorbar": {
             "outlinewidth": 0,
             "ticks": ""
            },
            "type": "contourcarpet"
           }
          ],
          "heatmap": [
           {
            "colorbar": {
             "outlinewidth": 0,
             "ticks": ""
            },
            "colorscale": [
             [
              0,
              "#0d0887"
             ],
             [
              0.1111111111111111,
              "#46039f"
             ],
             [
              0.2222222222222222,
              "#7201a8"
             ],
             [
              0.3333333333333333,
              "#9c179e"
             ],
             [
              0.4444444444444444,
              "#bd3786"
             ],
             [
              0.5555555555555556,
              "#d8576b"
             ],
             [
              0.6666666666666666,
              "#ed7953"
             ],
             [
              0.7777777777777778,
              "#fb9f3a"
             ],
             [
              0.8888888888888888,
              "#fdca26"
             ],
             [
              1,
              "#f0f921"
             ]
            ],
            "type": "heatmap"
           }
          ],
          "heatmapgl": [
           {
            "colorbar": {
             "outlinewidth": 0,
             "ticks": ""
            },
            "colorscale": [
             [
              0,
              "#0d0887"
             ],
             [
              0.1111111111111111,
              "#46039f"
             ],
             [
              0.2222222222222222,
              "#7201a8"
             ],
             [
              0.3333333333333333,
              "#9c179e"
             ],
             [
              0.4444444444444444,
              "#bd3786"
             ],
             [
              0.5555555555555556,
              "#d8576b"
             ],
             [
              0.6666666666666666,
              "#ed7953"
             ],
             [
              0.7777777777777778,
              "#fb9f3a"
             ],
             [
              0.8888888888888888,
              "#fdca26"
             ],
             [
              1,
              "#f0f921"
             ]
            ],
            "type": "heatmapgl"
           }
          ],
          "histogram": [
           {
            "marker": {
             "pattern": {
              "fillmode": "overlay",
              "size": 10,
              "solidity": 0.2
             }
            },
            "type": "histogram"
           }
          ],
          "histogram2d": [
           {
            "colorbar": {
             "outlinewidth": 0,
             "ticks": ""
            },
            "colorscale": [
             [
              0,
              "#0d0887"
             ],
             [
              0.1111111111111111,
              "#46039f"
             ],
             [
              0.2222222222222222,
              "#7201a8"
             ],
             [
              0.3333333333333333,
              "#9c179e"
             ],
             [
              0.4444444444444444,
              "#bd3786"
             ],
             [
              0.5555555555555556,
              "#d8576b"
             ],
             [
              0.6666666666666666,
              "#ed7953"
             ],
             [
              0.7777777777777778,
              "#fb9f3a"
             ],
             [
              0.8888888888888888,
              "#fdca26"
             ],
             [
              1,
              "#f0f921"
             ]
            ],
            "type": "histogram2d"
           }
          ],
          "histogram2dcontour": [
           {
            "colorbar": {
             "outlinewidth": 0,
             "ticks": ""
            },
            "colorscale": [
             [
              0,
              "#0d0887"
             ],
             [
              0.1111111111111111,
              "#46039f"
             ],
             [
              0.2222222222222222,
              "#7201a8"
             ],
             [
              0.3333333333333333,
              "#9c179e"
             ],
             [
              0.4444444444444444,
              "#bd3786"
             ],
             [
              0.5555555555555556,
              "#d8576b"
             ],
             [
              0.6666666666666666,
              "#ed7953"
             ],
             [
              0.7777777777777778,
              "#fb9f3a"
             ],
             [
              0.8888888888888888,
              "#fdca26"
             ],
             [
              1,
              "#f0f921"
             ]
            ],
            "type": "histogram2dcontour"
           }
          ],
          "mesh3d": [
           {
            "colorbar": {
             "outlinewidth": 0,
             "ticks": ""
            },
            "type": "mesh3d"
           }
          ],
          "parcoords": [
           {
            "line": {
             "colorbar": {
              "outlinewidth": 0,
              "ticks": ""
             }
            },
            "type": "parcoords"
           }
          ],
          "pie": [
           {
            "automargin": true,
            "type": "pie"
           }
          ],
          "scatter": [
           {
            "fillpattern": {
             "fillmode": "overlay",
             "size": 10,
             "solidity": 0.2
            },
            "type": "scatter"
           }
          ],
          "scatter3d": [
           {
            "line": {
             "colorbar": {
              "outlinewidth": 0,
              "ticks": ""
             }
            },
            "marker": {
             "colorbar": {
              "outlinewidth": 0,
              "ticks": ""
             }
            },
            "type": "scatter3d"
           }
          ],
          "scattercarpet": [
           {
            "marker": {
             "colorbar": {
              "outlinewidth": 0,
              "ticks": ""
             }
            },
            "type": "scattercarpet"
           }
          ],
          "scattergeo": [
           {
            "marker": {
             "colorbar": {
              "outlinewidth": 0,
              "ticks": ""
             }
            },
            "type": "scattergeo"
           }
          ],
          "scattergl": [
           {
            "marker": {
             "colorbar": {
              "outlinewidth": 0,
              "ticks": ""
             }
            },
            "type": "scattergl"
           }
          ],
          "scattermapbox": [
           {
            "marker": {
             "colorbar": {
              "outlinewidth": 0,
              "ticks": ""
             }
            },
            "type": "scattermapbox"
           }
          ],
          "scatterpolar": [
           {
            "marker": {
             "colorbar": {
              "outlinewidth": 0,
              "ticks": ""
             }
            },
            "type": "scatterpolar"
           }
          ],
          "scatterpolargl": [
           {
            "marker": {
             "colorbar": {
              "outlinewidth": 0,
              "ticks": ""
             }
            },
            "type": "scatterpolargl"
           }
          ],
          "scatterternary": [
           {
            "marker": {
             "colorbar": {
              "outlinewidth": 0,
              "ticks": ""
             }
            },
            "type": "scatterternary"
           }
          ],
          "surface": [
           {
            "colorbar": {
             "outlinewidth": 0,
             "ticks": ""
            },
            "colorscale": [
             [
              0,
              "#0d0887"
             ],
             [
              0.1111111111111111,
              "#46039f"
             ],
             [
              0.2222222222222222,
              "#7201a8"
             ],
             [
              0.3333333333333333,
              "#9c179e"
             ],
             [
              0.4444444444444444,
              "#bd3786"
             ],
             [
              0.5555555555555556,
              "#d8576b"
             ],
             [
              0.6666666666666666,
              "#ed7953"
             ],
             [
              0.7777777777777778,
              "#fb9f3a"
             ],
             [
              0.8888888888888888,
              "#fdca26"
             ],
             [
              1,
              "#f0f921"
             ]
            ],
            "type": "surface"
           }
          ],
          "table": [
           {
            "cells": {
             "fill": {
              "color": "#EBF0F8"
             },
             "line": {
              "color": "white"
             }
            },
            "header": {
             "fill": {
              "color": "#C8D4E3"
             },
             "line": {
              "color": "white"
             }
            },
            "type": "table"
           }
          ]
         },
         "layout": {
          "annotationdefaults": {
           "arrowcolor": "#2a3f5f",
           "arrowhead": 0,
           "arrowwidth": 1
          },
          "autotypenumbers": "strict",
          "coloraxis": {
           "colorbar": {
            "outlinewidth": 0,
            "ticks": ""
           }
          },
          "colorscale": {
           "diverging": [
            [
             0,
             "#8e0152"
            ],
            [
             0.1,
             "#c51b7d"
            ],
            [
             0.2,
             "#de77ae"
            ],
            [
             0.3,
             "#f1b6da"
            ],
            [
             0.4,
             "#fde0ef"
            ],
            [
             0.5,
             "#f7f7f7"
            ],
            [
             0.6,
             "#e6f5d0"
            ],
            [
             0.7,
             "#b8e186"
            ],
            [
             0.8,
             "#7fbc41"
            ],
            [
             0.9,
             "#4d9221"
            ],
            [
             1,
             "#276419"
            ]
           ],
           "sequential": [
            [
             0,
             "#0d0887"
            ],
            [
             0.1111111111111111,
             "#46039f"
            ],
            [
             0.2222222222222222,
             "#7201a8"
            ],
            [
             0.3333333333333333,
             "#9c179e"
            ],
            [
             0.4444444444444444,
             "#bd3786"
            ],
            [
             0.5555555555555556,
             "#d8576b"
            ],
            [
             0.6666666666666666,
             "#ed7953"
            ],
            [
             0.7777777777777778,
             "#fb9f3a"
            ],
            [
             0.8888888888888888,
             "#fdca26"
            ],
            [
             1,
             "#f0f921"
            ]
           ],
           "sequentialminus": [
            [
             0,
             "#0d0887"
            ],
            [
             0.1111111111111111,
             "#46039f"
            ],
            [
             0.2222222222222222,
             "#7201a8"
            ],
            [
             0.3333333333333333,
             "#9c179e"
            ],
            [
             0.4444444444444444,
             "#bd3786"
            ],
            [
             0.5555555555555556,
             "#d8576b"
            ],
            [
             0.6666666666666666,
             "#ed7953"
            ],
            [
             0.7777777777777778,
             "#fb9f3a"
            ],
            [
             0.8888888888888888,
             "#fdca26"
            ],
            [
             1,
             "#f0f921"
            ]
           ]
          },
          "colorway": [
           "#636efa",
           "#EF553B",
           "#00cc96",
           "#ab63fa",
           "#FFA15A",
           "#19d3f3",
           "#FF6692",
           "#B6E880",
           "#FF97FF",
           "#FECB52"
          ],
          "font": {
           "color": "#2a3f5f"
          },
          "geo": {
           "bgcolor": "white",
           "lakecolor": "white",
           "landcolor": "#E5ECF6",
           "showlakes": true,
           "showland": true,
           "subunitcolor": "white"
          },
          "hoverlabel": {
           "align": "left"
          },
          "hovermode": "closest",
          "mapbox": {
           "style": "light"
          },
          "paper_bgcolor": "white",
          "plot_bgcolor": "#E5ECF6",
          "polar": {
           "angularaxis": {
            "gridcolor": "white",
            "linecolor": "white",
            "ticks": ""
           },
           "bgcolor": "#E5ECF6",
           "radialaxis": {
            "gridcolor": "white",
            "linecolor": "white",
            "ticks": ""
           }
          },
          "scene": {
           "xaxis": {
            "backgroundcolor": "#E5ECF6",
            "gridcolor": "white",
            "gridwidth": 2,
            "linecolor": "white",
            "showbackground": true,
            "ticks": "",
            "zerolinecolor": "white"
           },
           "yaxis": {
            "backgroundcolor": "#E5ECF6",
            "gridcolor": "white",
            "gridwidth": 2,
            "linecolor": "white",
            "showbackground": true,
            "ticks": "",
            "zerolinecolor": "white"
           },
           "zaxis": {
            "backgroundcolor": "#E5ECF6",
            "gridcolor": "white",
            "gridwidth": 2,
            "linecolor": "white",
            "showbackground": true,
            "ticks": "",
            "zerolinecolor": "white"
           }
          },
          "shapedefaults": {
           "line": {
            "color": "#2a3f5f"
           }
          },
          "ternary": {
           "aaxis": {
            "gridcolor": "white",
            "linecolor": "white",
            "ticks": ""
           },
           "baxis": {
            "gridcolor": "white",
            "linecolor": "white",
            "ticks": ""
           },
           "bgcolor": "#E5ECF6",
           "caxis": {
            "gridcolor": "white",
            "linecolor": "white",
            "ticks": ""
           }
          },
          "title": {
           "x": 0.05
          },
          "xaxis": {
           "automargin": true,
           "gridcolor": "white",
           "linecolor": "white",
           "ticks": "",
           "title": {
            "standoff": 15
           },
           "zerolinecolor": "white",
           "zerolinewidth": 2
          },
          "yaxis": {
           "automargin": true,
           "gridcolor": "white",
           "linecolor": "white",
           "ticks": "",
           "title": {
            "standoff": 15
           },
           "zerolinecolor": "white",
           "zerolinewidth": 2
          }
         }
        },
        "title": {
         "font": {
          "color": "#4D5663"
         }
        },
        "xaxis": {
         "gridcolor": "#E1E5ED",
         "showgrid": true,
         "tickfont": {
          "color": "#4D5663"
         },
         "title": {
          "font": {
           "color": "#4D5663"
          },
          "text": ""
         },
         "zerolinecolor": "#E1E5ED"
        },
        "yaxis": {
         "gridcolor": "#E1E5ED",
         "showgrid": true,
         "tickfont": {
          "color": "#4D5663"
         },
         "title": {
          "font": {
           "color": "#4D5663"
          },
          "text": ""
         },
         "zerolinecolor": "#E1E5ED"
        }
       }
      },
      "text/html": [
       "<div>                            <div id=\"0b113039-fc4e-41b8-b763-28d51beea382\" class=\"plotly-graph-div\" style=\"height:525px; width:100%;\"></div>            <script type=\"text/javascript\">                require([\"plotly\"], function(Plotly) {                    window.PLOTLYENV=window.PLOTLYENV || {};\n",
       "                    window.PLOTLYENV.BASE_URL='https://plot.ly';                                    if (document.getElementById(\"0b113039-fc4e-41b8-b763-28d51beea382\")) {                    Plotly.newPlot(                        \"0b113039-fc4e-41b8-b763-28d51beea382\",                        [{\"marker\":{\"color\":[\"rgb(255, 153, 51)\",\"rgb(55, 128, 191)\",\"rgb(50, 171, 96)\",\"rgb(128, 0, 128)\",\"rgb(219, 64, 82)\",\"rgb(0, 128, 128)\",\"rgb(255, 255, 51)\",\"rgb(128, 128, 0)\",\"rgb(251, 128, 114)\",\"rgb(128, 177, 211)\"],\"line\":{\"width\":1.3},\"size\":[50,67,59,39,27,41,20,51,28,54,64,68,47,38,12,41,84,61,96,83,85,62,73,89,76,73,37,68,58,71,96,41,68,41,82,63,64,52,51,112,73,53,66,43,81,47,64,66,79,50,77,21,91,80,35,71,70,41,68,91,71,97,83,52,67,35,61,68,63,83,51,45,60,43,60,59,80,54,74,54,37,78,98,51,91,55,77,74,37,68,54,48,62,72,62,53,59,32,55,47],\"symbol\":\"circle\"},\"mode\":\"markers\",\"text\":\"\",\"x\":[-0.5116334595858404,-0.40451980663673587,0.11150203937866228,-0.957022430315918,-1.7537384134747118,-0.955316648367469,2.222588500741579,1.632559710535148,-0.7735923715434228,-0.02963878790154119,0.12474207955153141,0.007403421790317452,0.7440083568613275,1.228142706154454,0.4903478313312827,1.0671146523674926,0.38121839902209004,0.4784281130106239,-0.19334240537897074,0.2114068151160235,-0.28700598149332923,0.6266936008614964,-0.5539203483696317,0.8808079578911151,-0.2900116639501292,0.6261423219081403,0.44289408669801344,-1.0983682136534527,2.18957495182428,-0.05523220546360378,-0.11974553616901784,0.9765551281108982,1.0094934732433622,-1.2467963176372587,-0.2916082987378891,-0.252668436812334,-0.08836765690390477,0.6714605946405123,-1.975400227235359,-1.4659492320039842,-1.3895098125317962,-0.548176990317895,1.1498524159811114,-0.680873652531143,0.8361233299240934,-0.2951580965160952,-0.3695172599900852,1.3645930195548088,-0.4357307104776005,0.6430080010807169,-1.3455522950429075,-0.5206069791562866,1.1519658563449808,1.5518073674429156,-1.1757421206697676,0.31577683173796717,-0.5930566729500595,1.8670196724416042,0.5119438525785157,2.930461646582064,-0.23844315792702714,-0.38627151014457195,0.09289979180428624,-0.4930263009198248,-0.2648171930663567,-1.176740209750023,-0.8939604980187664,-0.7371049047637849,0.5871643676719378,-0.6415778753683434,-0.7604105092082487,0.7140214328803306,-0.9915435986302659,0.540851892851178,2.171638035591147,0.7464422614972771,0.7399621239592686,-0.23256585533617888,0.5432788198064235,-1.8189852586551483,0.39594453755161185,2.081483606601444,0.4771429363558366,-0.27537596662751096,-1.6544053929212492,-0.3663005905185225,-0.6726891740365734,-0.49462773090057727,0.389756615394149,-0.46107556252258863,-1.4536929347782868,-0.48860430307025055,-1.041576111141286,-0.6245608768868465,0.8654012168584696,0.5453770936816931,-0.21852546711481033,-0.1416534109291892,0.210740917567398,-0.786576379864656],\"y\":[-1.021949233130461,0.25594574775048773,-0.49810387488163294,-1.325142642265481,-0.5366367478882258,1.0588099409333411,-1.0032978099073984,-0.8859669207305646,-0.06246948659894244,1.608941187505579,-0.3707918869740564,1.0450432601692148,-0.8401673973404254,0.292684789819589,0.729639443981082,0.4858150437908382,-0.4648277842418754,1.143185288073808,-1.0407427191447072,-1.425350991448239,-1.6558923830502548,-0.196126484198559,1.0552658780568707,-0.35263289136461645,0.8594609595168468,-1.2146127586768733,0.13220927769630178,-0.5648126800961567,-1.4173856239947105,-0.27379828911599174,0.4627715724085573,0.954071074533576,-1.5179053035379908,-0.7490363703587672,0.7843382049747933,-0.5825381214550421,-2.648166884938007,1.307337854013301,-1.2013701767559322,0.04436461470208275,-1.0206994284023114,-1.674926161290066,0.8378551196604281,-0.5081307161078558,1.0391192470821948,0.9628168203510796,0.004656832184727584,0.37783807138446773,-0.8090007741198757,0.3080210740208786,-0.01291972632760256,-0.32808528338522164,-1.296008271665516,-0.12789723500299224,0.9185470189724362,0.1287211863056182,2.237138179378632,-1.046419761230294,0.4280079253568352,1.2204039767857147,2.1548771482416798,0.44660725613147545,2.408224640092218,-1.11188791629352,-0.5898211643668354,0.8713265333134166,-0.46222389540219333,-0.11916235926853035,-0.5535978037993889,0.6087265261133761,1.225924068607216,0.9635074728291688,1.698331398380695,1.4246856327640762,-1.518895721740957,0.7649774149193973,0.7729348387618514,-0.9428834054294118,2.4457721829035237,-1.4393216516608613,-0.0593960436946276,0.8440019438929776,-0.7630293848511864,0.9877315922843377,-1.0272063197815813,0.5562686704820748,-0.5764170798889229,2.68893459063555,0.20429998711292027,0.8244038897408704,-0.7091675926939464,1.7030636499644225,-0.21407226437633675,-0.4877776042634076,0.4706276205941772,-0.10691589777002733,0.98046375194209,-1.2024078700961744,-0.23736613593332123,-0.6760890965035313],\"type\":\"scatter\"}],                        {\"legend\":{\"bgcolor\":\"#F5F6F9\",\"font\":{\"color\":\"#4D5663\"}},\"paper_bgcolor\":\"#F5F6F9\",\"plot_bgcolor\":\"#F5F6F9\",\"template\":{\"data\":{\"barpolar\":[{\"marker\":{\"line\":{\"color\":\"#E5ECF6\",\"width\":0.5},\"pattern\":{\"fillmode\":\"overlay\",\"size\":10,\"solidity\":0.2}},\"type\":\"barpolar\"}],\"bar\":[{\"error_x\":{\"color\":\"#2a3f5f\"},\"error_y\":{\"color\":\"#2a3f5f\"},\"marker\":{\"line\":{\"color\":\"#E5ECF6\",\"width\":0.5},\"pattern\":{\"fillmode\":\"overlay\",\"size\":10,\"solidity\":0.2}},\"type\":\"bar\"}],\"carpet\":[{\"aaxis\":{\"endlinecolor\":\"#2a3f5f\",\"gridcolor\":\"white\",\"linecolor\":\"white\",\"minorgridcolor\":\"white\",\"startlinecolor\":\"#2a3f5f\"},\"baxis\":{\"endlinecolor\":\"#2a3f5f\",\"gridcolor\":\"white\",\"linecolor\":\"white\",\"minorgridcolor\":\"white\",\"startlinecolor\":\"#2a3f5f\"},\"type\":\"carpet\"}],\"choropleth\":[{\"colorbar\":{\"outlinewidth\":0,\"ticks\":\"\"},\"type\":\"choropleth\"}],\"contourcarpet\":[{\"colorbar\":{\"outlinewidth\":0,\"ticks\":\"\"},\"type\":\"contourcarpet\"}],\"contour\":[{\"colorbar\":{\"outlinewidth\":0,\"ticks\":\"\"},\"colorscale\":[[0.0,\"#0d0887\"],[0.1111111111111111,\"#46039f\"],[0.2222222222222222,\"#7201a8\"],[0.3333333333333333,\"#9c179e\"],[0.4444444444444444,\"#bd3786\"],[0.5555555555555556,\"#d8576b\"],[0.6666666666666666,\"#ed7953\"],[0.7777777777777778,\"#fb9f3a\"],[0.8888888888888888,\"#fdca26\"],[1.0,\"#f0f921\"]],\"type\":\"contour\"}],\"heatmapgl\":[{\"colorbar\":{\"outlinewidth\":0,\"ticks\":\"\"},\"colorscale\":[[0.0,\"#0d0887\"],[0.1111111111111111,\"#46039f\"],[0.2222222222222222,\"#7201a8\"],[0.3333333333333333,\"#9c179e\"],[0.4444444444444444,\"#bd3786\"],[0.5555555555555556,\"#d8576b\"],[0.6666666666666666,\"#ed7953\"],[0.7777777777777778,\"#fb9f3a\"],[0.8888888888888888,\"#fdca26\"],[1.0,\"#f0f921\"]],\"type\":\"heatmapgl\"}],\"heatmap\":[{\"colorbar\":{\"outlinewidth\":0,\"ticks\":\"\"},\"colorscale\":[[0.0,\"#0d0887\"],[0.1111111111111111,\"#46039f\"],[0.2222222222222222,\"#7201a8\"],[0.3333333333333333,\"#9c179e\"],[0.4444444444444444,\"#bd3786\"],[0.5555555555555556,\"#d8576b\"],[0.6666666666666666,\"#ed7953\"],[0.7777777777777778,\"#fb9f3a\"],[0.8888888888888888,\"#fdca26\"],[1.0,\"#f0f921\"]],\"type\":\"heatmap\"}],\"histogram2dcontour\":[{\"colorbar\":{\"outlinewidth\":0,\"ticks\":\"\"},\"colorscale\":[[0.0,\"#0d0887\"],[0.1111111111111111,\"#46039f\"],[0.2222222222222222,\"#7201a8\"],[0.3333333333333333,\"#9c179e\"],[0.4444444444444444,\"#bd3786\"],[0.5555555555555556,\"#d8576b\"],[0.6666666666666666,\"#ed7953\"],[0.7777777777777778,\"#fb9f3a\"],[0.8888888888888888,\"#fdca26\"],[1.0,\"#f0f921\"]],\"type\":\"histogram2dcontour\"}],\"histogram2d\":[{\"colorbar\":{\"outlinewidth\":0,\"ticks\":\"\"},\"colorscale\":[[0.0,\"#0d0887\"],[0.1111111111111111,\"#46039f\"],[0.2222222222222222,\"#7201a8\"],[0.3333333333333333,\"#9c179e\"],[0.4444444444444444,\"#bd3786\"],[0.5555555555555556,\"#d8576b\"],[0.6666666666666666,\"#ed7953\"],[0.7777777777777778,\"#fb9f3a\"],[0.8888888888888888,\"#fdca26\"],[1.0,\"#f0f921\"]],\"type\":\"histogram2d\"}],\"histogram\":[{\"marker\":{\"pattern\":{\"fillmode\":\"overlay\",\"size\":10,\"solidity\":0.2}},\"type\":\"histogram\"}],\"mesh3d\":[{\"colorbar\":{\"outlinewidth\":0,\"ticks\":\"\"},\"type\":\"mesh3d\"}],\"parcoords\":[{\"line\":{\"colorbar\":{\"outlinewidth\":0,\"ticks\":\"\"}},\"type\":\"parcoords\"}],\"pie\":[{\"automargin\":true,\"type\":\"pie\"}],\"scatter3d\":[{\"line\":{\"colorbar\":{\"outlinewidth\":0,\"ticks\":\"\"}},\"marker\":{\"colorbar\":{\"outlinewidth\":0,\"ticks\":\"\"}},\"type\":\"scatter3d\"}],\"scattercarpet\":[{\"marker\":{\"colorbar\":{\"outlinewidth\":0,\"ticks\":\"\"}},\"type\":\"scattercarpet\"}],\"scattergeo\":[{\"marker\":{\"colorbar\":{\"outlinewidth\":0,\"ticks\":\"\"}},\"type\":\"scattergeo\"}],\"scattergl\":[{\"marker\":{\"colorbar\":{\"outlinewidth\":0,\"ticks\":\"\"}},\"type\":\"scattergl\"}],\"scattermapbox\":[{\"marker\":{\"colorbar\":{\"outlinewidth\":0,\"ticks\":\"\"}},\"type\":\"scattermapbox\"}],\"scatterpolargl\":[{\"marker\":{\"colorbar\":{\"outlinewidth\":0,\"ticks\":\"\"}},\"type\":\"scatterpolargl\"}],\"scatterpolar\":[{\"marker\":{\"colorbar\":{\"outlinewidth\":0,\"ticks\":\"\"}},\"type\":\"scatterpolar\"}],\"scatter\":[{\"fillpattern\":{\"fillmode\":\"overlay\",\"size\":10,\"solidity\":0.2},\"type\":\"scatter\"}],\"scatterternary\":[{\"marker\":{\"colorbar\":{\"outlinewidth\":0,\"ticks\":\"\"}},\"type\":\"scatterternary\"}],\"surface\":[{\"colorbar\":{\"outlinewidth\":0,\"ticks\":\"\"},\"colorscale\":[[0.0,\"#0d0887\"],[0.1111111111111111,\"#46039f\"],[0.2222222222222222,\"#7201a8\"],[0.3333333333333333,\"#9c179e\"],[0.4444444444444444,\"#bd3786\"],[0.5555555555555556,\"#d8576b\"],[0.6666666666666666,\"#ed7953\"],[0.7777777777777778,\"#fb9f3a\"],[0.8888888888888888,\"#fdca26\"],[1.0,\"#f0f921\"]],\"type\":\"surface\"}],\"table\":[{\"cells\":{\"fill\":{\"color\":\"#EBF0F8\"},\"line\":{\"color\":\"white\"}},\"header\":{\"fill\":{\"color\":\"#C8D4E3\"},\"line\":{\"color\":\"white\"}},\"type\":\"table\"}]},\"layout\":{\"annotationdefaults\":{\"arrowcolor\":\"#2a3f5f\",\"arrowhead\":0,\"arrowwidth\":1},\"autotypenumbers\":\"strict\",\"coloraxis\":{\"colorbar\":{\"outlinewidth\":0,\"ticks\":\"\"}},\"colorscale\":{\"diverging\":[[0,\"#8e0152\"],[0.1,\"#c51b7d\"],[0.2,\"#de77ae\"],[0.3,\"#f1b6da\"],[0.4,\"#fde0ef\"],[0.5,\"#f7f7f7\"],[0.6,\"#e6f5d0\"],[0.7,\"#b8e186\"],[0.8,\"#7fbc41\"],[0.9,\"#4d9221\"],[1,\"#276419\"]],\"sequential\":[[0.0,\"#0d0887\"],[0.1111111111111111,\"#46039f\"],[0.2222222222222222,\"#7201a8\"],[0.3333333333333333,\"#9c179e\"],[0.4444444444444444,\"#bd3786\"],[0.5555555555555556,\"#d8576b\"],[0.6666666666666666,\"#ed7953\"],[0.7777777777777778,\"#fb9f3a\"],[0.8888888888888888,\"#fdca26\"],[1.0,\"#f0f921\"]],\"sequentialminus\":[[0.0,\"#0d0887\"],[0.1111111111111111,\"#46039f\"],[0.2222222222222222,\"#7201a8\"],[0.3333333333333333,\"#9c179e\"],[0.4444444444444444,\"#bd3786\"],[0.5555555555555556,\"#d8576b\"],[0.6666666666666666,\"#ed7953\"],[0.7777777777777778,\"#fb9f3a\"],[0.8888888888888888,\"#fdca26\"],[1.0,\"#f0f921\"]]},\"colorway\":[\"#636efa\",\"#EF553B\",\"#00cc96\",\"#ab63fa\",\"#FFA15A\",\"#19d3f3\",\"#FF6692\",\"#B6E880\",\"#FF97FF\",\"#FECB52\"],\"font\":{\"color\":\"#2a3f5f\"},\"geo\":{\"bgcolor\":\"white\",\"lakecolor\":\"white\",\"landcolor\":\"#E5ECF6\",\"showlakes\":true,\"showland\":true,\"subunitcolor\":\"white\"},\"hoverlabel\":{\"align\":\"left\"},\"hovermode\":\"closest\",\"mapbox\":{\"style\":\"light\"},\"paper_bgcolor\":\"white\",\"plot_bgcolor\":\"#E5ECF6\",\"polar\":{\"angularaxis\":{\"gridcolor\":\"white\",\"linecolor\":\"white\",\"ticks\":\"\"},\"bgcolor\":\"#E5ECF6\",\"radialaxis\":{\"gridcolor\":\"white\",\"linecolor\":\"white\",\"ticks\":\"\"}},\"scene\":{\"xaxis\":{\"backgroundcolor\":\"#E5ECF6\",\"gridcolor\":\"white\",\"gridwidth\":2,\"linecolor\":\"white\",\"showbackground\":true,\"ticks\":\"\",\"zerolinecolor\":\"white\"},\"yaxis\":{\"backgroundcolor\":\"#E5ECF6\",\"gridcolor\":\"white\",\"gridwidth\":2,\"linecolor\":\"white\",\"showbackground\":true,\"ticks\":\"\",\"zerolinecolor\":\"white\"},\"zaxis\":{\"backgroundcolor\":\"#E5ECF6\",\"gridcolor\":\"white\",\"gridwidth\":2,\"linecolor\":\"white\",\"showbackground\":true,\"ticks\":\"\",\"zerolinecolor\":\"white\"}},\"shapedefaults\":{\"line\":{\"color\":\"#2a3f5f\"}},\"ternary\":{\"aaxis\":{\"gridcolor\":\"white\",\"linecolor\":\"white\",\"ticks\":\"\"},\"baxis\":{\"gridcolor\":\"white\",\"linecolor\":\"white\",\"ticks\":\"\"},\"bgcolor\":\"#E5ECF6\",\"caxis\":{\"gridcolor\":\"white\",\"linecolor\":\"white\",\"ticks\":\"\"}},\"title\":{\"x\":0.05},\"xaxis\":{\"automargin\":true,\"gridcolor\":\"white\",\"linecolor\":\"white\",\"ticks\":\"\",\"title\":{\"standoff\":15},\"zerolinecolor\":\"white\",\"zerolinewidth\":2},\"yaxis\":{\"automargin\":true,\"gridcolor\":\"white\",\"linecolor\":\"white\",\"ticks\":\"\",\"title\":{\"standoff\":15},\"zerolinecolor\":\"white\",\"zerolinewidth\":2}}},\"title\":{\"font\":{\"color\":\"#4D5663\"}},\"xaxis\":{\"gridcolor\":\"#E1E5ED\",\"showgrid\":true,\"tickfont\":{\"color\":\"#4D5663\"},\"title\":{\"font\":{\"color\":\"#4D5663\"},\"text\":\"\"},\"zerolinecolor\":\"#E1E5ED\"},\"yaxis\":{\"gridcolor\":\"#E1E5ED\",\"showgrid\":true,\"tickfont\":{\"color\":\"#4D5663\"},\"title\":{\"font\":{\"color\":\"#4D5663\"},\"text\":\"\"},\"zerolinecolor\":\"#E1E5ED\"}},                        {\"showLink\": true, \"linkText\": \"Export to plot.ly\", \"plotlyServerURL\": \"https://plot.ly\", \"responsive\": true}                    ).then(function(){\n",
       "                            \n",
       "var gd = document.getElementById('0b113039-fc4e-41b8-b763-28d51beea382');\n",
       "var x = new MutationObserver(function (mutations, observer) {{\n",
       "        var display = window.getComputedStyle(gd).display;\n",
       "        if (!display || display === 'none') {{\n",
       "            console.log([gd, 'removed!']);\n",
       "            Plotly.purge(gd);\n",
       "            observer.disconnect();\n",
       "        }}\n",
       "}});\n",
       "\n",
       "// Listen for the removal of the full notebook cells\n",
       "var notebookContainer = gd.closest('#notebook-container');\n",
       "if (notebookContainer) {{\n",
       "    x.observe(notebookContainer, {childList: true});\n",
       "}}\n",
       "\n",
       "// Listen for the clearing of the current output cell\n",
       "var outputEl = gd.closest('.output');\n",
       "if (outputEl) {{\n",
       "    x.observe(outputEl, {childList: true});\n",
       "}}\n",
       "\n",
       "                        })                };                });            </script>        </div>"
      ]
     },
     "metadata": {},
     "output_type": "display_data"
    }
   ],
   "source": [
    "df.iplot(kind='bubble',x='A',y='B',size='C')"
   ]
  },
  {
   "cell_type": "markdown",
   "metadata": {},
   "source": [
    "## scatter_matrix()\n",
    "\n",
    "Similar to sns.pairplot()"
   ]
  },
  {
   "cell_type": "code",
   "execution_count": 22,
   "metadata": {},
   "outputs": [
    {
     "data": {
      "application/vnd.plotly.v1+json": {
       "config": {
        "linkText": "Export to plot.ly",
        "plotlyServerURL": "https://plot.ly",
        "showLink": true
       },
       "data": [
        {
         "histfunc": "count",
         "histnorm": "",
         "marker": {
          "color": "rgba(255, 153, 51, 1.0)",
          "line": {
           "color": "#4D5663",
           "width": 1.3
          }
         },
         "name": "A",
         "nbinsx": 10,
         "opacity": 0.8,
         "orientation": "v",
         "type": "histogram",
         "x": [
          -0.5116334595858404,
          -0.40451980663673587,
          0.11150203937866228,
          -0.957022430315918,
          -1.7537384134747118,
          -0.955316648367469,
          2.222588500741579,
          1.632559710535148,
          -0.7735923715434228,
          -0.02963878790154119,
          0.12474207955153141,
          0.007403421790317452,
          0.7440083568613275,
          1.228142706154454,
          0.4903478313312827,
          1.0671146523674926,
          0.38121839902209004,
          0.4784281130106239,
          -0.19334240537897074,
          0.2114068151160235,
          -0.28700598149332923,
          0.6266936008614964,
          -0.5539203483696317,
          0.8808079578911151,
          -0.2900116639501292,
          0.6261423219081403,
          0.44289408669801344,
          -1.0983682136534527,
          2.18957495182428,
          -0.05523220546360378,
          -0.11974553616901784,
          0.9765551281108982,
          1.0094934732433622,
          -1.2467963176372587,
          -0.2916082987378891,
          -0.252668436812334,
          -0.08836765690390477,
          0.6714605946405123,
          -1.975400227235359,
          -1.4659492320039842,
          -1.3895098125317962,
          -0.548176990317895,
          1.1498524159811114,
          -0.680873652531143,
          0.8361233299240934,
          -0.2951580965160952,
          -0.3695172599900852,
          1.3645930195548088,
          -0.4357307104776005,
          0.6430080010807169,
          -1.3455522950429075,
          -0.5206069791562866,
          1.1519658563449808,
          1.5518073674429156,
          -1.1757421206697676,
          0.31577683173796717,
          -0.5930566729500595,
          1.8670196724416042,
          0.5119438525785157,
          2.930461646582064,
          -0.23844315792702714,
          -0.38627151014457195,
          0.09289979180428624,
          -0.4930263009198248,
          -0.2648171930663567,
          -1.176740209750023,
          -0.8939604980187664,
          -0.7371049047637849,
          0.5871643676719378,
          -0.6415778753683434,
          -0.7604105092082487,
          0.7140214328803306,
          -0.9915435986302659,
          0.540851892851178,
          2.171638035591147,
          0.7464422614972771,
          0.7399621239592686,
          -0.23256585533617888,
          0.5432788198064235,
          -1.8189852586551483,
          0.39594453755161185,
          2.081483606601444,
          0.4771429363558366,
          -0.27537596662751096,
          -1.6544053929212492,
          -0.3663005905185225,
          -0.6726891740365734,
          -0.49462773090057727,
          0.389756615394149,
          -0.46107556252258863,
          -1.4536929347782868,
          -0.48860430307025055,
          -1.041576111141286,
          -0.6245608768868465,
          0.8654012168584696,
          0.5453770936816931,
          -0.21852546711481033,
          -0.1416534109291892,
          0.210740917567398,
          -0.786576379864656
         ],
         "xaxis": "x",
         "yaxis": "y"
        },
        {
         "line": {
          "color": "rgba(128, 128, 128, 1.0)",
          "dash": "solid",
          "shape": "linear",
          "width": 1.3
         },
         "marker": {
          "size": 2,
          "symbol": "circle"
         },
         "mode": "markers",
         "name": "A",
         "text": "",
         "type": "scatter",
         "x": [
          -1.021949233130461,
          0.25594574775048773,
          -0.49810387488163294,
          -1.325142642265481,
          -0.5366367478882258,
          1.0588099409333411,
          -1.0032978099073984,
          -0.8859669207305646,
          -0.06246948659894244,
          1.608941187505579,
          -0.3707918869740564,
          1.0450432601692148,
          -0.8401673973404254,
          0.292684789819589,
          0.729639443981082,
          0.4858150437908382,
          -0.4648277842418754,
          1.143185288073808,
          -1.0407427191447072,
          -1.425350991448239,
          -1.6558923830502548,
          -0.196126484198559,
          1.0552658780568707,
          -0.35263289136461645,
          0.8594609595168468,
          -1.2146127586768733,
          0.13220927769630178,
          -0.5648126800961567,
          -1.4173856239947105,
          -0.27379828911599174,
          0.4627715724085573,
          0.954071074533576,
          -1.5179053035379908,
          -0.7490363703587672,
          0.7843382049747933,
          -0.5825381214550421,
          -2.648166884938007,
          1.307337854013301,
          -1.2013701767559322,
          0.04436461470208275,
          -1.0206994284023114,
          -1.674926161290066,
          0.8378551196604281,
          -0.5081307161078558,
          1.0391192470821948,
          0.9628168203510796,
          0.004656832184727584,
          0.37783807138446773,
          -0.8090007741198757,
          0.3080210740208786,
          -0.01291972632760256,
          -0.32808528338522164,
          -1.296008271665516,
          -0.12789723500299224,
          0.9185470189724362,
          0.1287211863056182,
          2.237138179378632,
          -1.046419761230294,
          0.4280079253568352,
          1.2204039767857147,
          2.1548771482416798,
          0.44660725613147545,
          2.408224640092218,
          -1.11188791629352,
          -0.5898211643668354,
          0.8713265333134166,
          -0.46222389540219333,
          -0.11916235926853035,
          -0.5535978037993889,
          0.6087265261133761,
          1.225924068607216,
          0.9635074728291688,
          1.698331398380695,
          1.4246856327640762,
          -1.518895721740957,
          0.7649774149193973,
          0.7729348387618514,
          -0.9428834054294118,
          2.4457721829035237,
          -1.4393216516608613,
          -0.0593960436946276,
          0.8440019438929776,
          -0.7630293848511864,
          0.9877315922843377,
          -1.0272063197815813,
          0.5562686704820748,
          -0.5764170798889229,
          2.68893459063555,
          0.20429998711292027,
          0.8244038897408704,
          -0.7091675926939464,
          1.7030636499644225,
          -0.21407226437633675,
          -0.4877776042634076,
          0.4706276205941772,
          -0.10691589777002733,
          0.98046375194209,
          -1.2024078700961744,
          -0.23736613593332123,
          -0.6760890965035313
         ],
         "xaxis": "x2",
         "y": [
          -0.5116334595858404,
          -0.40451980663673587,
          0.11150203937866228,
          -0.957022430315918,
          -1.7537384134747118,
          -0.955316648367469,
          2.222588500741579,
          1.632559710535148,
          -0.7735923715434228,
          -0.02963878790154119,
          0.12474207955153141,
          0.007403421790317452,
          0.7440083568613275,
          1.228142706154454,
          0.4903478313312827,
          1.0671146523674926,
          0.38121839902209004,
          0.4784281130106239,
          -0.19334240537897074,
          0.2114068151160235,
          -0.28700598149332923,
          0.6266936008614964,
          -0.5539203483696317,
          0.8808079578911151,
          -0.2900116639501292,
          0.6261423219081403,
          0.44289408669801344,
          -1.0983682136534527,
          2.18957495182428,
          -0.05523220546360378,
          -0.11974553616901784,
          0.9765551281108982,
          1.0094934732433622,
          -1.2467963176372587,
          -0.2916082987378891,
          -0.252668436812334,
          -0.08836765690390477,
          0.6714605946405123,
          -1.975400227235359,
          -1.4659492320039842,
          -1.3895098125317962,
          -0.548176990317895,
          1.1498524159811114,
          -0.680873652531143,
          0.8361233299240934,
          -0.2951580965160952,
          -0.3695172599900852,
          1.3645930195548088,
          -0.4357307104776005,
          0.6430080010807169,
          -1.3455522950429075,
          -0.5206069791562866,
          1.1519658563449808,
          1.5518073674429156,
          -1.1757421206697676,
          0.31577683173796717,
          -0.5930566729500595,
          1.8670196724416042,
          0.5119438525785157,
          2.930461646582064,
          -0.23844315792702714,
          -0.38627151014457195,
          0.09289979180428624,
          -0.4930263009198248,
          -0.2648171930663567,
          -1.176740209750023,
          -0.8939604980187664,
          -0.7371049047637849,
          0.5871643676719378,
          -0.6415778753683434,
          -0.7604105092082487,
          0.7140214328803306,
          -0.9915435986302659,
          0.540851892851178,
          2.171638035591147,
          0.7464422614972771,
          0.7399621239592686,
          -0.23256585533617888,
          0.5432788198064235,
          -1.8189852586551483,
          0.39594453755161185,
          2.081483606601444,
          0.4771429363558366,
          -0.27537596662751096,
          -1.6544053929212492,
          -0.3663005905185225,
          -0.6726891740365734,
          -0.49462773090057727,
          0.389756615394149,
          -0.46107556252258863,
          -1.4536929347782868,
          -0.48860430307025055,
          -1.041576111141286,
          -0.6245608768868465,
          0.8654012168584696,
          0.5453770936816931,
          -0.21852546711481033,
          -0.1416534109291892,
          0.210740917567398,
          -0.786576379864656
         ],
         "yaxis": "y2"
        },
        {
         "line": {
          "color": "rgba(128, 128, 128, 1.0)",
          "dash": "solid",
          "shape": "linear",
          "width": 1.3
         },
         "marker": {
          "size": 2,
          "symbol": "circle"
         },
         "mode": "markers",
         "name": "A",
         "text": "",
         "type": "scatter",
         "x": [
          -0.7331664989088466,
          0.20334098992058225,
          -0.23418880126774333,
          -1.3295462524118646,
          -1.9695962385783692,
          -1.2075725430880706,
          -2.349933344754745,
          -0.6456170846869308,
          -1.923908793870801,
          -0.4925957426625602,
          0.03413191981231174,
          0.23756180147104275,
          -0.8846916408632101,
          -1.3556745481594472,
          -2.8096554666813396,
          -1.2166345784091577,
          1.1227307506915485,
          -0.12126359292376553,
          1.789369825023507,
          1.0606097200311873,
          1.1728938715333648,
          -0.0526819063276142,
          0.5463535544403695,
          1.4140200202206537,
          0.6977717095690767,
          0.505806684424547,
          -1.4402898944623004,
          0.27449196049229585,
          -0.26042021529190873,
          0.41518105649539255,
          1.7522640662018247,
          -1.187838174738271,
          0.23446502343857498,
          -1.200202953243225,
          1.0020756314478152,
          0.0029136007000776796,
          0.06477162633070381,
          -0.5862356000006504,
          -0.6515899692843234,
          2.61577994669217,
          0.5052908884554816,
          -0.5619136578748292,
          0.15467523429708288,
          -1.0913919711876954,
          0.9749410659563239,
          -0.879144323662121,
          0.05904649879176863,
          0.15587892197251124,
          0.8748022545183276,
          -0.7284905602616377,
          0.7382768852123752,
          -2.2876700018057563,
          1.4898713575985456,
          0.9115987911974387,
          -1.5360919931836687,
          0.4177976841472399,
          0.3754084397253426,
          -1.2012043813879316,
          0.23649273301953316,
          1.5005892415174231,
          0.44050438483262316,
          1.8364885185251272,
          1.0683101968727873,
          -0.6337161709842425,
          0.2227794272191448,
          -1.538915776771883,
          -0.10446341539424231,
          0.25811787306894163,
          0.003978874565228057,
          1.0799050324203712,
          -0.6568588867009825,
          -1.012664871906641,
          -0.2006914338501552,
          -1.0985040512691493,
          -0.17883235559153643,
          -0.23257247599650133,
          0.892695913038579,
          -0.5148570965575259,
          0.5922497586703127,
          -0.4817943106659751,
          -1.4230328069736027,
          0.8153909077738124,
          1.8922371641370321,
          -0.6793139334371696,
          1.5025027355565956,
          -0.4634799941219796,
          0.7367586913487083,
          0.5646220949110732,
          -1.4341747306232184,
          0.2658357629187051,
          -0.4908834683911172,
          -0.8084763986748783,
          -0.06535591595403431,
          0.49813050659599595,
          -0.08404795014096927,
          -0.5832855675599287,
          -0.2173664163083856,
          -1.6731753262164346,
          -0.44230887703391447,
          -0.8789611673268257
         ],
         "xaxis": "x3",
         "y": [
          -0.5116334595858404,
          -0.40451980663673587,
          0.11150203937866228,
          -0.957022430315918,
          -1.7537384134747118,
          -0.955316648367469,
          2.222588500741579,
          1.632559710535148,
          -0.7735923715434228,
          -0.02963878790154119,
          0.12474207955153141,
          0.007403421790317452,
          0.7440083568613275,
          1.228142706154454,
          0.4903478313312827,
          1.0671146523674926,
          0.38121839902209004,
          0.4784281130106239,
          -0.19334240537897074,
          0.2114068151160235,
          -0.28700598149332923,
          0.6266936008614964,
          -0.5539203483696317,
          0.8808079578911151,
          -0.2900116639501292,
          0.6261423219081403,
          0.44289408669801344,
          -1.0983682136534527,
          2.18957495182428,
          -0.05523220546360378,
          -0.11974553616901784,
          0.9765551281108982,
          1.0094934732433622,
          -1.2467963176372587,
          -0.2916082987378891,
          -0.252668436812334,
          -0.08836765690390477,
          0.6714605946405123,
          -1.975400227235359,
          -1.4659492320039842,
          -1.3895098125317962,
          -0.548176990317895,
          1.1498524159811114,
          -0.680873652531143,
          0.8361233299240934,
          -0.2951580965160952,
          -0.3695172599900852,
          1.3645930195548088,
          -0.4357307104776005,
          0.6430080010807169,
          -1.3455522950429075,
          -0.5206069791562866,
          1.1519658563449808,
          1.5518073674429156,
          -1.1757421206697676,
          0.31577683173796717,
          -0.5930566729500595,
          1.8670196724416042,
          0.5119438525785157,
          2.930461646582064,
          -0.23844315792702714,
          -0.38627151014457195,
          0.09289979180428624,
          -0.4930263009198248,
          -0.2648171930663567,
          -1.176740209750023,
          -0.8939604980187664,
          -0.7371049047637849,
          0.5871643676719378,
          -0.6415778753683434,
          -0.7604105092082487,
          0.7140214328803306,
          -0.9915435986302659,
          0.540851892851178,
          2.171638035591147,
          0.7464422614972771,
          0.7399621239592686,
          -0.23256585533617888,
          0.5432788198064235,
          -1.8189852586551483,
          0.39594453755161185,
          2.081483606601444,
          0.4771429363558366,
          -0.27537596662751096,
          -1.6544053929212492,
          -0.3663005905185225,
          -0.6726891740365734,
          -0.49462773090057727,
          0.389756615394149,
          -0.46107556252258863,
          -1.4536929347782868,
          -0.48860430307025055,
          -1.041576111141286,
          -0.6245608768868465,
          0.8654012168584696,
          0.5453770936816931,
          -0.21852546711481033,
          -0.1416534109291892,
          0.210740917567398,
          -0.786576379864656
         ],
         "yaxis": "y3"
        },
        {
         "line": {
          "color": "rgba(128, 128, 128, 1.0)",
          "dash": "solid",
          "shape": "linear",
          "width": 1.3
         },
         "marker": {
          "size": 2,
          "symbol": "circle"
         },
         "mode": "markers",
         "name": "A",
         "text": "",
         "type": "scatter",
         "x": [
          -0.822915546146956,
          -1.3856164823212085,
          1.2164992842835247,
          0.4001623564630531,
          0.2107820076021025,
          -0.09378082635468081,
          1.4738912260619708,
          -1.0537517428543453,
          -1.6308148460642002,
          -0.11511226844870684,
          0.8324274149426117,
          1.8381279774372414,
          0.5824293757274496,
          -1.036632568518775,
          -1.3716822839309804,
          1.224426805432888,
          0.02314153757996988,
          -0.5058165806685646,
          -0.6104792735038228,
          -0.3632758341546976,
          -1.9879928739316564,
          0.20898726241711302,
          0.7540763544151033,
          -0.36400259327973905,
          -0.19914838333678989,
          1.1942084898815117,
          1.0536760015645787,
          -0.3537528548674369,
          -1.6635441073100052,
          -2.3958078631403184,
          0.7895406459575908,
          -0.3918824265858147,
          0.9624978515695156,
          0.5649625341628266,
          -1.050649339337511,
          -1.7114507459864052,
          0.4386907612920649,
          0.3527565586064755,
          -0.570715093282655,
          0.4001899491185232,
          0.13634382621986127,
          0.08014682678530408,
          -1.680830363659941,
          -0.07169084243346506,
          2.411739576649915,
          0.587985303981665,
          0.5346121100907646,
          -0.6837241804670804,
          -0.2791759531849911,
          -0.0193910189620039,
          0.6506316111232995,
          -1.3997584407636932,
          0.9071055309064875,
          -1.3341076136935373,
          0.8914001119912143,
          -0.8610578507752765,
          -0.8432488443702535,
          -1.0297410269242149,
          0.8228530107151968,
          -0.22582921163759567,
          -0.9598082667264018,
          -0.585679883816446,
          0.11640311149780526,
          -0.4519459412490356,
          0.9995123486221918,
          0.7305629448692618,
          0.6489445034264774,
          0.09195840435197405,
          -0.14916659146838787,
          0.5005806892966229,
          -0.47949947922247244,
          -0.2933479282806212,
          0.009700114758779467,
          -0.340638257836198,
          0.0006940880795016687,
          1.3721322661436564,
          -0.15072060518064484,
          -0.7864697889819354,
          -0.07548073098522026,
          0.05511939518267495,
          -0.06945128058605379,
          -1.5617524073316265,
          0.05888189658482693,
          -0.12420719437769312,
          0.8864488086621504,
          -0.6480413544522389,
          -0.7888196430028286,
          -0.7618418282081759,
          0.7075235764084716,
          0.6595880128405492,
          -2.3769223170888636,
          -1.8076505141863966,
          -1.2023992390409755,
          1.830842598092093,
          0.05563208634431394,
          1.0608751072324871,
          1.5718488153982433,
          0.8776591796753751,
          -1.8194696641522394,
          -0.026438367024887135
         ],
         "xaxis": "x4",
         "y": [
          -0.5116334595858404,
          -0.40451980663673587,
          0.11150203937866228,
          -0.957022430315918,
          -1.7537384134747118,
          -0.955316648367469,
          2.222588500741579,
          1.632559710535148,
          -0.7735923715434228,
          -0.02963878790154119,
          0.12474207955153141,
          0.007403421790317452,
          0.7440083568613275,
          1.228142706154454,
          0.4903478313312827,
          1.0671146523674926,
          0.38121839902209004,
          0.4784281130106239,
          -0.19334240537897074,
          0.2114068151160235,
          -0.28700598149332923,
          0.6266936008614964,
          -0.5539203483696317,
          0.8808079578911151,
          -0.2900116639501292,
          0.6261423219081403,
          0.44289408669801344,
          -1.0983682136534527,
          2.18957495182428,
          -0.05523220546360378,
          -0.11974553616901784,
          0.9765551281108982,
          1.0094934732433622,
          -1.2467963176372587,
          -0.2916082987378891,
          -0.252668436812334,
          -0.08836765690390477,
          0.6714605946405123,
          -1.975400227235359,
          -1.4659492320039842,
          -1.3895098125317962,
          -0.548176990317895,
          1.1498524159811114,
          -0.680873652531143,
          0.8361233299240934,
          -0.2951580965160952,
          -0.3695172599900852,
          1.3645930195548088,
          -0.4357307104776005,
          0.6430080010807169,
          -1.3455522950429075,
          -0.5206069791562866,
          1.1519658563449808,
          1.5518073674429156,
          -1.1757421206697676,
          0.31577683173796717,
          -0.5930566729500595,
          1.8670196724416042,
          0.5119438525785157,
          2.930461646582064,
          -0.23844315792702714,
          -0.38627151014457195,
          0.09289979180428624,
          -0.4930263009198248,
          -0.2648171930663567,
          -1.176740209750023,
          -0.8939604980187664,
          -0.7371049047637849,
          0.5871643676719378,
          -0.6415778753683434,
          -0.7604105092082487,
          0.7140214328803306,
          -0.9915435986302659,
          0.540851892851178,
          2.171638035591147,
          0.7464422614972771,
          0.7399621239592686,
          -0.23256585533617888,
          0.5432788198064235,
          -1.8189852586551483,
          0.39594453755161185,
          2.081483606601444,
          0.4771429363558366,
          -0.27537596662751096,
          -1.6544053929212492,
          -0.3663005905185225,
          -0.6726891740365734,
          -0.49462773090057727,
          0.389756615394149,
          -0.46107556252258863,
          -1.4536929347782868,
          -0.48860430307025055,
          -1.041576111141286,
          -0.6245608768868465,
          0.8654012168584696,
          0.5453770936816931,
          -0.21852546711481033,
          -0.1416534109291892,
          0.210740917567398,
          -0.786576379864656
         ],
         "yaxis": "y4"
        },
        {
         "line": {
          "color": "rgba(128, 128, 128, 1.0)",
          "dash": "solid",
          "shape": "linear",
          "width": 1.3
         },
         "marker": {
          "size": 2,
          "symbol": "circle"
         },
         "mode": "markers",
         "name": "B",
         "text": "",
         "type": "scatter",
         "x": [
          -0.5116334595858404,
          -0.40451980663673587,
          0.11150203937866228,
          -0.957022430315918,
          -1.7537384134747118,
          -0.955316648367469,
          2.222588500741579,
          1.632559710535148,
          -0.7735923715434228,
          -0.02963878790154119,
          0.12474207955153141,
          0.007403421790317452,
          0.7440083568613275,
          1.228142706154454,
          0.4903478313312827,
          1.0671146523674926,
          0.38121839902209004,
          0.4784281130106239,
          -0.19334240537897074,
          0.2114068151160235,
          -0.28700598149332923,
          0.6266936008614964,
          -0.5539203483696317,
          0.8808079578911151,
          -0.2900116639501292,
          0.6261423219081403,
          0.44289408669801344,
          -1.0983682136534527,
          2.18957495182428,
          -0.05523220546360378,
          -0.11974553616901784,
          0.9765551281108982,
          1.0094934732433622,
          -1.2467963176372587,
          -0.2916082987378891,
          -0.252668436812334,
          -0.08836765690390477,
          0.6714605946405123,
          -1.975400227235359,
          -1.4659492320039842,
          -1.3895098125317962,
          -0.548176990317895,
          1.1498524159811114,
          -0.680873652531143,
          0.8361233299240934,
          -0.2951580965160952,
          -0.3695172599900852,
          1.3645930195548088,
          -0.4357307104776005,
          0.6430080010807169,
          -1.3455522950429075,
          -0.5206069791562866,
          1.1519658563449808,
          1.5518073674429156,
          -1.1757421206697676,
          0.31577683173796717,
          -0.5930566729500595,
          1.8670196724416042,
          0.5119438525785157,
          2.930461646582064,
          -0.23844315792702714,
          -0.38627151014457195,
          0.09289979180428624,
          -0.4930263009198248,
          -0.2648171930663567,
          -1.176740209750023,
          -0.8939604980187664,
          -0.7371049047637849,
          0.5871643676719378,
          -0.6415778753683434,
          -0.7604105092082487,
          0.7140214328803306,
          -0.9915435986302659,
          0.540851892851178,
          2.171638035591147,
          0.7464422614972771,
          0.7399621239592686,
          -0.23256585533617888,
          0.5432788198064235,
          -1.8189852586551483,
          0.39594453755161185,
          2.081483606601444,
          0.4771429363558366,
          -0.27537596662751096,
          -1.6544053929212492,
          -0.3663005905185225,
          -0.6726891740365734,
          -0.49462773090057727,
          0.389756615394149,
          -0.46107556252258863,
          -1.4536929347782868,
          -0.48860430307025055,
          -1.041576111141286,
          -0.6245608768868465,
          0.8654012168584696,
          0.5453770936816931,
          -0.21852546711481033,
          -0.1416534109291892,
          0.210740917567398,
          -0.786576379864656
         ],
         "xaxis": "x5",
         "y": [
          -1.021949233130461,
          0.25594574775048773,
          -0.49810387488163294,
          -1.325142642265481,
          -0.5366367478882258,
          1.0588099409333411,
          -1.0032978099073984,
          -0.8859669207305646,
          -0.06246948659894244,
          1.608941187505579,
          -0.3707918869740564,
          1.0450432601692148,
          -0.8401673973404254,
          0.292684789819589,
          0.729639443981082,
          0.4858150437908382,
          -0.4648277842418754,
          1.143185288073808,
          -1.0407427191447072,
          -1.425350991448239,
          -1.6558923830502548,
          -0.196126484198559,
          1.0552658780568707,
          -0.35263289136461645,
          0.8594609595168468,
          -1.2146127586768733,
          0.13220927769630178,
          -0.5648126800961567,
          -1.4173856239947105,
          -0.27379828911599174,
          0.4627715724085573,
          0.954071074533576,
          -1.5179053035379908,
          -0.7490363703587672,
          0.7843382049747933,
          -0.5825381214550421,
          -2.648166884938007,
          1.307337854013301,
          -1.2013701767559322,
          0.04436461470208275,
          -1.0206994284023114,
          -1.674926161290066,
          0.8378551196604281,
          -0.5081307161078558,
          1.0391192470821948,
          0.9628168203510796,
          0.004656832184727584,
          0.37783807138446773,
          -0.8090007741198757,
          0.3080210740208786,
          -0.01291972632760256,
          -0.32808528338522164,
          -1.296008271665516,
          -0.12789723500299224,
          0.9185470189724362,
          0.1287211863056182,
          2.237138179378632,
          -1.046419761230294,
          0.4280079253568352,
          1.2204039767857147,
          2.1548771482416798,
          0.44660725613147545,
          2.408224640092218,
          -1.11188791629352,
          -0.5898211643668354,
          0.8713265333134166,
          -0.46222389540219333,
          -0.11916235926853035,
          -0.5535978037993889,
          0.6087265261133761,
          1.225924068607216,
          0.9635074728291688,
          1.698331398380695,
          1.4246856327640762,
          -1.518895721740957,
          0.7649774149193973,
          0.7729348387618514,
          -0.9428834054294118,
          2.4457721829035237,
          -1.4393216516608613,
          -0.0593960436946276,
          0.8440019438929776,
          -0.7630293848511864,
          0.9877315922843377,
          -1.0272063197815813,
          0.5562686704820748,
          -0.5764170798889229,
          2.68893459063555,
          0.20429998711292027,
          0.8244038897408704,
          -0.7091675926939464,
          1.7030636499644225,
          -0.21407226437633675,
          -0.4877776042634076,
          0.4706276205941772,
          -0.10691589777002733,
          0.98046375194209,
          -1.2024078700961744,
          -0.23736613593332123,
          -0.6760890965035313
         ],
         "yaxis": "y5"
        },
        {
         "histfunc": "count",
         "histnorm": "",
         "marker": {
          "color": "rgba(55, 128, 191, 1.0)",
          "line": {
           "color": "#4D5663",
           "width": 1.3
          }
         },
         "name": "B",
         "nbinsx": 10,
         "opacity": 0.8,
         "orientation": "v",
         "type": "histogram",
         "x": [
          -1.021949233130461,
          0.25594574775048773,
          -0.49810387488163294,
          -1.325142642265481,
          -0.5366367478882258,
          1.0588099409333411,
          -1.0032978099073984,
          -0.8859669207305646,
          -0.06246948659894244,
          1.608941187505579,
          -0.3707918869740564,
          1.0450432601692148,
          -0.8401673973404254,
          0.292684789819589,
          0.729639443981082,
          0.4858150437908382,
          -0.4648277842418754,
          1.143185288073808,
          -1.0407427191447072,
          -1.425350991448239,
          -1.6558923830502548,
          -0.196126484198559,
          1.0552658780568707,
          -0.35263289136461645,
          0.8594609595168468,
          -1.2146127586768733,
          0.13220927769630178,
          -0.5648126800961567,
          -1.4173856239947105,
          -0.27379828911599174,
          0.4627715724085573,
          0.954071074533576,
          -1.5179053035379908,
          -0.7490363703587672,
          0.7843382049747933,
          -0.5825381214550421,
          -2.648166884938007,
          1.307337854013301,
          -1.2013701767559322,
          0.04436461470208275,
          -1.0206994284023114,
          -1.674926161290066,
          0.8378551196604281,
          -0.5081307161078558,
          1.0391192470821948,
          0.9628168203510796,
          0.004656832184727584,
          0.37783807138446773,
          -0.8090007741198757,
          0.3080210740208786,
          -0.01291972632760256,
          -0.32808528338522164,
          -1.296008271665516,
          -0.12789723500299224,
          0.9185470189724362,
          0.1287211863056182,
          2.237138179378632,
          -1.046419761230294,
          0.4280079253568352,
          1.2204039767857147,
          2.1548771482416798,
          0.44660725613147545,
          2.408224640092218,
          -1.11188791629352,
          -0.5898211643668354,
          0.8713265333134166,
          -0.46222389540219333,
          -0.11916235926853035,
          -0.5535978037993889,
          0.6087265261133761,
          1.225924068607216,
          0.9635074728291688,
          1.698331398380695,
          1.4246856327640762,
          -1.518895721740957,
          0.7649774149193973,
          0.7729348387618514,
          -0.9428834054294118,
          2.4457721829035237,
          -1.4393216516608613,
          -0.0593960436946276,
          0.8440019438929776,
          -0.7630293848511864,
          0.9877315922843377,
          -1.0272063197815813,
          0.5562686704820748,
          -0.5764170798889229,
          2.68893459063555,
          0.20429998711292027,
          0.8244038897408704,
          -0.7091675926939464,
          1.7030636499644225,
          -0.21407226437633675,
          -0.4877776042634076,
          0.4706276205941772,
          -0.10691589777002733,
          0.98046375194209,
          -1.2024078700961744,
          -0.23736613593332123,
          -0.6760890965035313
         ],
         "xaxis": "x6",
         "yaxis": "y6"
        },
        {
         "line": {
          "color": "rgba(128, 128, 128, 1.0)",
          "dash": "solid",
          "shape": "linear",
          "width": 1.3
         },
         "marker": {
          "size": 2,
          "symbol": "circle"
         },
         "mode": "markers",
         "name": "B",
         "text": "",
         "type": "scatter",
         "x": [
          -0.7331664989088466,
          0.20334098992058225,
          -0.23418880126774333,
          -1.3295462524118646,
          -1.9695962385783692,
          -1.2075725430880706,
          -2.349933344754745,
          -0.6456170846869308,
          -1.923908793870801,
          -0.4925957426625602,
          0.03413191981231174,
          0.23756180147104275,
          -0.8846916408632101,
          -1.3556745481594472,
          -2.8096554666813396,
          -1.2166345784091577,
          1.1227307506915485,
          -0.12126359292376553,
          1.789369825023507,
          1.0606097200311873,
          1.1728938715333648,
          -0.0526819063276142,
          0.5463535544403695,
          1.4140200202206537,
          0.6977717095690767,
          0.505806684424547,
          -1.4402898944623004,
          0.27449196049229585,
          -0.26042021529190873,
          0.41518105649539255,
          1.7522640662018247,
          -1.187838174738271,
          0.23446502343857498,
          -1.200202953243225,
          1.0020756314478152,
          0.0029136007000776796,
          0.06477162633070381,
          -0.5862356000006504,
          -0.6515899692843234,
          2.61577994669217,
          0.5052908884554816,
          -0.5619136578748292,
          0.15467523429708288,
          -1.0913919711876954,
          0.9749410659563239,
          -0.879144323662121,
          0.05904649879176863,
          0.15587892197251124,
          0.8748022545183276,
          -0.7284905602616377,
          0.7382768852123752,
          -2.2876700018057563,
          1.4898713575985456,
          0.9115987911974387,
          -1.5360919931836687,
          0.4177976841472399,
          0.3754084397253426,
          -1.2012043813879316,
          0.23649273301953316,
          1.5005892415174231,
          0.44050438483262316,
          1.8364885185251272,
          1.0683101968727873,
          -0.6337161709842425,
          0.2227794272191448,
          -1.538915776771883,
          -0.10446341539424231,
          0.25811787306894163,
          0.003978874565228057,
          1.0799050324203712,
          -0.6568588867009825,
          -1.012664871906641,
          -0.2006914338501552,
          -1.0985040512691493,
          -0.17883235559153643,
          -0.23257247599650133,
          0.892695913038579,
          -0.5148570965575259,
          0.5922497586703127,
          -0.4817943106659751,
          -1.4230328069736027,
          0.8153909077738124,
          1.8922371641370321,
          -0.6793139334371696,
          1.5025027355565956,
          -0.4634799941219796,
          0.7367586913487083,
          0.5646220949110732,
          -1.4341747306232184,
          0.2658357629187051,
          -0.4908834683911172,
          -0.8084763986748783,
          -0.06535591595403431,
          0.49813050659599595,
          -0.08404795014096927,
          -0.5832855675599287,
          -0.2173664163083856,
          -1.6731753262164346,
          -0.44230887703391447,
          -0.8789611673268257
         ],
         "xaxis": "x7",
         "y": [
          -1.021949233130461,
          0.25594574775048773,
          -0.49810387488163294,
          -1.325142642265481,
          -0.5366367478882258,
          1.0588099409333411,
          -1.0032978099073984,
          -0.8859669207305646,
          -0.06246948659894244,
          1.608941187505579,
          -0.3707918869740564,
          1.0450432601692148,
          -0.8401673973404254,
          0.292684789819589,
          0.729639443981082,
          0.4858150437908382,
          -0.4648277842418754,
          1.143185288073808,
          -1.0407427191447072,
          -1.425350991448239,
          -1.6558923830502548,
          -0.196126484198559,
          1.0552658780568707,
          -0.35263289136461645,
          0.8594609595168468,
          -1.2146127586768733,
          0.13220927769630178,
          -0.5648126800961567,
          -1.4173856239947105,
          -0.27379828911599174,
          0.4627715724085573,
          0.954071074533576,
          -1.5179053035379908,
          -0.7490363703587672,
          0.7843382049747933,
          -0.5825381214550421,
          -2.648166884938007,
          1.307337854013301,
          -1.2013701767559322,
          0.04436461470208275,
          -1.0206994284023114,
          -1.674926161290066,
          0.8378551196604281,
          -0.5081307161078558,
          1.0391192470821948,
          0.9628168203510796,
          0.004656832184727584,
          0.37783807138446773,
          -0.8090007741198757,
          0.3080210740208786,
          -0.01291972632760256,
          -0.32808528338522164,
          -1.296008271665516,
          -0.12789723500299224,
          0.9185470189724362,
          0.1287211863056182,
          2.237138179378632,
          -1.046419761230294,
          0.4280079253568352,
          1.2204039767857147,
          2.1548771482416798,
          0.44660725613147545,
          2.408224640092218,
          -1.11188791629352,
          -0.5898211643668354,
          0.8713265333134166,
          -0.46222389540219333,
          -0.11916235926853035,
          -0.5535978037993889,
          0.6087265261133761,
          1.225924068607216,
          0.9635074728291688,
          1.698331398380695,
          1.4246856327640762,
          -1.518895721740957,
          0.7649774149193973,
          0.7729348387618514,
          -0.9428834054294118,
          2.4457721829035237,
          -1.4393216516608613,
          -0.0593960436946276,
          0.8440019438929776,
          -0.7630293848511864,
          0.9877315922843377,
          -1.0272063197815813,
          0.5562686704820748,
          -0.5764170798889229,
          2.68893459063555,
          0.20429998711292027,
          0.8244038897408704,
          -0.7091675926939464,
          1.7030636499644225,
          -0.21407226437633675,
          -0.4877776042634076,
          0.4706276205941772,
          -0.10691589777002733,
          0.98046375194209,
          -1.2024078700961744,
          -0.23736613593332123,
          -0.6760890965035313
         ],
         "yaxis": "y7"
        },
        {
         "line": {
          "color": "rgba(128, 128, 128, 1.0)",
          "dash": "solid",
          "shape": "linear",
          "width": 1.3
         },
         "marker": {
          "size": 2,
          "symbol": "circle"
         },
         "mode": "markers",
         "name": "B",
         "text": "",
         "type": "scatter",
         "x": [
          -0.822915546146956,
          -1.3856164823212085,
          1.2164992842835247,
          0.4001623564630531,
          0.2107820076021025,
          -0.09378082635468081,
          1.4738912260619708,
          -1.0537517428543453,
          -1.6308148460642002,
          -0.11511226844870684,
          0.8324274149426117,
          1.8381279774372414,
          0.5824293757274496,
          -1.036632568518775,
          -1.3716822839309804,
          1.224426805432888,
          0.02314153757996988,
          -0.5058165806685646,
          -0.6104792735038228,
          -0.3632758341546976,
          -1.9879928739316564,
          0.20898726241711302,
          0.7540763544151033,
          -0.36400259327973905,
          -0.19914838333678989,
          1.1942084898815117,
          1.0536760015645787,
          -0.3537528548674369,
          -1.6635441073100052,
          -2.3958078631403184,
          0.7895406459575908,
          -0.3918824265858147,
          0.9624978515695156,
          0.5649625341628266,
          -1.050649339337511,
          -1.7114507459864052,
          0.4386907612920649,
          0.3527565586064755,
          -0.570715093282655,
          0.4001899491185232,
          0.13634382621986127,
          0.08014682678530408,
          -1.680830363659941,
          -0.07169084243346506,
          2.411739576649915,
          0.587985303981665,
          0.5346121100907646,
          -0.6837241804670804,
          -0.2791759531849911,
          -0.0193910189620039,
          0.6506316111232995,
          -1.3997584407636932,
          0.9071055309064875,
          -1.3341076136935373,
          0.8914001119912143,
          -0.8610578507752765,
          -0.8432488443702535,
          -1.0297410269242149,
          0.8228530107151968,
          -0.22582921163759567,
          -0.9598082667264018,
          -0.585679883816446,
          0.11640311149780526,
          -0.4519459412490356,
          0.9995123486221918,
          0.7305629448692618,
          0.6489445034264774,
          0.09195840435197405,
          -0.14916659146838787,
          0.5005806892966229,
          -0.47949947922247244,
          -0.2933479282806212,
          0.009700114758779467,
          -0.340638257836198,
          0.0006940880795016687,
          1.3721322661436564,
          -0.15072060518064484,
          -0.7864697889819354,
          -0.07548073098522026,
          0.05511939518267495,
          -0.06945128058605379,
          -1.5617524073316265,
          0.05888189658482693,
          -0.12420719437769312,
          0.8864488086621504,
          -0.6480413544522389,
          -0.7888196430028286,
          -0.7618418282081759,
          0.7075235764084716,
          0.6595880128405492,
          -2.3769223170888636,
          -1.8076505141863966,
          -1.2023992390409755,
          1.830842598092093,
          0.05563208634431394,
          1.0608751072324871,
          1.5718488153982433,
          0.8776591796753751,
          -1.8194696641522394,
          -0.026438367024887135
         ],
         "xaxis": "x8",
         "y": [
          -1.021949233130461,
          0.25594574775048773,
          -0.49810387488163294,
          -1.325142642265481,
          -0.5366367478882258,
          1.0588099409333411,
          -1.0032978099073984,
          -0.8859669207305646,
          -0.06246948659894244,
          1.608941187505579,
          -0.3707918869740564,
          1.0450432601692148,
          -0.8401673973404254,
          0.292684789819589,
          0.729639443981082,
          0.4858150437908382,
          -0.4648277842418754,
          1.143185288073808,
          -1.0407427191447072,
          -1.425350991448239,
          -1.6558923830502548,
          -0.196126484198559,
          1.0552658780568707,
          -0.35263289136461645,
          0.8594609595168468,
          -1.2146127586768733,
          0.13220927769630178,
          -0.5648126800961567,
          -1.4173856239947105,
          -0.27379828911599174,
          0.4627715724085573,
          0.954071074533576,
          -1.5179053035379908,
          -0.7490363703587672,
          0.7843382049747933,
          -0.5825381214550421,
          -2.648166884938007,
          1.307337854013301,
          -1.2013701767559322,
          0.04436461470208275,
          -1.0206994284023114,
          -1.674926161290066,
          0.8378551196604281,
          -0.5081307161078558,
          1.0391192470821948,
          0.9628168203510796,
          0.004656832184727584,
          0.37783807138446773,
          -0.8090007741198757,
          0.3080210740208786,
          -0.01291972632760256,
          -0.32808528338522164,
          -1.296008271665516,
          -0.12789723500299224,
          0.9185470189724362,
          0.1287211863056182,
          2.237138179378632,
          -1.046419761230294,
          0.4280079253568352,
          1.2204039767857147,
          2.1548771482416798,
          0.44660725613147545,
          2.408224640092218,
          -1.11188791629352,
          -0.5898211643668354,
          0.8713265333134166,
          -0.46222389540219333,
          -0.11916235926853035,
          -0.5535978037993889,
          0.6087265261133761,
          1.225924068607216,
          0.9635074728291688,
          1.698331398380695,
          1.4246856327640762,
          -1.518895721740957,
          0.7649774149193973,
          0.7729348387618514,
          -0.9428834054294118,
          2.4457721829035237,
          -1.4393216516608613,
          -0.0593960436946276,
          0.8440019438929776,
          -0.7630293848511864,
          0.9877315922843377,
          -1.0272063197815813,
          0.5562686704820748,
          -0.5764170798889229,
          2.68893459063555,
          0.20429998711292027,
          0.8244038897408704,
          -0.7091675926939464,
          1.7030636499644225,
          -0.21407226437633675,
          -0.4877776042634076,
          0.4706276205941772,
          -0.10691589777002733,
          0.98046375194209,
          -1.2024078700961744,
          -0.23736613593332123,
          -0.6760890965035313
         ],
         "yaxis": "y8"
        },
        {
         "line": {
          "color": "rgba(128, 128, 128, 1.0)",
          "dash": "solid",
          "shape": "linear",
          "width": 1.3
         },
         "marker": {
          "size": 2,
          "symbol": "circle"
         },
         "mode": "markers",
         "name": "C",
         "text": "",
         "type": "scatter",
         "x": [
          -0.5116334595858404,
          -0.40451980663673587,
          0.11150203937866228,
          -0.957022430315918,
          -1.7537384134747118,
          -0.955316648367469,
          2.222588500741579,
          1.632559710535148,
          -0.7735923715434228,
          -0.02963878790154119,
          0.12474207955153141,
          0.007403421790317452,
          0.7440083568613275,
          1.228142706154454,
          0.4903478313312827,
          1.0671146523674926,
          0.38121839902209004,
          0.4784281130106239,
          -0.19334240537897074,
          0.2114068151160235,
          -0.28700598149332923,
          0.6266936008614964,
          -0.5539203483696317,
          0.8808079578911151,
          -0.2900116639501292,
          0.6261423219081403,
          0.44289408669801344,
          -1.0983682136534527,
          2.18957495182428,
          -0.05523220546360378,
          -0.11974553616901784,
          0.9765551281108982,
          1.0094934732433622,
          -1.2467963176372587,
          -0.2916082987378891,
          -0.252668436812334,
          -0.08836765690390477,
          0.6714605946405123,
          -1.975400227235359,
          -1.4659492320039842,
          -1.3895098125317962,
          -0.548176990317895,
          1.1498524159811114,
          -0.680873652531143,
          0.8361233299240934,
          -0.2951580965160952,
          -0.3695172599900852,
          1.3645930195548088,
          -0.4357307104776005,
          0.6430080010807169,
          -1.3455522950429075,
          -0.5206069791562866,
          1.1519658563449808,
          1.5518073674429156,
          -1.1757421206697676,
          0.31577683173796717,
          -0.5930566729500595,
          1.8670196724416042,
          0.5119438525785157,
          2.930461646582064,
          -0.23844315792702714,
          -0.38627151014457195,
          0.09289979180428624,
          -0.4930263009198248,
          -0.2648171930663567,
          -1.176740209750023,
          -0.8939604980187664,
          -0.7371049047637849,
          0.5871643676719378,
          -0.6415778753683434,
          -0.7604105092082487,
          0.7140214328803306,
          -0.9915435986302659,
          0.540851892851178,
          2.171638035591147,
          0.7464422614972771,
          0.7399621239592686,
          -0.23256585533617888,
          0.5432788198064235,
          -1.8189852586551483,
          0.39594453755161185,
          2.081483606601444,
          0.4771429363558366,
          -0.27537596662751096,
          -1.6544053929212492,
          -0.3663005905185225,
          -0.6726891740365734,
          -0.49462773090057727,
          0.389756615394149,
          -0.46107556252258863,
          -1.4536929347782868,
          -0.48860430307025055,
          -1.041576111141286,
          -0.6245608768868465,
          0.8654012168584696,
          0.5453770936816931,
          -0.21852546711481033,
          -0.1416534109291892,
          0.210740917567398,
          -0.786576379864656
         ],
         "xaxis": "x9",
         "y": [
          -0.7331664989088466,
          0.20334098992058225,
          -0.23418880126774333,
          -1.3295462524118646,
          -1.9695962385783692,
          -1.2075725430880706,
          -2.349933344754745,
          -0.6456170846869308,
          -1.923908793870801,
          -0.4925957426625602,
          0.03413191981231174,
          0.23756180147104275,
          -0.8846916408632101,
          -1.3556745481594472,
          -2.8096554666813396,
          -1.2166345784091577,
          1.1227307506915485,
          -0.12126359292376553,
          1.789369825023507,
          1.0606097200311873,
          1.1728938715333648,
          -0.0526819063276142,
          0.5463535544403695,
          1.4140200202206537,
          0.6977717095690767,
          0.505806684424547,
          -1.4402898944623004,
          0.27449196049229585,
          -0.26042021529190873,
          0.41518105649539255,
          1.7522640662018247,
          -1.187838174738271,
          0.23446502343857498,
          -1.200202953243225,
          1.0020756314478152,
          0.0029136007000776796,
          0.06477162633070381,
          -0.5862356000006504,
          -0.6515899692843234,
          2.61577994669217,
          0.5052908884554816,
          -0.5619136578748292,
          0.15467523429708288,
          -1.0913919711876954,
          0.9749410659563239,
          -0.879144323662121,
          0.05904649879176863,
          0.15587892197251124,
          0.8748022545183276,
          -0.7284905602616377,
          0.7382768852123752,
          -2.2876700018057563,
          1.4898713575985456,
          0.9115987911974387,
          -1.5360919931836687,
          0.4177976841472399,
          0.3754084397253426,
          -1.2012043813879316,
          0.23649273301953316,
          1.5005892415174231,
          0.44050438483262316,
          1.8364885185251272,
          1.0683101968727873,
          -0.6337161709842425,
          0.2227794272191448,
          -1.538915776771883,
          -0.10446341539424231,
          0.25811787306894163,
          0.003978874565228057,
          1.0799050324203712,
          -0.6568588867009825,
          -1.012664871906641,
          -0.2006914338501552,
          -1.0985040512691493,
          -0.17883235559153643,
          -0.23257247599650133,
          0.892695913038579,
          -0.5148570965575259,
          0.5922497586703127,
          -0.4817943106659751,
          -1.4230328069736027,
          0.8153909077738124,
          1.8922371641370321,
          -0.6793139334371696,
          1.5025027355565956,
          -0.4634799941219796,
          0.7367586913487083,
          0.5646220949110732,
          -1.4341747306232184,
          0.2658357629187051,
          -0.4908834683911172,
          -0.8084763986748783,
          -0.06535591595403431,
          0.49813050659599595,
          -0.08404795014096927,
          -0.5832855675599287,
          -0.2173664163083856,
          -1.6731753262164346,
          -0.44230887703391447,
          -0.8789611673268257
         ],
         "yaxis": "y9"
        },
        {
         "line": {
          "color": "rgba(128, 128, 128, 1.0)",
          "dash": "solid",
          "shape": "linear",
          "width": 1.3
         },
         "marker": {
          "size": 2,
          "symbol": "circle"
         },
         "mode": "markers",
         "name": "C",
         "text": "",
         "type": "scatter",
         "x": [
          -1.021949233130461,
          0.25594574775048773,
          -0.49810387488163294,
          -1.325142642265481,
          -0.5366367478882258,
          1.0588099409333411,
          -1.0032978099073984,
          -0.8859669207305646,
          -0.06246948659894244,
          1.608941187505579,
          -0.3707918869740564,
          1.0450432601692148,
          -0.8401673973404254,
          0.292684789819589,
          0.729639443981082,
          0.4858150437908382,
          -0.4648277842418754,
          1.143185288073808,
          -1.0407427191447072,
          -1.425350991448239,
          -1.6558923830502548,
          -0.196126484198559,
          1.0552658780568707,
          -0.35263289136461645,
          0.8594609595168468,
          -1.2146127586768733,
          0.13220927769630178,
          -0.5648126800961567,
          -1.4173856239947105,
          -0.27379828911599174,
          0.4627715724085573,
          0.954071074533576,
          -1.5179053035379908,
          -0.7490363703587672,
          0.7843382049747933,
          -0.5825381214550421,
          -2.648166884938007,
          1.307337854013301,
          -1.2013701767559322,
          0.04436461470208275,
          -1.0206994284023114,
          -1.674926161290066,
          0.8378551196604281,
          -0.5081307161078558,
          1.0391192470821948,
          0.9628168203510796,
          0.004656832184727584,
          0.37783807138446773,
          -0.8090007741198757,
          0.3080210740208786,
          -0.01291972632760256,
          -0.32808528338522164,
          -1.296008271665516,
          -0.12789723500299224,
          0.9185470189724362,
          0.1287211863056182,
          2.237138179378632,
          -1.046419761230294,
          0.4280079253568352,
          1.2204039767857147,
          2.1548771482416798,
          0.44660725613147545,
          2.408224640092218,
          -1.11188791629352,
          -0.5898211643668354,
          0.8713265333134166,
          -0.46222389540219333,
          -0.11916235926853035,
          -0.5535978037993889,
          0.6087265261133761,
          1.225924068607216,
          0.9635074728291688,
          1.698331398380695,
          1.4246856327640762,
          -1.518895721740957,
          0.7649774149193973,
          0.7729348387618514,
          -0.9428834054294118,
          2.4457721829035237,
          -1.4393216516608613,
          -0.0593960436946276,
          0.8440019438929776,
          -0.7630293848511864,
          0.9877315922843377,
          -1.0272063197815813,
          0.5562686704820748,
          -0.5764170798889229,
          2.68893459063555,
          0.20429998711292027,
          0.8244038897408704,
          -0.7091675926939464,
          1.7030636499644225,
          -0.21407226437633675,
          -0.4877776042634076,
          0.4706276205941772,
          -0.10691589777002733,
          0.98046375194209,
          -1.2024078700961744,
          -0.23736613593332123,
          -0.6760890965035313
         ],
         "xaxis": "x10",
         "y": [
          -0.7331664989088466,
          0.20334098992058225,
          -0.23418880126774333,
          -1.3295462524118646,
          -1.9695962385783692,
          -1.2075725430880706,
          -2.349933344754745,
          -0.6456170846869308,
          -1.923908793870801,
          -0.4925957426625602,
          0.03413191981231174,
          0.23756180147104275,
          -0.8846916408632101,
          -1.3556745481594472,
          -2.8096554666813396,
          -1.2166345784091577,
          1.1227307506915485,
          -0.12126359292376553,
          1.789369825023507,
          1.0606097200311873,
          1.1728938715333648,
          -0.0526819063276142,
          0.5463535544403695,
          1.4140200202206537,
          0.6977717095690767,
          0.505806684424547,
          -1.4402898944623004,
          0.27449196049229585,
          -0.26042021529190873,
          0.41518105649539255,
          1.7522640662018247,
          -1.187838174738271,
          0.23446502343857498,
          -1.200202953243225,
          1.0020756314478152,
          0.0029136007000776796,
          0.06477162633070381,
          -0.5862356000006504,
          -0.6515899692843234,
          2.61577994669217,
          0.5052908884554816,
          -0.5619136578748292,
          0.15467523429708288,
          -1.0913919711876954,
          0.9749410659563239,
          -0.879144323662121,
          0.05904649879176863,
          0.15587892197251124,
          0.8748022545183276,
          -0.7284905602616377,
          0.7382768852123752,
          -2.2876700018057563,
          1.4898713575985456,
          0.9115987911974387,
          -1.5360919931836687,
          0.4177976841472399,
          0.3754084397253426,
          -1.2012043813879316,
          0.23649273301953316,
          1.5005892415174231,
          0.44050438483262316,
          1.8364885185251272,
          1.0683101968727873,
          -0.6337161709842425,
          0.2227794272191448,
          -1.538915776771883,
          -0.10446341539424231,
          0.25811787306894163,
          0.003978874565228057,
          1.0799050324203712,
          -0.6568588867009825,
          -1.012664871906641,
          -0.2006914338501552,
          -1.0985040512691493,
          -0.17883235559153643,
          -0.23257247599650133,
          0.892695913038579,
          -0.5148570965575259,
          0.5922497586703127,
          -0.4817943106659751,
          -1.4230328069736027,
          0.8153909077738124,
          1.8922371641370321,
          -0.6793139334371696,
          1.5025027355565956,
          -0.4634799941219796,
          0.7367586913487083,
          0.5646220949110732,
          -1.4341747306232184,
          0.2658357629187051,
          -0.4908834683911172,
          -0.8084763986748783,
          -0.06535591595403431,
          0.49813050659599595,
          -0.08404795014096927,
          -0.5832855675599287,
          -0.2173664163083856,
          -1.6731753262164346,
          -0.44230887703391447,
          -0.8789611673268257
         ],
         "yaxis": "y10"
        },
        {
         "histfunc": "count",
         "histnorm": "",
         "marker": {
          "color": "rgba(50, 171, 96, 1.0)",
          "line": {
           "color": "#4D5663",
           "width": 1.3
          }
         },
         "name": "C",
         "nbinsx": 10,
         "opacity": 0.8,
         "orientation": "v",
         "type": "histogram",
         "x": [
          -0.7331664989088466,
          0.20334098992058225,
          -0.23418880126774333,
          -1.3295462524118646,
          -1.9695962385783692,
          -1.2075725430880706,
          -2.349933344754745,
          -0.6456170846869308,
          -1.923908793870801,
          -0.4925957426625602,
          0.03413191981231174,
          0.23756180147104275,
          -0.8846916408632101,
          -1.3556745481594472,
          -2.8096554666813396,
          -1.2166345784091577,
          1.1227307506915485,
          -0.12126359292376553,
          1.789369825023507,
          1.0606097200311873,
          1.1728938715333648,
          -0.0526819063276142,
          0.5463535544403695,
          1.4140200202206537,
          0.6977717095690767,
          0.505806684424547,
          -1.4402898944623004,
          0.27449196049229585,
          -0.26042021529190873,
          0.41518105649539255,
          1.7522640662018247,
          -1.187838174738271,
          0.23446502343857498,
          -1.200202953243225,
          1.0020756314478152,
          0.0029136007000776796,
          0.06477162633070381,
          -0.5862356000006504,
          -0.6515899692843234,
          2.61577994669217,
          0.5052908884554816,
          -0.5619136578748292,
          0.15467523429708288,
          -1.0913919711876954,
          0.9749410659563239,
          -0.879144323662121,
          0.05904649879176863,
          0.15587892197251124,
          0.8748022545183276,
          -0.7284905602616377,
          0.7382768852123752,
          -2.2876700018057563,
          1.4898713575985456,
          0.9115987911974387,
          -1.5360919931836687,
          0.4177976841472399,
          0.3754084397253426,
          -1.2012043813879316,
          0.23649273301953316,
          1.5005892415174231,
          0.44050438483262316,
          1.8364885185251272,
          1.0683101968727873,
          -0.6337161709842425,
          0.2227794272191448,
          -1.538915776771883,
          -0.10446341539424231,
          0.25811787306894163,
          0.003978874565228057,
          1.0799050324203712,
          -0.6568588867009825,
          -1.012664871906641,
          -0.2006914338501552,
          -1.0985040512691493,
          -0.17883235559153643,
          -0.23257247599650133,
          0.892695913038579,
          -0.5148570965575259,
          0.5922497586703127,
          -0.4817943106659751,
          -1.4230328069736027,
          0.8153909077738124,
          1.8922371641370321,
          -0.6793139334371696,
          1.5025027355565956,
          -0.4634799941219796,
          0.7367586913487083,
          0.5646220949110732,
          -1.4341747306232184,
          0.2658357629187051,
          -0.4908834683911172,
          -0.8084763986748783,
          -0.06535591595403431,
          0.49813050659599595,
          -0.08404795014096927,
          -0.5832855675599287,
          -0.2173664163083856,
          -1.6731753262164346,
          -0.44230887703391447,
          -0.8789611673268257
         ],
         "xaxis": "x11",
         "yaxis": "y11"
        },
        {
         "line": {
          "color": "rgba(128, 128, 128, 1.0)",
          "dash": "solid",
          "shape": "linear",
          "width": 1.3
         },
         "marker": {
          "size": 2,
          "symbol": "circle"
         },
         "mode": "markers",
         "name": "C",
         "text": "",
         "type": "scatter",
         "x": [
          -0.822915546146956,
          -1.3856164823212085,
          1.2164992842835247,
          0.4001623564630531,
          0.2107820076021025,
          -0.09378082635468081,
          1.4738912260619708,
          -1.0537517428543453,
          -1.6308148460642002,
          -0.11511226844870684,
          0.8324274149426117,
          1.8381279774372414,
          0.5824293757274496,
          -1.036632568518775,
          -1.3716822839309804,
          1.224426805432888,
          0.02314153757996988,
          -0.5058165806685646,
          -0.6104792735038228,
          -0.3632758341546976,
          -1.9879928739316564,
          0.20898726241711302,
          0.7540763544151033,
          -0.36400259327973905,
          -0.19914838333678989,
          1.1942084898815117,
          1.0536760015645787,
          -0.3537528548674369,
          -1.6635441073100052,
          -2.3958078631403184,
          0.7895406459575908,
          -0.3918824265858147,
          0.9624978515695156,
          0.5649625341628266,
          -1.050649339337511,
          -1.7114507459864052,
          0.4386907612920649,
          0.3527565586064755,
          -0.570715093282655,
          0.4001899491185232,
          0.13634382621986127,
          0.08014682678530408,
          -1.680830363659941,
          -0.07169084243346506,
          2.411739576649915,
          0.587985303981665,
          0.5346121100907646,
          -0.6837241804670804,
          -0.2791759531849911,
          -0.0193910189620039,
          0.6506316111232995,
          -1.3997584407636932,
          0.9071055309064875,
          -1.3341076136935373,
          0.8914001119912143,
          -0.8610578507752765,
          -0.8432488443702535,
          -1.0297410269242149,
          0.8228530107151968,
          -0.22582921163759567,
          -0.9598082667264018,
          -0.585679883816446,
          0.11640311149780526,
          -0.4519459412490356,
          0.9995123486221918,
          0.7305629448692618,
          0.6489445034264774,
          0.09195840435197405,
          -0.14916659146838787,
          0.5005806892966229,
          -0.47949947922247244,
          -0.2933479282806212,
          0.009700114758779467,
          -0.340638257836198,
          0.0006940880795016687,
          1.3721322661436564,
          -0.15072060518064484,
          -0.7864697889819354,
          -0.07548073098522026,
          0.05511939518267495,
          -0.06945128058605379,
          -1.5617524073316265,
          0.05888189658482693,
          -0.12420719437769312,
          0.8864488086621504,
          -0.6480413544522389,
          -0.7888196430028286,
          -0.7618418282081759,
          0.7075235764084716,
          0.6595880128405492,
          -2.3769223170888636,
          -1.8076505141863966,
          -1.2023992390409755,
          1.830842598092093,
          0.05563208634431394,
          1.0608751072324871,
          1.5718488153982433,
          0.8776591796753751,
          -1.8194696641522394,
          -0.026438367024887135
         ],
         "xaxis": "x12",
         "y": [
          -0.7331664989088466,
          0.20334098992058225,
          -0.23418880126774333,
          -1.3295462524118646,
          -1.9695962385783692,
          -1.2075725430880706,
          -2.349933344754745,
          -0.6456170846869308,
          -1.923908793870801,
          -0.4925957426625602,
          0.03413191981231174,
          0.23756180147104275,
          -0.8846916408632101,
          -1.3556745481594472,
          -2.8096554666813396,
          -1.2166345784091577,
          1.1227307506915485,
          -0.12126359292376553,
          1.789369825023507,
          1.0606097200311873,
          1.1728938715333648,
          -0.0526819063276142,
          0.5463535544403695,
          1.4140200202206537,
          0.6977717095690767,
          0.505806684424547,
          -1.4402898944623004,
          0.27449196049229585,
          -0.26042021529190873,
          0.41518105649539255,
          1.7522640662018247,
          -1.187838174738271,
          0.23446502343857498,
          -1.200202953243225,
          1.0020756314478152,
          0.0029136007000776796,
          0.06477162633070381,
          -0.5862356000006504,
          -0.6515899692843234,
          2.61577994669217,
          0.5052908884554816,
          -0.5619136578748292,
          0.15467523429708288,
          -1.0913919711876954,
          0.9749410659563239,
          -0.879144323662121,
          0.05904649879176863,
          0.15587892197251124,
          0.8748022545183276,
          -0.7284905602616377,
          0.7382768852123752,
          -2.2876700018057563,
          1.4898713575985456,
          0.9115987911974387,
          -1.5360919931836687,
          0.4177976841472399,
          0.3754084397253426,
          -1.2012043813879316,
          0.23649273301953316,
          1.5005892415174231,
          0.44050438483262316,
          1.8364885185251272,
          1.0683101968727873,
          -0.6337161709842425,
          0.2227794272191448,
          -1.538915776771883,
          -0.10446341539424231,
          0.25811787306894163,
          0.003978874565228057,
          1.0799050324203712,
          -0.6568588867009825,
          -1.012664871906641,
          -0.2006914338501552,
          -1.0985040512691493,
          -0.17883235559153643,
          -0.23257247599650133,
          0.892695913038579,
          -0.5148570965575259,
          0.5922497586703127,
          -0.4817943106659751,
          -1.4230328069736027,
          0.8153909077738124,
          1.8922371641370321,
          -0.6793139334371696,
          1.5025027355565956,
          -0.4634799941219796,
          0.7367586913487083,
          0.5646220949110732,
          -1.4341747306232184,
          0.2658357629187051,
          -0.4908834683911172,
          -0.8084763986748783,
          -0.06535591595403431,
          0.49813050659599595,
          -0.08404795014096927,
          -0.5832855675599287,
          -0.2173664163083856,
          -1.6731753262164346,
          -0.44230887703391447,
          -0.8789611673268257
         ],
         "yaxis": "y12"
        },
        {
         "line": {
          "color": "rgba(128, 128, 128, 1.0)",
          "dash": "solid",
          "shape": "linear",
          "width": 1.3
         },
         "marker": {
          "size": 2,
          "symbol": "circle"
         },
         "mode": "markers",
         "name": "D",
         "text": "",
         "type": "scatter",
         "x": [
          -0.5116334595858404,
          -0.40451980663673587,
          0.11150203937866228,
          -0.957022430315918,
          -1.7537384134747118,
          -0.955316648367469,
          2.222588500741579,
          1.632559710535148,
          -0.7735923715434228,
          -0.02963878790154119,
          0.12474207955153141,
          0.007403421790317452,
          0.7440083568613275,
          1.228142706154454,
          0.4903478313312827,
          1.0671146523674926,
          0.38121839902209004,
          0.4784281130106239,
          -0.19334240537897074,
          0.2114068151160235,
          -0.28700598149332923,
          0.6266936008614964,
          -0.5539203483696317,
          0.8808079578911151,
          -0.2900116639501292,
          0.6261423219081403,
          0.44289408669801344,
          -1.0983682136534527,
          2.18957495182428,
          -0.05523220546360378,
          -0.11974553616901784,
          0.9765551281108982,
          1.0094934732433622,
          -1.2467963176372587,
          -0.2916082987378891,
          -0.252668436812334,
          -0.08836765690390477,
          0.6714605946405123,
          -1.975400227235359,
          -1.4659492320039842,
          -1.3895098125317962,
          -0.548176990317895,
          1.1498524159811114,
          -0.680873652531143,
          0.8361233299240934,
          -0.2951580965160952,
          -0.3695172599900852,
          1.3645930195548088,
          -0.4357307104776005,
          0.6430080010807169,
          -1.3455522950429075,
          -0.5206069791562866,
          1.1519658563449808,
          1.5518073674429156,
          -1.1757421206697676,
          0.31577683173796717,
          -0.5930566729500595,
          1.8670196724416042,
          0.5119438525785157,
          2.930461646582064,
          -0.23844315792702714,
          -0.38627151014457195,
          0.09289979180428624,
          -0.4930263009198248,
          -0.2648171930663567,
          -1.176740209750023,
          -0.8939604980187664,
          -0.7371049047637849,
          0.5871643676719378,
          -0.6415778753683434,
          -0.7604105092082487,
          0.7140214328803306,
          -0.9915435986302659,
          0.540851892851178,
          2.171638035591147,
          0.7464422614972771,
          0.7399621239592686,
          -0.23256585533617888,
          0.5432788198064235,
          -1.8189852586551483,
          0.39594453755161185,
          2.081483606601444,
          0.4771429363558366,
          -0.27537596662751096,
          -1.6544053929212492,
          -0.3663005905185225,
          -0.6726891740365734,
          -0.49462773090057727,
          0.389756615394149,
          -0.46107556252258863,
          -1.4536929347782868,
          -0.48860430307025055,
          -1.041576111141286,
          -0.6245608768868465,
          0.8654012168584696,
          0.5453770936816931,
          -0.21852546711481033,
          -0.1416534109291892,
          0.210740917567398,
          -0.786576379864656
         ],
         "xaxis": "x13",
         "y": [
          -0.822915546146956,
          -1.3856164823212085,
          1.2164992842835247,
          0.4001623564630531,
          0.2107820076021025,
          -0.09378082635468081,
          1.4738912260619708,
          -1.0537517428543453,
          -1.6308148460642002,
          -0.11511226844870684,
          0.8324274149426117,
          1.8381279774372414,
          0.5824293757274496,
          -1.036632568518775,
          -1.3716822839309804,
          1.224426805432888,
          0.02314153757996988,
          -0.5058165806685646,
          -0.6104792735038228,
          -0.3632758341546976,
          -1.9879928739316564,
          0.20898726241711302,
          0.7540763544151033,
          -0.36400259327973905,
          -0.19914838333678989,
          1.1942084898815117,
          1.0536760015645787,
          -0.3537528548674369,
          -1.6635441073100052,
          -2.3958078631403184,
          0.7895406459575908,
          -0.3918824265858147,
          0.9624978515695156,
          0.5649625341628266,
          -1.050649339337511,
          -1.7114507459864052,
          0.4386907612920649,
          0.3527565586064755,
          -0.570715093282655,
          0.4001899491185232,
          0.13634382621986127,
          0.08014682678530408,
          -1.680830363659941,
          -0.07169084243346506,
          2.411739576649915,
          0.587985303981665,
          0.5346121100907646,
          -0.6837241804670804,
          -0.2791759531849911,
          -0.0193910189620039,
          0.6506316111232995,
          -1.3997584407636932,
          0.9071055309064875,
          -1.3341076136935373,
          0.8914001119912143,
          -0.8610578507752765,
          -0.8432488443702535,
          -1.0297410269242149,
          0.8228530107151968,
          -0.22582921163759567,
          -0.9598082667264018,
          -0.585679883816446,
          0.11640311149780526,
          -0.4519459412490356,
          0.9995123486221918,
          0.7305629448692618,
          0.6489445034264774,
          0.09195840435197405,
          -0.14916659146838787,
          0.5005806892966229,
          -0.47949947922247244,
          -0.2933479282806212,
          0.009700114758779467,
          -0.340638257836198,
          0.0006940880795016687,
          1.3721322661436564,
          -0.15072060518064484,
          -0.7864697889819354,
          -0.07548073098522026,
          0.05511939518267495,
          -0.06945128058605379,
          -1.5617524073316265,
          0.05888189658482693,
          -0.12420719437769312,
          0.8864488086621504,
          -0.6480413544522389,
          -0.7888196430028286,
          -0.7618418282081759,
          0.7075235764084716,
          0.6595880128405492,
          -2.3769223170888636,
          -1.8076505141863966,
          -1.2023992390409755,
          1.830842598092093,
          0.05563208634431394,
          1.0608751072324871,
          1.5718488153982433,
          0.8776591796753751,
          -1.8194696641522394,
          -0.026438367024887135
         ],
         "yaxis": "y13"
        },
        {
         "line": {
          "color": "rgba(128, 128, 128, 1.0)",
          "dash": "solid",
          "shape": "linear",
          "width": 1.3
         },
         "marker": {
          "size": 2,
          "symbol": "circle"
         },
         "mode": "markers",
         "name": "D",
         "text": "",
         "type": "scatter",
         "x": [
          -1.021949233130461,
          0.25594574775048773,
          -0.49810387488163294,
          -1.325142642265481,
          -0.5366367478882258,
          1.0588099409333411,
          -1.0032978099073984,
          -0.8859669207305646,
          -0.06246948659894244,
          1.608941187505579,
          -0.3707918869740564,
          1.0450432601692148,
          -0.8401673973404254,
          0.292684789819589,
          0.729639443981082,
          0.4858150437908382,
          -0.4648277842418754,
          1.143185288073808,
          -1.0407427191447072,
          -1.425350991448239,
          -1.6558923830502548,
          -0.196126484198559,
          1.0552658780568707,
          -0.35263289136461645,
          0.8594609595168468,
          -1.2146127586768733,
          0.13220927769630178,
          -0.5648126800961567,
          -1.4173856239947105,
          -0.27379828911599174,
          0.4627715724085573,
          0.954071074533576,
          -1.5179053035379908,
          -0.7490363703587672,
          0.7843382049747933,
          -0.5825381214550421,
          -2.648166884938007,
          1.307337854013301,
          -1.2013701767559322,
          0.04436461470208275,
          -1.0206994284023114,
          -1.674926161290066,
          0.8378551196604281,
          -0.5081307161078558,
          1.0391192470821948,
          0.9628168203510796,
          0.004656832184727584,
          0.37783807138446773,
          -0.8090007741198757,
          0.3080210740208786,
          -0.01291972632760256,
          -0.32808528338522164,
          -1.296008271665516,
          -0.12789723500299224,
          0.9185470189724362,
          0.1287211863056182,
          2.237138179378632,
          -1.046419761230294,
          0.4280079253568352,
          1.2204039767857147,
          2.1548771482416798,
          0.44660725613147545,
          2.408224640092218,
          -1.11188791629352,
          -0.5898211643668354,
          0.8713265333134166,
          -0.46222389540219333,
          -0.11916235926853035,
          -0.5535978037993889,
          0.6087265261133761,
          1.225924068607216,
          0.9635074728291688,
          1.698331398380695,
          1.4246856327640762,
          -1.518895721740957,
          0.7649774149193973,
          0.7729348387618514,
          -0.9428834054294118,
          2.4457721829035237,
          -1.4393216516608613,
          -0.0593960436946276,
          0.8440019438929776,
          -0.7630293848511864,
          0.9877315922843377,
          -1.0272063197815813,
          0.5562686704820748,
          -0.5764170798889229,
          2.68893459063555,
          0.20429998711292027,
          0.8244038897408704,
          -0.7091675926939464,
          1.7030636499644225,
          -0.21407226437633675,
          -0.4877776042634076,
          0.4706276205941772,
          -0.10691589777002733,
          0.98046375194209,
          -1.2024078700961744,
          -0.23736613593332123,
          -0.6760890965035313
         ],
         "xaxis": "x14",
         "y": [
          -0.822915546146956,
          -1.3856164823212085,
          1.2164992842835247,
          0.4001623564630531,
          0.2107820076021025,
          -0.09378082635468081,
          1.4738912260619708,
          -1.0537517428543453,
          -1.6308148460642002,
          -0.11511226844870684,
          0.8324274149426117,
          1.8381279774372414,
          0.5824293757274496,
          -1.036632568518775,
          -1.3716822839309804,
          1.224426805432888,
          0.02314153757996988,
          -0.5058165806685646,
          -0.6104792735038228,
          -0.3632758341546976,
          -1.9879928739316564,
          0.20898726241711302,
          0.7540763544151033,
          -0.36400259327973905,
          -0.19914838333678989,
          1.1942084898815117,
          1.0536760015645787,
          -0.3537528548674369,
          -1.6635441073100052,
          -2.3958078631403184,
          0.7895406459575908,
          -0.3918824265858147,
          0.9624978515695156,
          0.5649625341628266,
          -1.050649339337511,
          -1.7114507459864052,
          0.4386907612920649,
          0.3527565586064755,
          -0.570715093282655,
          0.4001899491185232,
          0.13634382621986127,
          0.08014682678530408,
          -1.680830363659941,
          -0.07169084243346506,
          2.411739576649915,
          0.587985303981665,
          0.5346121100907646,
          -0.6837241804670804,
          -0.2791759531849911,
          -0.0193910189620039,
          0.6506316111232995,
          -1.3997584407636932,
          0.9071055309064875,
          -1.3341076136935373,
          0.8914001119912143,
          -0.8610578507752765,
          -0.8432488443702535,
          -1.0297410269242149,
          0.8228530107151968,
          -0.22582921163759567,
          -0.9598082667264018,
          -0.585679883816446,
          0.11640311149780526,
          -0.4519459412490356,
          0.9995123486221918,
          0.7305629448692618,
          0.6489445034264774,
          0.09195840435197405,
          -0.14916659146838787,
          0.5005806892966229,
          -0.47949947922247244,
          -0.2933479282806212,
          0.009700114758779467,
          -0.340638257836198,
          0.0006940880795016687,
          1.3721322661436564,
          -0.15072060518064484,
          -0.7864697889819354,
          -0.07548073098522026,
          0.05511939518267495,
          -0.06945128058605379,
          -1.5617524073316265,
          0.05888189658482693,
          -0.12420719437769312,
          0.8864488086621504,
          -0.6480413544522389,
          -0.7888196430028286,
          -0.7618418282081759,
          0.7075235764084716,
          0.6595880128405492,
          -2.3769223170888636,
          -1.8076505141863966,
          -1.2023992390409755,
          1.830842598092093,
          0.05563208634431394,
          1.0608751072324871,
          1.5718488153982433,
          0.8776591796753751,
          -1.8194696641522394,
          -0.026438367024887135
         ],
         "yaxis": "y14"
        },
        {
         "line": {
          "color": "rgba(128, 128, 128, 1.0)",
          "dash": "solid",
          "shape": "linear",
          "width": 1.3
         },
         "marker": {
          "size": 2,
          "symbol": "circle"
         },
         "mode": "markers",
         "name": "D",
         "text": "",
         "type": "scatter",
         "x": [
          -0.7331664989088466,
          0.20334098992058225,
          -0.23418880126774333,
          -1.3295462524118646,
          -1.9695962385783692,
          -1.2075725430880706,
          -2.349933344754745,
          -0.6456170846869308,
          -1.923908793870801,
          -0.4925957426625602,
          0.03413191981231174,
          0.23756180147104275,
          -0.8846916408632101,
          -1.3556745481594472,
          -2.8096554666813396,
          -1.2166345784091577,
          1.1227307506915485,
          -0.12126359292376553,
          1.789369825023507,
          1.0606097200311873,
          1.1728938715333648,
          -0.0526819063276142,
          0.5463535544403695,
          1.4140200202206537,
          0.6977717095690767,
          0.505806684424547,
          -1.4402898944623004,
          0.27449196049229585,
          -0.26042021529190873,
          0.41518105649539255,
          1.7522640662018247,
          -1.187838174738271,
          0.23446502343857498,
          -1.200202953243225,
          1.0020756314478152,
          0.0029136007000776796,
          0.06477162633070381,
          -0.5862356000006504,
          -0.6515899692843234,
          2.61577994669217,
          0.5052908884554816,
          -0.5619136578748292,
          0.15467523429708288,
          -1.0913919711876954,
          0.9749410659563239,
          -0.879144323662121,
          0.05904649879176863,
          0.15587892197251124,
          0.8748022545183276,
          -0.7284905602616377,
          0.7382768852123752,
          -2.2876700018057563,
          1.4898713575985456,
          0.9115987911974387,
          -1.5360919931836687,
          0.4177976841472399,
          0.3754084397253426,
          -1.2012043813879316,
          0.23649273301953316,
          1.5005892415174231,
          0.44050438483262316,
          1.8364885185251272,
          1.0683101968727873,
          -0.6337161709842425,
          0.2227794272191448,
          -1.538915776771883,
          -0.10446341539424231,
          0.25811787306894163,
          0.003978874565228057,
          1.0799050324203712,
          -0.6568588867009825,
          -1.012664871906641,
          -0.2006914338501552,
          -1.0985040512691493,
          -0.17883235559153643,
          -0.23257247599650133,
          0.892695913038579,
          -0.5148570965575259,
          0.5922497586703127,
          -0.4817943106659751,
          -1.4230328069736027,
          0.8153909077738124,
          1.8922371641370321,
          -0.6793139334371696,
          1.5025027355565956,
          -0.4634799941219796,
          0.7367586913487083,
          0.5646220949110732,
          -1.4341747306232184,
          0.2658357629187051,
          -0.4908834683911172,
          -0.8084763986748783,
          -0.06535591595403431,
          0.49813050659599595,
          -0.08404795014096927,
          -0.5832855675599287,
          -0.2173664163083856,
          -1.6731753262164346,
          -0.44230887703391447,
          -0.8789611673268257
         ],
         "xaxis": "x15",
         "y": [
          -0.822915546146956,
          -1.3856164823212085,
          1.2164992842835247,
          0.4001623564630531,
          0.2107820076021025,
          -0.09378082635468081,
          1.4738912260619708,
          -1.0537517428543453,
          -1.6308148460642002,
          -0.11511226844870684,
          0.8324274149426117,
          1.8381279774372414,
          0.5824293757274496,
          -1.036632568518775,
          -1.3716822839309804,
          1.224426805432888,
          0.02314153757996988,
          -0.5058165806685646,
          -0.6104792735038228,
          -0.3632758341546976,
          -1.9879928739316564,
          0.20898726241711302,
          0.7540763544151033,
          -0.36400259327973905,
          -0.19914838333678989,
          1.1942084898815117,
          1.0536760015645787,
          -0.3537528548674369,
          -1.6635441073100052,
          -2.3958078631403184,
          0.7895406459575908,
          -0.3918824265858147,
          0.9624978515695156,
          0.5649625341628266,
          -1.050649339337511,
          -1.7114507459864052,
          0.4386907612920649,
          0.3527565586064755,
          -0.570715093282655,
          0.4001899491185232,
          0.13634382621986127,
          0.08014682678530408,
          -1.680830363659941,
          -0.07169084243346506,
          2.411739576649915,
          0.587985303981665,
          0.5346121100907646,
          -0.6837241804670804,
          -0.2791759531849911,
          -0.0193910189620039,
          0.6506316111232995,
          -1.3997584407636932,
          0.9071055309064875,
          -1.3341076136935373,
          0.8914001119912143,
          -0.8610578507752765,
          -0.8432488443702535,
          -1.0297410269242149,
          0.8228530107151968,
          -0.22582921163759567,
          -0.9598082667264018,
          -0.585679883816446,
          0.11640311149780526,
          -0.4519459412490356,
          0.9995123486221918,
          0.7305629448692618,
          0.6489445034264774,
          0.09195840435197405,
          -0.14916659146838787,
          0.5005806892966229,
          -0.47949947922247244,
          -0.2933479282806212,
          0.009700114758779467,
          -0.340638257836198,
          0.0006940880795016687,
          1.3721322661436564,
          -0.15072060518064484,
          -0.7864697889819354,
          -0.07548073098522026,
          0.05511939518267495,
          -0.06945128058605379,
          -1.5617524073316265,
          0.05888189658482693,
          -0.12420719437769312,
          0.8864488086621504,
          -0.6480413544522389,
          -0.7888196430028286,
          -0.7618418282081759,
          0.7075235764084716,
          0.6595880128405492,
          -2.3769223170888636,
          -1.8076505141863966,
          -1.2023992390409755,
          1.830842598092093,
          0.05563208634431394,
          1.0608751072324871,
          1.5718488153982433,
          0.8776591796753751,
          -1.8194696641522394,
          -0.026438367024887135
         ],
         "yaxis": "y15"
        },
        {
         "histfunc": "count",
         "histnorm": "",
         "marker": {
          "color": "rgba(128, 0, 128, 1.0)",
          "line": {
           "color": "#4D5663",
           "width": 1.3
          }
         },
         "name": "D",
         "nbinsx": 10,
         "opacity": 0.8,
         "orientation": "v",
         "type": "histogram",
         "x": [
          -0.822915546146956,
          -1.3856164823212085,
          1.2164992842835247,
          0.4001623564630531,
          0.2107820076021025,
          -0.09378082635468081,
          1.4738912260619708,
          -1.0537517428543453,
          -1.6308148460642002,
          -0.11511226844870684,
          0.8324274149426117,
          1.8381279774372414,
          0.5824293757274496,
          -1.036632568518775,
          -1.3716822839309804,
          1.224426805432888,
          0.02314153757996988,
          -0.5058165806685646,
          -0.6104792735038228,
          -0.3632758341546976,
          -1.9879928739316564,
          0.20898726241711302,
          0.7540763544151033,
          -0.36400259327973905,
          -0.19914838333678989,
          1.1942084898815117,
          1.0536760015645787,
          -0.3537528548674369,
          -1.6635441073100052,
          -2.3958078631403184,
          0.7895406459575908,
          -0.3918824265858147,
          0.9624978515695156,
          0.5649625341628266,
          -1.050649339337511,
          -1.7114507459864052,
          0.4386907612920649,
          0.3527565586064755,
          -0.570715093282655,
          0.4001899491185232,
          0.13634382621986127,
          0.08014682678530408,
          -1.680830363659941,
          -0.07169084243346506,
          2.411739576649915,
          0.587985303981665,
          0.5346121100907646,
          -0.6837241804670804,
          -0.2791759531849911,
          -0.0193910189620039,
          0.6506316111232995,
          -1.3997584407636932,
          0.9071055309064875,
          -1.3341076136935373,
          0.8914001119912143,
          -0.8610578507752765,
          -0.8432488443702535,
          -1.0297410269242149,
          0.8228530107151968,
          -0.22582921163759567,
          -0.9598082667264018,
          -0.585679883816446,
          0.11640311149780526,
          -0.4519459412490356,
          0.9995123486221918,
          0.7305629448692618,
          0.6489445034264774,
          0.09195840435197405,
          -0.14916659146838787,
          0.5005806892966229,
          -0.47949947922247244,
          -0.2933479282806212,
          0.009700114758779467,
          -0.340638257836198,
          0.0006940880795016687,
          1.3721322661436564,
          -0.15072060518064484,
          -0.7864697889819354,
          -0.07548073098522026,
          0.05511939518267495,
          -0.06945128058605379,
          -1.5617524073316265,
          0.05888189658482693,
          -0.12420719437769312,
          0.8864488086621504,
          -0.6480413544522389,
          -0.7888196430028286,
          -0.7618418282081759,
          0.7075235764084716,
          0.6595880128405492,
          -2.3769223170888636,
          -1.8076505141863966,
          -1.2023992390409755,
          1.830842598092093,
          0.05563208634431394,
          1.0608751072324871,
          1.5718488153982433,
          0.8776591796753751,
          -1.8194696641522394,
          -0.026438367024887135
         ],
         "xaxis": "x16",
         "yaxis": "y16"
        }
       ],
       "layout": {
        "bargap": 0.02,
        "legend": {
         "bgcolor": "#F5F6F9",
         "font": {
          "color": "#4D5663"
         }
        },
        "paper_bgcolor": "#F5F6F9",
        "plot_bgcolor": "#F5F6F9",
        "showlegend": false,
        "template": {
         "data": {
          "bar": [
           {
            "error_x": {
             "color": "#2a3f5f"
            },
            "error_y": {
             "color": "#2a3f5f"
            },
            "marker": {
             "line": {
              "color": "#E5ECF6",
              "width": 0.5
             },
             "pattern": {
              "fillmode": "overlay",
              "size": 10,
              "solidity": 0.2
             }
            },
            "type": "bar"
           }
          ],
          "barpolar": [
           {
            "marker": {
             "line": {
              "color": "#E5ECF6",
              "width": 0.5
             },
             "pattern": {
              "fillmode": "overlay",
              "size": 10,
              "solidity": 0.2
             }
            },
            "type": "barpolar"
           }
          ],
          "carpet": [
           {
            "aaxis": {
             "endlinecolor": "#2a3f5f",
             "gridcolor": "white",
             "linecolor": "white",
             "minorgridcolor": "white",
             "startlinecolor": "#2a3f5f"
            },
            "baxis": {
             "endlinecolor": "#2a3f5f",
             "gridcolor": "white",
             "linecolor": "white",
             "minorgridcolor": "white",
             "startlinecolor": "#2a3f5f"
            },
            "type": "carpet"
           }
          ],
          "choropleth": [
           {
            "colorbar": {
             "outlinewidth": 0,
             "ticks": ""
            },
            "type": "choropleth"
           }
          ],
          "contour": [
           {
            "colorbar": {
             "outlinewidth": 0,
             "ticks": ""
            },
            "colorscale": [
             [
              0,
              "#0d0887"
             ],
             [
              0.1111111111111111,
              "#46039f"
             ],
             [
              0.2222222222222222,
              "#7201a8"
             ],
             [
              0.3333333333333333,
              "#9c179e"
             ],
             [
              0.4444444444444444,
              "#bd3786"
             ],
             [
              0.5555555555555556,
              "#d8576b"
             ],
             [
              0.6666666666666666,
              "#ed7953"
             ],
             [
              0.7777777777777778,
              "#fb9f3a"
             ],
             [
              0.8888888888888888,
              "#fdca26"
             ],
             [
              1,
              "#f0f921"
             ]
            ],
            "type": "contour"
           }
          ],
          "contourcarpet": [
           {
            "colorbar": {
             "outlinewidth": 0,
             "ticks": ""
            },
            "type": "contourcarpet"
           }
          ],
          "heatmap": [
           {
            "colorbar": {
             "outlinewidth": 0,
             "ticks": ""
            },
            "colorscale": [
             [
              0,
              "#0d0887"
             ],
             [
              0.1111111111111111,
              "#46039f"
             ],
             [
              0.2222222222222222,
              "#7201a8"
             ],
             [
              0.3333333333333333,
              "#9c179e"
             ],
             [
              0.4444444444444444,
              "#bd3786"
             ],
             [
              0.5555555555555556,
              "#d8576b"
             ],
             [
              0.6666666666666666,
              "#ed7953"
             ],
             [
              0.7777777777777778,
              "#fb9f3a"
             ],
             [
              0.8888888888888888,
              "#fdca26"
             ],
             [
              1,
              "#f0f921"
             ]
            ],
            "type": "heatmap"
           }
          ],
          "heatmapgl": [
           {
            "colorbar": {
             "outlinewidth": 0,
             "ticks": ""
            },
            "colorscale": [
             [
              0,
              "#0d0887"
             ],
             [
              0.1111111111111111,
              "#46039f"
             ],
             [
              0.2222222222222222,
              "#7201a8"
             ],
             [
              0.3333333333333333,
              "#9c179e"
             ],
             [
              0.4444444444444444,
              "#bd3786"
             ],
             [
              0.5555555555555556,
              "#d8576b"
             ],
             [
              0.6666666666666666,
              "#ed7953"
             ],
             [
              0.7777777777777778,
              "#fb9f3a"
             ],
             [
              0.8888888888888888,
              "#fdca26"
             ],
             [
              1,
              "#f0f921"
             ]
            ],
            "type": "heatmapgl"
           }
          ],
          "histogram": [
           {
            "marker": {
             "pattern": {
              "fillmode": "overlay",
              "size": 10,
              "solidity": 0.2
             }
            },
            "type": "histogram"
           }
          ],
          "histogram2d": [
           {
            "colorbar": {
             "outlinewidth": 0,
             "ticks": ""
            },
            "colorscale": [
             [
              0,
              "#0d0887"
             ],
             [
              0.1111111111111111,
              "#46039f"
             ],
             [
              0.2222222222222222,
              "#7201a8"
             ],
             [
              0.3333333333333333,
              "#9c179e"
             ],
             [
              0.4444444444444444,
              "#bd3786"
             ],
             [
              0.5555555555555556,
              "#d8576b"
             ],
             [
              0.6666666666666666,
              "#ed7953"
             ],
             [
              0.7777777777777778,
              "#fb9f3a"
             ],
             [
              0.8888888888888888,
              "#fdca26"
             ],
             [
              1,
              "#f0f921"
             ]
            ],
            "type": "histogram2d"
           }
          ],
          "histogram2dcontour": [
           {
            "colorbar": {
             "outlinewidth": 0,
             "ticks": ""
            },
            "colorscale": [
             [
              0,
              "#0d0887"
             ],
             [
              0.1111111111111111,
              "#46039f"
             ],
             [
              0.2222222222222222,
              "#7201a8"
             ],
             [
              0.3333333333333333,
              "#9c179e"
             ],
             [
              0.4444444444444444,
              "#bd3786"
             ],
             [
              0.5555555555555556,
              "#d8576b"
             ],
             [
              0.6666666666666666,
              "#ed7953"
             ],
             [
              0.7777777777777778,
              "#fb9f3a"
             ],
             [
              0.8888888888888888,
              "#fdca26"
             ],
             [
              1,
              "#f0f921"
             ]
            ],
            "type": "histogram2dcontour"
           }
          ],
          "mesh3d": [
           {
            "colorbar": {
             "outlinewidth": 0,
             "ticks": ""
            },
            "type": "mesh3d"
           }
          ],
          "parcoords": [
           {
            "line": {
             "colorbar": {
              "outlinewidth": 0,
              "ticks": ""
             }
            },
            "type": "parcoords"
           }
          ],
          "pie": [
           {
            "automargin": true,
            "type": "pie"
           }
          ],
          "scatter": [
           {
            "fillpattern": {
             "fillmode": "overlay",
             "size": 10,
             "solidity": 0.2
            },
            "type": "scatter"
           }
          ],
          "scatter3d": [
           {
            "line": {
             "colorbar": {
              "outlinewidth": 0,
              "ticks": ""
             }
            },
            "marker": {
             "colorbar": {
              "outlinewidth": 0,
              "ticks": ""
             }
            },
            "type": "scatter3d"
           }
          ],
          "scattercarpet": [
           {
            "marker": {
             "colorbar": {
              "outlinewidth": 0,
              "ticks": ""
             }
            },
            "type": "scattercarpet"
           }
          ],
          "scattergeo": [
           {
            "marker": {
             "colorbar": {
              "outlinewidth": 0,
              "ticks": ""
             }
            },
            "type": "scattergeo"
           }
          ],
          "scattergl": [
           {
            "marker": {
             "colorbar": {
              "outlinewidth": 0,
              "ticks": ""
             }
            },
            "type": "scattergl"
           }
          ],
          "scattermapbox": [
           {
            "marker": {
             "colorbar": {
              "outlinewidth": 0,
              "ticks": ""
             }
            },
            "type": "scattermapbox"
           }
          ],
          "scatterpolar": [
           {
            "marker": {
             "colorbar": {
              "outlinewidth": 0,
              "ticks": ""
             }
            },
            "type": "scatterpolar"
           }
          ],
          "scatterpolargl": [
           {
            "marker": {
             "colorbar": {
              "outlinewidth": 0,
              "ticks": ""
             }
            },
            "type": "scatterpolargl"
           }
          ],
          "scatterternary": [
           {
            "marker": {
             "colorbar": {
              "outlinewidth": 0,
              "ticks": ""
             }
            },
            "type": "scatterternary"
           }
          ],
          "surface": [
           {
            "colorbar": {
             "outlinewidth": 0,
             "ticks": ""
            },
            "colorscale": [
             [
              0,
              "#0d0887"
             ],
             [
              0.1111111111111111,
              "#46039f"
             ],
             [
              0.2222222222222222,
              "#7201a8"
             ],
             [
              0.3333333333333333,
              "#9c179e"
             ],
             [
              0.4444444444444444,
              "#bd3786"
             ],
             [
              0.5555555555555556,
              "#d8576b"
             ],
             [
              0.6666666666666666,
              "#ed7953"
             ],
             [
              0.7777777777777778,
              "#fb9f3a"
             ],
             [
              0.8888888888888888,
              "#fdca26"
             ],
             [
              1,
              "#f0f921"
             ]
            ],
            "type": "surface"
           }
          ],
          "table": [
           {
            "cells": {
             "fill": {
              "color": "#EBF0F8"
             },
             "line": {
              "color": "white"
             }
            },
            "header": {
             "fill": {
              "color": "#C8D4E3"
             },
             "line": {
              "color": "white"
             }
            },
            "type": "table"
           }
          ]
         },
         "layout": {
          "annotationdefaults": {
           "arrowcolor": "#2a3f5f",
           "arrowhead": 0,
           "arrowwidth": 1
          },
          "autotypenumbers": "strict",
          "coloraxis": {
           "colorbar": {
            "outlinewidth": 0,
            "ticks": ""
           }
          },
          "colorscale": {
           "diverging": [
            [
             0,
             "#8e0152"
            ],
            [
             0.1,
             "#c51b7d"
            ],
            [
             0.2,
             "#de77ae"
            ],
            [
             0.3,
             "#f1b6da"
            ],
            [
             0.4,
             "#fde0ef"
            ],
            [
             0.5,
             "#f7f7f7"
            ],
            [
             0.6,
             "#e6f5d0"
            ],
            [
             0.7,
             "#b8e186"
            ],
            [
             0.8,
             "#7fbc41"
            ],
            [
             0.9,
             "#4d9221"
            ],
            [
             1,
             "#276419"
            ]
           ],
           "sequential": [
            [
             0,
             "#0d0887"
            ],
            [
             0.1111111111111111,
             "#46039f"
            ],
            [
             0.2222222222222222,
             "#7201a8"
            ],
            [
             0.3333333333333333,
             "#9c179e"
            ],
            [
             0.4444444444444444,
             "#bd3786"
            ],
            [
             0.5555555555555556,
             "#d8576b"
            ],
            [
             0.6666666666666666,
             "#ed7953"
            ],
            [
             0.7777777777777778,
             "#fb9f3a"
            ],
            [
             0.8888888888888888,
             "#fdca26"
            ],
            [
             1,
             "#f0f921"
            ]
           ],
           "sequentialminus": [
            [
             0,
             "#0d0887"
            ],
            [
             0.1111111111111111,
             "#46039f"
            ],
            [
             0.2222222222222222,
             "#7201a8"
            ],
            [
             0.3333333333333333,
             "#9c179e"
            ],
            [
             0.4444444444444444,
             "#bd3786"
            ],
            [
             0.5555555555555556,
             "#d8576b"
            ],
            [
             0.6666666666666666,
             "#ed7953"
            ],
            [
             0.7777777777777778,
             "#fb9f3a"
            ],
            [
             0.8888888888888888,
             "#fdca26"
            ],
            [
             1,
             "#f0f921"
            ]
           ]
          },
          "colorway": [
           "#636efa",
           "#EF553B",
           "#00cc96",
           "#ab63fa",
           "#FFA15A",
           "#19d3f3",
           "#FF6692",
           "#B6E880",
           "#FF97FF",
           "#FECB52"
          ],
          "font": {
           "color": "#2a3f5f"
          },
          "geo": {
           "bgcolor": "white",
           "lakecolor": "white",
           "landcolor": "#E5ECF6",
           "showlakes": true,
           "showland": true,
           "subunitcolor": "white"
          },
          "hoverlabel": {
           "align": "left"
          },
          "hovermode": "closest",
          "mapbox": {
           "style": "light"
          },
          "paper_bgcolor": "white",
          "plot_bgcolor": "#E5ECF6",
          "polar": {
           "angularaxis": {
            "gridcolor": "white",
            "linecolor": "white",
            "ticks": ""
           },
           "bgcolor": "#E5ECF6",
           "radialaxis": {
            "gridcolor": "white",
            "linecolor": "white",
            "ticks": ""
           }
          },
          "scene": {
           "xaxis": {
            "backgroundcolor": "#E5ECF6",
            "gridcolor": "white",
            "gridwidth": 2,
            "linecolor": "white",
            "showbackground": true,
            "ticks": "",
            "zerolinecolor": "white"
           },
           "yaxis": {
            "backgroundcolor": "#E5ECF6",
            "gridcolor": "white",
            "gridwidth": 2,
            "linecolor": "white",
            "showbackground": true,
            "ticks": "",
            "zerolinecolor": "white"
           },
           "zaxis": {
            "backgroundcolor": "#E5ECF6",
            "gridcolor": "white",
            "gridwidth": 2,
            "linecolor": "white",
            "showbackground": true,
            "ticks": "",
            "zerolinecolor": "white"
           }
          },
          "shapedefaults": {
           "line": {
            "color": "#2a3f5f"
           }
          },
          "ternary": {
           "aaxis": {
            "gridcolor": "white",
            "linecolor": "white",
            "ticks": ""
           },
           "baxis": {
            "gridcolor": "white",
            "linecolor": "white",
            "ticks": ""
           },
           "bgcolor": "#E5ECF6",
           "caxis": {
            "gridcolor": "white",
            "linecolor": "white",
            "ticks": ""
           }
          },
          "title": {
           "x": 0.05
          },
          "xaxis": {
           "automargin": true,
           "gridcolor": "white",
           "linecolor": "white",
           "ticks": "",
           "title": {
            "standoff": 15
           },
           "zerolinecolor": "white",
           "zerolinewidth": 2
          },
          "yaxis": {
           "automargin": true,
           "gridcolor": "white",
           "linecolor": "white",
           "ticks": "",
           "title": {
            "standoff": 15
           },
           "zerolinecolor": "white",
           "zerolinewidth": 2
          }
         }
        },
        "title": {
         "font": {
          "color": "#4D5663"
         }
        },
        "xaxis": {
         "anchor": "y",
         "domain": [
          0,
          0.2125
         ],
         "gridcolor": "#E1E5ED",
         "showgrid": false,
         "tickfont": {
          "color": "#4D5663"
         },
         "title": {
          "font": {
           "color": "#4D5663"
          },
          "text": ""
         },
         "zerolinecolor": "#E1E5ED"
        },
        "xaxis10": {
         "anchor": "y10",
         "domain": [
          0.2625,
          0.475
         ],
         "gridcolor": "#E1E5ED",
         "showgrid": false,
         "tickfont": {
          "color": "#4D5663"
         },
         "title": {
          "font": {
           "color": "#4D5663"
          },
          "text": ""
         },
         "zerolinecolor": "#E1E5ED"
        },
        "xaxis11": {
         "anchor": "y11",
         "domain": [
          0.525,
          0.7375
         ],
         "gridcolor": "#E1E5ED",
         "showgrid": false,
         "tickfont": {
          "color": "#4D5663"
         },
         "title": {
          "font": {
           "color": "#4D5663"
          },
          "text": ""
         },
         "zerolinecolor": "#E1E5ED"
        },
        "xaxis12": {
         "anchor": "y12",
         "domain": [
          0.7875,
          1
         ],
         "gridcolor": "#E1E5ED",
         "showgrid": false,
         "tickfont": {
          "color": "#4D5663"
         },
         "title": {
          "font": {
           "color": "#4D5663"
          },
          "text": ""
         },
         "zerolinecolor": "#E1E5ED"
        },
        "xaxis13": {
         "anchor": "y13",
         "domain": [
          0,
          0.2125
         ],
         "gridcolor": "#E1E5ED",
         "showgrid": false,
         "tickfont": {
          "color": "#4D5663"
         },
         "title": {
          "font": {
           "color": "#4D5663"
          },
          "text": ""
         },
         "zerolinecolor": "#E1E5ED"
        },
        "xaxis14": {
         "anchor": "y14",
         "domain": [
          0.2625,
          0.475
         ],
         "gridcolor": "#E1E5ED",
         "showgrid": false,
         "tickfont": {
          "color": "#4D5663"
         },
         "title": {
          "font": {
           "color": "#4D5663"
          },
          "text": ""
         },
         "zerolinecolor": "#E1E5ED"
        },
        "xaxis15": {
         "anchor": "y15",
         "domain": [
          0.525,
          0.7375
         ],
         "gridcolor": "#E1E5ED",
         "showgrid": false,
         "tickfont": {
          "color": "#4D5663"
         },
         "title": {
          "font": {
           "color": "#4D5663"
          },
          "text": ""
         },
         "zerolinecolor": "#E1E5ED"
        },
        "xaxis16": {
         "anchor": "y16",
         "domain": [
          0.7875,
          1
         ],
         "gridcolor": "#E1E5ED",
         "showgrid": false,
         "tickfont": {
          "color": "#4D5663"
         },
         "title": {
          "font": {
           "color": "#4D5663"
          },
          "text": ""
         },
         "zerolinecolor": "#E1E5ED"
        },
        "xaxis2": {
         "anchor": "y2",
         "domain": [
          0.2625,
          0.475
         ],
         "gridcolor": "#E1E5ED",
         "showgrid": false,
         "tickfont": {
          "color": "#4D5663"
         },
         "title": {
          "font": {
           "color": "#4D5663"
          },
          "text": ""
         },
         "zerolinecolor": "#E1E5ED"
        },
        "xaxis3": {
         "anchor": "y3",
         "domain": [
          0.525,
          0.7375
         ],
         "gridcolor": "#E1E5ED",
         "showgrid": false,
         "tickfont": {
          "color": "#4D5663"
         },
         "title": {
          "font": {
           "color": "#4D5663"
          },
          "text": ""
         },
         "zerolinecolor": "#E1E5ED"
        },
        "xaxis4": {
         "anchor": "y4",
         "domain": [
          0.7875,
          1
         ],
         "gridcolor": "#E1E5ED",
         "showgrid": false,
         "tickfont": {
          "color": "#4D5663"
         },
         "title": {
          "font": {
           "color": "#4D5663"
          },
          "text": ""
         },
         "zerolinecolor": "#E1E5ED"
        },
        "xaxis5": {
         "anchor": "y5",
         "domain": [
          0,
          0.2125
         ],
         "gridcolor": "#E1E5ED",
         "showgrid": false,
         "tickfont": {
          "color": "#4D5663"
         },
         "title": {
          "font": {
           "color": "#4D5663"
          },
          "text": ""
         },
         "zerolinecolor": "#E1E5ED"
        },
        "xaxis6": {
         "anchor": "y6",
         "domain": [
          0.2625,
          0.475
         ],
         "gridcolor": "#E1E5ED",
         "showgrid": false,
         "tickfont": {
          "color": "#4D5663"
         },
         "title": {
          "font": {
           "color": "#4D5663"
          },
          "text": ""
         },
         "zerolinecolor": "#E1E5ED"
        },
        "xaxis7": {
         "anchor": "y7",
         "domain": [
          0.525,
          0.7375
         ],
         "gridcolor": "#E1E5ED",
         "showgrid": false,
         "tickfont": {
          "color": "#4D5663"
         },
         "title": {
          "font": {
           "color": "#4D5663"
          },
          "text": ""
         },
         "zerolinecolor": "#E1E5ED"
        },
        "xaxis8": {
         "anchor": "y8",
         "domain": [
          0.7875,
          1
         ],
         "gridcolor": "#E1E5ED",
         "showgrid": false,
         "tickfont": {
          "color": "#4D5663"
         },
         "title": {
          "font": {
           "color": "#4D5663"
          },
          "text": ""
         },
         "zerolinecolor": "#E1E5ED"
        },
        "xaxis9": {
         "anchor": "y9",
         "domain": [
          0,
          0.2125
         ],
         "gridcolor": "#E1E5ED",
         "showgrid": false,
         "tickfont": {
          "color": "#4D5663"
         },
         "title": {
          "font": {
           "color": "#4D5663"
          },
          "text": ""
         },
         "zerolinecolor": "#E1E5ED"
        },
        "yaxis": {
         "anchor": "x",
         "domain": [
          0.8025,
          1
         ],
         "gridcolor": "#E1E5ED",
         "showgrid": false,
         "tickfont": {
          "color": "#4D5663"
         },
         "title": {
          "font": {
           "color": "#4D5663"
          },
          "text": ""
         },
         "zerolinecolor": "#E1E5ED"
        },
        "yaxis10": {
         "anchor": "x10",
         "domain": [
          0.2675,
          0.465
         ],
         "gridcolor": "#E1E5ED",
         "showgrid": false,
         "tickfont": {
          "color": "#4D5663"
         },
         "title": {
          "font": {
           "color": "#4D5663"
          },
          "text": ""
         },
         "zerolinecolor": "#E1E5ED"
        },
        "yaxis11": {
         "anchor": "x11",
         "domain": [
          0.2675,
          0.465
         ],
         "gridcolor": "#E1E5ED",
         "showgrid": false,
         "tickfont": {
          "color": "#4D5663"
         },
         "title": {
          "font": {
           "color": "#4D5663"
          },
          "text": ""
         },
         "zerolinecolor": "#E1E5ED"
        },
        "yaxis12": {
         "anchor": "x12",
         "domain": [
          0.2675,
          0.465
         ],
         "gridcolor": "#E1E5ED",
         "showgrid": false,
         "tickfont": {
          "color": "#4D5663"
         },
         "title": {
          "font": {
           "color": "#4D5663"
          },
          "text": ""
         },
         "zerolinecolor": "#E1E5ED"
        },
        "yaxis13": {
         "anchor": "x13",
         "domain": [
          0,
          0.1975
         ],
         "gridcolor": "#E1E5ED",
         "showgrid": false,
         "tickfont": {
          "color": "#4D5663"
         },
         "title": {
          "font": {
           "color": "#4D5663"
          },
          "text": ""
         },
         "zerolinecolor": "#E1E5ED"
        },
        "yaxis14": {
         "anchor": "x14",
         "domain": [
          0,
          0.1975
         ],
         "gridcolor": "#E1E5ED",
         "showgrid": false,
         "tickfont": {
          "color": "#4D5663"
         },
         "title": {
          "font": {
           "color": "#4D5663"
          },
          "text": ""
         },
         "zerolinecolor": "#E1E5ED"
        },
        "yaxis15": {
         "anchor": "x15",
         "domain": [
          0,
          0.1975
         ],
         "gridcolor": "#E1E5ED",
         "showgrid": false,
         "tickfont": {
          "color": "#4D5663"
         },
         "title": {
          "font": {
           "color": "#4D5663"
          },
          "text": ""
         },
         "zerolinecolor": "#E1E5ED"
        },
        "yaxis16": {
         "anchor": "x16",
         "domain": [
          0,
          0.1975
         ],
         "gridcolor": "#E1E5ED",
         "showgrid": false,
         "tickfont": {
          "color": "#4D5663"
         },
         "title": {
          "font": {
           "color": "#4D5663"
          },
          "text": ""
         },
         "zerolinecolor": "#E1E5ED"
        },
        "yaxis2": {
         "anchor": "x2",
         "domain": [
          0.8025,
          1
         ],
         "gridcolor": "#E1E5ED",
         "showgrid": false,
         "tickfont": {
          "color": "#4D5663"
         },
         "title": {
          "font": {
           "color": "#4D5663"
          },
          "text": ""
         },
         "zerolinecolor": "#E1E5ED"
        },
        "yaxis3": {
         "anchor": "x3",
         "domain": [
          0.8025,
          1
         ],
         "gridcolor": "#E1E5ED",
         "showgrid": false,
         "tickfont": {
          "color": "#4D5663"
         },
         "title": {
          "font": {
           "color": "#4D5663"
          },
          "text": ""
         },
         "zerolinecolor": "#E1E5ED"
        },
        "yaxis4": {
         "anchor": "x4",
         "domain": [
          0.8025,
          1
         ],
         "gridcolor": "#E1E5ED",
         "showgrid": false,
         "tickfont": {
          "color": "#4D5663"
         },
         "title": {
          "font": {
           "color": "#4D5663"
          },
          "text": ""
         },
         "zerolinecolor": "#E1E5ED"
        },
        "yaxis5": {
         "anchor": "x5",
         "domain": [
          0.535,
          0.7325
         ],
         "gridcolor": "#E1E5ED",
         "showgrid": false,
         "tickfont": {
          "color": "#4D5663"
         },
         "title": {
          "font": {
           "color": "#4D5663"
          },
          "text": ""
         },
         "zerolinecolor": "#E1E5ED"
        },
        "yaxis6": {
         "anchor": "x6",
         "domain": [
          0.535,
          0.7325
         ],
         "gridcolor": "#E1E5ED",
         "showgrid": false,
         "tickfont": {
          "color": "#4D5663"
         },
         "title": {
          "font": {
           "color": "#4D5663"
          },
          "text": ""
         },
         "zerolinecolor": "#E1E5ED"
        },
        "yaxis7": {
         "anchor": "x7",
         "domain": [
          0.535,
          0.7325
         ],
         "gridcolor": "#E1E5ED",
         "showgrid": false,
         "tickfont": {
          "color": "#4D5663"
         },
         "title": {
          "font": {
           "color": "#4D5663"
          },
          "text": ""
         },
         "zerolinecolor": "#E1E5ED"
        },
        "yaxis8": {
         "anchor": "x8",
         "domain": [
          0.535,
          0.7325
         ],
         "gridcolor": "#E1E5ED",
         "showgrid": false,
         "tickfont": {
          "color": "#4D5663"
         },
         "title": {
          "font": {
           "color": "#4D5663"
          },
          "text": ""
         },
         "zerolinecolor": "#E1E5ED"
        },
        "yaxis9": {
         "anchor": "x9",
         "domain": [
          0.2675,
          0.465
         ],
         "gridcolor": "#E1E5ED",
         "showgrid": false,
         "tickfont": {
          "color": "#4D5663"
         },
         "title": {
          "font": {
           "color": "#4D5663"
          },
          "text": ""
         },
         "zerolinecolor": "#E1E5ED"
        }
       }
      },
      "text/html": [
       "<div>                            <div id=\"d4866524-0a6f-4e38-8d3d-dbbf57232c12\" class=\"plotly-graph-div\" style=\"height:525px; width:100%;\"></div>            <script type=\"text/javascript\">                require([\"plotly\"], function(Plotly) {                    window.PLOTLYENV=window.PLOTLYENV || {};\n",
       "                    window.PLOTLYENV.BASE_URL='https://plot.ly';                                    if (document.getElementById(\"d4866524-0a6f-4e38-8d3d-dbbf57232c12\")) {                    Plotly.newPlot(                        \"d4866524-0a6f-4e38-8d3d-dbbf57232c12\",                        [{\"histfunc\":\"count\",\"histnorm\":\"\",\"marker\":{\"color\":\"rgba(255, 153, 51, 1.0)\",\"line\":{\"color\":\"#4D5663\",\"width\":1.3}},\"name\":\"A\",\"nbinsx\":10,\"opacity\":0.8,\"orientation\":\"v\",\"x\":[-0.5116334595858404,-0.40451980663673587,0.11150203937866228,-0.957022430315918,-1.7537384134747118,-0.955316648367469,2.222588500741579,1.632559710535148,-0.7735923715434228,-0.02963878790154119,0.12474207955153141,0.007403421790317452,0.7440083568613275,1.228142706154454,0.4903478313312827,1.0671146523674926,0.38121839902209004,0.4784281130106239,-0.19334240537897074,0.2114068151160235,-0.28700598149332923,0.6266936008614964,-0.5539203483696317,0.8808079578911151,-0.2900116639501292,0.6261423219081403,0.44289408669801344,-1.0983682136534527,2.18957495182428,-0.05523220546360378,-0.11974553616901784,0.9765551281108982,1.0094934732433622,-1.2467963176372587,-0.2916082987378891,-0.252668436812334,-0.08836765690390477,0.6714605946405123,-1.975400227235359,-1.4659492320039842,-1.3895098125317962,-0.548176990317895,1.1498524159811114,-0.680873652531143,0.8361233299240934,-0.2951580965160952,-0.3695172599900852,1.3645930195548088,-0.4357307104776005,0.6430080010807169,-1.3455522950429075,-0.5206069791562866,1.1519658563449808,1.5518073674429156,-1.1757421206697676,0.31577683173796717,-0.5930566729500595,1.8670196724416042,0.5119438525785157,2.930461646582064,-0.23844315792702714,-0.38627151014457195,0.09289979180428624,-0.4930263009198248,-0.2648171930663567,-1.176740209750023,-0.8939604980187664,-0.7371049047637849,0.5871643676719378,-0.6415778753683434,-0.7604105092082487,0.7140214328803306,-0.9915435986302659,0.540851892851178,2.171638035591147,0.7464422614972771,0.7399621239592686,-0.23256585533617888,0.5432788198064235,-1.8189852586551483,0.39594453755161185,2.081483606601444,0.4771429363558366,-0.27537596662751096,-1.6544053929212492,-0.3663005905185225,-0.6726891740365734,-0.49462773090057727,0.389756615394149,-0.46107556252258863,-1.4536929347782868,-0.48860430307025055,-1.041576111141286,-0.6245608768868465,0.8654012168584696,0.5453770936816931,-0.21852546711481033,-0.1416534109291892,0.210740917567398,-0.786576379864656],\"xaxis\":\"x\",\"yaxis\":\"y\",\"type\":\"histogram\"},{\"line\":{\"color\":\"rgba(128, 128, 128, 1.0)\",\"dash\":\"solid\",\"shape\":\"linear\",\"width\":1.3},\"marker\":{\"size\":2,\"symbol\":\"circle\"},\"mode\":\"markers\",\"name\":\"A\",\"text\":\"\",\"x\":[-1.021949233130461,0.25594574775048773,-0.49810387488163294,-1.325142642265481,-0.5366367478882258,1.0588099409333411,-1.0032978099073984,-0.8859669207305646,-0.06246948659894244,1.608941187505579,-0.3707918869740564,1.0450432601692148,-0.8401673973404254,0.292684789819589,0.729639443981082,0.4858150437908382,-0.4648277842418754,1.143185288073808,-1.0407427191447072,-1.425350991448239,-1.6558923830502548,-0.196126484198559,1.0552658780568707,-0.35263289136461645,0.8594609595168468,-1.2146127586768733,0.13220927769630178,-0.5648126800961567,-1.4173856239947105,-0.27379828911599174,0.4627715724085573,0.954071074533576,-1.5179053035379908,-0.7490363703587672,0.7843382049747933,-0.5825381214550421,-2.648166884938007,1.307337854013301,-1.2013701767559322,0.04436461470208275,-1.0206994284023114,-1.674926161290066,0.8378551196604281,-0.5081307161078558,1.0391192470821948,0.9628168203510796,0.004656832184727584,0.37783807138446773,-0.8090007741198757,0.3080210740208786,-0.01291972632760256,-0.32808528338522164,-1.296008271665516,-0.12789723500299224,0.9185470189724362,0.1287211863056182,2.237138179378632,-1.046419761230294,0.4280079253568352,1.2204039767857147,2.1548771482416798,0.44660725613147545,2.408224640092218,-1.11188791629352,-0.5898211643668354,0.8713265333134166,-0.46222389540219333,-0.11916235926853035,-0.5535978037993889,0.6087265261133761,1.225924068607216,0.9635074728291688,1.698331398380695,1.4246856327640762,-1.518895721740957,0.7649774149193973,0.7729348387618514,-0.9428834054294118,2.4457721829035237,-1.4393216516608613,-0.0593960436946276,0.8440019438929776,-0.7630293848511864,0.9877315922843377,-1.0272063197815813,0.5562686704820748,-0.5764170798889229,2.68893459063555,0.20429998711292027,0.8244038897408704,-0.7091675926939464,1.7030636499644225,-0.21407226437633675,-0.4877776042634076,0.4706276205941772,-0.10691589777002733,0.98046375194209,-1.2024078700961744,-0.23736613593332123,-0.6760890965035313],\"xaxis\":\"x2\",\"y\":[-0.5116334595858404,-0.40451980663673587,0.11150203937866228,-0.957022430315918,-1.7537384134747118,-0.955316648367469,2.222588500741579,1.632559710535148,-0.7735923715434228,-0.02963878790154119,0.12474207955153141,0.007403421790317452,0.7440083568613275,1.228142706154454,0.4903478313312827,1.0671146523674926,0.38121839902209004,0.4784281130106239,-0.19334240537897074,0.2114068151160235,-0.28700598149332923,0.6266936008614964,-0.5539203483696317,0.8808079578911151,-0.2900116639501292,0.6261423219081403,0.44289408669801344,-1.0983682136534527,2.18957495182428,-0.05523220546360378,-0.11974553616901784,0.9765551281108982,1.0094934732433622,-1.2467963176372587,-0.2916082987378891,-0.252668436812334,-0.08836765690390477,0.6714605946405123,-1.975400227235359,-1.4659492320039842,-1.3895098125317962,-0.548176990317895,1.1498524159811114,-0.680873652531143,0.8361233299240934,-0.2951580965160952,-0.3695172599900852,1.3645930195548088,-0.4357307104776005,0.6430080010807169,-1.3455522950429075,-0.5206069791562866,1.1519658563449808,1.5518073674429156,-1.1757421206697676,0.31577683173796717,-0.5930566729500595,1.8670196724416042,0.5119438525785157,2.930461646582064,-0.23844315792702714,-0.38627151014457195,0.09289979180428624,-0.4930263009198248,-0.2648171930663567,-1.176740209750023,-0.8939604980187664,-0.7371049047637849,0.5871643676719378,-0.6415778753683434,-0.7604105092082487,0.7140214328803306,-0.9915435986302659,0.540851892851178,2.171638035591147,0.7464422614972771,0.7399621239592686,-0.23256585533617888,0.5432788198064235,-1.8189852586551483,0.39594453755161185,2.081483606601444,0.4771429363558366,-0.27537596662751096,-1.6544053929212492,-0.3663005905185225,-0.6726891740365734,-0.49462773090057727,0.389756615394149,-0.46107556252258863,-1.4536929347782868,-0.48860430307025055,-1.041576111141286,-0.6245608768868465,0.8654012168584696,0.5453770936816931,-0.21852546711481033,-0.1416534109291892,0.210740917567398,-0.786576379864656],\"yaxis\":\"y2\",\"type\":\"scatter\"},{\"line\":{\"color\":\"rgba(128, 128, 128, 1.0)\",\"dash\":\"solid\",\"shape\":\"linear\",\"width\":1.3},\"marker\":{\"size\":2,\"symbol\":\"circle\"},\"mode\":\"markers\",\"name\":\"A\",\"text\":\"\",\"x\":[-0.7331664989088466,0.20334098992058225,-0.23418880126774333,-1.3295462524118646,-1.9695962385783692,-1.2075725430880706,-2.349933344754745,-0.6456170846869308,-1.923908793870801,-0.4925957426625602,0.03413191981231174,0.23756180147104275,-0.8846916408632101,-1.3556745481594472,-2.8096554666813396,-1.2166345784091577,1.1227307506915485,-0.12126359292376553,1.789369825023507,1.0606097200311873,1.1728938715333648,-0.0526819063276142,0.5463535544403695,1.4140200202206537,0.6977717095690767,0.505806684424547,-1.4402898944623004,0.27449196049229585,-0.26042021529190873,0.41518105649539255,1.7522640662018247,-1.187838174738271,0.23446502343857498,-1.200202953243225,1.0020756314478152,0.0029136007000776796,0.06477162633070381,-0.5862356000006504,-0.6515899692843234,2.61577994669217,0.5052908884554816,-0.5619136578748292,0.15467523429708288,-1.0913919711876954,0.9749410659563239,-0.879144323662121,0.05904649879176863,0.15587892197251124,0.8748022545183276,-0.7284905602616377,0.7382768852123752,-2.2876700018057563,1.4898713575985456,0.9115987911974387,-1.5360919931836687,0.4177976841472399,0.3754084397253426,-1.2012043813879316,0.23649273301953316,1.5005892415174231,0.44050438483262316,1.8364885185251272,1.0683101968727873,-0.6337161709842425,0.2227794272191448,-1.538915776771883,-0.10446341539424231,0.25811787306894163,0.003978874565228057,1.0799050324203712,-0.6568588867009825,-1.012664871906641,-0.2006914338501552,-1.0985040512691493,-0.17883235559153643,-0.23257247599650133,0.892695913038579,-0.5148570965575259,0.5922497586703127,-0.4817943106659751,-1.4230328069736027,0.8153909077738124,1.8922371641370321,-0.6793139334371696,1.5025027355565956,-0.4634799941219796,0.7367586913487083,0.5646220949110732,-1.4341747306232184,0.2658357629187051,-0.4908834683911172,-0.8084763986748783,-0.06535591595403431,0.49813050659599595,-0.08404795014096927,-0.5832855675599287,-0.2173664163083856,-1.6731753262164346,-0.44230887703391447,-0.8789611673268257],\"xaxis\":\"x3\",\"y\":[-0.5116334595858404,-0.40451980663673587,0.11150203937866228,-0.957022430315918,-1.7537384134747118,-0.955316648367469,2.222588500741579,1.632559710535148,-0.7735923715434228,-0.02963878790154119,0.12474207955153141,0.007403421790317452,0.7440083568613275,1.228142706154454,0.4903478313312827,1.0671146523674926,0.38121839902209004,0.4784281130106239,-0.19334240537897074,0.2114068151160235,-0.28700598149332923,0.6266936008614964,-0.5539203483696317,0.8808079578911151,-0.2900116639501292,0.6261423219081403,0.44289408669801344,-1.0983682136534527,2.18957495182428,-0.05523220546360378,-0.11974553616901784,0.9765551281108982,1.0094934732433622,-1.2467963176372587,-0.2916082987378891,-0.252668436812334,-0.08836765690390477,0.6714605946405123,-1.975400227235359,-1.4659492320039842,-1.3895098125317962,-0.548176990317895,1.1498524159811114,-0.680873652531143,0.8361233299240934,-0.2951580965160952,-0.3695172599900852,1.3645930195548088,-0.4357307104776005,0.6430080010807169,-1.3455522950429075,-0.5206069791562866,1.1519658563449808,1.5518073674429156,-1.1757421206697676,0.31577683173796717,-0.5930566729500595,1.8670196724416042,0.5119438525785157,2.930461646582064,-0.23844315792702714,-0.38627151014457195,0.09289979180428624,-0.4930263009198248,-0.2648171930663567,-1.176740209750023,-0.8939604980187664,-0.7371049047637849,0.5871643676719378,-0.6415778753683434,-0.7604105092082487,0.7140214328803306,-0.9915435986302659,0.540851892851178,2.171638035591147,0.7464422614972771,0.7399621239592686,-0.23256585533617888,0.5432788198064235,-1.8189852586551483,0.39594453755161185,2.081483606601444,0.4771429363558366,-0.27537596662751096,-1.6544053929212492,-0.3663005905185225,-0.6726891740365734,-0.49462773090057727,0.389756615394149,-0.46107556252258863,-1.4536929347782868,-0.48860430307025055,-1.041576111141286,-0.6245608768868465,0.8654012168584696,0.5453770936816931,-0.21852546711481033,-0.1416534109291892,0.210740917567398,-0.786576379864656],\"yaxis\":\"y3\",\"type\":\"scatter\"},{\"line\":{\"color\":\"rgba(128, 128, 128, 1.0)\",\"dash\":\"solid\",\"shape\":\"linear\",\"width\":1.3},\"marker\":{\"size\":2,\"symbol\":\"circle\"},\"mode\":\"markers\",\"name\":\"A\",\"text\":\"\",\"x\":[-0.822915546146956,-1.3856164823212085,1.2164992842835247,0.4001623564630531,0.2107820076021025,-0.09378082635468081,1.4738912260619708,-1.0537517428543453,-1.6308148460642002,-0.11511226844870684,0.8324274149426117,1.8381279774372414,0.5824293757274496,-1.036632568518775,-1.3716822839309804,1.224426805432888,0.02314153757996988,-0.5058165806685646,-0.6104792735038228,-0.3632758341546976,-1.9879928739316564,0.20898726241711302,0.7540763544151033,-0.36400259327973905,-0.19914838333678989,1.1942084898815117,1.0536760015645787,-0.3537528548674369,-1.6635441073100052,-2.3958078631403184,0.7895406459575908,-0.3918824265858147,0.9624978515695156,0.5649625341628266,-1.050649339337511,-1.7114507459864052,0.4386907612920649,0.3527565586064755,-0.570715093282655,0.4001899491185232,0.13634382621986127,0.08014682678530408,-1.680830363659941,-0.07169084243346506,2.411739576649915,0.587985303981665,0.5346121100907646,-0.6837241804670804,-0.2791759531849911,-0.0193910189620039,0.6506316111232995,-1.3997584407636932,0.9071055309064875,-1.3341076136935373,0.8914001119912143,-0.8610578507752765,-0.8432488443702535,-1.0297410269242149,0.8228530107151968,-0.22582921163759567,-0.9598082667264018,-0.585679883816446,0.11640311149780526,-0.4519459412490356,0.9995123486221918,0.7305629448692618,0.6489445034264774,0.09195840435197405,-0.14916659146838787,0.5005806892966229,-0.47949947922247244,-0.2933479282806212,0.009700114758779467,-0.340638257836198,0.0006940880795016687,1.3721322661436564,-0.15072060518064484,-0.7864697889819354,-0.07548073098522026,0.05511939518267495,-0.06945128058605379,-1.5617524073316265,0.05888189658482693,-0.12420719437769312,0.8864488086621504,-0.6480413544522389,-0.7888196430028286,-0.7618418282081759,0.7075235764084716,0.6595880128405492,-2.3769223170888636,-1.8076505141863966,-1.2023992390409755,1.830842598092093,0.05563208634431394,1.0608751072324871,1.5718488153982433,0.8776591796753751,-1.8194696641522394,-0.026438367024887135],\"xaxis\":\"x4\",\"y\":[-0.5116334595858404,-0.40451980663673587,0.11150203937866228,-0.957022430315918,-1.7537384134747118,-0.955316648367469,2.222588500741579,1.632559710535148,-0.7735923715434228,-0.02963878790154119,0.12474207955153141,0.007403421790317452,0.7440083568613275,1.228142706154454,0.4903478313312827,1.0671146523674926,0.38121839902209004,0.4784281130106239,-0.19334240537897074,0.2114068151160235,-0.28700598149332923,0.6266936008614964,-0.5539203483696317,0.8808079578911151,-0.2900116639501292,0.6261423219081403,0.44289408669801344,-1.0983682136534527,2.18957495182428,-0.05523220546360378,-0.11974553616901784,0.9765551281108982,1.0094934732433622,-1.2467963176372587,-0.2916082987378891,-0.252668436812334,-0.08836765690390477,0.6714605946405123,-1.975400227235359,-1.4659492320039842,-1.3895098125317962,-0.548176990317895,1.1498524159811114,-0.680873652531143,0.8361233299240934,-0.2951580965160952,-0.3695172599900852,1.3645930195548088,-0.4357307104776005,0.6430080010807169,-1.3455522950429075,-0.5206069791562866,1.1519658563449808,1.5518073674429156,-1.1757421206697676,0.31577683173796717,-0.5930566729500595,1.8670196724416042,0.5119438525785157,2.930461646582064,-0.23844315792702714,-0.38627151014457195,0.09289979180428624,-0.4930263009198248,-0.2648171930663567,-1.176740209750023,-0.8939604980187664,-0.7371049047637849,0.5871643676719378,-0.6415778753683434,-0.7604105092082487,0.7140214328803306,-0.9915435986302659,0.540851892851178,2.171638035591147,0.7464422614972771,0.7399621239592686,-0.23256585533617888,0.5432788198064235,-1.8189852586551483,0.39594453755161185,2.081483606601444,0.4771429363558366,-0.27537596662751096,-1.6544053929212492,-0.3663005905185225,-0.6726891740365734,-0.49462773090057727,0.389756615394149,-0.46107556252258863,-1.4536929347782868,-0.48860430307025055,-1.041576111141286,-0.6245608768868465,0.8654012168584696,0.5453770936816931,-0.21852546711481033,-0.1416534109291892,0.210740917567398,-0.786576379864656],\"yaxis\":\"y4\",\"type\":\"scatter\"},{\"line\":{\"color\":\"rgba(128, 128, 128, 1.0)\",\"dash\":\"solid\",\"shape\":\"linear\",\"width\":1.3},\"marker\":{\"size\":2,\"symbol\":\"circle\"},\"mode\":\"markers\",\"name\":\"B\",\"text\":\"\",\"x\":[-0.5116334595858404,-0.40451980663673587,0.11150203937866228,-0.957022430315918,-1.7537384134747118,-0.955316648367469,2.222588500741579,1.632559710535148,-0.7735923715434228,-0.02963878790154119,0.12474207955153141,0.007403421790317452,0.7440083568613275,1.228142706154454,0.4903478313312827,1.0671146523674926,0.38121839902209004,0.4784281130106239,-0.19334240537897074,0.2114068151160235,-0.28700598149332923,0.6266936008614964,-0.5539203483696317,0.8808079578911151,-0.2900116639501292,0.6261423219081403,0.44289408669801344,-1.0983682136534527,2.18957495182428,-0.05523220546360378,-0.11974553616901784,0.9765551281108982,1.0094934732433622,-1.2467963176372587,-0.2916082987378891,-0.252668436812334,-0.08836765690390477,0.6714605946405123,-1.975400227235359,-1.4659492320039842,-1.3895098125317962,-0.548176990317895,1.1498524159811114,-0.680873652531143,0.8361233299240934,-0.2951580965160952,-0.3695172599900852,1.3645930195548088,-0.4357307104776005,0.6430080010807169,-1.3455522950429075,-0.5206069791562866,1.1519658563449808,1.5518073674429156,-1.1757421206697676,0.31577683173796717,-0.5930566729500595,1.8670196724416042,0.5119438525785157,2.930461646582064,-0.23844315792702714,-0.38627151014457195,0.09289979180428624,-0.4930263009198248,-0.2648171930663567,-1.176740209750023,-0.8939604980187664,-0.7371049047637849,0.5871643676719378,-0.6415778753683434,-0.7604105092082487,0.7140214328803306,-0.9915435986302659,0.540851892851178,2.171638035591147,0.7464422614972771,0.7399621239592686,-0.23256585533617888,0.5432788198064235,-1.8189852586551483,0.39594453755161185,2.081483606601444,0.4771429363558366,-0.27537596662751096,-1.6544053929212492,-0.3663005905185225,-0.6726891740365734,-0.49462773090057727,0.389756615394149,-0.46107556252258863,-1.4536929347782868,-0.48860430307025055,-1.041576111141286,-0.6245608768868465,0.8654012168584696,0.5453770936816931,-0.21852546711481033,-0.1416534109291892,0.210740917567398,-0.786576379864656],\"xaxis\":\"x5\",\"y\":[-1.021949233130461,0.25594574775048773,-0.49810387488163294,-1.325142642265481,-0.5366367478882258,1.0588099409333411,-1.0032978099073984,-0.8859669207305646,-0.06246948659894244,1.608941187505579,-0.3707918869740564,1.0450432601692148,-0.8401673973404254,0.292684789819589,0.729639443981082,0.4858150437908382,-0.4648277842418754,1.143185288073808,-1.0407427191447072,-1.425350991448239,-1.6558923830502548,-0.196126484198559,1.0552658780568707,-0.35263289136461645,0.8594609595168468,-1.2146127586768733,0.13220927769630178,-0.5648126800961567,-1.4173856239947105,-0.27379828911599174,0.4627715724085573,0.954071074533576,-1.5179053035379908,-0.7490363703587672,0.7843382049747933,-0.5825381214550421,-2.648166884938007,1.307337854013301,-1.2013701767559322,0.04436461470208275,-1.0206994284023114,-1.674926161290066,0.8378551196604281,-0.5081307161078558,1.0391192470821948,0.9628168203510796,0.004656832184727584,0.37783807138446773,-0.8090007741198757,0.3080210740208786,-0.01291972632760256,-0.32808528338522164,-1.296008271665516,-0.12789723500299224,0.9185470189724362,0.1287211863056182,2.237138179378632,-1.046419761230294,0.4280079253568352,1.2204039767857147,2.1548771482416798,0.44660725613147545,2.408224640092218,-1.11188791629352,-0.5898211643668354,0.8713265333134166,-0.46222389540219333,-0.11916235926853035,-0.5535978037993889,0.6087265261133761,1.225924068607216,0.9635074728291688,1.698331398380695,1.4246856327640762,-1.518895721740957,0.7649774149193973,0.7729348387618514,-0.9428834054294118,2.4457721829035237,-1.4393216516608613,-0.0593960436946276,0.8440019438929776,-0.7630293848511864,0.9877315922843377,-1.0272063197815813,0.5562686704820748,-0.5764170798889229,2.68893459063555,0.20429998711292027,0.8244038897408704,-0.7091675926939464,1.7030636499644225,-0.21407226437633675,-0.4877776042634076,0.4706276205941772,-0.10691589777002733,0.98046375194209,-1.2024078700961744,-0.23736613593332123,-0.6760890965035313],\"yaxis\":\"y5\",\"type\":\"scatter\"},{\"histfunc\":\"count\",\"histnorm\":\"\",\"marker\":{\"color\":\"rgba(55, 128, 191, 1.0)\",\"line\":{\"color\":\"#4D5663\",\"width\":1.3}},\"name\":\"B\",\"nbinsx\":10,\"opacity\":0.8,\"orientation\":\"v\",\"x\":[-1.021949233130461,0.25594574775048773,-0.49810387488163294,-1.325142642265481,-0.5366367478882258,1.0588099409333411,-1.0032978099073984,-0.8859669207305646,-0.06246948659894244,1.608941187505579,-0.3707918869740564,1.0450432601692148,-0.8401673973404254,0.292684789819589,0.729639443981082,0.4858150437908382,-0.4648277842418754,1.143185288073808,-1.0407427191447072,-1.425350991448239,-1.6558923830502548,-0.196126484198559,1.0552658780568707,-0.35263289136461645,0.8594609595168468,-1.2146127586768733,0.13220927769630178,-0.5648126800961567,-1.4173856239947105,-0.27379828911599174,0.4627715724085573,0.954071074533576,-1.5179053035379908,-0.7490363703587672,0.7843382049747933,-0.5825381214550421,-2.648166884938007,1.307337854013301,-1.2013701767559322,0.04436461470208275,-1.0206994284023114,-1.674926161290066,0.8378551196604281,-0.5081307161078558,1.0391192470821948,0.9628168203510796,0.004656832184727584,0.37783807138446773,-0.8090007741198757,0.3080210740208786,-0.01291972632760256,-0.32808528338522164,-1.296008271665516,-0.12789723500299224,0.9185470189724362,0.1287211863056182,2.237138179378632,-1.046419761230294,0.4280079253568352,1.2204039767857147,2.1548771482416798,0.44660725613147545,2.408224640092218,-1.11188791629352,-0.5898211643668354,0.8713265333134166,-0.46222389540219333,-0.11916235926853035,-0.5535978037993889,0.6087265261133761,1.225924068607216,0.9635074728291688,1.698331398380695,1.4246856327640762,-1.518895721740957,0.7649774149193973,0.7729348387618514,-0.9428834054294118,2.4457721829035237,-1.4393216516608613,-0.0593960436946276,0.8440019438929776,-0.7630293848511864,0.9877315922843377,-1.0272063197815813,0.5562686704820748,-0.5764170798889229,2.68893459063555,0.20429998711292027,0.8244038897408704,-0.7091675926939464,1.7030636499644225,-0.21407226437633675,-0.4877776042634076,0.4706276205941772,-0.10691589777002733,0.98046375194209,-1.2024078700961744,-0.23736613593332123,-0.6760890965035313],\"xaxis\":\"x6\",\"yaxis\":\"y6\",\"type\":\"histogram\"},{\"line\":{\"color\":\"rgba(128, 128, 128, 1.0)\",\"dash\":\"solid\",\"shape\":\"linear\",\"width\":1.3},\"marker\":{\"size\":2,\"symbol\":\"circle\"},\"mode\":\"markers\",\"name\":\"B\",\"text\":\"\",\"x\":[-0.7331664989088466,0.20334098992058225,-0.23418880126774333,-1.3295462524118646,-1.9695962385783692,-1.2075725430880706,-2.349933344754745,-0.6456170846869308,-1.923908793870801,-0.4925957426625602,0.03413191981231174,0.23756180147104275,-0.8846916408632101,-1.3556745481594472,-2.8096554666813396,-1.2166345784091577,1.1227307506915485,-0.12126359292376553,1.789369825023507,1.0606097200311873,1.1728938715333648,-0.0526819063276142,0.5463535544403695,1.4140200202206537,0.6977717095690767,0.505806684424547,-1.4402898944623004,0.27449196049229585,-0.26042021529190873,0.41518105649539255,1.7522640662018247,-1.187838174738271,0.23446502343857498,-1.200202953243225,1.0020756314478152,0.0029136007000776796,0.06477162633070381,-0.5862356000006504,-0.6515899692843234,2.61577994669217,0.5052908884554816,-0.5619136578748292,0.15467523429708288,-1.0913919711876954,0.9749410659563239,-0.879144323662121,0.05904649879176863,0.15587892197251124,0.8748022545183276,-0.7284905602616377,0.7382768852123752,-2.2876700018057563,1.4898713575985456,0.9115987911974387,-1.5360919931836687,0.4177976841472399,0.3754084397253426,-1.2012043813879316,0.23649273301953316,1.5005892415174231,0.44050438483262316,1.8364885185251272,1.0683101968727873,-0.6337161709842425,0.2227794272191448,-1.538915776771883,-0.10446341539424231,0.25811787306894163,0.003978874565228057,1.0799050324203712,-0.6568588867009825,-1.012664871906641,-0.2006914338501552,-1.0985040512691493,-0.17883235559153643,-0.23257247599650133,0.892695913038579,-0.5148570965575259,0.5922497586703127,-0.4817943106659751,-1.4230328069736027,0.8153909077738124,1.8922371641370321,-0.6793139334371696,1.5025027355565956,-0.4634799941219796,0.7367586913487083,0.5646220949110732,-1.4341747306232184,0.2658357629187051,-0.4908834683911172,-0.8084763986748783,-0.06535591595403431,0.49813050659599595,-0.08404795014096927,-0.5832855675599287,-0.2173664163083856,-1.6731753262164346,-0.44230887703391447,-0.8789611673268257],\"xaxis\":\"x7\",\"y\":[-1.021949233130461,0.25594574775048773,-0.49810387488163294,-1.325142642265481,-0.5366367478882258,1.0588099409333411,-1.0032978099073984,-0.8859669207305646,-0.06246948659894244,1.608941187505579,-0.3707918869740564,1.0450432601692148,-0.8401673973404254,0.292684789819589,0.729639443981082,0.4858150437908382,-0.4648277842418754,1.143185288073808,-1.0407427191447072,-1.425350991448239,-1.6558923830502548,-0.196126484198559,1.0552658780568707,-0.35263289136461645,0.8594609595168468,-1.2146127586768733,0.13220927769630178,-0.5648126800961567,-1.4173856239947105,-0.27379828911599174,0.4627715724085573,0.954071074533576,-1.5179053035379908,-0.7490363703587672,0.7843382049747933,-0.5825381214550421,-2.648166884938007,1.307337854013301,-1.2013701767559322,0.04436461470208275,-1.0206994284023114,-1.674926161290066,0.8378551196604281,-0.5081307161078558,1.0391192470821948,0.9628168203510796,0.004656832184727584,0.37783807138446773,-0.8090007741198757,0.3080210740208786,-0.01291972632760256,-0.32808528338522164,-1.296008271665516,-0.12789723500299224,0.9185470189724362,0.1287211863056182,2.237138179378632,-1.046419761230294,0.4280079253568352,1.2204039767857147,2.1548771482416798,0.44660725613147545,2.408224640092218,-1.11188791629352,-0.5898211643668354,0.8713265333134166,-0.46222389540219333,-0.11916235926853035,-0.5535978037993889,0.6087265261133761,1.225924068607216,0.9635074728291688,1.698331398380695,1.4246856327640762,-1.518895721740957,0.7649774149193973,0.7729348387618514,-0.9428834054294118,2.4457721829035237,-1.4393216516608613,-0.0593960436946276,0.8440019438929776,-0.7630293848511864,0.9877315922843377,-1.0272063197815813,0.5562686704820748,-0.5764170798889229,2.68893459063555,0.20429998711292027,0.8244038897408704,-0.7091675926939464,1.7030636499644225,-0.21407226437633675,-0.4877776042634076,0.4706276205941772,-0.10691589777002733,0.98046375194209,-1.2024078700961744,-0.23736613593332123,-0.6760890965035313],\"yaxis\":\"y7\",\"type\":\"scatter\"},{\"line\":{\"color\":\"rgba(128, 128, 128, 1.0)\",\"dash\":\"solid\",\"shape\":\"linear\",\"width\":1.3},\"marker\":{\"size\":2,\"symbol\":\"circle\"},\"mode\":\"markers\",\"name\":\"B\",\"text\":\"\",\"x\":[-0.822915546146956,-1.3856164823212085,1.2164992842835247,0.4001623564630531,0.2107820076021025,-0.09378082635468081,1.4738912260619708,-1.0537517428543453,-1.6308148460642002,-0.11511226844870684,0.8324274149426117,1.8381279774372414,0.5824293757274496,-1.036632568518775,-1.3716822839309804,1.224426805432888,0.02314153757996988,-0.5058165806685646,-0.6104792735038228,-0.3632758341546976,-1.9879928739316564,0.20898726241711302,0.7540763544151033,-0.36400259327973905,-0.19914838333678989,1.1942084898815117,1.0536760015645787,-0.3537528548674369,-1.6635441073100052,-2.3958078631403184,0.7895406459575908,-0.3918824265858147,0.9624978515695156,0.5649625341628266,-1.050649339337511,-1.7114507459864052,0.4386907612920649,0.3527565586064755,-0.570715093282655,0.4001899491185232,0.13634382621986127,0.08014682678530408,-1.680830363659941,-0.07169084243346506,2.411739576649915,0.587985303981665,0.5346121100907646,-0.6837241804670804,-0.2791759531849911,-0.0193910189620039,0.6506316111232995,-1.3997584407636932,0.9071055309064875,-1.3341076136935373,0.8914001119912143,-0.8610578507752765,-0.8432488443702535,-1.0297410269242149,0.8228530107151968,-0.22582921163759567,-0.9598082667264018,-0.585679883816446,0.11640311149780526,-0.4519459412490356,0.9995123486221918,0.7305629448692618,0.6489445034264774,0.09195840435197405,-0.14916659146838787,0.5005806892966229,-0.47949947922247244,-0.2933479282806212,0.009700114758779467,-0.340638257836198,0.0006940880795016687,1.3721322661436564,-0.15072060518064484,-0.7864697889819354,-0.07548073098522026,0.05511939518267495,-0.06945128058605379,-1.5617524073316265,0.05888189658482693,-0.12420719437769312,0.8864488086621504,-0.6480413544522389,-0.7888196430028286,-0.7618418282081759,0.7075235764084716,0.6595880128405492,-2.3769223170888636,-1.8076505141863966,-1.2023992390409755,1.830842598092093,0.05563208634431394,1.0608751072324871,1.5718488153982433,0.8776591796753751,-1.8194696641522394,-0.026438367024887135],\"xaxis\":\"x8\",\"y\":[-1.021949233130461,0.25594574775048773,-0.49810387488163294,-1.325142642265481,-0.5366367478882258,1.0588099409333411,-1.0032978099073984,-0.8859669207305646,-0.06246948659894244,1.608941187505579,-0.3707918869740564,1.0450432601692148,-0.8401673973404254,0.292684789819589,0.729639443981082,0.4858150437908382,-0.4648277842418754,1.143185288073808,-1.0407427191447072,-1.425350991448239,-1.6558923830502548,-0.196126484198559,1.0552658780568707,-0.35263289136461645,0.8594609595168468,-1.2146127586768733,0.13220927769630178,-0.5648126800961567,-1.4173856239947105,-0.27379828911599174,0.4627715724085573,0.954071074533576,-1.5179053035379908,-0.7490363703587672,0.7843382049747933,-0.5825381214550421,-2.648166884938007,1.307337854013301,-1.2013701767559322,0.04436461470208275,-1.0206994284023114,-1.674926161290066,0.8378551196604281,-0.5081307161078558,1.0391192470821948,0.9628168203510796,0.004656832184727584,0.37783807138446773,-0.8090007741198757,0.3080210740208786,-0.01291972632760256,-0.32808528338522164,-1.296008271665516,-0.12789723500299224,0.9185470189724362,0.1287211863056182,2.237138179378632,-1.046419761230294,0.4280079253568352,1.2204039767857147,2.1548771482416798,0.44660725613147545,2.408224640092218,-1.11188791629352,-0.5898211643668354,0.8713265333134166,-0.46222389540219333,-0.11916235926853035,-0.5535978037993889,0.6087265261133761,1.225924068607216,0.9635074728291688,1.698331398380695,1.4246856327640762,-1.518895721740957,0.7649774149193973,0.7729348387618514,-0.9428834054294118,2.4457721829035237,-1.4393216516608613,-0.0593960436946276,0.8440019438929776,-0.7630293848511864,0.9877315922843377,-1.0272063197815813,0.5562686704820748,-0.5764170798889229,2.68893459063555,0.20429998711292027,0.8244038897408704,-0.7091675926939464,1.7030636499644225,-0.21407226437633675,-0.4877776042634076,0.4706276205941772,-0.10691589777002733,0.98046375194209,-1.2024078700961744,-0.23736613593332123,-0.6760890965035313],\"yaxis\":\"y8\",\"type\":\"scatter\"},{\"line\":{\"color\":\"rgba(128, 128, 128, 1.0)\",\"dash\":\"solid\",\"shape\":\"linear\",\"width\":1.3},\"marker\":{\"size\":2,\"symbol\":\"circle\"},\"mode\":\"markers\",\"name\":\"C\",\"text\":\"\",\"x\":[-0.5116334595858404,-0.40451980663673587,0.11150203937866228,-0.957022430315918,-1.7537384134747118,-0.955316648367469,2.222588500741579,1.632559710535148,-0.7735923715434228,-0.02963878790154119,0.12474207955153141,0.007403421790317452,0.7440083568613275,1.228142706154454,0.4903478313312827,1.0671146523674926,0.38121839902209004,0.4784281130106239,-0.19334240537897074,0.2114068151160235,-0.28700598149332923,0.6266936008614964,-0.5539203483696317,0.8808079578911151,-0.2900116639501292,0.6261423219081403,0.44289408669801344,-1.0983682136534527,2.18957495182428,-0.05523220546360378,-0.11974553616901784,0.9765551281108982,1.0094934732433622,-1.2467963176372587,-0.2916082987378891,-0.252668436812334,-0.08836765690390477,0.6714605946405123,-1.975400227235359,-1.4659492320039842,-1.3895098125317962,-0.548176990317895,1.1498524159811114,-0.680873652531143,0.8361233299240934,-0.2951580965160952,-0.3695172599900852,1.3645930195548088,-0.4357307104776005,0.6430080010807169,-1.3455522950429075,-0.5206069791562866,1.1519658563449808,1.5518073674429156,-1.1757421206697676,0.31577683173796717,-0.5930566729500595,1.8670196724416042,0.5119438525785157,2.930461646582064,-0.23844315792702714,-0.38627151014457195,0.09289979180428624,-0.4930263009198248,-0.2648171930663567,-1.176740209750023,-0.8939604980187664,-0.7371049047637849,0.5871643676719378,-0.6415778753683434,-0.7604105092082487,0.7140214328803306,-0.9915435986302659,0.540851892851178,2.171638035591147,0.7464422614972771,0.7399621239592686,-0.23256585533617888,0.5432788198064235,-1.8189852586551483,0.39594453755161185,2.081483606601444,0.4771429363558366,-0.27537596662751096,-1.6544053929212492,-0.3663005905185225,-0.6726891740365734,-0.49462773090057727,0.389756615394149,-0.46107556252258863,-1.4536929347782868,-0.48860430307025055,-1.041576111141286,-0.6245608768868465,0.8654012168584696,0.5453770936816931,-0.21852546711481033,-0.1416534109291892,0.210740917567398,-0.786576379864656],\"xaxis\":\"x9\",\"y\":[-0.7331664989088466,0.20334098992058225,-0.23418880126774333,-1.3295462524118646,-1.9695962385783692,-1.2075725430880706,-2.349933344754745,-0.6456170846869308,-1.923908793870801,-0.4925957426625602,0.03413191981231174,0.23756180147104275,-0.8846916408632101,-1.3556745481594472,-2.8096554666813396,-1.2166345784091577,1.1227307506915485,-0.12126359292376553,1.789369825023507,1.0606097200311873,1.1728938715333648,-0.0526819063276142,0.5463535544403695,1.4140200202206537,0.6977717095690767,0.505806684424547,-1.4402898944623004,0.27449196049229585,-0.26042021529190873,0.41518105649539255,1.7522640662018247,-1.187838174738271,0.23446502343857498,-1.200202953243225,1.0020756314478152,0.0029136007000776796,0.06477162633070381,-0.5862356000006504,-0.6515899692843234,2.61577994669217,0.5052908884554816,-0.5619136578748292,0.15467523429708288,-1.0913919711876954,0.9749410659563239,-0.879144323662121,0.05904649879176863,0.15587892197251124,0.8748022545183276,-0.7284905602616377,0.7382768852123752,-2.2876700018057563,1.4898713575985456,0.9115987911974387,-1.5360919931836687,0.4177976841472399,0.3754084397253426,-1.2012043813879316,0.23649273301953316,1.5005892415174231,0.44050438483262316,1.8364885185251272,1.0683101968727873,-0.6337161709842425,0.2227794272191448,-1.538915776771883,-0.10446341539424231,0.25811787306894163,0.003978874565228057,1.0799050324203712,-0.6568588867009825,-1.012664871906641,-0.2006914338501552,-1.0985040512691493,-0.17883235559153643,-0.23257247599650133,0.892695913038579,-0.5148570965575259,0.5922497586703127,-0.4817943106659751,-1.4230328069736027,0.8153909077738124,1.8922371641370321,-0.6793139334371696,1.5025027355565956,-0.4634799941219796,0.7367586913487083,0.5646220949110732,-1.4341747306232184,0.2658357629187051,-0.4908834683911172,-0.8084763986748783,-0.06535591595403431,0.49813050659599595,-0.08404795014096927,-0.5832855675599287,-0.2173664163083856,-1.6731753262164346,-0.44230887703391447,-0.8789611673268257],\"yaxis\":\"y9\",\"type\":\"scatter\"},{\"line\":{\"color\":\"rgba(128, 128, 128, 1.0)\",\"dash\":\"solid\",\"shape\":\"linear\",\"width\":1.3},\"marker\":{\"size\":2,\"symbol\":\"circle\"},\"mode\":\"markers\",\"name\":\"C\",\"text\":\"\",\"x\":[-1.021949233130461,0.25594574775048773,-0.49810387488163294,-1.325142642265481,-0.5366367478882258,1.0588099409333411,-1.0032978099073984,-0.8859669207305646,-0.06246948659894244,1.608941187505579,-0.3707918869740564,1.0450432601692148,-0.8401673973404254,0.292684789819589,0.729639443981082,0.4858150437908382,-0.4648277842418754,1.143185288073808,-1.0407427191447072,-1.425350991448239,-1.6558923830502548,-0.196126484198559,1.0552658780568707,-0.35263289136461645,0.8594609595168468,-1.2146127586768733,0.13220927769630178,-0.5648126800961567,-1.4173856239947105,-0.27379828911599174,0.4627715724085573,0.954071074533576,-1.5179053035379908,-0.7490363703587672,0.7843382049747933,-0.5825381214550421,-2.648166884938007,1.307337854013301,-1.2013701767559322,0.04436461470208275,-1.0206994284023114,-1.674926161290066,0.8378551196604281,-0.5081307161078558,1.0391192470821948,0.9628168203510796,0.004656832184727584,0.37783807138446773,-0.8090007741198757,0.3080210740208786,-0.01291972632760256,-0.32808528338522164,-1.296008271665516,-0.12789723500299224,0.9185470189724362,0.1287211863056182,2.237138179378632,-1.046419761230294,0.4280079253568352,1.2204039767857147,2.1548771482416798,0.44660725613147545,2.408224640092218,-1.11188791629352,-0.5898211643668354,0.8713265333134166,-0.46222389540219333,-0.11916235926853035,-0.5535978037993889,0.6087265261133761,1.225924068607216,0.9635074728291688,1.698331398380695,1.4246856327640762,-1.518895721740957,0.7649774149193973,0.7729348387618514,-0.9428834054294118,2.4457721829035237,-1.4393216516608613,-0.0593960436946276,0.8440019438929776,-0.7630293848511864,0.9877315922843377,-1.0272063197815813,0.5562686704820748,-0.5764170798889229,2.68893459063555,0.20429998711292027,0.8244038897408704,-0.7091675926939464,1.7030636499644225,-0.21407226437633675,-0.4877776042634076,0.4706276205941772,-0.10691589777002733,0.98046375194209,-1.2024078700961744,-0.23736613593332123,-0.6760890965035313],\"xaxis\":\"x10\",\"y\":[-0.7331664989088466,0.20334098992058225,-0.23418880126774333,-1.3295462524118646,-1.9695962385783692,-1.2075725430880706,-2.349933344754745,-0.6456170846869308,-1.923908793870801,-0.4925957426625602,0.03413191981231174,0.23756180147104275,-0.8846916408632101,-1.3556745481594472,-2.8096554666813396,-1.2166345784091577,1.1227307506915485,-0.12126359292376553,1.789369825023507,1.0606097200311873,1.1728938715333648,-0.0526819063276142,0.5463535544403695,1.4140200202206537,0.6977717095690767,0.505806684424547,-1.4402898944623004,0.27449196049229585,-0.26042021529190873,0.41518105649539255,1.7522640662018247,-1.187838174738271,0.23446502343857498,-1.200202953243225,1.0020756314478152,0.0029136007000776796,0.06477162633070381,-0.5862356000006504,-0.6515899692843234,2.61577994669217,0.5052908884554816,-0.5619136578748292,0.15467523429708288,-1.0913919711876954,0.9749410659563239,-0.879144323662121,0.05904649879176863,0.15587892197251124,0.8748022545183276,-0.7284905602616377,0.7382768852123752,-2.2876700018057563,1.4898713575985456,0.9115987911974387,-1.5360919931836687,0.4177976841472399,0.3754084397253426,-1.2012043813879316,0.23649273301953316,1.5005892415174231,0.44050438483262316,1.8364885185251272,1.0683101968727873,-0.6337161709842425,0.2227794272191448,-1.538915776771883,-0.10446341539424231,0.25811787306894163,0.003978874565228057,1.0799050324203712,-0.6568588867009825,-1.012664871906641,-0.2006914338501552,-1.0985040512691493,-0.17883235559153643,-0.23257247599650133,0.892695913038579,-0.5148570965575259,0.5922497586703127,-0.4817943106659751,-1.4230328069736027,0.8153909077738124,1.8922371641370321,-0.6793139334371696,1.5025027355565956,-0.4634799941219796,0.7367586913487083,0.5646220949110732,-1.4341747306232184,0.2658357629187051,-0.4908834683911172,-0.8084763986748783,-0.06535591595403431,0.49813050659599595,-0.08404795014096927,-0.5832855675599287,-0.2173664163083856,-1.6731753262164346,-0.44230887703391447,-0.8789611673268257],\"yaxis\":\"y10\",\"type\":\"scatter\"},{\"histfunc\":\"count\",\"histnorm\":\"\",\"marker\":{\"color\":\"rgba(50, 171, 96, 1.0)\",\"line\":{\"color\":\"#4D5663\",\"width\":1.3}},\"name\":\"C\",\"nbinsx\":10,\"opacity\":0.8,\"orientation\":\"v\",\"x\":[-0.7331664989088466,0.20334098992058225,-0.23418880126774333,-1.3295462524118646,-1.9695962385783692,-1.2075725430880706,-2.349933344754745,-0.6456170846869308,-1.923908793870801,-0.4925957426625602,0.03413191981231174,0.23756180147104275,-0.8846916408632101,-1.3556745481594472,-2.8096554666813396,-1.2166345784091577,1.1227307506915485,-0.12126359292376553,1.789369825023507,1.0606097200311873,1.1728938715333648,-0.0526819063276142,0.5463535544403695,1.4140200202206537,0.6977717095690767,0.505806684424547,-1.4402898944623004,0.27449196049229585,-0.26042021529190873,0.41518105649539255,1.7522640662018247,-1.187838174738271,0.23446502343857498,-1.200202953243225,1.0020756314478152,0.0029136007000776796,0.06477162633070381,-0.5862356000006504,-0.6515899692843234,2.61577994669217,0.5052908884554816,-0.5619136578748292,0.15467523429708288,-1.0913919711876954,0.9749410659563239,-0.879144323662121,0.05904649879176863,0.15587892197251124,0.8748022545183276,-0.7284905602616377,0.7382768852123752,-2.2876700018057563,1.4898713575985456,0.9115987911974387,-1.5360919931836687,0.4177976841472399,0.3754084397253426,-1.2012043813879316,0.23649273301953316,1.5005892415174231,0.44050438483262316,1.8364885185251272,1.0683101968727873,-0.6337161709842425,0.2227794272191448,-1.538915776771883,-0.10446341539424231,0.25811787306894163,0.003978874565228057,1.0799050324203712,-0.6568588867009825,-1.012664871906641,-0.2006914338501552,-1.0985040512691493,-0.17883235559153643,-0.23257247599650133,0.892695913038579,-0.5148570965575259,0.5922497586703127,-0.4817943106659751,-1.4230328069736027,0.8153909077738124,1.8922371641370321,-0.6793139334371696,1.5025027355565956,-0.4634799941219796,0.7367586913487083,0.5646220949110732,-1.4341747306232184,0.2658357629187051,-0.4908834683911172,-0.8084763986748783,-0.06535591595403431,0.49813050659599595,-0.08404795014096927,-0.5832855675599287,-0.2173664163083856,-1.6731753262164346,-0.44230887703391447,-0.8789611673268257],\"xaxis\":\"x11\",\"yaxis\":\"y11\",\"type\":\"histogram\"},{\"line\":{\"color\":\"rgba(128, 128, 128, 1.0)\",\"dash\":\"solid\",\"shape\":\"linear\",\"width\":1.3},\"marker\":{\"size\":2,\"symbol\":\"circle\"},\"mode\":\"markers\",\"name\":\"C\",\"text\":\"\",\"x\":[-0.822915546146956,-1.3856164823212085,1.2164992842835247,0.4001623564630531,0.2107820076021025,-0.09378082635468081,1.4738912260619708,-1.0537517428543453,-1.6308148460642002,-0.11511226844870684,0.8324274149426117,1.8381279774372414,0.5824293757274496,-1.036632568518775,-1.3716822839309804,1.224426805432888,0.02314153757996988,-0.5058165806685646,-0.6104792735038228,-0.3632758341546976,-1.9879928739316564,0.20898726241711302,0.7540763544151033,-0.36400259327973905,-0.19914838333678989,1.1942084898815117,1.0536760015645787,-0.3537528548674369,-1.6635441073100052,-2.3958078631403184,0.7895406459575908,-0.3918824265858147,0.9624978515695156,0.5649625341628266,-1.050649339337511,-1.7114507459864052,0.4386907612920649,0.3527565586064755,-0.570715093282655,0.4001899491185232,0.13634382621986127,0.08014682678530408,-1.680830363659941,-0.07169084243346506,2.411739576649915,0.587985303981665,0.5346121100907646,-0.6837241804670804,-0.2791759531849911,-0.0193910189620039,0.6506316111232995,-1.3997584407636932,0.9071055309064875,-1.3341076136935373,0.8914001119912143,-0.8610578507752765,-0.8432488443702535,-1.0297410269242149,0.8228530107151968,-0.22582921163759567,-0.9598082667264018,-0.585679883816446,0.11640311149780526,-0.4519459412490356,0.9995123486221918,0.7305629448692618,0.6489445034264774,0.09195840435197405,-0.14916659146838787,0.5005806892966229,-0.47949947922247244,-0.2933479282806212,0.009700114758779467,-0.340638257836198,0.0006940880795016687,1.3721322661436564,-0.15072060518064484,-0.7864697889819354,-0.07548073098522026,0.05511939518267495,-0.06945128058605379,-1.5617524073316265,0.05888189658482693,-0.12420719437769312,0.8864488086621504,-0.6480413544522389,-0.7888196430028286,-0.7618418282081759,0.7075235764084716,0.6595880128405492,-2.3769223170888636,-1.8076505141863966,-1.2023992390409755,1.830842598092093,0.05563208634431394,1.0608751072324871,1.5718488153982433,0.8776591796753751,-1.8194696641522394,-0.026438367024887135],\"xaxis\":\"x12\",\"y\":[-0.7331664989088466,0.20334098992058225,-0.23418880126774333,-1.3295462524118646,-1.9695962385783692,-1.2075725430880706,-2.349933344754745,-0.6456170846869308,-1.923908793870801,-0.4925957426625602,0.03413191981231174,0.23756180147104275,-0.8846916408632101,-1.3556745481594472,-2.8096554666813396,-1.2166345784091577,1.1227307506915485,-0.12126359292376553,1.789369825023507,1.0606097200311873,1.1728938715333648,-0.0526819063276142,0.5463535544403695,1.4140200202206537,0.6977717095690767,0.505806684424547,-1.4402898944623004,0.27449196049229585,-0.26042021529190873,0.41518105649539255,1.7522640662018247,-1.187838174738271,0.23446502343857498,-1.200202953243225,1.0020756314478152,0.0029136007000776796,0.06477162633070381,-0.5862356000006504,-0.6515899692843234,2.61577994669217,0.5052908884554816,-0.5619136578748292,0.15467523429708288,-1.0913919711876954,0.9749410659563239,-0.879144323662121,0.05904649879176863,0.15587892197251124,0.8748022545183276,-0.7284905602616377,0.7382768852123752,-2.2876700018057563,1.4898713575985456,0.9115987911974387,-1.5360919931836687,0.4177976841472399,0.3754084397253426,-1.2012043813879316,0.23649273301953316,1.5005892415174231,0.44050438483262316,1.8364885185251272,1.0683101968727873,-0.6337161709842425,0.2227794272191448,-1.538915776771883,-0.10446341539424231,0.25811787306894163,0.003978874565228057,1.0799050324203712,-0.6568588867009825,-1.012664871906641,-0.2006914338501552,-1.0985040512691493,-0.17883235559153643,-0.23257247599650133,0.892695913038579,-0.5148570965575259,0.5922497586703127,-0.4817943106659751,-1.4230328069736027,0.8153909077738124,1.8922371641370321,-0.6793139334371696,1.5025027355565956,-0.4634799941219796,0.7367586913487083,0.5646220949110732,-1.4341747306232184,0.2658357629187051,-0.4908834683911172,-0.8084763986748783,-0.06535591595403431,0.49813050659599595,-0.08404795014096927,-0.5832855675599287,-0.2173664163083856,-1.6731753262164346,-0.44230887703391447,-0.8789611673268257],\"yaxis\":\"y12\",\"type\":\"scatter\"},{\"line\":{\"color\":\"rgba(128, 128, 128, 1.0)\",\"dash\":\"solid\",\"shape\":\"linear\",\"width\":1.3},\"marker\":{\"size\":2,\"symbol\":\"circle\"},\"mode\":\"markers\",\"name\":\"D\",\"text\":\"\",\"x\":[-0.5116334595858404,-0.40451980663673587,0.11150203937866228,-0.957022430315918,-1.7537384134747118,-0.955316648367469,2.222588500741579,1.632559710535148,-0.7735923715434228,-0.02963878790154119,0.12474207955153141,0.007403421790317452,0.7440083568613275,1.228142706154454,0.4903478313312827,1.0671146523674926,0.38121839902209004,0.4784281130106239,-0.19334240537897074,0.2114068151160235,-0.28700598149332923,0.6266936008614964,-0.5539203483696317,0.8808079578911151,-0.2900116639501292,0.6261423219081403,0.44289408669801344,-1.0983682136534527,2.18957495182428,-0.05523220546360378,-0.11974553616901784,0.9765551281108982,1.0094934732433622,-1.2467963176372587,-0.2916082987378891,-0.252668436812334,-0.08836765690390477,0.6714605946405123,-1.975400227235359,-1.4659492320039842,-1.3895098125317962,-0.548176990317895,1.1498524159811114,-0.680873652531143,0.8361233299240934,-0.2951580965160952,-0.3695172599900852,1.3645930195548088,-0.4357307104776005,0.6430080010807169,-1.3455522950429075,-0.5206069791562866,1.1519658563449808,1.5518073674429156,-1.1757421206697676,0.31577683173796717,-0.5930566729500595,1.8670196724416042,0.5119438525785157,2.930461646582064,-0.23844315792702714,-0.38627151014457195,0.09289979180428624,-0.4930263009198248,-0.2648171930663567,-1.176740209750023,-0.8939604980187664,-0.7371049047637849,0.5871643676719378,-0.6415778753683434,-0.7604105092082487,0.7140214328803306,-0.9915435986302659,0.540851892851178,2.171638035591147,0.7464422614972771,0.7399621239592686,-0.23256585533617888,0.5432788198064235,-1.8189852586551483,0.39594453755161185,2.081483606601444,0.4771429363558366,-0.27537596662751096,-1.6544053929212492,-0.3663005905185225,-0.6726891740365734,-0.49462773090057727,0.389756615394149,-0.46107556252258863,-1.4536929347782868,-0.48860430307025055,-1.041576111141286,-0.6245608768868465,0.8654012168584696,0.5453770936816931,-0.21852546711481033,-0.1416534109291892,0.210740917567398,-0.786576379864656],\"xaxis\":\"x13\",\"y\":[-0.822915546146956,-1.3856164823212085,1.2164992842835247,0.4001623564630531,0.2107820076021025,-0.09378082635468081,1.4738912260619708,-1.0537517428543453,-1.6308148460642002,-0.11511226844870684,0.8324274149426117,1.8381279774372414,0.5824293757274496,-1.036632568518775,-1.3716822839309804,1.224426805432888,0.02314153757996988,-0.5058165806685646,-0.6104792735038228,-0.3632758341546976,-1.9879928739316564,0.20898726241711302,0.7540763544151033,-0.36400259327973905,-0.19914838333678989,1.1942084898815117,1.0536760015645787,-0.3537528548674369,-1.6635441073100052,-2.3958078631403184,0.7895406459575908,-0.3918824265858147,0.9624978515695156,0.5649625341628266,-1.050649339337511,-1.7114507459864052,0.4386907612920649,0.3527565586064755,-0.570715093282655,0.4001899491185232,0.13634382621986127,0.08014682678530408,-1.680830363659941,-0.07169084243346506,2.411739576649915,0.587985303981665,0.5346121100907646,-0.6837241804670804,-0.2791759531849911,-0.0193910189620039,0.6506316111232995,-1.3997584407636932,0.9071055309064875,-1.3341076136935373,0.8914001119912143,-0.8610578507752765,-0.8432488443702535,-1.0297410269242149,0.8228530107151968,-0.22582921163759567,-0.9598082667264018,-0.585679883816446,0.11640311149780526,-0.4519459412490356,0.9995123486221918,0.7305629448692618,0.6489445034264774,0.09195840435197405,-0.14916659146838787,0.5005806892966229,-0.47949947922247244,-0.2933479282806212,0.009700114758779467,-0.340638257836198,0.0006940880795016687,1.3721322661436564,-0.15072060518064484,-0.7864697889819354,-0.07548073098522026,0.05511939518267495,-0.06945128058605379,-1.5617524073316265,0.05888189658482693,-0.12420719437769312,0.8864488086621504,-0.6480413544522389,-0.7888196430028286,-0.7618418282081759,0.7075235764084716,0.6595880128405492,-2.3769223170888636,-1.8076505141863966,-1.2023992390409755,1.830842598092093,0.05563208634431394,1.0608751072324871,1.5718488153982433,0.8776591796753751,-1.8194696641522394,-0.026438367024887135],\"yaxis\":\"y13\",\"type\":\"scatter\"},{\"line\":{\"color\":\"rgba(128, 128, 128, 1.0)\",\"dash\":\"solid\",\"shape\":\"linear\",\"width\":1.3},\"marker\":{\"size\":2,\"symbol\":\"circle\"},\"mode\":\"markers\",\"name\":\"D\",\"text\":\"\",\"x\":[-1.021949233130461,0.25594574775048773,-0.49810387488163294,-1.325142642265481,-0.5366367478882258,1.0588099409333411,-1.0032978099073984,-0.8859669207305646,-0.06246948659894244,1.608941187505579,-0.3707918869740564,1.0450432601692148,-0.8401673973404254,0.292684789819589,0.729639443981082,0.4858150437908382,-0.4648277842418754,1.143185288073808,-1.0407427191447072,-1.425350991448239,-1.6558923830502548,-0.196126484198559,1.0552658780568707,-0.35263289136461645,0.8594609595168468,-1.2146127586768733,0.13220927769630178,-0.5648126800961567,-1.4173856239947105,-0.27379828911599174,0.4627715724085573,0.954071074533576,-1.5179053035379908,-0.7490363703587672,0.7843382049747933,-0.5825381214550421,-2.648166884938007,1.307337854013301,-1.2013701767559322,0.04436461470208275,-1.0206994284023114,-1.674926161290066,0.8378551196604281,-0.5081307161078558,1.0391192470821948,0.9628168203510796,0.004656832184727584,0.37783807138446773,-0.8090007741198757,0.3080210740208786,-0.01291972632760256,-0.32808528338522164,-1.296008271665516,-0.12789723500299224,0.9185470189724362,0.1287211863056182,2.237138179378632,-1.046419761230294,0.4280079253568352,1.2204039767857147,2.1548771482416798,0.44660725613147545,2.408224640092218,-1.11188791629352,-0.5898211643668354,0.8713265333134166,-0.46222389540219333,-0.11916235926853035,-0.5535978037993889,0.6087265261133761,1.225924068607216,0.9635074728291688,1.698331398380695,1.4246856327640762,-1.518895721740957,0.7649774149193973,0.7729348387618514,-0.9428834054294118,2.4457721829035237,-1.4393216516608613,-0.0593960436946276,0.8440019438929776,-0.7630293848511864,0.9877315922843377,-1.0272063197815813,0.5562686704820748,-0.5764170798889229,2.68893459063555,0.20429998711292027,0.8244038897408704,-0.7091675926939464,1.7030636499644225,-0.21407226437633675,-0.4877776042634076,0.4706276205941772,-0.10691589777002733,0.98046375194209,-1.2024078700961744,-0.23736613593332123,-0.6760890965035313],\"xaxis\":\"x14\",\"y\":[-0.822915546146956,-1.3856164823212085,1.2164992842835247,0.4001623564630531,0.2107820076021025,-0.09378082635468081,1.4738912260619708,-1.0537517428543453,-1.6308148460642002,-0.11511226844870684,0.8324274149426117,1.8381279774372414,0.5824293757274496,-1.036632568518775,-1.3716822839309804,1.224426805432888,0.02314153757996988,-0.5058165806685646,-0.6104792735038228,-0.3632758341546976,-1.9879928739316564,0.20898726241711302,0.7540763544151033,-0.36400259327973905,-0.19914838333678989,1.1942084898815117,1.0536760015645787,-0.3537528548674369,-1.6635441073100052,-2.3958078631403184,0.7895406459575908,-0.3918824265858147,0.9624978515695156,0.5649625341628266,-1.050649339337511,-1.7114507459864052,0.4386907612920649,0.3527565586064755,-0.570715093282655,0.4001899491185232,0.13634382621986127,0.08014682678530408,-1.680830363659941,-0.07169084243346506,2.411739576649915,0.587985303981665,0.5346121100907646,-0.6837241804670804,-0.2791759531849911,-0.0193910189620039,0.6506316111232995,-1.3997584407636932,0.9071055309064875,-1.3341076136935373,0.8914001119912143,-0.8610578507752765,-0.8432488443702535,-1.0297410269242149,0.8228530107151968,-0.22582921163759567,-0.9598082667264018,-0.585679883816446,0.11640311149780526,-0.4519459412490356,0.9995123486221918,0.7305629448692618,0.6489445034264774,0.09195840435197405,-0.14916659146838787,0.5005806892966229,-0.47949947922247244,-0.2933479282806212,0.009700114758779467,-0.340638257836198,0.0006940880795016687,1.3721322661436564,-0.15072060518064484,-0.7864697889819354,-0.07548073098522026,0.05511939518267495,-0.06945128058605379,-1.5617524073316265,0.05888189658482693,-0.12420719437769312,0.8864488086621504,-0.6480413544522389,-0.7888196430028286,-0.7618418282081759,0.7075235764084716,0.6595880128405492,-2.3769223170888636,-1.8076505141863966,-1.2023992390409755,1.830842598092093,0.05563208634431394,1.0608751072324871,1.5718488153982433,0.8776591796753751,-1.8194696641522394,-0.026438367024887135],\"yaxis\":\"y14\",\"type\":\"scatter\"},{\"line\":{\"color\":\"rgba(128, 128, 128, 1.0)\",\"dash\":\"solid\",\"shape\":\"linear\",\"width\":1.3},\"marker\":{\"size\":2,\"symbol\":\"circle\"},\"mode\":\"markers\",\"name\":\"D\",\"text\":\"\",\"x\":[-0.7331664989088466,0.20334098992058225,-0.23418880126774333,-1.3295462524118646,-1.9695962385783692,-1.2075725430880706,-2.349933344754745,-0.6456170846869308,-1.923908793870801,-0.4925957426625602,0.03413191981231174,0.23756180147104275,-0.8846916408632101,-1.3556745481594472,-2.8096554666813396,-1.2166345784091577,1.1227307506915485,-0.12126359292376553,1.789369825023507,1.0606097200311873,1.1728938715333648,-0.0526819063276142,0.5463535544403695,1.4140200202206537,0.6977717095690767,0.505806684424547,-1.4402898944623004,0.27449196049229585,-0.26042021529190873,0.41518105649539255,1.7522640662018247,-1.187838174738271,0.23446502343857498,-1.200202953243225,1.0020756314478152,0.0029136007000776796,0.06477162633070381,-0.5862356000006504,-0.6515899692843234,2.61577994669217,0.5052908884554816,-0.5619136578748292,0.15467523429708288,-1.0913919711876954,0.9749410659563239,-0.879144323662121,0.05904649879176863,0.15587892197251124,0.8748022545183276,-0.7284905602616377,0.7382768852123752,-2.2876700018057563,1.4898713575985456,0.9115987911974387,-1.5360919931836687,0.4177976841472399,0.3754084397253426,-1.2012043813879316,0.23649273301953316,1.5005892415174231,0.44050438483262316,1.8364885185251272,1.0683101968727873,-0.6337161709842425,0.2227794272191448,-1.538915776771883,-0.10446341539424231,0.25811787306894163,0.003978874565228057,1.0799050324203712,-0.6568588867009825,-1.012664871906641,-0.2006914338501552,-1.0985040512691493,-0.17883235559153643,-0.23257247599650133,0.892695913038579,-0.5148570965575259,0.5922497586703127,-0.4817943106659751,-1.4230328069736027,0.8153909077738124,1.8922371641370321,-0.6793139334371696,1.5025027355565956,-0.4634799941219796,0.7367586913487083,0.5646220949110732,-1.4341747306232184,0.2658357629187051,-0.4908834683911172,-0.8084763986748783,-0.06535591595403431,0.49813050659599595,-0.08404795014096927,-0.5832855675599287,-0.2173664163083856,-1.6731753262164346,-0.44230887703391447,-0.8789611673268257],\"xaxis\":\"x15\",\"y\":[-0.822915546146956,-1.3856164823212085,1.2164992842835247,0.4001623564630531,0.2107820076021025,-0.09378082635468081,1.4738912260619708,-1.0537517428543453,-1.6308148460642002,-0.11511226844870684,0.8324274149426117,1.8381279774372414,0.5824293757274496,-1.036632568518775,-1.3716822839309804,1.224426805432888,0.02314153757996988,-0.5058165806685646,-0.6104792735038228,-0.3632758341546976,-1.9879928739316564,0.20898726241711302,0.7540763544151033,-0.36400259327973905,-0.19914838333678989,1.1942084898815117,1.0536760015645787,-0.3537528548674369,-1.6635441073100052,-2.3958078631403184,0.7895406459575908,-0.3918824265858147,0.9624978515695156,0.5649625341628266,-1.050649339337511,-1.7114507459864052,0.4386907612920649,0.3527565586064755,-0.570715093282655,0.4001899491185232,0.13634382621986127,0.08014682678530408,-1.680830363659941,-0.07169084243346506,2.411739576649915,0.587985303981665,0.5346121100907646,-0.6837241804670804,-0.2791759531849911,-0.0193910189620039,0.6506316111232995,-1.3997584407636932,0.9071055309064875,-1.3341076136935373,0.8914001119912143,-0.8610578507752765,-0.8432488443702535,-1.0297410269242149,0.8228530107151968,-0.22582921163759567,-0.9598082667264018,-0.585679883816446,0.11640311149780526,-0.4519459412490356,0.9995123486221918,0.7305629448692618,0.6489445034264774,0.09195840435197405,-0.14916659146838787,0.5005806892966229,-0.47949947922247244,-0.2933479282806212,0.009700114758779467,-0.340638257836198,0.0006940880795016687,1.3721322661436564,-0.15072060518064484,-0.7864697889819354,-0.07548073098522026,0.05511939518267495,-0.06945128058605379,-1.5617524073316265,0.05888189658482693,-0.12420719437769312,0.8864488086621504,-0.6480413544522389,-0.7888196430028286,-0.7618418282081759,0.7075235764084716,0.6595880128405492,-2.3769223170888636,-1.8076505141863966,-1.2023992390409755,1.830842598092093,0.05563208634431394,1.0608751072324871,1.5718488153982433,0.8776591796753751,-1.8194696641522394,-0.026438367024887135],\"yaxis\":\"y15\",\"type\":\"scatter\"},{\"histfunc\":\"count\",\"histnorm\":\"\",\"marker\":{\"color\":\"rgba(128, 0, 128, 1.0)\",\"line\":{\"color\":\"#4D5663\",\"width\":1.3}},\"name\":\"D\",\"nbinsx\":10,\"opacity\":0.8,\"orientation\":\"v\",\"x\":[-0.822915546146956,-1.3856164823212085,1.2164992842835247,0.4001623564630531,0.2107820076021025,-0.09378082635468081,1.4738912260619708,-1.0537517428543453,-1.6308148460642002,-0.11511226844870684,0.8324274149426117,1.8381279774372414,0.5824293757274496,-1.036632568518775,-1.3716822839309804,1.224426805432888,0.02314153757996988,-0.5058165806685646,-0.6104792735038228,-0.3632758341546976,-1.9879928739316564,0.20898726241711302,0.7540763544151033,-0.36400259327973905,-0.19914838333678989,1.1942084898815117,1.0536760015645787,-0.3537528548674369,-1.6635441073100052,-2.3958078631403184,0.7895406459575908,-0.3918824265858147,0.9624978515695156,0.5649625341628266,-1.050649339337511,-1.7114507459864052,0.4386907612920649,0.3527565586064755,-0.570715093282655,0.4001899491185232,0.13634382621986127,0.08014682678530408,-1.680830363659941,-0.07169084243346506,2.411739576649915,0.587985303981665,0.5346121100907646,-0.6837241804670804,-0.2791759531849911,-0.0193910189620039,0.6506316111232995,-1.3997584407636932,0.9071055309064875,-1.3341076136935373,0.8914001119912143,-0.8610578507752765,-0.8432488443702535,-1.0297410269242149,0.8228530107151968,-0.22582921163759567,-0.9598082667264018,-0.585679883816446,0.11640311149780526,-0.4519459412490356,0.9995123486221918,0.7305629448692618,0.6489445034264774,0.09195840435197405,-0.14916659146838787,0.5005806892966229,-0.47949947922247244,-0.2933479282806212,0.009700114758779467,-0.340638257836198,0.0006940880795016687,1.3721322661436564,-0.15072060518064484,-0.7864697889819354,-0.07548073098522026,0.05511939518267495,-0.06945128058605379,-1.5617524073316265,0.05888189658482693,-0.12420719437769312,0.8864488086621504,-0.6480413544522389,-0.7888196430028286,-0.7618418282081759,0.7075235764084716,0.6595880128405492,-2.3769223170888636,-1.8076505141863966,-1.2023992390409755,1.830842598092093,0.05563208634431394,1.0608751072324871,1.5718488153982433,0.8776591796753751,-1.8194696641522394,-0.026438367024887135],\"xaxis\":\"x16\",\"yaxis\":\"y16\",\"type\":\"histogram\"}],                        {\"bargap\":0.02,\"legend\":{\"bgcolor\":\"#F5F6F9\",\"font\":{\"color\":\"#4D5663\"}},\"paper_bgcolor\":\"#F5F6F9\",\"plot_bgcolor\":\"#F5F6F9\",\"showlegend\":false,\"template\":{\"data\":{\"barpolar\":[{\"marker\":{\"line\":{\"color\":\"#E5ECF6\",\"width\":0.5},\"pattern\":{\"fillmode\":\"overlay\",\"size\":10,\"solidity\":0.2}},\"type\":\"barpolar\"}],\"bar\":[{\"error_x\":{\"color\":\"#2a3f5f\"},\"error_y\":{\"color\":\"#2a3f5f\"},\"marker\":{\"line\":{\"color\":\"#E5ECF6\",\"width\":0.5},\"pattern\":{\"fillmode\":\"overlay\",\"size\":10,\"solidity\":0.2}},\"type\":\"bar\"}],\"carpet\":[{\"aaxis\":{\"endlinecolor\":\"#2a3f5f\",\"gridcolor\":\"white\",\"linecolor\":\"white\",\"minorgridcolor\":\"white\",\"startlinecolor\":\"#2a3f5f\"},\"baxis\":{\"endlinecolor\":\"#2a3f5f\",\"gridcolor\":\"white\",\"linecolor\":\"white\",\"minorgridcolor\":\"white\",\"startlinecolor\":\"#2a3f5f\"},\"type\":\"carpet\"}],\"choropleth\":[{\"colorbar\":{\"outlinewidth\":0,\"ticks\":\"\"},\"type\":\"choropleth\"}],\"contourcarpet\":[{\"colorbar\":{\"outlinewidth\":0,\"ticks\":\"\"},\"type\":\"contourcarpet\"}],\"contour\":[{\"colorbar\":{\"outlinewidth\":0,\"ticks\":\"\"},\"colorscale\":[[0.0,\"#0d0887\"],[0.1111111111111111,\"#46039f\"],[0.2222222222222222,\"#7201a8\"],[0.3333333333333333,\"#9c179e\"],[0.4444444444444444,\"#bd3786\"],[0.5555555555555556,\"#d8576b\"],[0.6666666666666666,\"#ed7953\"],[0.7777777777777778,\"#fb9f3a\"],[0.8888888888888888,\"#fdca26\"],[1.0,\"#f0f921\"]],\"type\":\"contour\"}],\"heatmapgl\":[{\"colorbar\":{\"outlinewidth\":0,\"ticks\":\"\"},\"colorscale\":[[0.0,\"#0d0887\"],[0.1111111111111111,\"#46039f\"],[0.2222222222222222,\"#7201a8\"],[0.3333333333333333,\"#9c179e\"],[0.4444444444444444,\"#bd3786\"],[0.5555555555555556,\"#d8576b\"],[0.6666666666666666,\"#ed7953\"],[0.7777777777777778,\"#fb9f3a\"],[0.8888888888888888,\"#fdca26\"],[1.0,\"#f0f921\"]],\"type\":\"heatmapgl\"}],\"heatmap\":[{\"colorbar\":{\"outlinewidth\":0,\"ticks\":\"\"},\"colorscale\":[[0.0,\"#0d0887\"],[0.1111111111111111,\"#46039f\"],[0.2222222222222222,\"#7201a8\"],[0.3333333333333333,\"#9c179e\"],[0.4444444444444444,\"#bd3786\"],[0.5555555555555556,\"#d8576b\"],[0.6666666666666666,\"#ed7953\"],[0.7777777777777778,\"#fb9f3a\"],[0.8888888888888888,\"#fdca26\"],[1.0,\"#f0f921\"]],\"type\":\"heatmap\"}],\"histogram2dcontour\":[{\"colorbar\":{\"outlinewidth\":0,\"ticks\":\"\"},\"colorscale\":[[0.0,\"#0d0887\"],[0.1111111111111111,\"#46039f\"],[0.2222222222222222,\"#7201a8\"],[0.3333333333333333,\"#9c179e\"],[0.4444444444444444,\"#bd3786\"],[0.5555555555555556,\"#d8576b\"],[0.6666666666666666,\"#ed7953\"],[0.7777777777777778,\"#fb9f3a\"],[0.8888888888888888,\"#fdca26\"],[1.0,\"#f0f921\"]],\"type\":\"histogram2dcontour\"}],\"histogram2d\":[{\"colorbar\":{\"outlinewidth\":0,\"ticks\":\"\"},\"colorscale\":[[0.0,\"#0d0887\"],[0.1111111111111111,\"#46039f\"],[0.2222222222222222,\"#7201a8\"],[0.3333333333333333,\"#9c179e\"],[0.4444444444444444,\"#bd3786\"],[0.5555555555555556,\"#d8576b\"],[0.6666666666666666,\"#ed7953\"],[0.7777777777777778,\"#fb9f3a\"],[0.8888888888888888,\"#fdca26\"],[1.0,\"#f0f921\"]],\"type\":\"histogram2d\"}],\"histogram\":[{\"marker\":{\"pattern\":{\"fillmode\":\"overlay\",\"size\":10,\"solidity\":0.2}},\"type\":\"histogram\"}],\"mesh3d\":[{\"colorbar\":{\"outlinewidth\":0,\"ticks\":\"\"},\"type\":\"mesh3d\"}],\"parcoords\":[{\"line\":{\"colorbar\":{\"outlinewidth\":0,\"ticks\":\"\"}},\"type\":\"parcoords\"}],\"pie\":[{\"automargin\":true,\"type\":\"pie\"}],\"scatter3d\":[{\"line\":{\"colorbar\":{\"outlinewidth\":0,\"ticks\":\"\"}},\"marker\":{\"colorbar\":{\"outlinewidth\":0,\"ticks\":\"\"}},\"type\":\"scatter3d\"}],\"scattercarpet\":[{\"marker\":{\"colorbar\":{\"outlinewidth\":0,\"ticks\":\"\"}},\"type\":\"scattercarpet\"}],\"scattergeo\":[{\"marker\":{\"colorbar\":{\"outlinewidth\":0,\"ticks\":\"\"}},\"type\":\"scattergeo\"}],\"scattergl\":[{\"marker\":{\"colorbar\":{\"outlinewidth\":0,\"ticks\":\"\"}},\"type\":\"scattergl\"}],\"scattermapbox\":[{\"marker\":{\"colorbar\":{\"outlinewidth\":0,\"ticks\":\"\"}},\"type\":\"scattermapbox\"}],\"scatterpolargl\":[{\"marker\":{\"colorbar\":{\"outlinewidth\":0,\"ticks\":\"\"}},\"type\":\"scatterpolargl\"}],\"scatterpolar\":[{\"marker\":{\"colorbar\":{\"outlinewidth\":0,\"ticks\":\"\"}},\"type\":\"scatterpolar\"}],\"scatter\":[{\"fillpattern\":{\"fillmode\":\"overlay\",\"size\":10,\"solidity\":0.2},\"type\":\"scatter\"}],\"scatterternary\":[{\"marker\":{\"colorbar\":{\"outlinewidth\":0,\"ticks\":\"\"}},\"type\":\"scatterternary\"}],\"surface\":[{\"colorbar\":{\"outlinewidth\":0,\"ticks\":\"\"},\"colorscale\":[[0.0,\"#0d0887\"],[0.1111111111111111,\"#46039f\"],[0.2222222222222222,\"#7201a8\"],[0.3333333333333333,\"#9c179e\"],[0.4444444444444444,\"#bd3786\"],[0.5555555555555556,\"#d8576b\"],[0.6666666666666666,\"#ed7953\"],[0.7777777777777778,\"#fb9f3a\"],[0.8888888888888888,\"#fdca26\"],[1.0,\"#f0f921\"]],\"type\":\"surface\"}],\"table\":[{\"cells\":{\"fill\":{\"color\":\"#EBF0F8\"},\"line\":{\"color\":\"white\"}},\"header\":{\"fill\":{\"color\":\"#C8D4E3\"},\"line\":{\"color\":\"white\"}},\"type\":\"table\"}]},\"layout\":{\"annotationdefaults\":{\"arrowcolor\":\"#2a3f5f\",\"arrowhead\":0,\"arrowwidth\":1},\"autotypenumbers\":\"strict\",\"coloraxis\":{\"colorbar\":{\"outlinewidth\":0,\"ticks\":\"\"}},\"colorscale\":{\"diverging\":[[0,\"#8e0152\"],[0.1,\"#c51b7d\"],[0.2,\"#de77ae\"],[0.3,\"#f1b6da\"],[0.4,\"#fde0ef\"],[0.5,\"#f7f7f7\"],[0.6,\"#e6f5d0\"],[0.7,\"#b8e186\"],[0.8,\"#7fbc41\"],[0.9,\"#4d9221\"],[1,\"#276419\"]],\"sequential\":[[0.0,\"#0d0887\"],[0.1111111111111111,\"#46039f\"],[0.2222222222222222,\"#7201a8\"],[0.3333333333333333,\"#9c179e\"],[0.4444444444444444,\"#bd3786\"],[0.5555555555555556,\"#d8576b\"],[0.6666666666666666,\"#ed7953\"],[0.7777777777777778,\"#fb9f3a\"],[0.8888888888888888,\"#fdca26\"],[1.0,\"#f0f921\"]],\"sequentialminus\":[[0.0,\"#0d0887\"],[0.1111111111111111,\"#46039f\"],[0.2222222222222222,\"#7201a8\"],[0.3333333333333333,\"#9c179e\"],[0.4444444444444444,\"#bd3786\"],[0.5555555555555556,\"#d8576b\"],[0.6666666666666666,\"#ed7953\"],[0.7777777777777778,\"#fb9f3a\"],[0.8888888888888888,\"#fdca26\"],[1.0,\"#f0f921\"]]},\"colorway\":[\"#636efa\",\"#EF553B\",\"#00cc96\",\"#ab63fa\",\"#FFA15A\",\"#19d3f3\",\"#FF6692\",\"#B6E880\",\"#FF97FF\",\"#FECB52\"],\"font\":{\"color\":\"#2a3f5f\"},\"geo\":{\"bgcolor\":\"white\",\"lakecolor\":\"white\",\"landcolor\":\"#E5ECF6\",\"showlakes\":true,\"showland\":true,\"subunitcolor\":\"white\"},\"hoverlabel\":{\"align\":\"left\"},\"hovermode\":\"closest\",\"mapbox\":{\"style\":\"light\"},\"paper_bgcolor\":\"white\",\"plot_bgcolor\":\"#E5ECF6\",\"polar\":{\"angularaxis\":{\"gridcolor\":\"white\",\"linecolor\":\"white\",\"ticks\":\"\"},\"bgcolor\":\"#E5ECF6\",\"radialaxis\":{\"gridcolor\":\"white\",\"linecolor\":\"white\",\"ticks\":\"\"}},\"scene\":{\"xaxis\":{\"backgroundcolor\":\"#E5ECF6\",\"gridcolor\":\"white\",\"gridwidth\":2,\"linecolor\":\"white\",\"showbackground\":true,\"ticks\":\"\",\"zerolinecolor\":\"white\"},\"yaxis\":{\"backgroundcolor\":\"#E5ECF6\",\"gridcolor\":\"white\",\"gridwidth\":2,\"linecolor\":\"white\",\"showbackground\":true,\"ticks\":\"\",\"zerolinecolor\":\"white\"},\"zaxis\":{\"backgroundcolor\":\"#E5ECF6\",\"gridcolor\":\"white\",\"gridwidth\":2,\"linecolor\":\"white\",\"showbackground\":true,\"ticks\":\"\",\"zerolinecolor\":\"white\"}},\"shapedefaults\":{\"line\":{\"color\":\"#2a3f5f\"}},\"ternary\":{\"aaxis\":{\"gridcolor\":\"white\",\"linecolor\":\"white\",\"ticks\":\"\"},\"baxis\":{\"gridcolor\":\"white\",\"linecolor\":\"white\",\"ticks\":\"\"},\"bgcolor\":\"#E5ECF6\",\"caxis\":{\"gridcolor\":\"white\",\"linecolor\":\"white\",\"ticks\":\"\"}},\"title\":{\"x\":0.05},\"xaxis\":{\"automargin\":true,\"gridcolor\":\"white\",\"linecolor\":\"white\",\"ticks\":\"\",\"title\":{\"standoff\":15},\"zerolinecolor\":\"white\",\"zerolinewidth\":2},\"yaxis\":{\"automargin\":true,\"gridcolor\":\"white\",\"linecolor\":\"white\",\"ticks\":\"\",\"title\":{\"standoff\":15},\"zerolinecolor\":\"white\",\"zerolinewidth\":2}}},\"title\":{\"font\":{\"color\":\"#4D5663\"}},\"xaxis\":{\"anchor\":\"y\",\"domain\":[0.0,0.2125],\"gridcolor\":\"#E1E5ED\",\"showgrid\":false,\"tickfont\":{\"color\":\"#4D5663\"},\"title\":{\"font\":{\"color\":\"#4D5663\"},\"text\":\"\"},\"zerolinecolor\":\"#E1E5ED\"},\"yaxis\":{\"anchor\":\"x\",\"domain\":[0.8025,1.0],\"gridcolor\":\"#E1E5ED\",\"showgrid\":false,\"tickfont\":{\"color\":\"#4D5663\"},\"title\":{\"font\":{\"color\":\"#4D5663\"},\"text\":\"\"},\"zerolinecolor\":\"#E1E5ED\"},\"xaxis2\":{\"anchor\":\"y2\",\"domain\":[0.2625,0.475],\"gridcolor\":\"#E1E5ED\",\"showgrid\":false,\"tickfont\":{\"color\":\"#4D5663\"},\"title\":{\"font\":{\"color\":\"#4D5663\"},\"text\":\"\"},\"zerolinecolor\":\"#E1E5ED\"},\"yaxis2\":{\"anchor\":\"x2\",\"domain\":[0.8025,1.0],\"gridcolor\":\"#E1E5ED\",\"showgrid\":false,\"tickfont\":{\"color\":\"#4D5663\"},\"title\":{\"font\":{\"color\":\"#4D5663\"},\"text\":\"\"},\"zerolinecolor\":\"#E1E5ED\"},\"xaxis3\":{\"anchor\":\"y3\",\"domain\":[0.525,0.7375],\"gridcolor\":\"#E1E5ED\",\"showgrid\":false,\"tickfont\":{\"color\":\"#4D5663\"},\"title\":{\"font\":{\"color\":\"#4D5663\"},\"text\":\"\"},\"zerolinecolor\":\"#E1E5ED\"},\"yaxis3\":{\"anchor\":\"x3\",\"domain\":[0.8025,1.0],\"gridcolor\":\"#E1E5ED\",\"showgrid\":false,\"tickfont\":{\"color\":\"#4D5663\"},\"title\":{\"font\":{\"color\":\"#4D5663\"},\"text\":\"\"},\"zerolinecolor\":\"#E1E5ED\"},\"xaxis4\":{\"anchor\":\"y4\",\"domain\":[0.7875,1.0],\"gridcolor\":\"#E1E5ED\",\"showgrid\":false,\"tickfont\":{\"color\":\"#4D5663\"},\"title\":{\"font\":{\"color\":\"#4D5663\"},\"text\":\"\"},\"zerolinecolor\":\"#E1E5ED\"},\"yaxis4\":{\"anchor\":\"x4\",\"domain\":[0.8025,1.0],\"gridcolor\":\"#E1E5ED\",\"showgrid\":false,\"tickfont\":{\"color\":\"#4D5663\"},\"title\":{\"font\":{\"color\":\"#4D5663\"},\"text\":\"\"},\"zerolinecolor\":\"#E1E5ED\"},\"xaxis5\":{\"anchor\":\"y5\",\"domain\":[0.0,0.2125],\"gridcolor\":\"#E1E5ED\",\"showgrid\":false,\"tickfont\":{\"color\":\"#4D5663\"},\"title\":{\"font\":{\"color\":\"#4D5663\"},\"text\":\"\"},\"zerolinecolor\":\"#E1E5ED\"},\"yaxis5\":{\"anchor\":\"x5\",\"domain\":[0.535,0.7325],\"gridcolor\":\"#E1E5ED\",\"showgrid\":false,\"tickfont\":{\"color\":\"#4D5663\"},\"title\":{\"font\":{\"color\":\"#4D5663\"},\"text\":\"\"},\"zerolinecolor\":\"#E1E5ED\"},\"xaxis6\":{\"anchor\":\"y6\",\"domain\":[0.2625,0.475],\"gridcolor\":\"#E1E5ED\",\"showgrid\":false,\"tickfont\":{\"color\":\"#4D5663\"},\"title\":{\"font\":{\"color\":\"#4D5663\"},\"text\":\"\"},\"zerolinecolor\":\"#E1E5ED\"},\"yaxis6\":{\"anchor\":\"x6\",\"domain\":[0.535,0.7325],\"gridcolor\":\"#E1E5ED\",\"showgrid\":false,\"tickfont\":{\"color\":\"#4D5663\"},\"title\":{\"font\":{\"color\":\"#4D5663\"},\"text\":\"\"},\"zerolinecolor\":\"#E1E5ED\"},\"xaxis7\":{\"anchor\":\"y7\",\"domain\":[0.525,0.7375],\"gridcolor\":\"#E1E5ED\",\"showgrid\":false,\"tickfont\":{\"color\":\"#4D5663\"},\"title\":{\"font\":{\"color\":\"#4D5663\"},\"text\":\"\"},\"zerolinecolor\":\"#E1E5ED\"},\"yaxis7\":{\"anchor\":\"x7\",\"domain\":[0.535,0.7325],\"gridcolor\":\"#E1E5ED\",\"showgrid\":false,\"tickfont\":{\"color\":\"#4D5663\"},\"title\":{\"font\":{\"color\":\"#4D5663\"},\"text\":\"\"},\"zerolinecolor\":\"#E1E5ED\"},\"xaxis8\":{\"anchor\":\"y8\",\"domain\":[0.7875,1.0],\"gridcolor\":\"#E1E5ED\",\"showgrid\":false,\"tickfont\":{\"color\":\"#4D5663\"},\"title\":{\"font\":{\"color\":\"#4D5663\"},\"text\":\"\"},\"zerolinecolor\":\"#E1E5ED\"},\"yaxis8\":{\"anchor\":\"x8\",\"domain\":[0.535,0.7325],\"gridcolor\":\"#E1E5ED\",\"showgrid\":false,\"tickfont\":{\"color\":\"#4D5663\"},\"title\":{\"font\":{\"color\":\"#4D5663\"},\"text\":\"\"},\"zerolinecolor\":\"#E1E5ED\"},\"xaxis9\":{\"anchor\":\"y9\",\"domain\":[0.0,0.2125],\"gridcolor\":\"#E1E5ED\",\"showgrid\":false,\"tickfont\":{\"color\":\"#4D5663\"},\"title\":{\"font\":{\"color\":\"#4D5663\"},\"text\":\"\"},\"zerolinecolor\":\"#E1E5ED\"},\"yaxis9\":{\"anchor\":\"x9\",\"domain\":[0.2675,0.465],\"gridcolor\":\"#E1E5ED\",\"showgrid\":false,\"tickfont\":{\"color\":\"#4D5663\"},\"title\":{\"font\":{\"color\":\"#4D5663\"},\"text\":\"\"},\"zerolinecolor\":\"#E1E5ED\"},\"xaxis10\":{\"anchor\":\"y10\",\"domain\":[0.2625,0.475],\"gridcolor\":\"#E1E5ED\",\"showgrid\":false,\"tickfont\":{\"color\":\"#4D5663\"},\"title\":{\"font\":{\"color\":\"#4D5663\"},\"text\":\"\"},\"zerolinecolor\":\"#E1E5ED\"},\"yaxis10\":{\"anchor\":\"x10\",\"domain\":[0.2675,0.465],\"gridcolor\":\"#E1E5ED\",\"showgrid\":false,\"tickfont\":{\"color\":\"#4D5663\"},\"title\":{\"font\":{\"color\":\"#4D5663\"},\"text\":\"\"},\"zerolinecolor\":\"#E1E5ED\"},\"xaxis11\":{\"anchor\":\"y11\",\"domain\":[0.525,0.7375],\"gridcolor\":\"#E1E5ED\",\"showgrid\":false,\"tickfont\":{\"color\":\"#4D5663\"},\"title\":{\"font\":{\"color\":\"#4D5663\"},\"text\":\"\"},\"zerolinecolor\":\"#E1E5ED\"},\"yaxis11\":{\"anchor\":\"x11\",\"domain\":[0.2675,0.465],\"gridcolor\":\"#E1E5ED\",\"showgrid\":false,\"tickfont\":{\"color\":\"#4D5663\"},\"title\":{\"font\":{\"color\":\"#4D5663\"},\"text\":\"\"},\"zerolinecolor\":\"#E1E5ED\"},\"xaxis12\":{\"anchor\":\"y12\",\"domain\":[0.7875,1.0],\"gridcolor\":\"#E1E5ED\",\"showgrid\":false,\"tickfont\":{\"color\":\"#4D5663\"},\"title\":{\"font\":{\"color\":\"#4D5663\"},\"text\":\"\"},\"zerolinecolor\":\"#E1E5ED\"},\"yaxis12\":{\"anchor\":\"x12\",\"domain\":[0.2675,0.465],\"gridcolor\":\"#E1E5ED\",\"showgrid\":false,\"tickfont\":{\"color\":\"#4D5663\"},\"title\":{\"font\":{\"color\":\"#4D5663\"},\"text\":\"\"},\"zerolinecolor\":\"#E1E5ED\"},\"xaxis13\":{\"anchor\":\"y13\",\"domain\":[0.0,0.2125],\"gridcolor\":\"#E1E5ED\",\"showgrid\":false,\"tickfont\":{\"color\":\"#4D5663\"},\"title\":{\"font\":{\"color\":\"#4D5663\"},\"text\":\"\"},\"zerolinecolor\":\"#E1E5ED\"},\"yaxis13\":{\"anchor\":\"x13\",\"domain\":[0.0,0.1975],\"gridcolor\":\"#E1E5ED\",\"showgrid\":false,\"tickfont\":{\"color\":\"#4D5663\"},\"title\":{\"font\":{\"color\":\"#4D5663\"},\"text\":\"\"},\"zerolinecolor\":\"#E1E5ED\"},\"xaxis14\":{\"anchor\":\"y14\",\"domain\":[0.2625,0.475],\"gridcolor\":\"#E1E5ED\",\"showgrid\":false,\"tickfont\":{\"color\":\"#4D5663\"},\"title\":{\"font\":{\"color\":\"#4D5663\"},\"text\":\"\"},\"zerolinecolor\":\"#E1E5ED\"},\"yaxis14\":{\"anchor\":\"x14\",\"domain\":[0.0,0.1975],\"gridcolor\":\"#E1E5ED\",\"showgrid\":false,\"tickfont\":{\"color\":\"#4D5663\"},\"title\":{\"font\":{\"color\":\"#4D5663\"},\"text\":\"\"},\"zerolinecolor\":\"#E1E5ED\"},\"xaxis15\":{\"anchor\":\"y15\",\"domain\":[0.525,0.7375],\"gridcolor\":\"#E1E5ED\",\"showgrid\":false,\"tickfont\":{\"color\":\"#4D5663\"},\"title\":{\"font\":{\"color\":\"#4D5663\"},\"text\":\"\"},\"zerolinecolor\":\"#E1E5ED\"},\"yaxis15\":{\"anchor\":\"x15\",\"domain\":[0.0,0.1975],\"gridcolor\":\"#E1E5ED\",\"showgrid\":false,\"tickfont\":{\"color\":\"#4D5663\"},\"title\":{\"font\":{\"color\":\"#4D5663\"},\"text\":\"\"},\"zerolinecolor\":\"#E1E5ED\"},\"xaxis16\":{\"anchor\":\"y16\",\"domain\":[0.7875,1.0],\"gridcolor\":\"#E1E5ED\",\"showgrid\":false,\"tickfont\":{\"color\":\"#4D5663\"},\"title\":{\"font\":{\"color\":\"#4D5663\"},\"text\":\"\"},\"zerolinecolor\":\"#E1E5ED\"},\"yaxis16\":{\"anchor\":\"x16\",\"domain\":[0.0,0.1975],\"gridcolor\":\"#E1E5ED\",\"showgrid\":false,\"tickfont\":{\"color\":\"#4D5663\"},\"title\":{\"font\":{\"color\":\"#4D5663\"},\"text\":\"\"},\"zerolinecolor\":\"#E1E5ED\"}},                        {\"showLink\": true, \"linkText\": \"Export to plot.ly\", \"plotlyServerURL\": \"https://plot.ly\", \"responsive\": true}                    ).then(function(){\n",
       "                            \n",
       "var gd = document.getElementById('d4866524-0a6f-4e38-8d3d-dbbf57232c12');\n",
       "var x = new MutationObserver(function (mutations, observer) {{\n",
       "        var display = window.getComputedStyle(gd).display;\n",
       "        if (!display || display === 'none') {{\n",
       "            console.log([gd, 'removed!']);\n",
       "            Plotly.purge(gd);\n",
       "            observer.disconnect();\n",
       "        }}\n",
       "}});\n",
       "\n",
       "// Listen for the removal of the full notebook cells\n",
       "var notebookContainer = gd.closest('#notebook-container');\n",
       "if (notebookContainer) {{\n",
       "    x.observe(notebookContainer, {childList: true});\n",
       "}}\n",
       "\n",
       "// Listen for the clearing of the current output cell\n",
       "var outputEl = gd.closest('.output');\n",
       "if (outputEl) {{\n",
       "    x.observe(outputEl, {childList: true});\n",
       "}}\n",
       "\n",
       "                        })                };                });            </script>        </div>"
      ]
     },
     "metadata": {},
     "output_type": "display_data"
    }
   ],
   "source": [
    "df.scatter_matrix()"
   ]
  },
  {
   "cell_type": "markdown",
   "metadata": {
    "collapsed": true
   },
   "source": [
    "# Great Job!"
   ]
  }
 ],
 "metadata": {
  "kernelspec": {
   "display_name": "Python 3 (ipykernel)",
   "language": "python",
   "name": "python3"
  },
  "language_info": {
   "codemirror_mode": {
    "name": "ipython",
    "version": 3
   },
   "file_extension": ".py",
   "mimetype": "text/x-python",
   "name": "python",
   "nbconvert_exporter": "python",
   "pygments_lexer": "ipython3",
   "version": "3.11.5"
  }
 },
 "nbformat": 4,
 "nbformat_minor": 1
}
